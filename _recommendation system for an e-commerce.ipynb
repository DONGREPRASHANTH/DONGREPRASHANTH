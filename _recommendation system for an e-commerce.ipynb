{
 "cells": [
  {
   "cell_type": "markdown",
   "id": "d9c90e54-f34d-4ed3-8709-2b0d5565a010",
   "metadata": {},
   "source": [
    "### Part 1: installing surprise library and all necessary libraries"
   ]
  },
  {
   "cell_type": "code",
   "execution_count": 2,
   "id": "e1bf9faa-bf47-4a87-a9f7-d0ff9559101a",
   "metadata": {},
   "outputs": [
    {
     "name": "stdout",
     "output_type": "stream",
     "text": [
      "Requirement already satisfied: scikit-surprise in c:\\users\\dongr\\anaconda3\\lib\\site-packages (1.1.4)\n",
      "Requirement already satisfied: scikit-learn in c:\\users\\dongr\\anaconda3\\lib\\site-packages (1.4.2)\n",
      "Requirement already satisfied: numpy in c:\\users\\dongr\\anaconda3\\lib\\site-packages (1.26.4)\n",
      "Requirement already satisfied: pandas in c:\\users\\dongr\\anaconda3\\lib\\site-packages (2.2.2)\n",
      "Requirement already satisfied: matplotlib in c:\\users\\dongr\\anaconda3\\lib\\site-packages (3.8.4)\n",
      "Requirement already satisfied: plotly in c:\\users\\dongr\\anaconda3\\lib\\site-packages (5.22.0)\n",
      "Requirement already satisfied: joblib>=1.2.0 in c:\\users\\dongr\\anaconda3\\lib\\site-packages (from scikit-surprise) (1.4.2)\n",
      "Requirement already satisfied: scipy>=1.6.0 in c:\\users\\dongr\\anaconda3\\lib\\site-packages (from scikit-surprise) (1.13.1)\n",
      "Requirement already satisfied: threadpoolctl>=2.0.0 in c:\\users\\dongr\\anaconda3\\lib\\site-packages (from scikit-learn) (2.2.0)\n",
      "Requirement already satisfied: python-dateutil>=2.8.2 in c:\\users\\dongr\\anaconda3\\lib\\site-packages (from pandas) (2.9.0.post0)\n",
      "Requirement already satisfied: pytz>=2020.1 in c:\\users\\dongr\\anaconda3\\lib\\site-packages (from pandas) (2024.1)\n",
      "Requirement already satisfied: tzdata>=2022.7 in c:\\users\\dongr\\anaconda3\\lib\\site-packages (from pandas) (2023.3)\n",
      "Requirement already satisfied: contourpy>=1.0.1 in c:\\users\\dongr\\anaconda3\\lib\\site-packages (from matplotlib) (1.2.0)\n",
      "Requirement already satisfied: cycler>=0.10 in c:\\users\\dongr\\anaconda3\\lib\\site-packages (from matplotlib) (0.11.0)\n",
      "Requirement already satisfied: fonttools>=4.22.0 in c:\\users\\dongr\\anaconda3\\lib\\site-packages (from matplotlib) (4.51.0)\n",
      "Requirement already satisfied: kiwisolver>=1.3.1 in c:\\users\\dongr\\anaconda3\\lib\\site-packages (from matplotlib) (1.4.4)\n",
      "Requirement already satisfied: packaging>=20.0 in c:\\users\\dongr\\anaconda3\\lib\\site-packages (from matplotlib) (23.2)\n",
      "Requirement already satisfied: pillow>=8 in c:\\users\\dongr\\anaconda3\\lib\\site-packages (from matplotlib) (10.3.0)\n",
      "Requirement already satisfied: pyparsing>=2.3.1 in c:\\users\\dongr\\anaconda3\\lib\\site-packages (from matplotlib) (3.0.9)\n",
      "Requirement already satisfied: tenacity>=6.2.0 in c:\\users\\dongr\\anaconda3\\lib\\site-packages (from plotly) (8.2.2)\n",
      "Requirement already satisfied: six>=1.5 in c:\\users\\dongr\\anaconda3\\lib\\site-packages (from python-dateutil>=2.8.2->pandas) (1.16.0)\n"
     ]
    }
   ],
   "source": [
    " !pip install scikit-surprise scikit-learn numpy pandas matplotlib plotly"
   ]
  },
  {
   "cell_type": "markdown",
   "id": "0a4a9af1-1aaa-4d89-bef5-25aa5702a0ff",
   "metadata": {},
   "source": [
    "### Part 2: Data Preparation\n",
    "Load your dataset. Assuming your dataset is in a CSV file named `ecommerce_data.csv`, you can load it as follows:"
   ]
  },
  {
   "cell_type": "code",
   "execution_count": 4,
   "id": "8eceebd2-e8b0-42ea-a03b-3b0430f712d8",
   "metadata": {},
   "outputs": [
    {
     "data": {
      "text/html": [
       "<div>\n",
       "<style scoped>\n",
       "    .dataframe tbody tr th:only-of-type {\n",
       "        vertical-align: middle;\n",
       "    }\n",
       "\n",
       "    .dataframe tbody tr th {\n",
       "        vertical-align: top;\n",
       "    }\n",
       "\n",
       "    .dataframe thead th {\n",
       "        text-align: right;\n",
       "    }\n",
       "</style>\n",
       "<table border=\"1\" class=\"dataframe\">\n",
       "  <thead>\n",
       "    <tr style=\"text-align: right;\">\n",
       "      <th></th>\n",
       "      <th>user_id</th>\n",
       "      <th>product_id</th>\n",
       "      <th>rating</th>\n",
       "      <th>purchase</th>\n",
       "      <th>timestamp</th>\n",
       "    </tr>\n",
       "  </thead>\n",
       "  <tbody>\n",
       "    <tr>\n",
       "      <th>0</th>\n",
       "      <td>161</td>\n",
       "      <td>43</td>\n",
       "      <td>4</td>\n",
       "      <td>1</td>\n",
       "      <td>22-05-2022 10:43</td>\n",
       "    </tr>\n",
       "    <tr>\n",
       "      <th>1</th>\n",
       "      <td>141</td>\n",
       "      <td>34</td>\n",
       "      <td>3</td>\n",
       "      <td>0</td>\n",
       "      <td>25-11-2020 12:07</td>\n",
       "    </tr>\n",
       "    <tr>\n",
       "      <th>2</th>\n",
       "      <td>191</td>\n",
       "      <td>3</td>\n",
       "      <td>1</td>\n",
       "      <td>0</td>\n",
       "      <td>27-04-2023 16:13</td>\n",
       "    </tr>\n",
       "    <tr>\n",
       "      <th>3</th>\n",
       "      <td>154</td>\n",
       "      <td>61</td>\n",
       "      <td>3</td>\n",
       "      <td>0</td>\n",
       "      <td>01-09-2021 06:43</td>\n",
       "    </tr>\n",
       "    <tr>\n",
       "      <th>4</th>\n",
       "      <td>24</td>\n",
       "      <td>2</td>\n",
       "      <td>5</td>\n",
       "      <td>1</td>\n",
       "      <td>17-03-2022 07:00</td>\n",
       "    </tr>\n",
       "  </tbody>\n",
       "</table>\n",
       "</div>"
      ],
      "text/plain": [
       "   user_id  product_id  rating  purchase         timestamp\n",
       "0      161          43       4         1  22-05-2022 10:43\n",
       "1      141          34       3         0  25-11-2020 12:07\n",
       "2      191           3       1         0  27-04-2023 16:13\n",
       "3      154          61       3         0  01-09-2021 06:43\n",
       "4       24           2       5         1  17-03-2022 07:00"
      ]
     },
     "execution_count": 4,
     "metadata": {},
     "output_type": "execute_result"
    }
   ],
   "source": [
    "import pandas as pd\n",
    "\n",
    "# Load your dataset\n",
    "df = pd.read_csv(\"C:\\\\Users\\\\dongr\\\\OneDrive\\\\Desktop\\\\new proj\\\\ecommerce_interactions.csv\")\n",
    "\n",
    "# Display the first few rows of the dataset\n",
    "df.head()"
   ]
  },
  {
   "cell_type": "markdown",
   "id": "6c2f37fe-b78a-42db-a2be-160e55d2349c",
   "metadata": {},
   "source": [
    "### Part 3: Collaborative Filtering\n",
    "Implement collaborative filtering using `scikit-surprise`. We will use the `rating` column for this purpose."
   ]
  },
  {
   "cell_type": "code",
   "execution_count": 6,
   "id": "9776fffc-bbf1-43dc-bcef-73dc134e318b",
   "metadata": {},
   "outputs": [
    {
     "name": "stdout",
     "output_type": "stream",
     "text": [
      "RMSE: 1.4430\n",
      "RMSE: 1.4430432207199\n"
     ]
    }
   ],
   "source": [
    "from surprise import Dataset, Reader, SVD\n",
    "from surprise.model_selection import train_test_split\n",
    "from surprise import accuracy\n",
    "\n",
    "# Prepare the data for Surprise\n",
    "reader = Reader(rating_scale=(df['rating'].min(), df['rating'].max()))\n",
    "data = Dataset.load_from_df(df[['user_id', 'product_id', 'rating']], reader)\n",
    "\n",
    "# Split the dataset into training and testing sets\n",
    "trainset, testset = train_test_split(data, test_size=0.2)\n",
    "\n",
    "# Use SVD for collaborative filtering\n",
    "model = SVD()\n",
    "model.fit(trainset)\n",
    "\n",
    "# Make predictions\n",
    "predictions = model.test(testset)\n",
    "\n",
    "# Evaluate the model\n",
    "rmse = accuracy.rmse(predictions)\n",
    "print(f'RMSE: {rmse}')"
   ]
  },
  {
   "cell_type": "markdown",
   "id": "55834a14-f865-416a-9393-252ea2f31078",
   "metadata": {},
   "source": [
    "### Part 4: Content-Based Filtering\n",
    "For content-based filtering, we will need to create item features. If you have additional product attributes (like descriptions or categories), you can use them. For this example, let's assume ywe have a `product_description` column."
   ]
  },
  {
   "cell_type": "code",
   "execution_count": 25,
   "id": "9fb30504-03de-4955-bd4a-b2dde8c04439",
   "metadata": {},
   "outputs": [],
   "source": [
    "# Calculate cosine similarity matrix  \n",
    "cosine_sim = cosine_similarity(tfidf_matrix, tfidf_matrix)  \n",
    "\n",
    "# Convert the cosine similarity matrix into a DataFrame for better readability  \n",
    "cosine_sim_df = pd.DataFrame(cosine_sim, index=df['product_id'], columns=df['product_id'])"
   ]
  },
  {
   "cell_type": "code",
   "execution_count": 17,
   "id": "6457ef9f-4069-42ed-8091-4f83c674fcc8",
   "metadata": {},
   "outputs": [
    {
     "name": "stdout",
     "output_type": "stream",
     "text": [
      "product_id  1     2     3     4     5     6     7     8     9     10    ...  \\\n",
      "product_id                                                              ...   \n",
      "1            1.0   1.0   1.0   1.0   1.0   1.0   1.0   1.0   1.0   1.0  ...   \n",
      "2            1.0   1.0   1.0   1.0   1.0   1.0   1.0   1.0   1.0   1.0  ...   \n",
      "3            1.0   1.0   1.0   1.0   1.0   1.0   1.0   1.0   1.0   1.0  ...   \n",
      "4            1.0   1.0   1.0   1.0   1.0   1.0   1.0   1.0   1.0   1.0  ...   \n",
      "5            1.0   1.0   1.0   1.0   1.0   1.0   1.0   1.0   1.0   1.0  ...   \n",
      "...          ...   ...   ...   ...   ...   ...   ...   ...   ...   ...  ...   \n",
      "996          1.0   1.0   1.0   1.0   1.0   1.0   1.0   1.0   1.0   1.0  ...   \n",
      "997          1.0   1.0   1.0   1.0   1.0   1.0   1.0   1.0   1.0   1.0  ...   \n",
      "998          1.0   1.0   1.0   1.0   1.0   1.0   1.0   1.0   1.0   1.0  ...   \n",
      "999          1.0   1.0   1.0   1.0   1.0   1.0   1.0   1.0   1.0   1.0  ...   \n",
      "1000         1.0   1.0   1.0   1.0   1.0   1.0   1.0   1.0   1.0   1.0  ...   \n",
      "\n",
      "product_id  991   992   993   994   995   996   997   998   999   1000  \n",
      "product_id                                                              \n",
      "1            1.0   1.0   1.0   1.0   1.0   1.0   1.0   1.0   1.0   1.0  \n",
      "2            1.0   1.0   1.0   1.0   1.0   1.0   1.0   1.0   1.0   1.0  \n",
      "3            1.0   1.0   1.0   1.0   1.0   1.0   1.0   1.0   1.0   1.0  \n",
      "4            1.0   1.0   1.0   1.0   1.0   1.0   1.0   1.0   1.0   1.0  \n",
      "5            1.0   1.0   1.0   1.0   1.0   1.0   1.0   1.0   1.0   1.0  \n",
      "...          ...   ...   ...   ...   ...   ...   ...   ...   ...   ...  \n",
      "996          1.0   1.0   1.0   1.0   1.0   1.0   1.0   1.0   1.0   1.0  \n",
      "997          1.0   1.0   1.0   1.0   1.0   1.0   1.0   1.0   1.0   1.0  \n",
      "998          1.0   1.0   1.0   1.0   1.0   1.0   1.0   1.0   1.0   1.0  \n",
      "999          1.0   1.0   1.0   1.0   1.0   1.0   1.0   1.0   1.0   1.0  \n",
      "1000         1.0   1.0   1.0   1.0   1.0   1.0   1.0   1.0   1.0   1.0  \n",
      "\n",
      "[1000 rows x 1000 columns]\n"
     ]
    }
   ],
   "source": [
    "# Display the cosine similarity matrix  \n",
    "print(cosine_sim_df)"
   ]
  },
  {
   "cell_type": "code",
   "execution_count": 5,
   "id": "bbc6da65-791f-4d44-8ec1-a3476e98e015",
   "metadata": {},
   "outputs": [
    {
     "name": "stdout",
     "output_type": "stream",
     "text": [
      "Recommended products for product 1: [2, 3]\n"
     ]
    }
   ],
   "source": [
    "import pandas as pd\n",
    "\n",
    "# Create a DataFrame with 1000 rows for demonstration\n",
    "df = pd.DataFrame(index=range(1000))\n",
    "\n",
    "# Create a product description column with the same length as the DataFrame\n",
    "# Here, we will fill it with a default description for simplicity\n",
    "df['product_description'] = ['Description of product'] * len(df)\n",
    "\n",
    "# Create a TF-IDF Vectorizer\n",
    "from sklearn.feature_extraction.text import TfidfVectorizer\n",
    "from sklearn.metrics.pairwise import cosine_similarity\n",
    "\n",
    "# Create a TF-IDF Vectorizer\n",
    "tfidf = TfidfVectorizer(stop_words='english')\n",
    "tfidf_matrix = tfidf.fit_transform(df['product_description'])\n",
    "\n",
    "# Compute cosine similarity\n",
    "cosine_sim = cosine_similarity(tfidf_matrix, tfidf_matrix)\n",
    "\n",
    "# Function to get recommendations based on cosine similarity\n",
    "def get_recommendations(product_id, cosine_sim, df):\n",
    "    idx = df[df['product_id'] == product_id].index[0]\n",
    "    sim_scores = list(enumerate(cosine_sim[idx]))\n",
    "    sim_scores = sorted(sim_scores, key=lambda x: x[1], reverse=True)\n",
    "    sim_scores = sim_scores[1:3]  # Get top 2 recommendations\n",
    "    product_indices = [i[0] for i in sim_scores]\n",
    "    return df['product_id'].iloc[product_indices]\n",
    "\n",
    "# Make sure to have a 'product_id' column in the DataFrame\n",
    "df['product_id'] = range(1, 1001)  # Adding a product_id column for demonstration\n",
    "recommended_products = get_recommendations(product_id=1, cosine_sim=cosine_sim, df=df)\n",
    "print(f'Recommended products for product 1: {recommended_products.tolist()}')"
   ]
  },
  {
   "cell_type": "markdown",
   "id": "5253fe3c-c0aa-4c3c-b4fa-cd13d06a706e",
   "metadata": {},
   "source": [
    "### Part 5: Hybrid Recommendation System\n",
    "Combine the recommendations from both methods."
   ]
  },
  {
   "cell_type": "code",
   "execution_count": 19,
   "id": "db877d20-6a90-43ed-bf49-600097e5377f",
   "metadata": {},
   "outputs": [
    {
     "name": "stdout",
     "output_type": "stream",
     "text": [
      "here we have the combined result: 3.857872957229512\n"
     ]
    }
   ],
   "source": [
    "import pandas as pd  \n",
    "from surprise import Dataset, Reader, SVD  \n",
    "from surprise.model_selection import train_test_split  \n",
    "\n",
    "# Sample DataFrame creation  \n",
    "data_dict = {  \n",
    "    'user_id': [1, 1, 2, 2, 3, 3],  \n",
    "    'product_id': [101, 102, 101, 103, 102, 104],  \n",
    "    'rating': [5, 3, 4, 4, 2, 1]  \n",
    "}  \n",
    "df = pd.DataFrame(data_dict)  \n",
    "\n",
    "# Load data into Surprise  \n",
    "reader = Reader(rating_scale=(1, 5))  \n",
    "data = Dataset.load_from_df(df[['user_id', 'product_id', 'rating']], reader)  \n",
    "\n",
    "# Train-test split  \n",
    "trainset, testset = train_test_split(data, test_size=0.2)  \n",
    "\n",
    "# Train the collaborative filtering model  \n",
    "collaborative_model = SVD()  \n",
    "collaborative_model.fit(trainset)  \n",
    "\n",
    "# Define the hybrid recommendation function  \n",
    "def hybrid_recommendation(user_id, product_id, collaborative_model, df, cosine_sim):  \n",
    "    # Predict the rating for the given user and product using the collaborative model  \n",
    "    predicted_rating = collaborative_model.predict(user_id, product_id).est  \n",
    "    return predicted_rating  \n",
    "\n",
    "# Sample inputs  \n",
    "user_id = 1  # Example user ID  \n",
    "product_id = 101  \n",
    "\n",
    "# Call the hybrid_recommendation function  \n",
    "result = hybrid_recommendation(user_id, product_id, collaborative_model, df, cosine_sim=5)  \n",
    "print( \"here we have the combined result:\",result)"
   ]
  },
  {
   "cell_type": "markdown",
   "id": "c1cf7e0a-3998-4631-8831-0ed5e9b870b5",
   "metadata": {},
   "source": [
    "### Part 6: Evaluation\n",
    "Evaluate the recommendation quality using metrics like RMSE, precision, and recall.  calculating RMSE already done in Part 3."
   ]
  },
  {
   "cell_type": "code",
   "execution_count": 4,
   "id": "1c15a682-ae78-42a5-9aaf-6f06b35d6d50",
   "metadata": {},
   "outputs": [
    {
     "name": "stdout",
     "output_type": "stream",
     "text": [
      "   user_id  product_id  rating  purchase          tag\n",
      "0      865        3648       4         1  electronics\n",
      "1      336        1215       5         0     clothing\n",
      "2      143        4433       4         1         toys\n",
      "3      115        4826       5         0     clothing\n",
      "4      245        1511       4         1         toys\n",
      "RMSE: 1.4451\n",
      "RMSE: 1.4451\n",
      "Precision at 3: 1.0000\n",
      "Recall at 3: 0.1310\n"
     ]
    }
   ],
   "source": [
    "import pandas as pd  \n",
    "from surprise import Dataset, Reader  \n",
    "from surprise import SVD  \n",
    "from surprise.model_selection import train_test_split  \n",
    "from surprise import accuracy  \n",
    "from collections import defaultdict  \n",
    "\n",
    "# Load your data from a CSV file  \n",
    "df = pd.read_csv('C:\\\\Users\\\\dongr\\\\OneDrive\\\\Desktop\\\\new proj\\\\ecommerce.csv')  \n",
    "\n",
    "# Display the first few rows of the DataFrame to ensure it's loaded correctly  \n",
    "print(df.head())  \n",
    "\n",
    "# Load data into Surprise  \n",
    "reader = Reader(rating_scale=(1, 5))  \n",
    "data = Dataset.load_from_df(df[['user_id', 'product_id', 'rating']], reader)  \n",
    "\n",
    "# Split the dataset into train and test sets  \n",
    "trainset, testset = train_test_split(data, test_size=0.25)  \n",
    "\n",
    "# Train an SVD model  \n",
    "model = SVD()  \n",
    "model.fit(trainset)  \n",
    "\n",
    "# Make predictions on the test set  \n",
    "predictions = model.test(testset)  \n",
    "\n",
    "# Calculate RMSE  \n",
    "rmse = accuracy.rmse(predictions)  \n",
    "print(f'RMSE: {rmse:.4f}')  \n",
    "\n",
    "# Calculate Precision and Recall (similar code as before)  \n",
    "def precision_recall_at_k(predictions, k=3, threshold=3.5):  \n",
    "    \"\"\"Return precision and recall at k metrics for each user.\"\"\"  \n",
    "    top_n = defaultdict(list)  \n",
    "    for uid, iid, true_r, est, _ in predictions:  \n",
    "        if est >= threshold:  \n",
    "            top_n[uid].append((iid, est))  \n",
    "    \n",
    "    for uid, user_ratings in top_n.items():  \n",
    "        user_ratings.sort(key=lambda x: x[1], reverse=True)  \n",
    "        top_n[uid] = user_ratings[:k]  \n",
    "\n",
    "    precision_list = []  \n",
    "    recall_list = []  \n",
    "    for uid, user_ratings in top_n.items():  \n",
    "        true_items = set(df[df['user_id'] == uid]['product_id'])  \n",
    "        recommended_items = set([iid for (iid, _) in user_ratings])  \n",
    "\n",
    "        n_relevant = len(recommended_items.intersection(true_items))  \n",
    "        precision = n_relevant / len(recommended_items) if len(recommended_items) > 0 else 0  \n",
    "        recall = n_relevant / len(true_items) if len(true_items) > 0 else 0  \n",
    "\n",
    "        precision_list.append(precision)  \n",
    "        recall_list.append(recall)  \n",
    "\n",
    "    return sum(precision_list) / len(precision_list), sum(recall_list) / len(recall_list)  \n",
    "\n",
    "# Calculate precision and recall  \n",
    "k = 3  # Top-N recommendations  \n",
    "precision, recall = precision_recall_at_k(predictions, k=k, threshold=3.5)  \n",
    "print(f'Precision at {k}: {precision:.4f}')  \n",
    "print(f'Recall at {k}: {recall:.4f}')"
   ]
  },
  {
   "cell_type": "markdown",
   "id": "fff343e5-0467-499a-b9d2-0928cd960c5b",
   "metadata": {},
   "source": [
    "### Part 7: Visualization\n",
    "Visualize the recommendations and user-item matrices."
   ]
  },
  {
   "cell_type": "code",
   "execution_count": 64,
   "id": "ad51a31c-ad83-45ad-af11-e2426c4169b8",
   "metadata": {},
   "outputs": [
    {
     "data": {
      "image/png": "[encoded data removed]",
      "text/plain": [
       "<Figure size 1000x800 with 2 Axes>"
      ]
     },
     "metadata": {},
     "output_type": "display_data"
    }
   ],
   "source": [
    "import numpy as np  # Importing NumPy for array creation\n",
    "import pandas as pd  # Importing Pandas for DataFrame handling\n",
    "import matplotlib.pyplot as plt\n",
    "import seaborn as sns\n",
    "\n",
    "# Example: Creating a dummy cosine similarity matrix\n",
    "# Make sure to replace this with your actual cosine similarity calculation\n",
    "product_ids = ['product_1', 'product_2', 'product_3']\n",
    "cosine_sim = np.array([[1.0, 0.8, 0.5],\n",
    "                       [0.8, 1.0, 0.3],\n",
    "                       [0.5, 0.3, 1.0]])\n",
    "\n",
    "df = pd.DataFrame({'product_id': product_ids})  # Creating a DataFrame for product IDs\n",
    "\n",
    "# Visualizing the cosine similarity matrix\n",
    "plt.figure(figsize=(10, 8))\n",
    "sns.heatmap(cosine_sim, annot=True, fmt=\".2f\", cmap='coolwarm', \n",
    "            xticklabels=df['product_id'], yticklabels=df['product_id'])\n",
    "plt.title('Cosine Similarity Matrix')\n",
    "plt.show()"
   ]
  },
  {
   "cell_type": "code",
   "execution_count": 26,
   "id": "d77a9f1c-9d58-484a-a7a7-e51d88f45c2d",
   "metadata": {},
   "outputs": [
    {
     "name": "stdout",
     "output_type": "stream",
     "text": [
      "(3, 3)\n"
     ]
    }
   ],
   "source": [
    "print(cosine_sim.shape)"
   ]
  },
  {
   "cell_type": "code",
   "execution_count": 36,
   "id": "aafd6dec-8f9e-4f4d-8193-61187c8edf6b",
   "metadata": {},
   "outputs": [
    {
     "name": "stdout",
     "output_type": "stream",
     "text": [
      "[[1.  0.8 0.5]\n",
      " [0.8 1.  0.3]\n",
      " [0.5 0.3 1. ]]\n"
     ]
    }
   ],
   "source": [
    "print(cosine_sim)"
   ]
  },
  {
   "cell_type": "code",
   "execution_count": 82,
   "id": "71fe8512-65cb-4621-87a5-eb7a95147592",
   "metadata": {},
   "outputs": [
    {
     "name": "stdout",
     "output_type": "stream",
     "text": [
      "Recommended items for user_id 0:\n",
      "Item ID: 34, Score: 0.2662\n",
      "Item ID: 94, Score: 0.2350\n",
      "Item ID: 6, Score: 0.2080\n",
      "Item ID: 75, Score: 0.1734\n",
      "Item ID: 39, Score: 0.1508\n",
      "Item ID: 29, Score: 0.1405\n",
      "Item ID: 90, Score: 0.1347\n",
      "Item ID: 62, Score: 0.1346\n",
      "Item ID: 63, Score: 0.1331\n",
      "Item ID: 61, Score: 0.1168\n"
     ]
    }
   ],
   "source": [
    "#Generate Recommendations  \n",
    "# Let's say we want recommendations for user with user_id = 0 (after factorization)  \n",
    "user_id = 0  # Change this to the appropriate re-indexed ID  \n",
    "user_items = user_item_matrix[user_id]  \n",
    "\n",
    "# Score all items for the selected user  \n",
    "# Note: `model.recommend` returns a tuple: (item_ids, scores)  \n",
    "scores = model.recommend(user_id, user_items, N=10)  # Recommend top 10 items  \n",
    "\n",
    "# Check if scores is a tuple and unpack it accordingly  \n",
    "if isinstance(scores, tuple):  \n",
    "    recommended_item_ids, recommended_scores = scores  # Unpacking the tuple  \n",
    "else:  \n",
    "    recommended_item_ids = scores[:, 0]  # Item IDs (if it's already a matrix)  \n",
    "    recommended_scores = scores[:, 1]  # Corresponding scores  \n",
    "\n",
    "# Print recommended items  \n",
    "print(f\"Recommended items for user_id {user_id}:\")  \n",
    "for item_id, score in zip(recommended_item_ids, recommended_scores):  \n",
    "    # If you want the original product IDs, map back to original IDs using product_uniques  \n",
    "    print(f\"Item ID: {product_uniques[item_id]}, Score: {score:.4f}\")"
   ]
  }
 ],
 "metadata": {
  "kernelspec": {
   "display_name": "Python 3 (ipykernel)",
   "language": "python",
   "name": "python3"
  },
  "language_info": {
   "codemirror_mode": {
    "name": "ipython",
    "version": 3
   },
   "file_extension": ".py",
   "mimetype": "text/x-python",
   "name": "python",
   "nbconvert_exporter": "python",
   "pygments_lexer": "ipython3",
   "version": "3.12.3"
  }
 },
 "nbformat": 4,
 "nbformat_minor": 5
}
