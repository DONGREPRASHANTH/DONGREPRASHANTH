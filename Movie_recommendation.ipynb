{
  "nbformat": 4,
  "nbformat_minor": 0,
  "metadata": {
    "colab": {
      "provenance": [],
      "authorship_tag": "ABX9TyMuBs1nNi4trqKfFzkXm5/7",
      "include_colab_link": true
    },
    "kernelspec": {
      "name": "python3",
      "display_name": "Python 3"
    },
    "language_info": {
      "name": "python"
    }
  },
  "cells": [
    {
      "cell_type": "markdown",
      "metadata": {
        "id": "view-in-github",
        "colab_type": "text"
      },
      "source": [
        "<a href=\"https://colab.research.google.com/github/DONGREPRASHANTH/DONGREPRASHANTH/blob/main/Movie_recommendation.ipynb\" target=\"_parent\"><img src=\"https://colab.research.google.com/assets/colab-badge.svg\" alt=\"Open In Colab\"/></a>"
      ]
    },
    {
      "cell_type": "markdown",
      "source": [
        "# MOVIE RECOMMENDATION SYSTEM\n",
        "Its a system that seeks to predict or filter or preferences according to user choices and it is useed in variety of areas inclueding music,movies,news etc...\n",
        "      Recomender systems produce a list of recommendations in any of the two ways .\n",
        "1.COLLABARATIVE FILTERING\n",
        "       It approaches to build a model from the users past behaviour and as well as similar decisions made by other users ...\n",
        "       then this model is able to predict user user may have interest in product.\n",
        "2.CONTENT BASED FILTERING\n",
        "       It uses series of ddescrete characteristics of an item in order to reccommend additional items with similar properties.\n",
        "       These are totally depend on the description of the item and profile of the user specification.\n",
        "       It recommends items on user past preferences.\n",
        " lets develop a movie recommendation system using pandas python.\n",
        "                   "
      ],
      "metadata": {
        "id": "awmQk376B4kL"
      }
    },
    {
      "cell_type": "markdown",
      "source": [
        "import libraries"
      ],
      "metadata": {
        "id": "ygTbOKItInHK"
      }
    },
    {
      "cell_type": "code",
      "source": [
        "import pandas as pd"
      ],
      "metadata": {
        "id": "oqpguy1PIvkJ"
      },
      "execution_count": 8,
      "outputs": []
    },
    {
      "cell_type": "code",
      "source": [
        "import numpy as np"
      ],
      "metadata": {
        "id": "rbmgUb_jI9J8"
      },
      "execution_count": 9,
      "outputs": []
    },
    {
      "cell_type": "code",
      "source": [
        "df=pd.read_csv('https://github.com/YBI-Foundation/Dataset/raw/main/Movies%20Recommendation.csv')\n",
        "df.head()"
      ],
      "metadata": {
        "colab": {
          "base_uri": "https://localhost:8080/",
          "height": 672
        },
        "id": "0PuhULLSJOvO",
        "outputId": "d03ec2ad-02b0-4bb9-8bc5-e7b471fbb43c"
      },
      "execution_count": 10,
      "outputs": [
        {
          "output_type": "execute_result",
          "data": {
            "text/plain": [
              "   Movie_ID      Movie_Title                       Movie_Genre Movie_Language  \\\n",
              "0         1       Four Rooms                      Crime Comedy             en   \n",
              "1         2        Star Wars  Adventure Action Science Fiction             en   \n",
              "2         3     Finding Nemo                  Animation Family             en   \n",
              "3         4     Forrest Gump              Comedy Drama Romance             en   \n",
              "4         5  American Beauty                             Drama             en   \n",
              "\n",
              "   Movie_Budget  Movie_Popularity Movie_Release_Date  Movie_Revenue  \\\n",
              "0       4000000         22.876230         09-12-1995        4300000   \n",
              "1      11000000        126.393695         25-05-1977      775398007   \n",
              "2      94000000         85.688789         30-05-2003      940335536   \n",
              "3      55000000        138.133331         06-07-1994      677945399   \n",
              "4      15000000         80.878605         15-09-1999      356296601   \n",
              "\n",
              "   Movie_Runtime  Movie_Vote  ...  \\\n",
              "0           98.0         6.5  ...   \n",
              "1          121.0         8.1  ...   \n",
              "2          100.0         7.6  ...   \n",
              "3          142.0         8.2  ...   \n",
              "4          122.0         7.9  ...   \n",
              "\n",
              "                                      Movie_Homepage  \\\n",
              "0                                                NaN   \n",
              "1  http://www.starwars.com/films/star-wars-episod...   \n",
              "2              http://movies.disney.com/finding-nemo   \n",
              "3                                                NaN   \n",
              "4                      http://www.dreamworks.com/ab/   \n",
              "\n",
              "                                      Movie_Keywords  \\\n",
              "0          hotel new year's eve witch bet hotel room   \n",
              "1        android galaxy hermit death star lightsaber   \n",
              "2  father son relationship harbor underwater fish...   \n",
              "3  vietnam veteran hippie mentally disabled runni...   \n",
              "4  male nudity female nudity adultery midlife cri...   \n",
              "\n",
              "                                      Movie_Overview  \\\n",
              "0  It's Ted the Bellhop's first night on the job....   \n",
              "1  Princess Leia is captured and held hostage by ...   \n",
              "2  Nemo, an adventurous young clownfish, is unexp...   \n",
              "3  A man with a low IQ has accomplished great thi...   \n",
              "4  Lester Burnham, a depressed suburban father in...   \n",
              "\n",
              "                              Movie_Production_House  \\\n",
              "0  [{\"name\": \"Miramax Films\", \"id\": 14}, {\"name\":...   \n",
              "1  [{\"name\": \"Lucasfilm\", \"id\": 1}, {\"name\": \"Twe...   \n",
              "2     [{\"name\": \"Pixar Animation Studios\", \"id\": 3}]   \n",
              "3          [{\"name\": \"Paramount Pictures\", \"id\": 4}]   \n",
              "4  [{\"name\": \"DreamWorks SKG\", \"id\": 27}, {\"name\"...   \n",
              "\n",
              "                            Movie_Production_Country  \\\n",
              "0  [{\"iso_3166_1\": \"US\", \"name\": \"United States o...   \n",
              "1  [{\"iso_3166_1\": \"US\", \"name\": \"United States o...   \n",
              "2  [{\"iso_3166_1\": \"US\", \"name\": \"United States o...   \n",
              "3  [{\"iso_3166_1\": \"US\", \"name\": \"United States o...   \n",
              "4  [{\"iso_3166_1\": \"US\", \"name\": \"United States o...   \n",
              "\n",
              "                      Movie_Spoken_Language  \\\n",
              "0  [{\"iso_639_1\": \"en\", \"name\": \"English\"}]   \n",
              "1  [{\"iso_639_1\": \"en\", \"name\": \"English\"}]   \n",
              "2  [{\"iso_639_1\": \"en\", \"name\": \"English\"}]   \n",
              "3  [{\"iso_639_1\": \"en\", \"name\": \"English\"}]   \n",
              "4  [{\"iso_639_1\": \"en\", \"name\": \"English\"}]   \n",
              "\n",
              "                                       Movie_Tagline  \\\n",
              "0  Twelve outrageous guests. Four scandalous requ...   \n",
              "1       A long time ago in a galaxy far, far away...   \n",
              "2  There are 3.7 trillion fish in the ocean, they...   \n",
              "3  The world will never be the same, once you've ...   \n",
              "4                                       Look closer.   \n",
              "\n",
              "                                          Movie_Cast  \\\n",
              "0  Tim Roth Antonio Banderas Jennifer Beals Madon...   \n",
              "1  Mark Hamill Harrison Ford Carrie Fisher Peter ...   \n",
              "2  Albert Brooks Ellen DeGeneres Alexander Gould ...   \n",
              "3  Tom Hanks Robin Wright Gary Sinise Mykelti Wil...   \n",
              "4  Kevin Spacey Annette Bening Thora Birch Wes Be...   \n",
              "\n",
              "                                          Movie_Crew   Movie_Director  \n",
              "0  [{'name': 'Allison Anders', 'gender': 1, 'depa...   Allison Anders  \n",
              "1  [{'name': 'George Lucas', 'gender': 2, 'depart...     George Lucas  \n",
              "2  [{'name': 'Andrew Stanton', 'gender': 2, 'depa...   Andrew Stanton  \n",
              "3  [{'name': 'Alan Silvestri', 'gender': 2, 'depa...  Robert Zemeckis  \n",
              "4  [{'name': 'Thomas Newman', 'gender': 2, 'depar...       Sam Mendes  \n",
              "\n",
              "[5 rows x 21 columns]"
            ],
            "text/html": [
              "\n",
              "  <div id=\"df-7942f171-472d-447f-92e3-fd3db3c0db6c\" class=\"colab-df-container\">\n",
              "    <div>\n",
              "<style scoped>\n",
              "    .dataframe tbody tr th:only-of-type {\n",
              "        vertical-align: middle;\n",
              "    }\n",
              "\n",
              "    .dataframe tbody tr th {\n",
              "        vertical-align: top;\n",
              "    }\n",
              "\n",
              "    .dataframe thead th {\n",
              "        text-align: right;\n",
              "    }\n",
              "</style>\n",
              "<table border=\"1\" class=\"dataframe\">\n",
              "  <thead>\n",
              "    <tr style=\"text-align: right;\">\n",
              "      <th></th>\n",
              "      <th>Movie_ID</th>\n",
              "      <th>Movie_Title</th>\n",
              "      <th>Movie_Genre</th>\n",
              "      <th>Movie_Language</th>\n",
              "      <th>Movie_Budget</th>\n",
              "      <th>Movie_Popularity</th>\n",
              "      <th>Movie_Release_Date</th>\n",
              "      <th>Movie_Revenue</th>\n",
              "      <th>Movie_Runtime</th>\n",
              "      <th>Movie_Vote</th>\n",
              "      <th>...</th>\n",
              "      <th>Movie_Homepage</th>\n",
              "      <th>Movie_Keywords</th>\n",
              "      <th>Movie_Overview</th>\n",
              "      <th>Movie_Production_House</th>\n",
              "      <th>Movie_Production_Country</th>\n",
              "      <th>Movie_Spoken_Language</th>\n",
              "      <th>Movie_Tagline</th>\n",
              "      <th>Movie_Cast</th>\n",
              "      <th>Movie_Crew</th>\n",
              "      <th>Movie_Director</th>\n",
              "    </tr>\n",
              "  </thead>\n",
              "  <tbody>\n",
              "    <tr>\n",
              "      <th>0</th>\n",
              "      <td>1</td>\n",
              "      <td>Four Rooms</td>\n",
              "      <td>Crime Comedy</td>\n",
              "      <td>en</td>\n",
              "      <td>4000000</td>\n",
              "      <td>22.876230</td>\n",
              "      <td>09-12-1995</td>\n",
              "      <td>4300000</td>\n",
              "      <td>98.0</td>\n",
              "      <td>6.5</td>\n",
              "      <td>...</td>\n",
              "      <td>NaN</td>\n",
              "      <td>hotel new year's eve witch bet hotel room</td>\n",
              "      <td>It's Ted the Bellhop's first night on the job....</td>\n",
              "      <td>[{\"name\": \"Miramax Films\", \"id\": 14}, {\"name\":...</td>\n",
              "      <td>[{\"iso_3166_1\": \"US\", \"name\": \"United States o...</td>\n",
              "      <td>[{\"iso_639_1\": \"en\", \"name\": \"English\"}]</td>\n",
              "      <td>Twelve outrageous guests. Four scandalous requ...</td>\n",
              "      <td>Tim Roth Antonio Banderas Jennifer Beals Madon...</td>\n",
              "      <td>[{'name': 'Allison Anders', 'gender': 1, 'depa...</td>\n",
              "      <td>Allison Anders</td>\n",
              "    </tr>\n",
              "    <tr>\n",
              "      <th>1</th>\n",
              "      <td>2</td>\n",
              "      <td>Star Wars</td>\n",
              "      <td>Adventure Action Science Fiction</td>\n",
              "      <td>en</td>\n",
              "      <td>11000000</td>\n",
              "      <td>126.393695</td>\n",
              "      <td>25-05-1977</td>\n",
              "      <td>775398007</td>\n",
              "      <td>121.0</td>\n",
              "      <td>8.1</td>\n",
              "      <td>...</td>\n",
              "      <td>http://www.starwars.com/films/star-wars-episod...</td>\n",
              "      <td>android galaxy hermit death star lightsaber</td>\n",
              "      <td>Princess Leia is captured and held hostage by ...</td>\n",
              "      <td>[{\"name\": \"Lucasfilm\", \"id\": 1}, {\"name\": \"Twe...</td>\n",
              "      <td>[{\"iso_3166_1\": \"US\", \"name\": \"United States o...</td>\n",
              "      <td>[{\"iso_639_1\": \"en\", \"name\": \"English\"}]</td>\n",
              "      <td>A long time ago in a galaxy far, far away...</td>\n",
              "      <td>Mark Hamill Harrison Ford Carrie Fisher Peter ...</td>\n",
              "      <td>[{'name': 'George Lucas', 'gender': 2, 'depart...</td>\n",
              "      <td>George Lucas</td>\n",
              "    </tr>\n",
              "    <tr>\n",
              "      <th>2</th>\n",
              "      <td>3</td>\n",
              "      <td>Finding Nemo</td>\n",
              "      <td>Animation Family</td>\n",
              "      <td>en</td>\n",
              "      <td>94000000</td>\n",
              "      <td>85.688789</td>\n",
              "      <td>30-05-2003</td>\n",
              "      <td>940335536</td>\n",
              "      <td>100.0</td>\n",
              "      <td>7.6</td>\n",
              "      <td>...</td>\n",
              "      <td>http://movies.disney.com/finding-nemo</td>\n",
              "      <td>father son relationship harbor underwater fish...</td>\n",
              "      <td>Nemo, an adventurous young clownfish, is unexp...</td>\n",
              "      <td>[{\"name\": \"Pixar Animation Studios\", \"id\": 3}]</td>\n",
              "      <td>[{\"iso_3166_1\": \"US\", \"name\": \"United States o...</td>\n",
              "      <td>[{\"iso_639_1\": \"en\", \"name\": \"English\"}]</td>\n",
              "      <td>There are 3.7 trillion fish in the ocean, they...</td>\n",
              "      <td>Albert Brooks Ellen DeGeneres Alexander Gould ...</td>\n",
              "      <td>[{'name': 'Andrew Stanton', 'gender': 2, 'depa...</td>\n",
              "      <td>Andrew Stanton</td>\n",
              "    </tr>\n",
              "    <tr>\n",
              "      <th>3</th>\n",
              "      <td>4</td>\n",
              "      <td>Forrest Gump</td>\n",
              "      <td>Comedy Drama Romance</td>\n",
              "      <td>en</td>\n",
              "      <td>55000000</td>\n",
              "      <td>138.133331</td>\n",
              "      <td>06-07-1994</td>\n",
              "      <td>677945399</td>\n",
              "      <td>142.0</td>\n",
              "      <td>8.2</td>\n",
              "      <td>...</td>\n",
              "      <td>NaN</td>\n",
              "      <td>vietnam veteran hippie mentally disabled runni...</td>\n",
              "      <td>A man with a low IQ has accomplished great thi...</td>\n",
              "      <td>[{\"name\": \"Paramount Pictures\", \"id\": 4}]</td>\n",
              "      <td>[{\"iso_3166_1\": \"US\", \"name\": \"United States o...</td>\n",
              "      <td>[{\"iso_639_1\": \"en\", \"name\": \"English\"}]</td>\n",
              "      <td>The world will never be the same, once you've ...</td>\n",
              "      <td>Tom Hanks Robin Wright Gary Sinise Mykelti Wil...</td>\n",
              "      <td>[{'name': 'Alan Silvestri', 'gender': 2, 'depa...</td>\n",
              "      <td>Robert Zemeckis</td>\n",
              "    </tr>\n",
              "    <tr>\n",
              "      <th>4</th>\n",
              "      <td>5</td>\n",
              "      <td>American Beauty</td>\n",
              "      <td>Drama</td>\n",
              "      <td>en</td>\n",
              "      <td>15000000</td>\n",
              "      <td>80.878605</td>\n",
              "      <td>15-09-1999</td>\n",
              "      <td>356296601</td>\n",
              "      <td>122.0</td>\n",
              "      <td>7.9</td>\n",
              "      <td>...</td>\n",
              "      <td>http://www.dreamworks.com/ab/</td>\n",
              "      <td>male nudity female nudity adultery midlife cri...</td>\n",
              "      <td>Lester Burnham, a depressed suburban father in...</td>\n",
              "      <td>[{\"name\": \"DreamWorks SKG\", \"id\": 27}, {\"name\"...</td>\n",
              "      <td>[{\"iso_3166_1\": \"US\", \"name\": \"United States o...</td>\n",
              "      <td>[{\"iso_639_1\": \"en\", \"name\": \"English\"}]</td>\n",
              "      <td>Look closer.</td>\n",
              "      <td>Kevin Spacey Annette Bening Thora Birch Wes Be...</td>\n",
              "      <td>[{'name': 'Thomas Newman', 'gender': 2, 'depar...</td>\n",
              "      <td>Sam Mendes</td>\n",
              "    </tr>\n",
              "  </tbody>\n",
              "</table>\n",
              "<p>5 rows × 21 columns</p>\n",
              "</div>\n",
              "    <div class=\"colab-df-buttons\">\n",
              "\n",
              "  <div class=\"colab-df-container\">\n",
              "    <button class=\"colab-df-convert\" onclick=\"convertToInteractive('df-7942f171-472d-447f-92e3-fd3db3c0db6c')\"\n",
              "            title=\"Convert this dataframe to an interactive table.\"\n",
              "            style=\"display:none;\">\n",
              "\n",
              "  <svg xmlns=\"http://www.w3.org/2000/svg\" height=\"24px\" viewBox=\"0 -960 960 960\">\n",
              "    <path d=\"M120-120v-720h720v720H120Zm60-500h600v-160H180v160Zm220 220h160v-160H400v160Zm0 220h160v-160H400v160ZM180-400h160v-160H180v160Zm440 0h160v-160H620v160ZM180-180h160v-160H180v160Zm440 0h160v-160H620v160Z\"/>\n",
              "  </svg>\n",
              "    </button>\n",
              "\n",
              "  <style>\n",
              "    .colab-df-container {\n",
              "      display:flex;\n",
              "      gap: 12px;\n",
              "    }\n",
              "\n",
              "    .colab-df-convert {\n",
              "      background-color: #E8F0FE;\n",
              "      border: none;\n",
              "      border-radius: 50%;\n",
              "      cursor: pointer;\n",
              "      display: none;\n",
              "      fill: #1967D2;\n",
              "      height: 32px;\n",
              "      padding: 0 0 0 0;\n",
              "      width: 32px;\n",
              "    }\n",
              "\n",
              "    .colab-df-convert:hover {\n",
              "      background-color: #E2EBFA;\n",
              "      box-shadow: 0px 1px 2px rgba(60, 64, 67, 0.3), 0px 1px 3px 1px rgba(60, 64, 67, 0.15);\n",
              "      fill: #174EA6;\n",
              "    }\n",
              "\n",
              "    .colab-df-buttons div {\n",
              "      margin-bottom: 4px;\n",
              "    }\n",
              "\n",
              "    [theme=dark] .colab-df-convert {\n",
              "      background-color: #3B4455;\n",
              "      fill: #D2E3FC;\n",
              "    }\n",
              "\n",
              "    [theme=dark] .colab-df-convert:hover {\n",
              "      background-color: #434B5C;\n",
              "      box-shadow: 0px 1px 3px 1px rgba(0, 0, 0, 0.15);\n",
              "      filter: drop-shadow(0px 1px 2px rgba(0, 0, 0, 0.3));\n",
              "      fill: #FFFFFF;\n",
              "    }\n",
              "  </style>\n",
              "\n",
              "    <script>\n",
              "      const buttonEl =\n",
              "        document.querySelector('#df-7942f171-472d-447f-92e3-fd3db3c0db6c button.colab-df-convert');\n",
              "      buttonEl.style.display =\n",
              "        google.colab.kernel.accessAllowed ? 'block' : 'none';\n",
              "\n",
              "      async function convertToInteractive(key) {\n",
              "        const element = document.querySelector('#df-7942f171-472d-447f-92e3-fd3db3c0db6c');\n",
              "        const dataTable =\n",
              "          await google.colab.kernel.invokeFunction('convertToInteractive',\n",
              "                                                    [key], {});\n",
              "        if (!dataTable) return;\n",
              "\n",
              "        const docLinkHtml = 'Like what you see? Visit the ' +\n",
              "          '<a target=\"_blank\" href=https://colab.research.google.com/notebooks/data_table.ipynb>data table notebook</a>'\n",
              "          + ' to learn more about interactive tables.';\n",
              "        element.innerHTML = '';\n",
              "        dataTable['output_type'] = 'display_data';\n",
              "        await google.colab.output.renderOutput(dataTable, element);\n",
              "        const docLink = document.createElement('div');\n",
              "        docLink.innerHTML = docLinkHtml;\n",
              "        element.appendChild(docLink);\n",
              "      }\n",
              "    </script>\n",
              "  </div>\n",
              "\n",
              "\n",
              "<div id=\"df-d1fb4707-3958-412b-bd4b-237e72d3b7c5\">\n",
              "  <button class=\"colab-df-quickchart\" onclick=\"quickchart('df-d1fb4707-3958-412b-bd4b-237e72d3b7c5')\"\n",
              "            title=\"Suggest charts\"\n",
              "            style=\"display:none;\">\n",
              "\n",
              "<svg xmlns=\"http://www.w3.org/2000/svg\" height=\"24px\"viewBox=\"0 0 24 24\"\n",
              "     width=\"24px\">\n",
              "    <g>\n",
              "        <path d=\"M19 3H5c-1.1 0-2 .9-2 2v14c0 1.1.9 2 2 2h14c1.1 0 2-.9 2-2V5c0-1.1-.9-2-2-2zM9 17H7v-7h2v7zm4 0h-2V7h2v10zm4 0h-2v-4h2v4z\"/>\n",
              "    </g>\n",
              "</svg>\n",
              "  </button>\n",
              "\n",
              "<style>\n",
              "  .colab-df-quickchart {\n",
              "      --bg-color: #E8F0FE;\n",
              "      --fill-color: #1967D2;\n",
              "      --hover-bg-color: #E2EBFA;\n",
              "      --hover-fill-color: #174EA6;\n",
              "      --disabled-fill-color: #AAA;\n",
              "      --disabled-bg-color: #DDD;\n",
              "  }\n",
              "\n",
              "  [theme=dark] .colab-df-quickchart {\n",
              "      --bg-color: #3B4455;\n",
              "      --fill-color: #D2E3FC;\n",
              "      --hover-bg-color: #434B5C;\n",
              "      --hover-fill-color: #FFFFFF;\n",
              "      --disabled-bg-color: #3B4455;\n",
              "      --disabled-fill-color: #666;\n",
              "  }\n",
              "\n",
              "  .colab-df-quickchart {\n",
              "    background-color: var(--bg-color);\n",
              "    border: none;\n",
              "    border-radius: 50%;\n",
              "    cursor: pointer;\n",
              "    display: none;\n",
              "    fill: var(--fill-color);\n",
              "    height: 32px;\n",
              "    padding: 0;\n",
              "    width: 32px;\n",
              "  }\n",
              "\n",
              "  .colab-df-quickchart:hover {\n",
              "    background-color: var(--hover-bg-color);\n",
              "    box-shadow: 0 1px 2px rgba(60, 64, 67, 0.3), 0 1px 3px 1px rgba(60, 64, 67, 0.15);\n",
              "    fill: var(--button-hover-fill-color);\n",
              "  }\n",
              "\n",
              "  .colab-df-quickchart-complete:disabled,\n",
              "  .colab-df-quickchart-complete:disabled:hover {\n",
              "    background-color: var(--disabled-bg-color);\n",
              "    fill: var(--disabled-fill-color);\n",
              "    box-shadow: none;\n",
              "  }\n",
              "\n",
              "  .colab-df-spinner {\n",
              "    border: 2px solid var(--fill-color);\n",
              "    border-color: transparent;\n",
              "    border-bottom-color: var(--fill-color);\n",
              "    animation:\n",
              "      spin 1s steps(1) infinite;\n",
              "  }\n",
              "\n",
              "  @keyframes spin {\n",
              "    0% {\n",
              "      border-color: transparent;\n",
              "      border-bottom-color: var(--fill-color);\n",
              "      border-left-color: var(--fill-color);\n",
              "    }\n",
              "    20% {\n",
              "      border-color: transparent;\n",
              "      border-left-color: var(--fill-color);\n",
              "      border-top-color: var(--fill-color);\n",
              "    }\n",
              "    30% {\n",
              "      border-color: transparent;\n",
              "      border-left-color: var(--fill-color);\n",
              "      border-top-color: var(--fill-color);\n",
              "      border-right-color: var(--fill-color);\n",
              "    }\n",
              "    40% {\n",
              "      border-color: transparent;\n",
              "      border-right-color: var(--fill-color);\n",
              "      border-top-color: var(--fill-color);\n",
              "    }\n",
              "    60% {\n",
              "      border-color: transparent;\n",
              "      border-right-color: var(--fill-color);\n",
              "    }\n",
              "    80% {\n",
              "      border-color: transparent;\n",
              "      border-right-color: var(--fill-color);\n",
              "      border-bottom-color: var(--fill-color);\n",
              "    }\n",
              "    90% {\n",
              "      border-color: transparent;\n",
              "      border-bottom-color: var(--fill-color);\n",
              "    }\n",
              "  }\n",
              "</style>\n",
              "\n",
              "  <script>\n",
              "    async function quickchart(key) {\n",
              "      const quickchartButtonEl =\n",
              "        document.querySelector('#' + key + ' button');\n",
              "      quickchartButtonEl.disabled = true;  // To prevent multiple clicks.\n",
              "      quickchartButtonEl.classList.add('colab-df-spinner');\n",
              "      try {\n",
              "        const charts = await google.colab.kernel.invokeFunction(\n",
              "            'suggestCharts', [key], {});\n",
              "      } catch (error) {\n",
              "        console.error('Error during call to suggestCharts:', error);\n",
              "      }\n",
              "      quickchartButtonEl.classList.remove('colab-df-spinner');\n",
              "      quickchartButtonEl.classList.add('colab-df-quickchart-complete');\n",
              "    }\n",
              "    (() => {\n",
              "      let quickchartButtonEl =\n",
              "        document.querySelector('#df-d1fb4707-3958-412b-bd4b-237e72d3b7c5 button');\n",
              "      quickchartButtonEl.style.display =\n",
              "        google.colab.kernel.accessAllowed ? 'block' : 'none';\n",
              "    })();\n",
              "  </script>\n",
              "</div>\n",
              "\n",
              "    </div>\n",
              "  </div>\n"
            ],
            "application/vnd.google.colaboratory.intrinsic+json": {
              "type": "dataframe",
              "variable_name": "df"
            }
          },
          "metadata": {},
          "execution_count": 10
        }
      ]
    },
    {
      "cell_type": "code",
      "source": [
        "df.info()"
      ],
      "metadata": {
        "colab": {
          "base_uri": "https://localhost:8080/",
          "height": 0
        },
        "id": "2kwplqXBNOb4",
        "outputId": "3e6744c2-e184-4489-c1b1-eefe66912567"
      },
      "execution_count": 11,
      "outputs": [
        {
          "output_type": "stream",
          "name": "stdout",
          "text": [
            "<class 'pandas.core.frame.DataFrame'>\n",
            "RangeIndex: 4760 entries, 0 to 4759\n",
            "Data columns (total 21 columns):\n",
            " #   Column                    Non-Null Count  Dtype  \n",
            "---  ------                    --------------  -----  \n",
            " 0   Movie_ID                  4760 non-null   int64  \n",
            " 1   Movie_Title               4760 non-null   object \n",
            " 2   Movie_Genre               4760 non-null   object \n",
            " 3   Movie_Language            4760 non-null   object \n",
            " 4   Movie_Budget              4760 non-null   int64  \n",
            " 5   Movie_Popularity          4760 non-null   float64\n",
            " 6   Movie_Release_Date        4760 non-null   object \n",
            " 7   Movie_Revenue             4760 non-null   int64  \n",
            " 8   Movie_Runtime             4758 non-null   float64\n",
            " 9   Movie_Vote                4760 non-null   float64\n",
            " 10  Movie_Vote_Count          4760 non-null   int64  \n",
            " 11  Movie_Homepage            1699 non-null   object \n",
            " 12  Movie_Keywords            4373 non-null   object \n",
            " 13  Movie_Overview            4757 non-null   object \n",
            " 14  Movie_Production_House    4760 non-null   object \n",
            " 15  Movie_Production_Country  4760 non-null   object \n",
            " 16  Movie_Spoken_Language     4760 non-null   object \n",
            " 17  Movie_Tagline             3942 non-null   object \n",
            " 18  Movie_Cast                4733 non-null   object \n",
            " 19  Movie_Crew                4760 non-null   object \n",
            " 20  Movie_Director            4738 non-null   object \n",
            "dtypes: float64(3), int64(4), object(14)\n",
            "memory usage: 781.1+ KB\n"
          ]
        }
      ]
    },
    {
      "cell_type": "code",
      "source": [
        "df.shape"
      ],
      "metadata": {
        "colab": {
          "base_uri": "https://localhost:8080/",
          "height": 0
        },
        "id": "gLbMW3G8Nb_d",
        "outputId": "78a20ff8-1c58-440b-bfa9-bf428ab5294c"
      },
      "execution_count": 11,
      "outputs": [
        {
          "output_type": "execute_result",
          "data": {
            "text/plain": [
              "(4760, 21)"
            ]
          },
          "metadata": {},
          "execution_count": 11
        }
      ]
    },
    {
      "cell_type": "code",
      "source": [
        "df.columns"
      ],
      "metadata": {
        "colab": {
          "base_uri": "https://localhost:8080/",
          "height": 0
        },
        "id": "eTQ6m4jYNs-7",
        "outputId": "14a3e3df-10f8-4188-b62c-73d5de45ad6d"
      },
      "execution_count": 12,
      "outputs": [
        {
          "output_type": "execute_result",
          "data": {
            "text/plain": [
              "Index(['Movie_ID', 'Movie_Title', 'Movie_Genre', 'Movie_Language',\n",
              "       'Movie_Budget', 'Movie_Popularity', 'Movie_Release_Date',\n",
              "       'Movie_Revenue', 'Movie_Runtime', 'Movie_Vote', 'Movie_Vote_Count',\n",
              "       'Movie_Homepage', 'Movie_Keywords', 'Movie_Overview',\n",
              "       'Movie_Production_House', 'Movie_Production_Country',\n",
              "       'Movie_Spoken_Language', 'Movie_Tagline', 'Movie_Cast', 'Movie_Crew',\n",
              "       'Movie_Director'],\n",
              "      dtype='object')"
            ]
          },
          "metadata": {},
          "execution_count": 12
        }
      ]
    },
    {
      "cell_type": "code",
      "source": [
        "df_features = df[['Movie_Genre','Movie_Keywords','Movie_Tagline','Movie_Cast','Movie_Director']].fillna('')"
      ],
      "metadata": {
        "id": "qIDrTUD8N1_J"
      },
      "execution_count": 14,
      "outputs": []
    },
    {
      "cell_type": "code",
      "source": [
        "df_features.shape"
      ],
      "metadata": {
        "colab": {
          "base_uri": "https://localhost:8080/",
          "height": 0
        },
        "id": "k455Tz6VOzAN",
        "outputId": "bd5aa5a9-4a17-4ae4-f43e-981b85565823"
      },
      "execution_count": 15,
      "outputs": [
        {
          "output_type": "execute_result",
          "data": {
            "text/plain": [
              "(4760, 5)"
            ]
          },
          "metadata": {},
          "execution_count": 15
        }
      ]
    },
    {
      "cell_type": "code",
      "source": [
        "df_features"
      ],
      "metadata": {
        "colab": {
          "base_uri": "https://localhost:8080/",
          "height": 580
        },
        "id": "Q08KoXdwO2v-",
        "outputId": "6a5dafe6-f3a1-413a-f7f7-54c9c783d1b9"
      },
      "execution_count": 16,
      "outputs": [
        {
          "output_type": "execute_result",
          "data": {
            "text/plain": [
              "                           Movie_Genre  \\\n",
              "0                         Crime Comedy   \n",
              "1     Adventure Action Science Fiction   \n",
              "2                     Animation Family   \n",
              "3                 Comedy Drama Romance   \n",
              "4                                Drama   \n",
              "...                                ...   \n",
              "4755                            Horror   \n",
              "4756               Comedy Family Drama   \n",
              "4757                    Thriller Drama   \n",
              "4758                            Family   \n",
              "4759                       Documentary   \n",
              "\n",
              "                                         Movie_Keywords  \\\n",
              "0             hotel new year's eve witch bet hotel room   \n",
              "1           android galaxy hermit death star lightsaber   \n",
              "2     father son relationship harbor underwater fish...   \n",
              "3     vietnam veteran hippie mentally disabled runni...   \n",
              "4     male nudity female nudity adultery midlife cri...   \n",
              "...                                                 ...   \n",
              "4755                                                      \n",
              "4756                                                      \n",
              "4757                     christian film sex trafficking   \n",
              "4758                                                      \n",
              "4759  music actors legendary perfomer classic hollyw...   \n",
              "\n",
              "                                          Movie_Tagline  \\\n",
              "0     Twelve outrageous guests. Four scandalous requ...   \n",
              "1          A long time ago in a galaxy far, far away...   \n",
              "2     There are 3.7 trillion fish in the ocean, they...   \n",
              "3     The world will never be the same, once you've ...   \n",
              "4                                          Look closer.   \n",
              "...                                                 ...   \n",
              "4755                The hot spot where Satan's waitin'.   \n",
              "4756           It’s better to stand out than to fit in.   \n",
              "4757           She never knew it could happen to her...   \n",
              "4758                                                      \n",
              "4759                                                      \n",
              "\n",
              "                                             Movie_Cast     Movie_Director  \n",
              "0     Tim Roth Antonio Banderas Jennifer Beals Madon...     Allison Anders  \n",
              "1     Mark Hamill Harrison Ford Carrie Fisher Peter ...       George Lucas  \n",
              "2     Albert Brooks Ellen DeGeneres Alexander Gould ...     Andrew Stanton  \n",
              "3     Tom Hanks Robin Wright Gary Sinise Mykelti Wil...    Robert Zemeckis  \n",
              "4     Kevin Spacey Annette Bening Thora Birch Wes Be...         Sam Mendes  \n",
              "...                                                 ...                ...  \n",
              "4755  Lisa Hart Carroll Michael Des Barres Paul Drak...         Pece Dingo  \n",
              "4756  Roni Akurati Brighton Sharbino Jason Lee Anjul...       Frank Lotito  \n",
              "4757  Nicole Smolen Kim Baldwin Ariana Stephens Brys...       Jaco Booyens  \n",
              "4758                                                                        \n",
              "4759                                    Tony Oppedisano  Simon Napier-Bell  \n",
              "\n",
              "[4760 rows x 5 columns]"
            ],
            "text/html": [
              "\n",
              "  <div id=\"df-bea41480-77d2-44c8-91c6-0e26fe45b09f\" class=\"colab-df-container\">\n",
              "    <div>\n",
              "<style scoped>\n",
              "    .dataframe tbody tr th:only-of-type {\n",
              "        vertical-align: middle;\n",
              "    }\n",
              "\n",
              "    .dataframe tbody tr th {\n",
              "        vertical-align: top;\n",
              "    }\n",
              "\n",
              "    .dataframe thead th {\n",
              "        text-align: right;\n",
              "    }\n",
              "</style>\n",
              "<table border=\"1\" class=\"dataframe\">\n",
              "  <thead>\n",
              "    <tr style=\"text-align: right;\">\n",
              "      <th></th>\n",
              "      <th>Movie_Genre</th>\n",
              "      <th>Movie_Keywords</th>\n",
              "      <th>Movie_Tagline</th>\n",
              "      <th>Movie_Cast</th>\n",
              "      <th>Movie_Director</th>\n",
              "    </tr>\n",
              "  </thead>\n",
              "  <tbody>\n",
              "    <tr>\n",
              "      <th>0</th>\n",
              "      <td>Crime Comedy</td>\n",
              "      <td>hotel new year's eve witch bet hotel room</td>\n",
              "      <td>Twelve outrageous guests. Four scandalous requ...</td>\n",
              "      <td>Tim Roth Antonio Banderas Jennifer Beals Madon...</td>\n",
              "      <td>Allison Anders</td>\n",
              "    </tr>\n",
              "    <tr>\n",
              "      <th>1</th>\n",
              "      <td>Adventure Action Science Fiction</td>\n",
              "      <td>android galaxy hermit death star lightsaber</td>\n",
              "      <td>A long time ago in a galaxy far, far away...</td>\n",
              "      <td>Mark Hamill Harrison Ford Carrie Fisher Peter ...</td>\n",
              "      <td>George Lucas</td>\n",
              "    </tr>\n",
              "    <tr>\n",
              "      <th>2</th>\n",
              "      <td>Animation Family</td>\n",
              "      <td>father son relationship harbor underwater fish...</td>\n",
              "      <td>There are 3.7 trillion fish in the ocean, they...</td>\n",
              "      <td>Albert Brooks Ellen DeGeneres Alexander Gould ...</td>\n",
              "      <td>Andrew Stanton</td>\n",
              "    </tr>\n",
              "    <tr>\n",
              "      <th>3</th>\n",
              "      <td>Comedy Drama Romance</td>\n",
              "      <td>vietnam veteran hippie mentally disabled runni...</td>\n",
              "      <td>The world will never be the same, once you've ...</td>\n",
              "      <td>Tom Hanks Robin Wright Gary Sinise Mykelti Wil...</td>\n",
              "      <td>Robert Zemeckis</td>\n",
              "    </tr>\n",
              "    <tr>\n",
              "      <th>4</th>\n",
              "      <td>Drama</td>\n",
              "      <td>male nudity female nudity adultery midlife cri...</td>\n",
              "      <td>Look closer.</td>\n",
              "      <td>Kevin Spacey Annette Bening Thora Birch Wes Be...</td>\n",
              "      <td>Sam Mendes</td>\n",
              "    </tr>\n",
              "    <tr>\n",
              "      <th>...</th>\n",
              "      <td>...</td>\n",
              "      <td>...</td>\n",
              "      <td>...</td>\n",
              "      <td>...</td>\n",
              "      <td>...</td>\n",
              "    </tr>\n",
              "    <tr>\n",
              "      <th>4755</th>\n",
              "      <td>Horror</td>\n",
              "      <td></td>\n",
              "      <td>The hot spot where Satan's waitin'.</td>\n",
              "      <td>Lisa Hart Carroll Michael Des Barres Paul Drak...</td>\n",
              "      <td>Pece Dingo</td>\n",
              "    </tr>\n",
              "    <tr>\n",
              "      <th>4756</th>\n",
              "      <td>Comedy Family Drama</td>\n",
              "      <td></td>\n",
              "      <td>It’s better to stand out than to fit in.</td>\n",
              "      <td>Roni Akurati Brighton Sharbino Jason Lee Anjul...</td>\n",
              "      <td>Frank Lotito</td>\n",
              "    </tr>\n",
              "    <tr>\n",
              "      <th>4757</th>\n",
              "      <td>Thriller Drama</td>\n",
              "      <td>christian film sex trafficking</td>\n",
              "      <td>She never knew it could happen to her...</td>\n",
              "      <td>Nicole Smolen Kim Baldwin Ariana Stephens Brys...</td>\n",
              "      <td>Jaco Booyens</td>\n",
              "    </tr>\n",
              "    <tr>\n",
              "      <th>4758</th>\n",
              "      <td>Family</td>\n",
              "      <td></td>\n",
              "      <td></td>\n",
              "      <td></td>\n",
              "      <td></td>\n",
              "    </tr>\n",
              "    <tr>\n",
              "      <th>4759</th>\n",
              "      <td>Documentary</td>\n",
              "      <td>music actors legendary perfomer classic hollyw...</td>\n",
              "      <td></td>\n",
              "      <td>Tony Oppedisano</td>\n",
              "      <td>Simon Napier-Bell</td>\n",
              "    </tr>\n",
              "  </tbody>\n",
              "</table>\n",
              "<p>4760 rows × 5 columns</p>\n",
              "</div>\n",
              "    <div class=\"colab-df-buttons\">\n",
              "\n",
              "  <div class=\"colab-df-container\">\n",
              "    <button class=\"colab-df-convert\" onclick=\"convertToInteractive('df-bea41480-77d2-44c8-91c6-0e26fe45b09f')\"\n",
              "            title=\"Convert this dataframe to an interactive table.\"\n",
              "            style=\"display:none;\">\n",
              "\n",
              "  <svg xmlns=\"http://www.w3.org/2000/svg\" height=\"24px\" viewBox=\"0 -960 960 960\">\n",
              "    <path d=\"M120-120v-720h720v720H120Zm60-500h600v-160H180v160Zm220 220h160v-160H400v160Zm0 220h160v-160H400v160ZM180-400h160v-160H180v160Zm440 0h160v-160H620v160ZM180-180h160v-160H180v160Zm440 0h160v-160H620v160Z\"/>\n",
              "  </svg>\n",
              "    </button>\n",
              "\n",
              "  <style>\n",
              "    .colab-df-container {\n",
              "      display:flex;\n",
              "      gap: 12px;\n",
              "    }\n",
              "\n",
              "    .colab-df-convert {\n",
              "      background-color: #E8F0FE;\n",
              "      border: none;\n",
              "      border-radius: 50%;\n",
              "      cursor: pointer;\n",
              "      display: none;\n",
              "      fill: #1967D2;\n",
              "      height: 32px;\n",
              "      padding: 0 0 0 0;\n",
              "      width: 32px;\n",
              "    }\n",
              "\n",
              "    .colab-df-convert:hover {\n",
              "      background-color: #E2EBFA;\n",
              "      box-shadow: 0px 1px 2px rgba(60, 64, 67, 0.3), 0px 1px 3px 1px rgba(60, 64, 67, 0.15);\n",
              "      fill: #174EA6;\n",
              "    }\n",
              "\n",
              "    .colab-df-buttons div {\n",
              "      margin-bottom: 4px;\n",
              "    }\n",
              "\n",
              "    [theme=dark] .colab-df-convert {\n",
              "      background-color: #3B4455;\n",
              "      fill: #D2E3FC;\n",
              "    }\n",
              "\n",
              "    [theme=dark] .colab-df-convert:hover {\n",
              "      background-color: #434B5C;\n",
              "      box-shadow: 0px 1px 3px 1px rgba(0, 0, 0, 0.15);\n",
              "      filter: drop-shadow(0px 1px 2px rgba(0, 0, 0, 0.3));\n",
              "      fill: #FFFFFF;\n",
              "    }\n",
              "  </style>\n",
              "\n",
              "    <script>\n",
              "      const buttonEl =\n",
              "        document.querySelector('#df-bea41480-77d2-44c8-91c6-0e26fe45b09f button.colab-df-convert');\n",
              "      buttonEl.style.display =\n",
              "        google.colab.kernel.accessAllowed ? 'block' : 'none';\n",
              "\n",
              "      async function convertToInteractive(key) {\n",
              "        const element = document.querySelector('#df-bea41480-77d2-44c8-91c6-0e26fe45b09f');\n",
              "        const dataTable =\n",
              "          await google.colab.kernel.invokeFunction('convertToInteractive',\n",
              "                                                    [key], {});\n",
              "        if (!dataTable) return;\n",
              "\n",
              "        const docLinkHtml = 'Like what you see? Visit the ' +\n",
              "          '<a target=\"_blank\" href=https://colab.research.google.com/notebooks/data_table.ipynb>data table notebook</a>'\n",
              "          + ' to learn more about interactive tables.';\n",
              "        element.innerHTML = '';\n",
              "        dataTable['output_type'] = 'display_data';\n",
              "        await google.colab.output.renderOutput(dataTable, element);\n",
              "        const docLink = document.createElement('div');\n",
              "        docLink.innerHTML = docLinkHtml;\n",
              "        element.appendChild(docLink);\n",
              "      }\n",
              "    </script>\n",
              "  </div>\n",
              "\n",
              "\n",
              "<div id=\"df-e12e86ae-a7a6-468b-a62f-8040750f9e20\">\n",
              "  <button class=\"colab-df-quickchart\" onclick=\"quickchart('df-e12e86ae-a7a6-468b-a62f-8040750f9e20')\"\n",
              "            title=\"Suggest charts\"\n",
              "            style=\"display:none;\">\n",
              "\n",
              "<svg xmlns=\"http://www.w3.org/2000/svg\" height=\"24px\"viewBox=\"0 0 24 24\"\n",
              "     width=\"24px\">\n",
              "    <g>\n",
              "        <path d=\"M19 3H5c-1.1 0-2 .9-2 2v14c0 1.1.9 2 2 2h14c1.1 0 2-.9 2-2V5c0-1.1-.9-2-2-2zM9 17H7v-7h2v7zm4 0h-2V7h2v10zm4 0h-2v-4h2v4z\"/>\n",
              "    </g>\n",
              "</svg>\n",
              "  </button>\n",
              "\n",
              "<style>\n",
              "  .colab-df-quickchart {\n",
              "      --bg-color: #E8F0FE;\n",
              "      --fill-color: #1967D2;\n",
              "      --hover-bg-color: #E2EBFA;\n",
              "      --hover-fill-color: #174EA6;\n",
              "      --disabled-fill-color: #AAA;\n",
              "      --disabled-bg-color: #DDD;\n",
              "  }\n",
              "\n",
              "  [theme=dark] .colab-df-quickchart {\n",
              "      --bg-color: #3B4455;\n",
              "      --fill-color: #D2E3FC;\n",
              "      --hover-bg-color: #434B5C;\n",
              "      --hover-fill-color: #FFFFFF;\n",
              "      --disabled-bg-color: #3B4455;\n",
              "      --disabled-fill-color: #666;\n",
              "  }\n",
              "\n",
              "  .colab-df-quickchart {\n",
              "    background-color: var(--bg-color);\n",
              "    border: none;\n",
              "    border-radius: 50%;\n",
              "    cursor: pointer;\n",
              "    display: none;\n",
              "    fill: var(--fill-color);\n",
              "    height: 32px;\n",
              "    padding: 0;\n",
              "    width: 32px;\n",
              "  }\n",
              "\n",
              "  .colab-df-quickchart:hover {\n",
              "    background-color: var(--hover-bg-color);\n",
              "    box-shadow: 0 1px 2px rgba(60, 64, 67, 0.3), 0 1px 3px 1px rgba(60, 64, 67, 0.15);\n",
              "    fill: var(--button-hover-fill-color);\n",
              "  }\n",
              "\n",
              "  .colab-df-quickchart-complete:disabled,\n",
              "  .colab-df-quickchart-complete:disabled:hover {\n",
              "    background-color: var(--disabled-bg-color);\n",
              "    fill: var(--disabled-fill-color);\n",
              "    box-shadow: none;\n",
              "  }\n",
              "\n",
              "  .colab-df-spinner {\n",
              "    border: 2px solid var(--fill-color);\n",
              "    border-color: transparent;\n",
              "    border-bottom-color: var(--fill-color);\n",
              "    animation:\n",
              "      spin 1s steps(1) infinite;\n",
              "  }\n",
              "\n",
              "  @keyframes spin {\n",
              "    0% {\n",
              "      border-color: transparent;\n",
              "      border-bottom-color: var(--fill-color);\n",
              "      border-left-color: var(--fill-color);\n",
              "    }\n",
              "    20% {\n",
              "      border-color: transparent;\n",
              "      border-left-color: var(--fill-color);\n",
              "      border-top-color: var(--fill-color);\n",
              "    }\n",
              "    30% {\n",
              "      border-color: transparent;\n",
              "      border-left-color: var(--fill-color);\n",
              "      border-top-color: var(--fill-color);\n",
              "      border-right-color: var(--fill-color);\n",
              "    }\n",
              "    40% {\n",
              "      border-color: transparent;\n",
              "      border-right-color: var(--fill-color);\n",
              "      border-top-color: var(--fill-color);\n",
              "    }\n",
              "    60% {\n",
              "      border-color: transparent;\n",
              "      border-right-color: var(--fill-color);\n",
              "    }\n",
              "    80% {\n",
              "      border-color: transparent;\n",
              "      border-right-color: var(--fill-color);\n",
              "      border-bottom-color: var(--fill-color);\n",
              "    }\n",
              "    90% {\n",
              "      border-color: transparent;\n",
              "      border-bottom-color: var(--fill-color);\n",
              "    }\n",
              "  }\n",
              "</style>\n",
              "\n",
              "  <script>\n",
              "    async function quickchart(key) {\n",
              "      const quickchartButtonEl =\n",
              "        document.querySelector('#' + key + ' button');\n",
              "      quickchartButtonEl.disabled = true;  // To prevent multiple clicks.\n",
              "      quickchartButtonEl.classList.add('colab-df-spinner');\n",
              "      try {\n",
              "        const charts = await google.colab.kernel.invokeFunction(\n",
              "            'suggestCharts', [key], {});\n",
              "      } catch (error) {\n",
              "        console.error('Error during call to suggestCharts:', error);\n",
              "      }\n",
              "      quickchartButtonEl.classList.remove('colab-df-spinner');\n",
              "      quickchartButtonEl.classList.add('colab-df-quickchart-complete');\n",
              "    }\n",
              "    (() => {\n",
              "      let quickchartButtonEl =\n",
              "        document.querySelector('#df-e12e86ae-a7a6-468b-a62f-8040750f9e20 button');\n",
              "      quickchartButtonEl.style.display =\n",
              "        google.colab.kernel.accessAllowed ? 'block' : 'none';\n",
              "    })();\n",
              "  </script>\n",
              "</div>\n",
              "\n",
              "  <div id=\"id_4772fd15-2835-4524-b98d-0f6cd5553ed3\">\n",
              "    <style>\n",
              "      .colab-df-generate {\n",
              "        background-color: #E8F0FE;\n",
              "        border: none;\n",
              "        border-radius: 50%;\n",
              "        cursor: pointer;\n",
              "        display: none;\n",
              "        fill: #1967D2;\n",
              "        height: 32px;\n",
              "        padding: 0 0 0 0;\n",
              "        width: 32px;\n",
              "      }\n",
              "\n",
              "      .colab-df-generate:hover {\n",
              "        background-color: #E2EBFA;\n",
              "        box-shadow: 0px 1px 2px rgba(60, 64, 67, 0.3), 0px 1px 3px 1px rgba(60, 64, 67, 0.15);\n",
              "        fill: #174EA6;\n",
              "      }\n",
              "\n",
              "      [theme=dark] .colab-df-generate {\n",
              "        background-color: #3B4455;\n",
              "        fill: #D2E3FC;\n",
              "      }\n",
              "\n",
              "      [theme=dark] .colab-df-generate:hover {\n",
              "        background-color: #434B5C;\n",
              "        box-shadow: 0px 1px 3px 1px rgba(0, 0, 0, 0.15);\n",
              "        filter: drop-shadow(0px 1px 2px rgba(0, 0, 0, 0.3));\n",
              "        fill: #FFFFFF;\n",
              "      }\n",
              "    </style>\n",
              "    <button class=\"colab-df-generate\" onclick=\"generateWithVariable('df_features')\"\n",
              "            title=\"Generate code using this dataframe.\"\n",
              "            style=\"display:none;\">\n",
              "\n",
              "  <svg xmlns=\"http://www.w3.org/2000/svg\" height=\"24px\"viewBox=\"0 0 24 24\"\n",
              "       width=\"24px\">\n",
              "    <path d=\"M7,19H8.4L18.45,9,17,7.55,7,17.6ZM5,21V16.75L18.45,3.32a2,2,0,0,1,2.83,0l1.4,1.43a1.91,1.91,0,0,1,.58,1.4,1.91,1.91,0,0,1-.58,1.4L9.25,21ZM18.45,9,17,7.55Zm-12,3A5.31,5.31,0,0,0,4.9,8.1,5.31,5.31,0,0,0,1,6.5,5.31,5.31,0,0,0,4.9,4.9,5.31,5.31,0,0,0,6.5,1,5.31,5.31,0,0,0,8.1,4.9,5.31,5.31,0,0,0,12,6.5,5.46,5.46,0,0,0,6.5,12Z\"/>\n",
              "  </svg>\n",
              "    </button>\n",
              "    <script>\n",
              "      (() => {\n",
              "      const buttonEl =\n",
              "        document.querySelector('#id_4772fd15-2835-4524-b98d-0f6cd5553ed3 button.colab-df-generate');\n",
              "      buttonEl.style.display =\n",
              "        google.colab.kernel.accessAllowed ? 'block' : 'none';\n",
              "\n",
              "      buttonEl.onclick = () => {\n",
              "        google.colab.notebook.generateWithVariable('df_features');\n",
              "      }\n",
              "      })();\n",
              "    </script>\n",
              "  </div>\n",
              "\n",
              "    </div>\n",
              "  </div>\n"
            ],
            "application/vnd.google.colaboratory.intrinsic+json": {
              "type": "dataframe",
              "variable_name": "df_features",
              "summary": "{\n  \"name\": \"df_features\",\n  \"rows\": 4760,\n  \"fields\": [\n    {\n      \"column\": \"Movie_Genre\",\n      \"properties\": {\n        \"dtype\": \"category\",\n        \"num_unique_values\": 1164,\n        \"samples\": [\n          \"Family Animation Adventure\",\n          \"Adventure Science Fiction Action\",\n          \"Action Crime Drama Romance Thriller\"\n        ],\n        \"semantic_type\": \"\",\n        \"description\": \"\"\n      }\n    },\n    {\n      \"column\": \"Movie_Keywords\",\n      \"properties\": {\n        \"dtype\": \"string\",\n        \"num_unique_values\": 4203,\n        \"samples\": [\n          \"canada nazis sequel spin off ancient evil\",\n          \"sex professor wedding woman director columbia university\",\n          \"prophecy sea beach gold small town\"\n        ],\n        \"semantic_type\": \"\",\n        \"description\": \"\"\n      }\n    },\n    {\n      \"column\": \"Movie_Tagline\",\n      \"properties\": {\n        \"dtype\": \"string\",\n        \"num_unique_values\": 3928,\n        \"samples\": [\n          \"The messenger must be silenced.\",\n          \"It's not the house that's haunted.\",\n          \"The final hunt begins.\"\n        ],\n        \"semantic_type\": \"\",\n        \"description\": \"\"\n      }\n    },\n    {\n      \"column\": \"Movie_Cast\",\n      \"properties\": {\n        \"dtype\": \"string\",\n        \"num_unique_values\": 4715,\n        \"samples\": [\n          \"Robin Tunney Fairuza Balk Neve Campbell Rachel True Skeet Ulrich\",\n          \"Peter Sellers Christopher Plummer Herbert Lom Catherine Schell Peter Arne\",\n          \"John Wayne Laraine Day Cedric Hardwicke Judith Anderson Anthony Quinn\"\n        ],\n        \"semantic_type\": \"\",\n        \"description\": \"\"\n      }\n    },\n    {\n      \"column\": \"Movie_Director\",\n      \"properties\": {\n        \"dtype\": \"category\",\n        \"num_unique_values\": 2332,\n        \"samples\": [\n          \"Rob McKittrick\",\n          \"Terron R. Parsons\",\n          \"Cyrus Nowrasteh\"\n        ],\n        \"semantic_type\": \"\",\n        \"description\": \"\"\n      }\n    }\n  ]\n}"
            }
          },
          "metadata": {},
          "execution_count": 16
        }
      ]
    },
    {
      "cell_type": "code",
      "source": [
        "X=df_features['Movie_Genre']+df_features['Movie_Keywords']+df_features['Movie_Tagline']+df_features['Movie_Cast']+df_features['Movie_Director']"
      ],
      "metadata": {
        "id": "qwyXBjodPvi6"
      },
      "execution_count": 17,
      "outputs": []
    },
    {
      "cell_type": "code",
      "source": [
        "  X"
      ],
      "metadata": {
        "colab": {
          "base_uri": "https://localhost:8080/",
          "height": 0
        },
        "id": "aZob493eP6l3",
        "outputId": "687764b3-4d54-4b55-9b9f-e43b7458b49f"
      },
      "execution_count": 18,
      "outputs": [
        {
          "output_type": "execute_result",
          "data": {
            "text/plain": [
              "0       Crime Comedyhotel new year's eve witch bet hot...\n",
              "1       Adventure Action Science Fictionandroid galaxy...\n",
              "2       Animation Familyfather son relationship harbor...\n",
              "3       Comedy Drama Romancevietnam veteran hippie men...\n",
              "4       Dramamale nudity female nudity adultery midlif...\n",
              "                              ...                        \n",
              "4755    HorrorThe hot spot where Satan's waitin'.Lisa ...\n",
              "4756    Comedy Family DramaIt’s better to stand out th...\n",
              "4757    Thriller Dramachristian film sex traffickingSh...\n",
              "4758                                               Family\n",
              "4759    Documentarymusic actors legendary perfomer cla...\n",
              "Length: 4760, dtype: object"
            ]
          },
          "metadata": {},
          "execution_count": 18
        }
      ]
    },
    {
      "cell_type": "code",
      "source": [
        "X.shape"
      ],
      "metadata": {
        "colab": {
          "base_uri": "https://localhost:8080/",
          "height": 0
        },
        "id": "r_VPD2KdPZ2k",
        "outputId": "263004e5-f5d9-403a-d416-9c83808628db"
      },
      "execution_count": 19,
      "outputs": [
        {
          "output_type": "execute_result",
          "data": {
            "text/plain": [
              "(4760,)"
            ]
          },
          "metadata": {},
          "execution_count": 19
        }
      ]
    },
    {
      "cell_type": "markdown",
      "source": [
        "GET FEATURES text conversion to TOKENS"
      ],
      "metadata": {
        "id": "tgrq2g3vQMR9"
      }
    },
    {
      "cell_type": "code",
      "source": [
        "from sklearn.feature_extraction.text import TfidfVectorizer\n"
      ],
      "metadata": {
        "id": "D_hkW8L9QbvV"
      },
      "execution_count": 20,
      "outputs": []
    },
    {
      "cell_type": "code",
      "source": [
        "tfidf=TfidfVectorizer()"
      ],
      "metadata": {
        "id": "StTpv_mqQnws"
      },
      "execution_count": 21,
      "outputs": []
    },
    {
      "cell_type": "code",
      "source": [
        "X=tfidf.fit_transform(X)"
      ],
      "metadata": {
        "id": "mPL1N6VdQt83"
      },
      "execution_count": 23,
      "outputs": []
    },
    {
      "cell_type": "code",
      "source": [
        "X.shape"
      ],
      "metadata": {
        "colab": {
          "base_uri": "https://localhost:8080/",
          "height": 0
        },
        "id": "pvTqWM2-Qz41",
        "outputId": "bd66c31a-aae9-4ada-810c-f5ea4c1b5adb"
      },
      "execution_count": 24,
      "outputs": [
        {
          "output_type": "execute_result",
          "data": {
            "text/plain": [
              "(4760, 27466)"
            ]
          },
          "metadata": {},
          "execution_count": 24
        }
      ]
    },
    {
      "cell_type": "code",
      "source": [
        "print(X)"
      ],
      "metadata": {
        "colab": {
          "base_uri": "https://localhost:8080/",
          "height": 0
        },
        "id": "uZYeoTGeQ9Vy",
        "outputId": "f06ee0f8-ddf9-4468-8921-77efd8170fa2"
      },
      "execution_count": 25,
      "outputs": [
        {
          "output_type": "stream",
          "name": "stdout",
          "text": [
            "  (0, 1028)\t0.16196019146631543\n",
            "  (0, 24785)\t0.1954632929283795\n",
            "  (0, 15844)\t0.14205053053187272\n",
            "  (0, 15553)\t0.17099186675469502\n",
            "  (0, 2132)\t0.18002354204307464\n",
            "  (0, 13312)\t0.09914387783149516\n",
            "  (0, 1887)\t0.14106037409792174\n",
            "  (0, 1216)\t0.13920306109638164\n",
            "  (0, 21158)\t0.14205053053187272\n",
            "  (0, 24701)\t0.11357423942624927\n",
            "  (0, 14943)\t0.091376722056839\n",
            "  (0, 18098)\t0.06200430666985742\n",
            "  (0, 26738)\t0.175053052455033\n",
            "  (0, 9790)\t0.08712552095655665\n",
            "  (0, 26675)\t0.1116831168780693\n",
            "  (0, 13401)\t0.13748876529263096\n",
            "  (0, 24105)\t0.10726395493180996\n",
            "  (0, 18192)\t0.07278761942152372\n",
            "  (0, 6172)\t0.11970212451073885\n",
            "  (0, 9626)\t0.11757910435818826\n",
            "  (0, 11960)\t0.20134029899961134\n",
            "  (0, 12801)\t0.1530338818199682\n",
            "  (0, 2292)\t0.1954632929283795\n",
            "  (0, 15172)\t0.1537691763994982\n",
            "  (0, 18196)\t0.08579029869987485\n",
            "  :\t:\n",
            "  (4757, 1839)\t0.19327629083107672\n",
            "  (4757, 5410)\t0.19734759150400596\n",
            "  (4757, 11350)\t0.21582294886514122\n",
            "  (4757, 22017)\t0.1646400247918531\n",
            "  (4757, 17789)\t0.18881341937258544\n",
            "  (4757, 9484)\t0.1411164779725638\n",
            "  (4757, 14176)\t0.2330831990045816\n",
            "  (4757, 11762)\t0.17321388936472645\n",
            "  (4757, 14052)\t0.1776312353410007\n",
            "  (4757, 24232)\t0.10947784435203887\n",
            "  (4757, 24746)\t0.09744940789814222\n",
            "  (4757, 13079)\t0.12400374714145113\n",
            "  (4757, 17721)\t0.1489085353667712\n",
            "  (4758, 8651)\t1.0\n",
            "  (4759, 18229)\t0.33527342183765224\n",
            "  (4759, 22434)\t0.33527342183765224\n",
            "  (4759, 18841)\t0.33527342183765224\n",
            "  (4759, 6950)\t0.33527342183765224\n",
            "  (4759, 345)\t0.31978160936741457\n",
            "  (4759, 14742)\t0.31978160936741457\n",
            "  (4759, 12139)\t0.2778063685558062\n",
            "  (4759, 4446)\t0.282306565154911\n",
            "  (4759, 17552)\t0.3087899934962816\n",
            "  (4759, 9955)\t0.21805075638656476\n",
            "  (4759, 2285)\t0.21465229435984196\n"
          ]
        }
      ]
    },
    {
      "cell_type": "markdown",
      "source": [
        "**Get similarity Score using cosine similarity**\n",
        "it computes the L2 normalized dot product of the vectors."
      ],
      "metadata": {
        "id": "6XimgdK8RLzw"
      }
    },
    {
      "cell_type": "code",
      "source": [
        "from sklearn.metrics.pairwise import cosine_similarity"
      ],
      "metadata": {
        "id": "yi3RizQ5V5OI"
      },
      "execution_count": 26,
      "outputs": []
    },
    {
      "cell_type": "code",
      "source": [
        "similarity_score=cosine_similarity(X)"
      ],
      "metadata": {
        "id": "Ic2glLCDZTyP"
      },
      "execution_count": 30,
      "outputs": []
    },
    {
      "cell_type": "code",
      "source": [
        "similarity_score"
      ],
      "metadata": {
        "colab": {
          "base_uri": "https://localhost:8080/",
          "height": 0
        },
        "id": "b0pCCDI5WFIt",
        "outputId": "db43166d-98c9-499f-ff50-1f3efc832a8b"
      },
      "execution_count": 31,
      "outputs": [
        {
          "output_type": "execute_result",
          "data": {
            "text/plain": [
              "array([[1.        , 0.25360116, 0.34443767, ..., 0.19253342, 0.13047919,\n",
              "        0.02508402],\n",
              "       [0.25360116, 1.        , 0.19083396, ..., 0.14049463, 0.10941914,\n",
              "        0.02517242],\n",
              "       [0.34443767, 0.19083396, 1.        , ..., 0.13998158, 0.1321534 ,\n",
              "        0.0188744 ],\n",
              "       ...,\n",
              "       [0.19253342, 0.14049463, 0.13998158, ..., 1.        , 0.06553585,\n",
              "        0.02083597],\n",
              "       [0.13047919, 0.10941914, 0.1321534 , ..., 0.06553585, 1.        ,\n",
              "        0.01378641],\n",
              "       [0.02508402, 0.02517242, 0.0188744 , ..., 0.02083597, 0.01378641,\n",
              "        1.        ]])"
            ]
          },
          "metadata": {},
          "execution_count": 31
        }
      ]
    },
    {
      "cell_type": "code",
      "source": [
        "similarity_score.shape"
      ],
      "metadata": {
        "colab": {
          "base_uri": "https://localhost:8080/",
          "height": 0
        },
        "id": "iuayY9lQWIV-",
        "outputId": "bc9cb91d-c59c-4ad7-8d3f-491c94d1f556"
      },
      "execution_count": 32,
      "outputs": [
        {
          "output_type": "execute_result",
          "data": {
            "text/plain": [
              "(4760, 4760)"
            ]
          },
          "metadata": {},
          "execution_count": 32
        }
      ]
    },
    {
      "cell_type": "markdown",
      "source": [
        "#**Get movie names as inpurt from user and validate for clossest **"
      ],
      "metadata": {
        "id": "k_8YHMbJbG9q"
      }
    },
    {
      "cell_type": "code",
      "source": [
        "favourtie_movie_name=input(\"Enter your favourite movie name:\")"
      ],
      "metadata": {
        "colab": {
          "base_uri": "https://localhost:8080/",
          "height": 0
        },
        "id": "uYX0vFr6b23y",
        "outputId": "8e8bce35-49be-41d1-8637-c7a094d14c74"
      },
      "execution_count": 55,
      "outputs": [
        {
          "name": "stdout",
          "output_type": "stream",
          "text": [
            "Enter your favourite movie name:avtaar\n"
          ]
        }
      ]
    },
    {
      "cell_type": "code",
      "source": [
        "all_movie_title_list=df['Movie_Title'].tolist() #convert to list"
      ],
      "metadata": {
        "id": "jrWnS8B9XF-o"
      },
      "execution_count": 56,
      "outputs": []
    },
    {
      "cell_type": "code",
      "source": [
        "import difflib"
      ],
      "metadata": {
        "id": "-pTQfR6iXNQw"
      },
      "execution_count": 57,
      "outputs": []
    },
    {
      "cell_type": "code",
      "source": [
        "movie_recommondation=difflib.get_close_matches(favourtie_movie_name,all_movie_title_list)\n",
        "print(movie_recommondation)"
      ],
      "metadata": {
        "colab": {
          "base_uri": "https://localhost:8080/",
          "height": 0
        },
        "id": "VV4QuhKHXRm2",
        "outputId": "92f9051c-3311-4512-b39e-af5d18c5465b"
      },
      "execution_count": 58,
      "outputs": [
        {
          "output_type": "stream",
          "name": "stdout",
          "text": [
            "['Avatar', 'Gattaca']\n"
          ]
        }
      ]
    },
    {
      "cell_type": "code",
      "source": [
        "close_match=movie_recommondation[0]\n",
        "print(close_match)"
      ],
      "metadata": {
        "colab": {
          "base_uri": "https://localhost:8080/",
          "height": 0
        },
        "id": "hPF2ShhgYjyN",
        "outputId": "49d7122f-0bd5-4258-bab7-e97899fa513e"
      },
      "execution_count": 59,
      "outputs": [
        {
          "output_type": "stream",
          "name": "stdout",
          "text": [
            "Avatar\n"
          ]
        }
      ]
    },
    {
      "cell_type": "code",
      "source": [
        "\n",
        "index_of_close_match_movie=df[df.Movie_Title==close_match]['Movie_ID'].values[0]\n",
        "print(index_of_close_match_movie)"
      ],
      "metadata": {
        "colab": {
          "base_uri": "https://localhost:8080/",
          "height": 0
        },
        "id": "ENjYYwTqdvNi",
        "outputId": "df2fc53e-779e-48ac-aa50-02056ec6ab20"
      },
      "execution_count": 60,
      "outputs": [
        {
          "output_type": "stream",
          "name": "stdout",
          "text": [
            "2692\n"
          ]
        }
      ]
    },
    {
      "cell_type": "code",
      "source": [
        "recommendation_score=list(enumerate(similarity_score[index_of_close_match_movie]))\n",
        "print(recommendation_score)"
      ],
      "metadata": {
        "colab": {
          "base_uri": "https://localhost:8080/",
          "height": 0
        },
        "id": "aKlDiWiYd3oO",
        "outputId": "61e409db-862a-4bbd-993b-76cc37fe7b2f"
      },
      "execution_count": 61,
      "outputs": [
        {
          "output_type": "stream",
          "name": "stdout",
          "text": [
            "[(0, 0.23790792265042082), (1, 0.12357119873620936), (2, 0.14656893534066204), (3, 0.23671980574808882), (4, 0.07620402834691764), (5, 0.17401381492583787), (6, 0.1634932525818463), (7, 0.21699825142772947), (8, 0.11516927441480249), (9, 0.16954396779048514), (10, 0.1070338228926741), (11, 0.15004793718616286), (12, 0.15405991181059442), (13, 0.1455747832424252), (14, 0.1382501936934511), (15, 0.2427138303074334), (16, 0.09696326510348105), (17, 0.08976901336520293), (18, 0.16539707480160118), (19, 0.1960303887910129), (20, 0.09091876600369052), (21, 0.1491129578427075), (22, 0.15668530137851133), (23, 0.11929943465551478), (24, 0.14321641749379915), (25, 0.2556238673491243), (26, 0.07868493894698589), (27, 0.11493100202252357), (28, 0.16045129463254257), (29, 0.2020286655999628), (30, 0.09314945802841955), (31, 0.14604740204603495), (32, 0.20354978927937378), (33, 0.1939931573760841), (34, 0.13598001740693835), (35, 0.20995091360722745), (36, 0.1088345950389684), (37, 0.17955905604481995), (38, 0.13156247169058094), (39, 0.1656561003553952), (40, 0.15600862592308104), (41, 0.1399006184372499), (42, 0.07817295435745593), (43, 0.18790904111750223), (44, 0.2693718507165974), (45, 0.2058685013939285), (46, 0.17033949194193992), (47, 0.08299798470206365), (48, 0.20700650604799264), (49, 0.12766751667107262), (50, 0.09795811629112902), (51, 0.17022381597571395), (52, 0.1951829828223984), (53, 0.15536836031315862), (54, 0.09458137628779689), (55, 0.11141588342806871), (56, 0.1691116925333297), (57, 0.23197538548143498), (58, 0.09101923680775426), (59, 0.12337405784543116), (60, 0.1998648672106142), (61, 0.17565868115260053), (62, 0.2911044328465346), (63, 0.1887426293499249), (64, 0.126039891965979), (65, 0.14485230346422376), (66, 0.09892950718989706), (67, 0.2419186381152597), (68, 0.22716320368568219), (69, 0.12684053282529142), (70, 0.12414743383962962), (71, 0.13013372923788968), (72, 0.14654565465301997), (73, 0.13013129007042828), (74, 0.18443514098303324), (75, 0.19816500056936232), (76, 0.15812401649429883), (77, 0.1142222996204959), (78, 0.17319564335761026), (79, 0.19605058799034575), (80, 0.1085592675937286), (81, 0.12748744292735037), (82, 0.23157146211976712), (83, 0.18348402927508528), (84, 0.19315428277064797), (85, 0.24625117653997664), (86, 0.23355678866504412), (87, 0.1783536697330682), (88, 0.21844826632609046), (89, 0.20798968626877493), (90, 0.12230388931670458), (91, 0.1708405037430743), (92, 0.169937772740244), (93, 0.10595709884004288), (94, 0.1013460619510665), (95, 0.1022443118802182), (96, 0.20200833021263143), (97, 0.13868891910996095), (98, 0.09535107676453422), (99, 0.08127195066804338), (100, 0.07312358068418), (101, 0.12080531295661895), (102, 0.17234651273775625), (103, 0.09083478313470511), (104, 0.1998024318905551), (105, 0.18604131866849755), (106, 0.22638811507166332), (107, 0.12903398545499772), (108, 0.3078833897566312), (109, 0.24302830817543347), (110, 0.20721307069510808), (111, 0.15188968441948492), (112, 0.23927495455182357), (113, 0.2091843082394083), (114, 0.14237022598855553), (115, 0.14725648924866655), (116, 0.1864072167099429), (117, 0.10010191175440371), (118, 0.12896495043633516), (119, 0.19411400560999115), (120, 0.16232447171027214), (121, 0.17591314326945617), (122, 0.21457200381726524), (123, 0.2137404769675052), (124, 0.2716512756436948), (125, 0.1871576057507397), (126, 0.2224748805536513), (127, 0.1479332218717346), (128, 0.12179038752959148), (129, 0.15176648614475516), (130, 0.22186333481408058), (131, 0.1633954438886244), (132, 0.12275941527007957), (133, 0.03601142647689659), (134, 0.0488905337824576), (135, 0.1448792306081619), (136, 0.14853115340381928), (137, 0.25372308855877856), (138, 0.19907312151928735), (139, 0.08245446497411527), (140, 0.0690448417688335), (141, 0.07921100014043268), (142, 0.18307922604700633), (143, 0.10272910045022092), (144, 0.23015704423658773), (145, 0.17841880011907904), (146, 0.14601871551097148), (147, 0.21249573729375132), (148, 0.1816326416121846), (149, 0.18470542795180978), (150, 0.12877874584275595), (151, 0.10013487773586384), (152, 0.15633564656681273), (153, 0.11530470263619046), (154, 0.14969384399756214), (155, 0.1903951761039124), (156, 0.17738539399420475), (157, 0.05293036902667445), (158, 0.10784464990910998), (159, 0.13051976702909518), (160, 0.1724641681870056), (161, 0.2744472362996716), (162, 0.21040060700003693), (163, 0.0691177585215186), (164, 0.146774048631695), (165, 0.18374995935968388), (166, 0.263637995756911), (167, 0.1468171771373036), (168, 0.17132538555479523), (169, 0.1858779728597768), (170, 0.1996597024120717), (171, 0.11400689474053849), (172, 0.18776386713232684), (173, 0.1864634946495261), (174, 0.214243585516773), (175, 0.20464920147259702), (176, 0.11584335216143836), (177, 0.1434332651664242), (178, 0.16681525418715482), (179, 0.19682168466925457), (180, 0.15399897052835346), (181, 0.20047354079099963), (182, 0.2118705084555241), (183, 0.16189387091813373), (184, 0.17208783178441717), (185, 0.20479440770109703), (186, 0.11234862447566114), (187, 0.10683251776603588), (188, 0.10794047477439596), (189, 0.17472210500268145), (190, 0.13682989050010605), (191, 0.18867985588139544), (192, 0.18040501577976473), (193, 0.25723025396310606), (194, 0.14927926314581963), (195, 0.16247671487774715), (196, 0.13511331855142067), (197, 0.16792431192841106), (198, 0.17232021456848132), (199, 0.20425648236014668), (200, 0.12507990286350382), (201, 0.205030114574824), (202, 0.1907541586469648), (203, 0.1626845750639857), (204, 0.2072137498498178), (205, 0.08304167733516583), (206, 0.17570297017697079), (207, 0.15000402903245127), (208, 0.2001839576016272), (209, 0.17617581253748746), (210, 0.22614742562783013), (211, 0.12549497407729454), (212, 0.2136369275750379), (213, 0.1829603995546209), (214, 0.14942260535317775), (215, 0.17774864187194958), (216, 0.16155422151165552), (217, 0.15432621419229922), (218, 0.21399918373611426), (219, 0.1267029792873654), (220, 0.1281823325331738), (221, 0.1515538099381773), (222, 0.23099325532696596), (223, 0.1239522323957575), (224, 0.12055891329091402), (225, 0.1569842863632281), (226, 0.11098406597739323), (227, 0.17639103834643394), (228, 0.1929615043756358), (229, 0.06838933311146807), (230, 0.13193951100040963), (231, 0.22896464657731436), (232, 0.17777547030012156), (233, 0.12109903786593934), (234, 0.1264742130039748), (235, 0.0921817370188276), (236, 0.1759366439301564), (237, 0.18415737861033735), (238, 0.1460691008476026), (239, 0.1457108952057357), (240, 0.19380156331709916), (241, 0.12499060237893357), (242, 0.20445367875442164), (243, 0.17982572914419045), (244, 0.16087935472745082), (245, 0.08905770387009851), (246, 0.14698498352853137), (247, 0.12691693297780393), (248, 0.1265847148247272), (249, 0.1728896895464634), (250, 0.1929472993902982), (251, 0.24196492010678924), (252, 0.20521951677493094), (253, 0.12055564391680096), (254, 0.22188356354255248), (255, 0.13875075178027277), (256, 0.12903808313355689), (257, 0.14831880343356205), (258, 0.14454892988564208), (259, 0.15635836071473794), (260, 0.14891694189401455), (261, 0.1843178516425113), (262, 0.11048034710068554), (263, 0.2097814274248199), (264, 0.16807558052611793), (265, 0.07091417934181306), (266, 0.22289328708749173), (267, 0.0743821316218441), (268, 0.04077154945954718), (269, 0.29586463831194576), (270, 0.18568274680600305), (271, 0.2070206200035982), (272, 0.11582597947476336), (273, 0.16104617190407067), (274, 0.16016361224644315), (275, 0.10208510018348796), (276, 0.15601073978069618), (277, 0.20753056097705685), (278, 0.09327236824294637), (279, 0.17645153096539237), (280, 0.1899707554870587), (281, 0.11658622769682493), (282, 0.2396285232956084), (283, 0.1907619563088623), (284, 0.18033959859622561), (285, 0.1382446856636515), (286, 0.14224692301543904), (287, 0.2155544511993091), (288, 0.19134705599799046), (289, 0.08210932844880063), (290, 0.09849507470880978), (291, 0.13398000223746823), (292, 0.20669462996868368), (293, 0.10413844078958301), (294, 0.1428331838599133), (295, 0.12039323336355286), (296, 0.19655696398083752), (297, 0.1326121472574947), (298, 0.13683858758317266), (299, 0.11457251050049991), (300, 0.15929681692184347), (301, 0.17961185776165717), (302, 0.16294368871387588), (303, 0.13624961013697973), (304, 0.12698971092033542), (305, 0.11712060721464666), (306, 0.1625570882520075), (307, 0.21219698688718205), (308, 0.08380713990645458), (309, 0.1925686095506743), (310, 0.15915201101933482), (311, 0.09338487704916867), (312, 0.09753822940999146), (313, 0.12143539174725498), (314, 0.124027841332704), (315, 0.12402415954880554), (316, 0.0967845560092876), (317, 0.19641427764697125), (318, 0.11704499129720937), (319, 0.14321133976440337), (320, 0.12135395474557145), (321, 0.16341613695737203), (322, 0.19408301449892318), (323, 0.10868048896488214), (324, 0.17433928474737814), (325, 0.1500971096160476), (326, 0.10100621230572973), (327, 0.20412494233118672), (328, 0.2697154528409573), (329, 0.2053167324513515), (330, 0.26204606322894464), (331, 0.08236972473619424), (332, 0.18931792109669612), (333, 0.16406885760734616), (334, 0.24521003947968903), (335, 0.08966320161640008), (336, 0.19096495770210303), (337, 0.051998878652904326), (338, 0.12361718815917484), (339, 0.11935582251250362), (340, 0.14077354368924044), (341, 0.19357295408205222), (342, 0.22640782061283474), (343, 0.23942093695626382), (344, 0.148434729963488), (345, 0.2003001889072636), (346, 0.19457135853366142), (347, 0.15532765226052497), (348, 0.15964201373229034), (349, 0.142202667587515), (350, 0.1510729597545474), (351, 0.13102804597101425), (352, 0.13572035182256226), (353, 0.18060407051738084), (354, 0.1970391509977569), (355, 0.1774121934505569), (356, 0.22270776148185228), (357, 0.1926639029272006), (358, 0.2196093944771321), (359, 0.10176853695161144), (360, 0.1510726956698686), (361, 0.10493970868551042), (362, 0.11484826040969762), (363, 0.147076027530317), (364, 0.1811483996391413), (365, 0.10734081087388188), (366, 0.0858390056521991), (367, 0.11839278091213472), (368, 0.19819663823693529), (369, 0.18511780682178275), (370, 0.16250305565054018), (371, 0.2039829011965355), (372, 0.15619067464795097), (373, 0.1597175603935985), (374, 0.21710604279968124), (375, 0.1307517072120043), (376, 0.1244088735629508), (377, 0.15891442942054115), (378, 0.09209377822588861), (379, 0.11008919200407241), (380, 0.1339938421146815), (381, 0.18260710045837045), (382, 0.10726475035567709), (383, 0.1371602458662604), (384, 0.18313731536165986), (385, 0.15955513546529662), (386, 0.1740616332895019), (387, 0.18682151244575657), (388, 0.16080669360546934), (389, 0.13943563951923257), (390, 0.12690370646331103), (391, 0.08189791214514859), (392, 0.09413848669134883), (393, 0.04443916798325978), (394, 0.11910879073384034), (395, 0.12614031653956997), (396, 0.12331825092343199), (397, 0.13370881679966984), (398, 0.12073972896999101), (399, 0.10635520373381717), (400, 0.1198922120044029), (401, 0.12362560143929521), (402, 0.1456282103014948), (403, 0.19808638263911363), (404, 0.11212625734670441), (405, 0.13075001405811165), (406, 0.17797134198752393), (407, 0.2581995568589047), (408, 0.2519016587519632), (409, 0.19615119064471187), (410, 0.16777035738177037), (411, 0.11056924554812331), (412, 0.27831415659026876), (413, 0.15462941211158424), (414, 0.1382734046143874), (415, 0.10453657587023131), (416, 0.11841710381339932), (417, 0.14767570871915067), (418, 0.2310450167856324), (419, 0.1399249466675898), (420, 0.08295875312719067), (421, 0.15245628524556457), (422, 0.13959979476232437), (423, 0.06617666145994595), (424, 0.1842053208046706), (425, 0.1406463629275088), (426, 0.10781066689771497), (427, 0.13358644854135474), (428, 0.20743996660073316), (429, 0.175441049532325), (430, 0.19220680341174556), (431, 0.10694180149018875), (432, 0.09907455405855835), (433, 0.23034498696160094), (434, 0.19999139089309464), (435, 0.16552654718602253), (436, 0.15252457767747898), (437, 0.21500604271072427), (438, 0.18988213086779535), (439, 0.14625242216657697), (440, 0.160253203284194), (441, 0.19681173367594706), (442, 0.1478398935260395), (443, 0.17339822374276495), (444, 0.09762083755101966), (445, 0.14571381225008292), (446, 0.1434968215740718), (447, 0.17535814131649788), (448, 0.16585903343838623), (449, 0.15144041031433053), (450, 0.1651517015970274), (451, 0.17262177845482013), (452, 0.22824697025918203), (453, 0.08049352418958425), (454, 0.13060842394796493), (455, 0.19309952554320675), (456, 0.16571756861026182), (457, 0.13668004494131678), (458, 0.1807719048613726), (459, 0.12040745477447698), (460, 0.1455658841882497), (461, 0.17186485391158432), (462, 0.050674237991934136), (463, 0.20542877005660407), (464, 0.2008246242143785), (465, 0.2573379103388001), (466, 0.09740480370647639), (467, 0.14957226254854844), (468, 0.17334057615052473), (469, 0.16781592021708824), (470, 0.21279567904963362), (471, 0.16359611448354436), (472, 0.24435077919369627), (473, 0.09914605276231626), (474, 0.0852991283514191), (475, 0.14586678835647554), (476, 0.05894108163786733), (477, 0.18777156111488627), (478, 0.0691211709681214), (479, 0.2049666781606307), (480, 0.11100914661787967), (481, 0.17233509065829147), (482, 0.1882842247167889), (483, 0.17880612800957005), (484, 0.06529635963954454), (485, 0.16569202076144124), (486, 0.11589955496195724), (487, 0.041555936116022464), (488, 0.12819468530690784), (489, 0.09815543348421912), (490, 0.1383061408140358), (491, 0.1664275445224302), (492, 0.14659287714518662), (493, 0.1634970730258448), (494, 0.15707250189078426), (495, 0.13080963652795438), (496, 0.2744176925361799), (497, 0.15085823070929316), (498, 0.1282551742584651), (499, 0.05869603588437752), (500, 0.20995717919160198), (501, 0.17718025166692986), (502, 0.16557750703678203), (503, 0.06334693698034363), (504, 0.12960367213387347), (505, 0.07550450168060785), (506, 0.12459409342228872), (507, 0.1071336013309582), (508, 0.15873431684207046), (509, 0.15992629759800442), (510, 0.2020870997494506), (511, 0.22288937974061174), (512, 0.11189042102946314), (513, 0.07725274671272969), (514, 0.10735946898624003), (515, 0.26119146302720103), (516, 0.09855147509475834), (517, 0.108378650896513), (518, 0.06132954319727534), (519, 0.2702827187926078), (520, 0.13863600233913165), (521, 0.1845499968452982), (522, 0.16207773257446884), (523, 0.18284228350102852), (524, 0.18305052953687867), (525, 0.08326319451695131), (526, 0.059593462976447735), (527, 0.16945287124660707), (528, 0.13521489312879195), (529, 0.11827237650101009), (530, 0.23888437470247315), (531, 0.0822094636074329), (532, 0.1551703231463542), (533, 0.1797655746609004), (534, 0.17241751544492995), (535, 0.08403511406711094), (536, 0.07132910726756324), (537, 0.19587067407279865), (538, 0.23654475269443315), (539, 0.10215402154136682), (540, 0.18863243190446521), (541, 0.13950083471089406), (542, 0.1871717751556194), (543, 0.17915387972199448), (544, 0.1701329055864844), (545, 0.21067241608893908), (546, 0.1538640524670423), (547, 0.22773085761249526), (548, 0.1164335388208961), (549, 0.11890538216887549), (550, 0.12524161301121134), (551, 0.22780299425877398), (552, 0.03358810256761624), (553, 0.2565633889760973), (554, 0.10036309731334292), (555, 0.2321809609312041), (556, 0.06131946124777943), (557, 0.07778752173168886), (558, 0.08457431046178637), (559, 0.045384317516250536), (560, 0.15441214057585773), (561, 0.21645290385774268), (562, 0.19251596997024512), (563, 0.1901791461838202), (564, 0.10575242355289094), (565, 0.12696190470971322), (566, 0.2718808764607767), (567, 0.10132305985581862), (568, 0.18919494445256202), (569, 0.19404263950786033), (570, 0.11382889793978516), (571, 0.11818867260382811), (572, 0.12919325295410017), (573, 0.11839360479842785), (574, 0.037771470270047756), (575, 0.129397430581169), (576, 0.1097547963418156), (577, 0.14997448565399166), (578, 0.1751800693057097), (579, 0.14878025949423096), (580, 0.12799152130374397), (581, 0.09220100533680307), (582, 0.18953777075711026), (583, 0.1699708070335267), (584, 0.15698257384572756), (585, 0.10179294078456892), (586, 0.15497347494016103), (587, 0.12586601129118744), (588, 0.14443326179430818), (589, 0.16897969090931436), (590, 0.17968208404146765), (591, 0.12566740998455025), (592, 0.09569975730619579), (593, 0.06156702337646771), (594, 0.15590595882286779), (595, 0.06573053363627221), (596, 0.12590054345574564), (597, 0.19632072401412673), (598, 0.10543237739197756), (599, 0.11491500530163445), (600, 0.18675185124146002), (601, 0.12374029208678225), (602, 0.1150402420216101), (603, 0.10971668614001005), (604, 0.14423040059339556), (605, 0.18383258522698961), (606, 0.1752087797633498), (607, 0.1653442581792175), (608, 0.13291729496680693), (609, 0.26224421293127076), (610, 0.10740917354038088), (611, 0.08986699178033777), (612, 0.1433884530250149), (613, 0.23630875342609609), (614, 0.17275547909092784), (615, 0.199127456817371), (616, 0.17274561358327312), (617, 0.1633081896671394), (618, 0.23565193841329993), (619, 0.14708013351123286), (620, 0.213099137252572), (621, 0.13338658972622788), (622, 0.20957461613717387), (623, 0.13526282569916107), (624, 0.09172670603036398), (625, 0.06971592779534977), (626, 0.12554709021562208), (627, 0.10871719305895743), (628, 0.2218913057984207), (629, 0.25695033364067027), (630, 0.09322933128422688), (631, 0.16992554298686402), (632, 0.1484653300338021), (633, 0.11341590828456048), (634, 0.09062232983614313), (635, 0.21652121316975592), (636, 0.1181832373689217), (637, 0.18538660676971083), (638, 0.19098003898493682), (639, 0.12959065783516743), (640, 0.1668461619569117), (641, 0.17683668485890683), (642, 0.15109944445724394), (643, 0.25092158789346053), (644, 0.11868194099462223), (645, 0.06999713819974951), (646, 0.07828863654749017), (647, 0.1312133438095826), (648, 0.2156339821986273), (649, 0.10821615632349516), (650, 0.03353419531509408), (651, 0.18721312379141128), (652, 0.13879523001153454), (653, 0.23238596220031804), (654, 0.15974084974046898), (655, 0.16346018239245347), (656, 0.15370667073313274), (657, 0.22901747511810022), (658, 0.11428135598774368), (659, 0.17695772338948784), (660, 0.19449437390012114), (661, 0.1245100085508454), (662, 0.12030045478884877), (663, 0.1105052198469876), (664, 0.18570368415666355), (665, 0.1621306313203203), (666, 0.14874204075768388), (667, 0.14213230136698787), (668, 0.16669318683052678), (669, 0.24391586939848903), (670, 0.2207044544521516), (671, 0.14675144317268746), (672, 0.18762029005450148), (673, 0.14308212452119712), (674, 0.11565186342219957), (675, 0.15433089445681927), (676, 0.21299576971456752), (677, 0.16584900121162996), (678, 0.13258697889247845), (679, 0.09071446778192184), (680, 0.10640616078521219), (681, 0.11729674095986087), (682, 0.18152237112958958), (683, 0.21045618642507335), (684, 0.2617645697503228), (685, 0.1399690259476135), (686, 0.11025935152645144), (687, 0.17738415081296116), (688, 0.15413192569808074), (689, 0.2036713847115383), (690, 0.15188853309536698), (691, 0.2220217688546368), (692, 0.25204533387836925), (693, 0.10482677124885925), (694, 0.16047223114213874), (695, 0.1363991032508896), (696, 0.16158945120951926), (697, 0.22432225895169414), (698, 0.14128672515577367), (699, 0.14066927345205119), (700, 0.17308534141003032), (701, 0.21598315424966336), (702, 0.11925814771958504), (703, 0.17496056126308765), (704, 0.06483601653339839), (705, 0.20465958874151113), (706, 0.27367266004521545), (707, 0.14474029528929838), (708, 0.11035536364103665), (709, 0.12111902241781493), (710, 0.20358707801693937), (711, 0.08656069244750082), (712, 0.1231513413983922), (713, 0.13284791375859142), (714, 0.12059000819212182), (715, 0.2120031045632835), (716, 0.15106505204818463), (717, 0.113479488913969), (718, 0.07976873871032811), (719, 0.24303113350618558), (720, 0.07713230018422433), (721, 0.11694622828956931), (722, 0.13498435951337562), (723, 0.16228152090328468), (724, 0.1407352607856559), (725, 0.16077926652598348), (726, 0.17588331362731302), (727, 0.20329922968479036), (728, 0.15503427463063915), (729, 0.16651223494913295), (730, 0.0910755666855123), (731, 0.17142311100582297), (732, 0.17499948355330014), (733, 0.2307247411099662), (734, 0.1722135857730199), (735, 0.12454322680313659), (736, 0.14999567583717846), (737, 0.2093902618113864), (738, 0.14598264611359577), (739, 0.16986694049724196), (740, 0.13495392009385887), (741, 0.12552122022565546), (742, 0.24168683505326655), (743, 0.11832004060133251), (744, 0.17240945504870733), (745, 0.13656742609724223), (746, 0.0658387406578122), (747, 0.15200384660022587), (748, 0.18540227763529699), (749, 0.18094305411516182), (750, 0.13672320410007976), (751, 0.14281662897365516), (752, 0.1828621764819763), (753, 0.16359930531361136), (754, 0.05986354571192), (755, 0.11603681432341366), (756, 0.186375279716542), (757, 0.2450803966442949), (758, 0.16253917536149118), (759, 0.10756430936908086), (760, 0.14161098939903677), (761, 0.09781650329460799), (762, 0.23074087447963537), (763, 0.2394568311659052), (764, 0.07450695799274827), (765, 0.09984804168075902), (766, 0.10937594417196966), (767, 0.09344974686531936), (768, 0.1929424111440174), (769, 0.18827598616370542), (770, 0.08997150091007257), (771, 0.07662815911358316), (772, 0.09574937646459543), (773, 0.1808933457780108), (774, 0.2174855391232417), (775, 0.20111518447279553), (776, 0.17780477594322383), (777, 0.08629371977510171), (778, 0.15970352540301425), (779, 0.17428094122069224), (780, 0.17551508395011275), (781, 0.15726838052585618), (782, 0.10985766864469536), (783, 0.09362049236429484), (784, 0.07839321405182545), (785, 0.1454208900805272), (786, 0.08707543583241169), (787, 0.23861769886989845), (788, 0.2801458151126872), (789, 0.12643464488614406), (790, 0.17096133927934842), (791, 0.11351058495323035), (792, 0.16800431413996555), (793, 0.13541079245035284), (794, 0.23235291657691942), (795, 0.19571862051805633), (796, 0.1660850341519783), (797, 0.1085145275499301), (798, 0.17313472578570582), (799, 0.147587698572796), (800, 0.18914371604195274), (801, 0.15414487897702778), (802, 0.15177620480094134), (803, 0.14775130124108016), (804, 0.1768811228305263), (805, 0.1201002968779955), (806, 0.1886183561015619), (807, 0.16818133939230454), (808, 0.23337696244085268), (809, 0.1765139287932638), (810, 0.1690040994354948), (811, 0.10840061918439949), (812, 0.1933475919243939), (813, 0.16922954865546666), (814, 0.19980734073828835), (815, 0.16205383971023538), (816, 0.16540817618588144), (817, 0.12827938693213167), (818, 0.24759557572748253), (819, 0.08563537030616845), (820, 0.16552618700508553), (821, 0.18732610578860348), (822, 0.12983799688358746), (823, 0.09845641347616586), (824, 0.22293040521040178), (825, 0.13180939087572666), (826, 0.12815028659433386), (827, 0.1541289453941635), (828, 0.15488210035772595), (829, 0.21646437339415392), (830, 0.19857907212487952), (831, 0.11869908418682096), (832, 0.1788091956991369), (833, 0.18479408065666433), (834, 0.14602883911782127), (835, 0.15186028427570242), (836, 0.1299363045585517), (837, 0.066822966031117), (838, 0.16526407622526854), (839, 0.05220696599273485), (840, 0.154099661625203), (841, 0.07076521887402976), (842, 0.17666043413992807), (843, 0.192711490230705), (844, 0.15421636714686468), (845, 0.16511996346547866), (846, 0.16015038714354607), (847, 0.21007997945330534), (848, 0.1344238140812802), (849, 0.13474013525692138), (850, 0.17266859991090447), (851, 0.13652598291786225), (852, 0.21953816141557164), (853, 0.21404390181743313), (854, 0.16674192992494227), (855, 0.09484805716392196), (856, 0.19611840457688529), (857, 0.12087618259642223), (858, 0.13686667186989152), (859, 0.13173115234789498), (860, 0.14574553433036108), (861, 0.12455020721811362), (862, 0.1393213663758507), (863, 0.11350115292873418), (864, 0.23093262970152525), (865, 0.19029773360588023), (866, 0.19984403953671667), (867, 0.24380280038308333), (868, 0.13934794042695464), (869, 0.13029116375403665), (870, 0.24903861404623806), (871, 0.17054072707065998), (872, 0.17544168504707872), (873, 0.21185818592498515), (874, 0.22565977387463496), (875, 0.18014166642592466), (876, 0.12539537629935982), (877, 0.13732961955888112), (878, 0.22202942829632002), (879, 0.18133593920221835), (880, 0.14967238164890698), (881, 0.17029658321368862), (882, 0.038546113484177726), (883, 0.15667642986956104), (884, 0.09696779484601326), (885, 0.1789101051558626), (886, 0.10223186166376366), (887, 0.12343682761485118), (888, 0.11022276544469457), (889, 0.11028564203271617), (890, 0.144444845733178), (891, 0.16740863429186753), (892, 0.14991909900581613), (893, 0.10087789082403659), (894, 0.1594480853524834), (895, 0.23757640119853793), (896, 0.17937325888221672), (897, 0.18674653135896946), (898, 0.13227752942149257), (899, 0.20003259951828778), (900, 0.18482936979871145), (901, 0.1153665887026895), (902, 0.1326526305133555), (903, 0.18520367994165976), (904, 0.2347358220336345), (905, 0.15211128038689406), (906, 0.19399166523222455), (907, 0.15891273579627035), (908, 0.19271659384923873), (909, 0.10023221452379014), (910, 0.10928103332469523), (911, 0.26247174779369614), (912, 0.14396027611411066), (913, 0.14430656112756265), (914, 0.05954659150735113), (915, 0.2111169113893441), (916, 0.1930847126135018), (917, 0.09936905157281943), (918, 0.19524116376655393), (919, 0.15565799716819564), (920, 0.08396569665870206), (921, 0.1625054408550815), (922, 0.09021650608346005), (923, 0.16174810515005497), (924, 0.21089188107997858), (925, 0.10130040429956187), (926, 0.1317044421423067), (927, 0.1029609898488113), (928, 0.16584846722852298), (929, 0.1981432725027441), (930, 0.1744765522494287), (931, 0.18837631357256618), (932, 0.12373749618014442), (933, 0.04013052472445392), (934, 0.2501013953832346), (935, 0.19639308503137157), (936, 0.2319125165568209), (937, 0.16544409041744926), (938, 0.17688606039039032), (939, 0.1837849984926232), (940, 0.16931402289317984), (941, 0.039419343786404215), (942, 0.18800951447669956), (943, 0.05443105481457254), (944, 0.14066785000926085), (945, 0.14843292568534064), (946, 0.15657625554261909), (947, 0.18596863645854333), (948, 0.20217888492397873), (949, 0.20301651776864538), (950, 0.07999148399956497), (951, 0.13661166348777598), (952, 0.2589102774877325), (953, 0.1422529140076771), (954, 0.08880082472405151), (955, 0.05768494691335244), (956, 0.1454001893113333), (957, 0.248783393362121), (958, 0.12070650630377906), (959, 0.15402608047882288), (960, 0.046905642241320614), (961, 0.13722517475569582), (962, 0.1967952869365489), (963, 0.2430890976622142), (964, 0.08174197728467945), (965, 0.09238172707930731), (966, 0.2341056976697748), (967, 0.18126924356147472), (968, 0.1983085161651257), (969, 0.17737348340302345), (970, 0.16700506319956587), (971, 0.14449875768846768), (972, 0.094064952553683), (973, 0.1757790522494015), (974, 0.14683592656716288), (975, 0.13813953089212772), (976, 0.19064798430772084), (977, 0.10545329753654024), (978, 0.11718391295535809), (979, 0.1811232171070101), (980, 0.12927229117304603), (981, 0.2070705324944122), (982, 0.14367661450229252), (983, 0.10134768793678192), (984, 0.14676989368313692), (985, 0.13324614996736678), (986, 0.1619662217000197), (987, 0.09702990218422085), (988, 0.2245770718241335), (989, 0.15177740566214676), (990, 0.13078186527123534), (991, 0.11342597477656782), (992, 0.1243908914597757), (993, 0.13380552723427522), (994, 0.1852748014965782), (995, 0.11453308730703424), (996, 0.0854619989646542), (997, 0.11068139923414162), (998, 0.12665289076917013), (999, 0.1179332046229724), (1000, 0.18628923976884879), (1001, 0.1802994140328686), (1002, 0.20282754606400188), (1003, 0.15218043057672567), (1004, 0.12975781386428129), (1005, 0.20784654199268354), (1006, 0.19006319435802824), (1007, 0.17059634223246473), (1008, 0.09681064562066549), (1009, 0.21792895057070072), (1010, 0.10795524165002042), (1011, 0.1534027855609605), (1012, 0.16251683307978385), (1013, 0.15030757805263686), (1014, 0.1710512852363415), (1015, 0.18486458997390415), (1016, 0.07544517241477365), (1017, 0.22035244422582714), (1018, 0.19749723072511788), (1019, 0.17352196934466232), (1020, 0.15226400528592754), (1021, 0.2567369847749364), (1022, 0.14214911523626284), (1023, 0.23707027800776306), (1024, 0.21154438201280223), (1025, 0.135480029133266), (1026, 0.17507187343389982), (1027, 0.14263149108260914), (1028, 0.1134166385107187), (1029, 0.13648738528502666), (1030, 0.21857983438867673), (1031, 0.09356443513960022), (1032, 0.04894448572017513), (1033, 0.25030143177113096), (1034, 0.13742223734863585), (1035, 0.19895254935360657), (1036, 0.07894308987375834), (1037, 0.09112847049084963), (1038, 0.11744117091889704), (1039, 0.14931476849151418), (1040, 0.1221474930523994), (1041, 0.1798866384277965), (1042, 0.09934499200448163), (1043, 0.21912969234512236), (1044, 0.19591138843962208), (1045, 0.1760966916477273), (1046, 0.25016235974988954), (1047, 0.16677859599124725), (1048, 0.16855019137825683), (1049, 0.13745587446997337), (1050, 0.16610250953512767), (1051, 0.08464343193622997), (1052, 0.22525687660219904), (1053, 0.17445723627246973), (1054, 0.1251343961482112), (1055, 0.1114378926616213), (1056, 0.09208004082792687), (1057, 0.08849731386340533), (1058, 0.12665938539876745), (1059, 0.17774272300937585), (1060, 0.15999038995913809), (1061, 0.1938286671951479), (1062, 0.10487403390790365), (1063, 0.19078691021376093), (1064, 0.16710092233532528), (1065, 0.12055459647150513), (1066, 0.1403360265217237), (1067, 0.1464085957584234), (1068, 0.2751329028282182), (1069, 0.21206785982766985), (1070, 0.10573312648899265), (1071, 0.18829208297437122), (1072, 0.08970508508978943), (1073, 0.10819700191101367), (1074, 0.23547425880808487), (1075, 0.1548728331166545), (1076, 0.13348230502926187), (1077, 0.18939100569801307), (1078, 0.09495869884965907), (1079, 0.14835160539115252), (1080, 0.14291140757279247), (1081, 0.08317547392473255), (1082, 0.14481103429100664), (1083, 0.13911494580667338), (1084, 0.1786380574957906), (1085, 0.165844093365336), (1086, 0.1177045168227245), (1087, 0.1982385682439292), (1088, 0.12754922211425163), (1089, 0.12933735758676365), (1090, 0.24765309915700756), (1091, 0.10146717811700091), (1092, 0.12517700486395797), (1093, 0.07376886360584504), (1094, 0.17702393230627875), (1095, 0.2082373127143419), (1096, 0.15329706801944948), (1097, 0.08730213521428), (1098, 0.05684181546144762), (1099, 0.15828376798834407), (1100, 0.09308718583578797), (1101, 0.1367500275891112), (1102, 0.1049522957072099), (1103, 0.10350952570400021), (1104, 0.13188453782216922), (1105, 0.14973646405152333), (1106, 0.1606826787709143), (1107, 0.17583730078260837), (1108, 0.1482374494914111), (1109, 0.1850532000685075), (1110, 0.0898290160171395), (1111, 0.20297570595716619), (1112, 0.16886226577317387), (1113, 0.12171130639947045), (1114, 0.2302176192789746), (1115, 0.19287682005810236), (1116, 0.2043420843719876), (1117, 0.12950266381247422), (1118, 0.28178292088994306), (1119, 0.19037060164482333), (1120, 0.12724575159105342), (1121, 0.10479040189685623), (1122, 0.15257652436038258), (1123, 0.11824432610546896), (1124, 0.16673357724581364), (1125, 0.1413649325117756), (1126, 0.10616267417286182), (1127, 0.10442799274362465), (1128, 0.18117542063871192), (1129, 0.2256707274257825), (1130, 0.16517673151313264), (1131, 0.1644086387614111), (1132, 0.23685736586642062), (1133, 0.10039011677005613), (1134, 0.26492078668625435), (1135, 0.1400822795599643), (1136, 0.1612682102823175), (1137, 0.18501360932357608), (1138, 0.1689246388309865), (1139, 0.08066910806355077), (1140, 0.17705763381962616), (1141, 0.2307705957326445), (1142, 0.0903597806059187), (1143, 0.06340067700443842), (1144, 0.12320150036902495), (1145, 0.05913536963776647), (1146, 0.20688077250514958), (1147, 0.04987172905443929), (1148, 0.1428599769774035), (1149, 0.1088968381430763), (1150, 0.14367267823533522), (1151, 0.10478735880101019), (1152, 0.13929116122665322), (1153, 0.1320615948180051), (1154, 0.12948017051219815), (1155, 0.14305438473421642), (1156, 0.08650490167810063), (1157, 0.23934006878619674), (1158, 0.03922024696011817), (1159, 0.10700340454889702), (1160, 0.1668068329867005), (1161, 0.07343002556724819), (1162, 0.226281363757663), (1163, 0.11391459745796696), (1164, 0.10151504563827389), (1165, 0.11939702507277809), (1166, 0.10393628096030873), (1167, 0.09494674571612174), (1168, 0.13650442613745503), (1169, 0.10468961323403062), (1170, 0.11842865546331409), (1171, 0.11306170805248585), (1172, 0.16808681445034), (1173, 0.2424659082020503), (1174, 0.09664779821902413), (1175, 0.20560692942873815), (1176, 0.12650479780454985), (1177, 0.13128572576891645), (1178, 0.15895336112200154), (1179, 0.20025009718381448), (1180, 0.08654585990213817), (1181, 0.08711672838281276), (1182, 0.17782987722937704), (1183, 0.14629041392644254), (1184, 0.19791569413447652), (1185, 0.17364959839969443), (1186, 0.19077247439005693), (1187, 0.12525914450338896), (1188, 0.15302314166142394), (1189, 0.06562197748537997), (1190, 0.10579582306641887), (1191, 0.17928395773399308), (1192, 0.2299832272183387), (1193, 0.06068183826427252), (1194, 0.18907716595596302), (1195, 0.2578232420469102), (1196, 0.07870234904707342), (1197, 0.15907294600375516), (1198, 0.1073359095347841), (1199, 0.15475293391256534), (1200, 0.10724710146790509), (1201, 0.06357345151889714), (1202, 0.1998087417751848), (1203, 0.06622878606438451), (1204, 0.09856695765849917), (1205, 0.10308510501857718), (1206, 0.1964270784839276), (1207, 0.131237394805205), (1208, 0.1484962976947455), (1209, 0.08829181778957575), (1210, 0.1728313000385111), (1211, 0.11881586535108876), (1212, 0.1088138293802442), (1213, 0.08311908210952189), (1214, 0.16555951294226542), (1215, 0.21433144331557916), (1216, 0.25583868317800434), (1217, 0.16009182329607216), (1218, 0.06948911156762722), (1219, 0.18019501194039808), (1220, 0.20774087683741824), (1221, 0.145230780488179), (1222, 0.13875697657300184), (1223, 0.1649836880647822), (1224, 0.2261589755880967), (1225, 0.1518600133744254), (1226, 0.16951073299459826), (1227, 0.09470136308261437), (1228, 0.08725884498078657), (1229, 0.17314425551386803), (1230, 0.15791558647410783), (1231, 0.14186576887507618), (1232, 0.18377939363989837), (1233, 0.11478893639619914), (1234, 0.18694044546334027), (1235, 0.07966256504603962), (1236, 0.15883412880824058), (1237, 0.18706208437865277), (1238, 0.1461531876424122), (1239, 0.2242350733390568), (1240, 0.08641943669398415), (1241, 0.26050585916358093), (1242, 0.10026349235446938), (1243, 0.21593317522607744), (1244, 0.13010349668918395), (1245, 0.2048675144844082), (1246, 0.1110920882560261), (1247, 0.1407387164455796), (1248, 0.2856773583199571), (1249, 0.22645940900854425), (1250, 0.14216008650626838), (1251, 0.14989029432192175), (1252, 0.19838725137052154), (1253, 0.13715338815091435), (1254, 0.24952744083657313), (1255, 0.22181115337189689), (1256, 0.14938434388023622), (1257, 0.24552016373378613), (1258, 0.10269699303049312), (1259, 0.1952586418238733), (1260, 0.08291112615267943), (1261, 0.20480723387343602), (1262, 0.18573247944194507), (1263, 0.13238061228609985), (1264, 0.08507297806874914), (1265, 0.11950198668075822), (1266, 0.1592524198023782), (1267, 0.15139456031769055), (1268, 0.08676102876993397), (1269, 0.13301975950892422), (1270, 0.1778144412148515), (1271, 0.10069077178003309), (1272, 0.21209000561551247), (1273, 0.16622693971290292), (1274, 0.14513420613879605), (1275, 0.20103037038059396), (1276, 0.12273409443060793), (1277, 0.11161071185852661), (1278, 0.24750076522581063), (1279, 0.18369382768651474), (1280, 0.12535866060294537), (1281, 0.15638040153978083), (1282, 0.11397302744880457), (1283, 0.1479168276271679), (1284, 0.1498528360985724), (1285, 0.10147225191040289), (1286, 0.11838463472563751), (1287, 0.06357415905909557), (1288, 0.11496431438433406), (1289, 0.05126496522350743), (1290, 0.17266679110558342), (1291, 0.15486998622242054), (1292, 0.23355952588943177), (1293, 0.19054859672831456), (1294, 0.10195887352997367), (1295, 0.16136452279333877), (1296, 0.1745641070975631), (1297, 0.10152251531092164), (1298, 0.0944363748528503), (1299, 0.08819030437732799), (1300, 0.1530785204080834), (1301, 0.15157192513906728), (1302, 0.16823908678866029), (1303, 0.10620075743188294), (1304, 0.16733288830950738), (1305, 0.16843874409867143), (1306, 0.22973601276898625), (1307, 0.1904061791604756), (1308, 0.21318355799323654), (1309, 0.13830881162499817), (1310, 0.2153898827197628), (1311, 0.13195299918977269), (1312, 0.1707200301167625), (1313, 0.1085706387712634), (1314, 0.24877186866534434), (1315, 0.10546406434624644), (1316, 0.14995302058158005), (1317, 0.18307928335294013), (1318, 0.14744290056823875), (1319, 0.1541713651115116), (1320, 0.17753459421695655), (1321, 0.13343633775287495), (1322, 0.10735269200374419), (1323, 0.06988801936261468), (1324, 0.12083625517302077), (1325, 0.1439561150573588), (1326, 0.11534950500507722), (1327, 0.1392263168245055), (1328, 0.07984218889913049), (1329, 0.23650394946356518), (1330, 0.11926795787564837), (1331, 0.13272856027930088), (1332, 0.1331531633879219), (1333, 0.0841412308168397), (1334, 0.18003710075612486), (1335, 0.19501299952345827), (1336, 0.12664598774251548), (1337, 0.19457517516524359), (1338, 0.17684827533292383), (1339, 0.17017374146781297), (1340, 0.12575044294360244), (1341, 0.31718785349836764), (1342, 0.13511254159758393), (1343, 0.17448206140083422), (1344, 0.16655257837745424), (1345, 0.1795839067896832), (1346, 0.14428583348199558), (1347, 0.09183828949647296), (1348, 0.16268982141709787), (1349, 0.15435504058118393), (1350, 0.11180357928572762), (1351, 0.23006349302339107), (1352, 0.16363710292366335), (1353, 0.12174680581481505), (1354, 0.17717867704045404), (1355, 0.08743790371116139), (1356, 0.138981373262788), (1357, 0.13521721542382914), (1358, 0.18959485890630123), (1359, 0.1562710008607753), (1360, 0.18011782170015397), (1361, 0.1737562815681147), (1362, 0.14250629963313718), (1363, 0.1004975238893567), (1364, 0.16581129959065682), (1365, 0.21939591651733137), (1366, 0.15942371063427796), (1367, 0.21516011779768043), (1368, 0.14970658928193037), (1369, 0.28496746327155986), (1370, 0.09988754694003356), (1371, 0.15418980556847273), (1372, 0.12912446310890793), (1373, 0.17633643371386676), (1374, 0.18659901766096718), (1375, 0.16422869267246348), (1376, 0.18352049773652057), (1377, 0.20648525338576174), (1378, 0.13321015743893477), (1379, 0.22374193314757265), (1380, 0.11668781312988794), (1381, 0.14732116589758146), (1382, 0.1954225088348559), (1383, 0.26284297913129095), (1384, 0.21278053750086703), (1385, 0.22967272390436105), (1386, 0.1650637316445095), (1387, 0.19682584359803593), (1388, 0.12623147758378186), (1389, 0.14031038406270388), (1390, 0.11162706250742563), (1391, 0.051568528792555045), (1392, 0.14386494132521574), (1393, 0.15959219421429316), (1394, 0.17856547586136742), (1395, 0.07662528341514664), (1396, 0.18911183619037397), (1397, 0.12925039185646475), (1398, 0.21357058779589064), (1399, 0.07177787991878531), (1400, 0.13557354524205104), (1401, 0.22220761957854818), (1402, 0.1436796637331431), (1403, 0.22114569529281716), (1404, 0.12996274927848128), (1405, 0.17726452092685138), (1406, 0.14081259646184086), (1407, 0.12395639531357483), (1408, 0.16785515998600864), (1409, 0.12962935730733266), (1410, 0.11790955744873921), (1411, 0.15505636224361272), (1412, 0.2729189592142113), (1413, 0.21748075444528317), (1414, 0.1536746242107165), (1415, 0.06082420855586305), (1416, 0.10207110646945783), (1417, 0.19155792611289227), (1418, 0.18797367930085923), (1419, 0.17735746096750496), (1420, 0.19853717727520417), (1421, 0.1706024609459469), (1422, 0.11650598910945775), (1423, 0.1385351166618664), (1424, 0.0806732691328708), (1425, 0.17030223690749455), (1426, 0.06080441665227766), (1427, 0.10826843636833675), (1428, 0.12184498548110166), (1429, 0.11823202273039338), (1430, 0.1618249462644602), (1431, 0.1490582725269722), (1432, 0.15962541846892853), (1433, 0.1360283950617497), (1434, 0.022894295564289346), (1435, 0.12130754079790936), (1436, 0.1749361391532287), (1437, 0.10724964369962635), (1438, 0.13247526076111799), (1439, 0.05696778782608255), (1440, 0.14032947224046974), (1441, 0.0672134709632859), (1442, 0.20107727762834876), (1443, 0.2346843659776446), (1444, 0.04837249078905478), (1445, 0.18762689672355834), (1446, 0.16678052238622906), (1447, 0.12969158773264208), (1448, 0.09731946966197741), (1449, 0.03867865073858677), (1450, 0.12641760985897152), (1451, 0.11997037987469257), (1452, 0.08173417236899866), (1453, 0.1675437978553445), (1454, 0.1593375868856655), (1455, 0.14464627293187987), (1456, 0.18678543606519052), (1457, 0.0902218930806828), (1458, 0.17935113491944882), (1459, 0.15366171351678587), (1460, 0.12181187852800025), (1461, 0.16856941461250266), (1462, 0.11095297286851549), (1463, 0.17902897025524236), (1464, 0.22313067921450566), (1465, 0.20272193561852395), (1466, 0.145345263101807), (1467, 0.19363932536930334), (1468, 0.15693458625848275), (1469, 0.14358317275987212), (1470, 0.09831080887103266), (1471, 0.2730190612870159), (1472, 0.18780004294669853), (1473, 0.05690535837861159), (1474, 0.14294259437484644), (1475, 0.19836836208499586), (1476, 0.13477973008861283), (1477, 0.20715434467887225), (1478, 0.1754175574547683), (1479, 0.1258046790577684), (1480, 0.12806881005089346), (1481, 0.14577275458581093), (1482, 0.18524434005916063), (1483, 0.146493640023437), (1484, 0.14887636822841865), (1485, 0.10798995497983761), (1486, 0.16815725368848403), (1487, 0.1342750093998362), (1488, 0.14631404252494118), (1489, 0.15449272138097708), (1490, 0.06374729658488798), (1491, 0.06876130360240308), (1492, 0.21037614874822552), (1493, 0.22099108108363336), (1494, 0.2098214433424844), (1495, 0.17712480765968872), (1496, 0.16009855744791254), (1497, 0.07589687067731651), (1498, 0.15400665586961293), (1499, 0.04240868060960005), (1500, 0.23063961460678734), (1501, 0.20423080797326956), (1502, 0.11831703746200216), (1503, 0.19321739512108232), (1504, 0.10666851958997516), (1505, 0.21683541727380118), (1506, 0.3275476149046344), (1507, 0.08235385928824177), (1508, 0.09968190494784514), (1509, 0.21806822854762198), (1510, 0.2483989039661813), (1511, 0.14839411861490226), (1512, 0.15955003212810423), (1513, 0.1515126727618474), (1514, 0.18009895335316867), (1515, 0.23383155616995752), (1516, 0.10132015296307284), (1517, 0.13280513958495893), (1518, 0.18810599789873533), (1519, 0.20224710282632127), (1520, 0.09879708306219419), (1521, 0.13381462752296955), (1522, 0.1607637351601596), (1523, 0.16391312546087092), (1524, 0.15497086604166305), (1525, 0.11173083516518034), (1526, 0.14662156379471983), (1527, 0.2347815459505505), (1528, 0.10062325577282658), (1529, 0.0990301173521106), (1530, 0.14267764447943515), (1531, 0.08148233140097691), (1532, 0.11090497868212923), (1533, 0.1688870122257468), (1534, 0.10053670890404456), (1535, 0.1390558172822441), (1536, 0.13063699818852148), (1537, 0.17382899345888622), (1538, 0.16455557373438912), (1539, 0.20415240758591818), (1540, 0.08412410801771315), (1541, 0.08346784160110265), (1542, 0.13474236822378619), (1543, 0.15618980498343824), (1544, 0.19916842757235748), (1545, 0.07368165475333797), (1546, 0.13577741819906788), (1547, 0.14350013274625026), (1548, 0.10327156825985272), (1549, 0.11649017123327265), (1550, 0.1201815925229771), (1551, 0.17372092429314753), (1552, 0.17203032965625567), (1553, 0.1982238541632483), (1554, 0.1374632194644906), (1555, 0.1484592697759758), (1556, 0.06771181099606613), (1557, 0.14507552157355652), (1558, 0.10457916284202955), (1559, 0.12249451866852605), (1560, 0.0753827979594695), (1561, 0.13302912731106858), (1562, 0.11134224280424206), (1563, 0.07412221634659959), (1564, 0.12348350213860723), (1565, 0.12105602247047384), (1566, 0.1475104061050878), (1567, 0.17519759476044108), (1568, 0.15132397281537882), (1569, 0.14963174552743513), (1570, 0.15020222541041728), (1571, 0.17446697286386392), (1572, 0.21625461635023485), (1573, 0.07659812495496807), (1574, 0.0866164723127317), (1575, 0.12570794579388636), (1576, 0.11634467900198237), (1577, 0.14645508303574492), (1578, 0.12575428636469357), (1579, 0.19572462992915057), (1580, 0.09830393916835582), (1581, 0.13597445646191236), (1582, 0.13931081073905005), (1583, 0.11835014792054868), (1584, 0.1553704247108689), (1585, 0.21927925689822714), (1586, 0.1717208611223206), (1587, 0.1575230997415949), (1588, 0.08819216691799392), (1589, 0.13038935273024507), (1590, 0.09726644785020698), (1591, 0.13638186582389095), (1592, 0.18791995166275333), (1593, 0.05733484393003556), (1594, 0.1648351521610115), (1595, 0.17546882932849744), (1596, 0.06630720809888584), (1597, 0.1548345032510456), (1598, 0.13443549803423283), (1599, 0.14361704733840128), (1600, 0.10447865301237642), (1601, 0.10153790731397072), (1602, 0.08723805536495666), (1603, 0.1074022276862688), (1604, 0.11859008460696496), (1605, 0.10534552801192816), (1606, 0.13945894131115477), (1607, 0.059896785556669364), (1608, 0.17905400920892223), (1609, 0.11803387462210489), (1610, 0.1340208711435243), (1611, 0.13111490482843535), (1612, 0.1722826744057452), (1613, 0.153835075260071), (1614, 0.13455593096577823), (1615, 0.09239751291276514), (1616, 0.17508352898065246), (1617, 0.12520376966090396), (1618, 0.08205009340224587), (1619, 0.18676664355275158), (1620, 0.14487008399285964), (1621, 0.17391072384956893), (1622, 0.11224240145709977), (1623, 0.08423044312596817), (1624, 0.1467087302295661), (1625, 0.08930191165317389), (1626, 0.13324219654776978), (1627, 0.14211355292916608), (1628, 0.07934834823014993), (1629, 0.2418589980576599), (1630, 0.17937093192360767), (1631, 0.09578997407799969), (1632, 0.09613517858460414), (1633, 0.09941077503504799), (1634, 0.1490595477603013), (1635, 0.08135217311031305), (1636, 0.06726040470549055), (1637, 0.11099427128255963), (1638, 0.11204868309960392), (1639, 0.10329013534915096), (1640, 0.1552431673895986), (1641, 0.07423527297946815), (1642, 0.11897020998507064), (1643, 0.14009982618335168), (1644, 0.1160139757096482), (1645, 0.18163257107329772), (1646, 0.13651691144511968), (1647, 0.21005349513673072), (1648, 0.2303902052367769), (1649, 0.17333690809848823), (1650, 0.21903445694478638), (1651, 0.11481317030325809), (1652, 0.14134259537532123), (1653, 0.1599245445123142), (1654, 0.22254090723433154), (1655, 0.17744376447687651), (1656, 0.10489572276899495), (1657, 0.13684415715764403), (1658, 0.20336742208823294), (1659, 0.10175478035238146), (1660, 0.1137884185688628), (1661, 0.07638424379681083), (1662, 0.17232765290416394), (1663, 0.10474554890598671), (1664, 0.1769459289858975), (1665, 0.16781422215692596), (1666, 0.17789275961950468), (1667, 0.13239443008833576), (1668, 0.11862720099717726), (1669, 0.11289825369324837), (1670, 0.07119701830781956), (1671, 0.20490583098481496), (1672, 0.07693273004460119), (1673, 0.07135704183194215), (1674, 0.13217658195485898), (1675, 0.2770026250648894), (1676, 0.19804283160164143), (1677, 0.18388486939130705), (1678, 0.24465659580302385), (1679, 0.10974748025716892), (1680, 0.18413447479672398), (1681, 0.15266609500230477), (1682, 0.2553103801127162), (1683, 0.09497426387258662), (1684, 0.11914578979198939), (1685, 0.1592557373520231), (1686, 0.07039369586853367), (1687, 0.12924976575948005), (1688, 0.18092846489359074), (1689, 0.11337833936422237), (1690, 0.2025189342859409), (1691, 0.11999594872436456), (1692, 0.15985410986850268), (1693, 0.1474343255697606), (1694, 0.14041682316114387), (1695, 0.17108069338893733), (1696, 0.19967716529264043), (1697, 0.12297571125678657), (1698, 0.1714553899314028), (1699, 0.07155212612923127), (1700, 0.1773419650113625), (1701, 0.22284926980110578), (1702, 0.1531861242653206), (1703, 0.11235195419885231), (1704, 0.1049679021594738), (1705, 0.15442085998830368), (1706, 0.16435234887514744), (1707, 0.2844698275038088), (1708, 0.14764728373986888), (1709, 0.17277525507958302), (1710, 0.17200136168231855), (1711, 0.15191032597207071), (1712, 0.13107746548481708), (1713, 0.15448695006826554), (1714, 0.23331901904655727), (1715, 0.1449098590770119), (1716, 0.18989688162252807), (1717, 0.09738737829470466), (1718, 0.18807430118712634), (1719, 0.1952693580845701), (1720, 0.10317744442374974), (1721, 0.19498405238293057), (1722, 0.13644399798027468), (1723, 0.16754592796303183), (1724, 0.10704523153428183), (1725, 0.155345109721923), (1726, 0.12459029003290294), (1727, 0.14234372610328663), (1728, 0.1162125050009692), (1729, 0.10046700677903365), (1730, 0.17049081603106583), (1731, 0.12043244130297091), (1732, 0.11008027705165267), (1733, 0.122746602968161), (1734, 0.09895291167893981), (1735, 0.1377271226331966), (1736, 0.14421897693933564), (1737, 0.15058750237505472), (1738, 0.15807165270129228), (1739, 0.16521412494668722), (1740, 0.16617476755025967), (1741, 0.16773839418905231), (1742, 0.11825986961872602), (1743, 0.21749261464004796), (1744, 0.1628053472768507), (1745, 0.09698392958745511), (1746, 0.1597499445965416), (1747, 0.1624154506875771), (1748, 0.11760029362162108), (1749, 0.14601039909191535), (1750, 0.199743092469901), (1751, 0.1213458076230201), (1752, 0.11719931856810707), (1753, 0.057433019739547835), (1754, 0.1358570855781806), (1755, 0.12303834549694824), (1756, 0.15837076097219338), (1757, 0.16238759787970786), (1758, 0.11431412003520065), (1759, 0.16316627854813257), (1760, 0.15247964380551643), (1761, 0.1335649033212177), (1762, 0.22050842496051742), (1763, 0.16782294973234155), (1764, 0.22676673606843004), (1765, 0.07990967933238215), (1766, 0.08295082246494702), (1767, 0.12298062753245693), (1768, 0.16821606681265236), (1769, 0.10819009895150677), (1770, 0.1218625863208502), (1771, 0.10183224978130373), (1772, 0.14721427598045916), (1773, 0.14426524075169306), (1774, 0.22212390587758396), (1775, 0.09059638799692382), (1776, 0.1848985104366665), (1777, 0.12149749930816271), (1778, 0.13014373687548636), (1779, 0.1933765757581225), (1780, 0.14488625145290915), (1781, 0.15945853153490727), (1782, 0.19378168628122763), (1783, 0.10652328784294257), (1784, 0.17222986922179948), (1785, 0.07362003656647888), (1786, 0.0942606649028091), (1787, 0.2495774796795176), (1788, 0.27270597335517577), (1789, 0.13692483328422778), (1790, 0.10815703462297076), (1791, 0.16046187139229717), (1792, 0.10172481105147484), (1793, 0.1748034539554672), (1794, 0.11251259544546709), (1795, 0.14395202879267413), (1796, 0.16402610427061864), (1797, 0.18762331706913563), (1798, 0.23222818317461438), (1799, 0.2098321671421027), (1800, 0.06864051293778904), (1801, 0.0789361486642187), (1802, 0.23027915394074513), (1803, 0.13942712197525817), (1804, 0.11050213050347692), (1805, 0.09238576035153677), (1806, 0.17288623593040303), (1807, 0.13703140131148184), (1808, 0.1426756178486005), (1809, 0.2465881347310958), (1810, 0.13786964817914424), (1811, 0.1101892298191874), (1812, 0.1906617670754939), (1813, 0.11376923276460088), (1814, 0.0994091290469003), (1815, 0.1504788676903307), (1816, 0.1913912084928299), (1817, 0.15588397414469213), (1818, 0.2105082914033408), (1819, 0.14268945653870183), (1820, 0.06339901997384562), (1821, 0.2584222390866593), (1822, 0.12666333923184542), (1823, 0.1224148652082117), (1824, 0.14551471262389676), (1825, 0.1359889538794552), (1826, 0.02102979290179891), (1827, 0.18474325143848386), (1828, 0.1550798856272698), (1829, 0.14380224686956827), (1830, 0.11584231025937347), (1831, 0.11298990905380821), (1832, 0.10532866878851443), (1833, 0.18122376514795027), (1834, 0.017181107411875358), (1835, 0.09733340520881506), (1836, 0.10803166246198603), (1837, 0.1567269412438589), (1838, 0.16819719575474684), (1839, 0.06400364100642934), (1840, 0.14536495664740215), (1841, 0.19386831476793207), (1842, 0.06460567372107445), (1843, 0.18778838795884212), (1844, 0.08458187152956849), (1845, 0.25443469181814216), (1846, 0.11508282908947837), (1847, 0.1669478064724551), (1848, 0.11557065310368127), (1849, 0.14855552974139813), (1850, 0.2546462992395121), (1851, 0.15528277769213128), (1852, 0.18105116413351863), (1853, 0.16300583826740417), (1854, 0.1082820069909802), (1855, 0.11738668143548094), (1856, 0.06988837097273409), (1857, 0.1284635156859531), (1858, 0.19810077041133928), (1859, 0.10111146158007774), (1860, 0.1874606980079501), (1861, 0.20738295784689353), (1862, 0.04429383179948945), (1863, 0.13842251439033196), (1864, 0.18705271878384458), (1865, 0.22156501644894008), (1866, 0.10614106577695667), (1867, 0.16261283533599236), (1868, 0.09536912843230978), (1869, 0.13295950294120157), (1870, 0.19467210638529717), (1871, 0.27792837021596234), (1872, 0.13338434600592813), (1873, 0.17150281717704574), (1874, 0.12675939753043058), (1875, 0.1533633727067196), (1876, 0.20914865262798538), (1877, 0.08362932978574465), (1878, 0.2643924590312423), (1879, 0.05211028282697115), (1880, 0.16013862171945273), (1881, 0.16970174502468874), (1882, 0.08929669081128153), (1883, 0.1367448251134839), (1884, 0.09368961283826138), (1885, 0.15409328507911257), (1886, 0.23382262686709113), (1887, 0.10276971271153208), (1888, 0.15271756224198127), (1889, 0.09338139564538869), (1890, 0.07902144632034572), (1891, 0.1167578299750869), (1892, 0.08667115999290789), (1893, 0.16461157471406354), (1894, 0.06368686958402185), (1895, 0.19961649404073403), (1896, 0.14524766372402254), (1897, 0.19385484669270914), (1898, 0.10541274792234613), (1899, 0.09125202594970952), (1900, 0.10767223923447686), (1901, 0.11572979677930106), (1902, 0.16314080237141965), (1903, 0.21253725530616943), (1904, 0.10484641053002625), (1905, 0.10522269223522507), (1906, 0.14049620309368147), (1907, 0.14721566239781542), (1908, 0.19098575034143472), (1909, 0.10496360017883376), (1910, 0.13593901770640987), (1911, 0.2008295364219878), (1912, 0.0950445804627977), (1913, 0.18634218616112855), (1914, 0.10874383915959102), (1915, 0.1740926910610702), (1916, 0.10707959785225428), (1917, 0.023981138335837742), (1918, 0.15946729497665785), (1919, 0.23986014126925198), (1920, 0.18046898615678086), (1921, 0.08702303224569154), (1922, 0.1316552056078399), (1923, 0.1513653013284609), (1924, 0.16869746970398916), (1925, 0.2091544270526571), (1926, 0.13726246760387317), (1927, 0.14292716110726356), (1928, 0.10652574476428758), (1929, 0.10573659100225723), (1930, 0.09213022727149538), (1931, 0.1572078497598634), (1932, 0.1009424091836023), (1933, 0.09499918584240942), (1934, 0.21334004192226275), (1935, 0.2522000907711583), (1936, 0.18261736924844998), (1937, 0.15338998847532312), (1938, 0.09432570275043003), (1939, 0.11813911414594223), (1940, 0.09407614313157987), (1941, 0.1083456218185477), (1942, 0.22982169353263893), (1943, 0.10625465165430444), (1944, 0.10246813696894505), (1945, 0.22429465024142994), (1946, 0.12951360202630638), (1947, 0.09704842509149102), (1948, 0.2516993263811642), (1949, 0.17019157428806092), (1950, 0.19852023894270918), (1951, 0.21325545623718387), (1952, 0.13745396144766364), (1953, 0.10367356569796529), (1954, 0.11444523937850322), (1955, 0.12754395295959892), (1956, 0.0838994196472411), (1957, 0.19462252247057993), (1958, 0.15741273247120552), (1959, 0.11098146398901665), (1960, 0.09775911981069098), (1961, 0.1634141455338614), (1962, 0.06275357061195085), (1963, 0.14961927757672325), (1964, 0.20783865180626443), (1965, 0.11149166676537815), (1966, 0.1024287114205946), (1967, 0.20463797268794548), (1968, 0.18950245669661644), (1969, 0.16581795616635311), (1970, 0.19759553552155637), (1971, 0.2050013913635525), (1972, 0.0126540708812306), (1973, 0.17935532326110756), (1974, 0.15242867627502782), (1975, 0.09284167091468579), (1976, 0.13089273338832574), (1977, 0.2503496809448122), (1978, 0.09064337784327121), (1979, 0.09487194898821673), (1980, 0.08545318999628722), (1981, 0.1617730624013948), (1982, 0.20319233554902624), (1983, 0.18550446515846677), (1984, 0.12585599331587582), (1985, 0.25900135669913354), (1986, 0.15292126561672167), (1987, 0.14455962152211715), (1988, 0.19166157170751028), (1989, 0.1404663212205188), (1990, 0.17505932726002138), (1991, 0.13335926954367583), (1992, 0.18858349962251553), (1993, 0.12044143025533605), (1994, 0.2838928999131411), (1995, 0.09441450914173329), (1996, 0.15731197666055635), (1997, 0.22631201463379755), (1998, 0.1471680313325731), (1999, 0.1526327285585061), (2000, 0.2657426188008134), (2001, 0.08403159486878983), (2002, 0.04541533761048885), (2003, 0.13433139308688535), (2004, 0.10971283802687647), (2005, 0.19761613751427756), (2006, 0.10900698382413895), (2007, 0.13346709174671928), (2008, 0.17941522869637194), (2009, 0.11758521918904215), (2010, 0.1188308076562266), (2011, 0.20582460031011654), (2012, 0.22060485837006227), (2013, 0.22432493207813586), (2014, 0.2378666452584901), (2015, 0.10376666720492796), (2016, 0.20923114893999883), (2017, 0.10089510182971279), (2018, 0.14041748498193038), (2019, 0.12743141309679312), (2020, 0.18023336170876553), (2021, 0.11340054162754308), (2022, 0.19321729360801132), (2023, 0.21474319331730335), (2024, 0.17417988066670584), (2025, 0.0823296019060755), (2026, 0.24360804309680772), (2027, 0.2418541602359013), (2028, 0.09398362947096903), (2029, 0.1461573919943863), (2030, 0.05727368124484761), (2031, 0.16328978607321146), (2032, 0.11732279811780312), (2033, 0.09619759588855568), (2034, 0.11872485321785783), (2035, 0.1831658734975946), (2036, 0.17469487715614138), (2037, 0.28843488782786886), (2038, 0.08231959958020846), (2039, 0.1658919255361747), (2040, 0.24048562220292796), (2041, 0.06897531626063494), (2042, 0.0556752041966174), (2043, 0.18216002423819072), (2044, 0.12440017034205735), (2045, 0.20516186529239394), (2046, 0.12435615317105256), (2047, 0.1652252542916781), (2048, 0.1435513974813713), (2049, 0.15314238809323255), (2050, 0.08650084925256873), (2051, 0.21641991927254134), (2052, 0.19146148440441613), (2053, 0.19880913134317454), (2054, 0.06648737381197446), (2055, 0.2674647934184059), (2056, 0.16716367834427184), (2057, 0.10399172225666174), (2058, 0.19095589845185781), (2059, 0.06384409269403307), (2060, 0.14688889531534338), (2061, 0.17308149935051054), (2062, 0.1853709112893588), (2063, 0.05932655345885375), (2064, 0.14693786962668323), (2065, 0.196314636952608), (2066, 0.130902548900728), (2067, 0.17615261979725613), (2068, 0.1618334838717672), (2069, 0.11445157527727261), (2070, 0.2335105410838248), (2071, 0.0940959551675055), (2072, 0.11455161895527911), (2073, 0.12743970797787058), (2074, 0.22514337809211699), (2075, 0.17413162259570333), (2076, 0.12450351199358875), (2077, 0.09014463707714804), (2078, 0.1350422713856304), (2079, 0.11423906859846693), (2080, 0.08824623703735666), (2081, 0.0987802460183951), (2082, 0.22325903249596915), (2083, 0.155636277833658), (2084, 0.07709168035727487), (2085, 0.11366008432923487), (2086, 0.13509343285751754), (2087, 0.17238675218613328), (2088, 0.19127197110416502), (2089, 0.0997099607051649), (2090, 0.07184655641282423), (2091, 0.1418040359323546), (2092, 0.08571386373823459), (2093, 0.15403922623891303), (2094, 0.1741492378875454), (2095, 0.1738338195089351), (2096, 0.20319057685209027), (2097, 0.20600719216672064), (2098, 0.09998433594876306), (2099, 0.10028293713866544), (2100, 0.17549140113701545), (2101, 0.15441942152280055), (2102, 0.22535567911043974), (2103, 0.21617454817322848), (2104, 0.16047306237192208), (2105, 0.10541924109125096), (2106, 0.09589881342208637), (2107, 0.14067725255686706), (2108, 0.11922828115510169), (2109, 0.17543740621110393), (2110, 0.1915931930547075), (2111, 0.17058865249034402), (2112, 0.29705685296444445), (2113, 0.13222008711642083), (2114, 0.3000638719904567), (2115, 0.08078661947896837), (2116, 0.19188994366476236), (2117, 0.15818630232990308), (2118, 0.18697913131802943), (2119, 0.19490225345562168), (2120, 0.0673592848977524), (2121, 0.19469373181054203), (2122, 0.2091083226182455), (2123, 0.12729369545169383), (2124, 0.11350740086213433), (2125, 0.11456706968248992), (2126, 0.16619901346341934), (2127, 0.10373984602757103), (2128, 0.11199347391077463), (2129, 0.11657046306616799), (2130, 0.12018806605663236), (2131, 0.19946434117914716), (2132, 0.11810720196809497), (2133, 0.22949266386527864), (2134, 0.14590165159041046), (2135, 0.09729542010381481), (2136, 0.13963878323038215), (2137, 0.04923361824999654), (2138, 0.05559064992576243), (2139, 0.0981983238826272), (2140, 0.09111729995312151), (2141, 0.07962343089674173), (2142, 0.07939123610608735), (2143, 0.20555850500683862), (2144, 0.1982543924413906), (2145, 0.19951987346780242), (2146, 0.04731757510719584), (2147, 0.14461786212757036), (2148, 0.09681850100195068), (2149, 0.158872669166068), (2150, 0.13107053029731644), (2151, 0.092020653898938), (2152, 0.11958058651954129), (2153, 0.10678666547539177), (2154, 0.1849838312618779), (2155, 0.18230408359241154), (2156, 0.16562639824311373), (2157, 0.17235407134105046), (2158, 0.1557833226817581), (2159, 0.1296533351862977), (2160, 0.1834660740012877), (2161, 0.21953279163797976), (2162, 0.12292649592185588), (2163, 0.07857876922148253), (2164, 0.08847953070779607), (2165, 0.057576083405047496), (2166, 0.12557050076091195), (2167, 0.2156247008446553), (2168, 0.10683038151270537), (2169, 0.16544184848229262), (2170, 0.12663042905080532), (2171, 0.07181665836871502), (2172, 0.07337333454232488), (2173, 0.050819633271332966), (2174, 0.20310176479093836), (2175, 0.1848840174037752), (2176, 0.11977049999765568), (2177, 0.1913481803781096), (2178, 0.16536435320424572), (2179, 0.084465201372219), (2180, 0.1725971486819463), (2181, 0.10849017454305085), (2182, 0.11719914311709156), (2183, 0.1184047500268013), (2184, 0.07654510174934911), (2185, 0.16726345101791834), (2186, 0.04936404835902095), (2187, 0.1164293008208764), (2188, 0.14514385240658187), (2189, 0.043557660190833715), (2190, 0.12802058043655337), (2191, 0.27105349293245745), (2192, 0.10487691064820291), (2193, 0.18051547257877287), (2194, 0.08025479903936232), (2195, 0.1557389044401951), (2196, 0.19736925693489588), (2197, 0.15214294767382508), (2198, 0.21757417397337667), (2199, 0.12721699524722882), (2200, 0.03997753925163733), (2201, 0.1302045244509169), (2202, 0.1793644568007056), (2203, 0.15298642745561783), (2204, 0.1136118075930394), (2205, 0.2174158657523462), (2206, 0.14185223924447934), (2207, 0.1167469962290832), (2208, 0.13220909254384075), (2209, 0.1472582848057747), (2210, 0.23116750604233888), (2211, 0.21093369965409134), (2212, 0.22832019876014112), (2213, 0.0933549489307554), (2214, 0.22630769089410108), (2215, 0.10621167380805552), (2216, 0.1800681190424074), (2217, 0.10763701610780163), (2218, 0.12581332888041832), (2219, 0.09685541177273516), (2220, 0.07784947177379056), (2221, 0.26283800569612215), (2222, 0.13621556731794476), (2223, 0.11415564739000414), (2224, 0.20870229582101593), (2225, 0.06449727209077044), (2226, 0.15597608845553676), (2227, 0.13756181380415503), (2228, 0.06716223294709112), (2229, 0.14734190738101113), (2230, 0.1283590503387016), (2231, 0.09816788556097536), (2232, 0.11199207726208427), (2233, 0.095025917950932), (2234, 0.17646526407014929), (2235, 0.1632506246761433), (2236, 0.19639471949053922), (2237, 0.23253658286994186), (2238, 0.006583353913520553), (2239, 0.22413842922723579), (2240, 0.15738042951123446), (2241, 0.14269957184228704), (2242, 0.13753869328066984), (2243, 0.05612667459408861), (2244, 0.12427251945553633), (2245, 0.1432140690209229), (2246, 0.13529116560724022), (2247, 0.054841748549645235), (2248, 0.04924893354044654), (2249, 0.10020381390145805), (2250, 0.23132098970591616), (2251, 0.10662843391523613), (2252, 0.13796812927542354), (2253, 0.06857773051499577), (2254, 0.17543812851471063), (2255, 0.10310274669367414), (2256, 0.07290390154296686), (2257, 0.09429759781945185), (2258, 0.1746055809726122), (2259, 0.15852126935071764), (2260, 0.10100942055987083), (2261, 0.07798888897732696), (2262, 0.12128205822516822), (2263, 0.11318289752088687), (2264, 0.16031749983320312), (2265, 0.1954320739813042), (2266, 0.1083322957409402), (2267, 0.047701992584553966), (2268, 0.11723045098455029), (2269, 0.1828795903992051), (2270, 0.11200729279837159), (2271, 0.11411794339289151), (2272, 0.07387194816410914), (2273, 0.10975708150282783), (2274, 0.10246236002733346), (2275, 0.1537417331114526), (2276, 0.20976071687253908), (2277, 0.2349501336467274), (2278, 0.12338634598315978), (2279, 0.17765559944182563), (2280, 0.1815820268343641), (2281, 0.1068713686057888), (2282, 0.023978215169285916), (2283, 0.11187426783148181), (2284, 0.14789424050568872), (2285, 0.17899004987850278), (2286, 0.13338588835821363), (2287, 0.17421209343696548), (2288, 0.012391872371982285), (2289, 0.05668123655482935), (2290, 0.17848534166939217), (2291, 0.16761462135390348), (2292, 0.10971624799320949), (2293, 0.05975733678556867), (2294, 0.28515758684676185), (2295, 0.11675880663269626), (2296, 0.13376044273390786), (2297, 0.12040575448970658), (2298, 0.15163391715975655), (2299, 0.06781648172937899), (2300, 0.05585340169715342), (2301, 0.2529627854157713), (2302, 0.10933685823008694), (2303, 0.16703388845207606), (2304, 0.09385483035894514), (2305, 0.05172378241425251), (2306, 0.13333567390068451), (2307, 0.02428839881024802), (2308, 0.10145803608621079), (2309, 0.18717884509466476), (2310, 0.03435606260321436), (2311, 0.1337285804381345), (2312, 0.029256868661246875), (2313, 0.12984040298741206), (2314, 0.0663287132063963), (2315, 0.10594390689680942), (2316, 0.22252684722182847), (2317, 0.1279983920370381), (2318, 0.2971999188119403), (2319, 0.14322317924819777), (2320, 0.18743419763320357), (2321, 0.19707327331352223), (2322, 0.15120069592285995), (2323, 0.09356564458560838), (2324, 0.07213867804936226), (2325, 0.042074875878891756), (2326, 0.1160952563312153), (2327, 0.13827039984206804), (2328, 0.05504616946935373), (2329, 0.13842750882737762), (2330, 0.137966910278786), (2331, 0.09002024830518388), (2332, 0.07059600181139118), (2333, 0.04411515942825795), (2334, 0.2030886929305036), (2335, 0.16235003029006684), (2336, 0.09760419146211452), (2337, 0.10485954491275513), (2338, 0.1618308940580848), (2339, 0.1514473823166704), (2340, 0.14418908212904885), (2341, 0.031755280002162725), (2342, 0.09092098510818422), (2343, 0.051069950494533244), (2344, 0.11083415004352867), (2345, 0.049641915648435196), (2346, 0.10675694187220676), (2347, 0.1831423127436739), (2348, 0.13754923561569596), (2349, 0.09836938761231949), (2350, 0.10960183080975072), (2351, 0.15301585335892415), (2352, 0.11103540739734018), (2353, 0.19091213603300164), (2354, 0.07841808881051467), (2355, 0.11808345025222008), (2356, 0.10240345600063679), (2357, 0.1125449899890424), (2358, 0.014404191765796255), (2359, 0.1563101467695013), (2360, 0.10483522914089775), (2361, 0.10735025960647401), (2362, 0.14093114735561485), (2363, 0.12195495571786999), (2364, 0.0886861649887638), (2365, 0.15116530754615062), (2366, 0.11740323029650891), (2367, 0.17759438478785786), (2368, 0.1787321767351588), (2369, 0.059879319285889146), (2370, 0.06936129729968366), (2371, 0.1465015630334675), (2372, 0.08862266055162243), (2373, 0.02143460515243395), (2374, 0.18157105378255692), (2375, 0.20720076984115154), (2376, 0.2100840722673286), (2377, 0.12887683931114843), (2378, 0.10780504276082963), (2379, 0.11709705382259751), (2380, 0.06184568656872384), (2381, 0.11772596077613375), (2382, 0.10755356553351227), (2383, 0.08984635004565115), (2384, 0.0658314264857776), (2385, 0.1193502775273383), (2386, 0.09760005546011978), (2387, 0.13114846151363882), (2388, 0.09875932248257162), (2389, 0.11439349128134328), (2390, 0.11350746400552524), (2391, 0.1629125411195925), (2392, 0.03948733736024496), (2393, 0.1573351165864285), (2394, 0.10139735706291556), (2395, 0.07382894720515218), (2396, 0.10892209286239116), (2397, 0.15398245258542728), (2398, 0.1444552076365418), (2399, 0.14725100218559756), (2400, 0.1240823166367952), (2401, 0.0402139675200613), (2402, 0.15574057492875332), (2403, 0.19496059773663446), (2404, 0.0970388120614216), (2405, 0.11163807406306188), (2406, 0.18554540223527655), (2407, 0.08011418803666331), (2408, 0.0989485957906955), (2409, 0.1641317505425184), (2410, 0.12544928179991974), (2411, 0.13443527210697043), (2412, 0.194383010018539), (2413, 0.18932680003935212), (2414, 0.09359837030523258), (2415, 0.12668209941661523), (2416, 0.15818951615992694), (2417, 0.1775963507486667), (2418, 0.17868579638778728), (2419, 0.06989294659480572), (2420, 0.1072354048200169), (2421, 0.17124402864627317), (2422, 0.1857218404489745), (2423, 0.11609045867183641), (2424, 0.08974522783347537), (2425, 0.015184919010557884), (2426, 0.13339114753277073), (2427, 0.19045860962273276), (2428, 0.13815737974479914), (2429, 0.09489102520927846), (2430, 0.18181702136560973), (2431, 0.09472611243682924), (2432, 0.1174437857468378), (2433, 0.086391906741321), (2434, 0.12339117990299578), (2435, 0.0765232415548805), (2436, 0.20219314240795228), (2437, 0.07421564561771136), (2438, 0.09566352466401264), (2439, 0.16232980000805491), (2440, 0.11826672216563451), (2441, 0.18346026534559354), (2442, 0.1510430244948726), (2443, 0.26979121336116296), (2444, 0.13200332911654364), (2445, 0.11732473008930637), (2446, 0.1287883890805633), (2447, 0.20750696146967526), (2448, 0.12750989248139255), (2449, 0.14059042505495686), (2450, 0.10322048550623716), (2451, 0.09627928827685427), (2452, 0.07661824968127744), (2453, 0.0889270496892937), (2454, 0.036982503720663584), (2455, 0.06041118549650381), (2456, 0.1245691264105639), (2457, 0.12982136473958314), (2458, 0.08139939378977147), (2459, 0.1293640441949684), (2460, 0.18016112966853642), (2461, 0.1707108492457276), (2462, 0.04748802882732126), (2463, 0.12270102839084852), (2464, 0.1098996128034209), (2465, 0.11899621904430273), (2466, 0.10360099364872324), (2467, 0.1794386995736234), (2468, 0.15923107283746632), (2469, 0.2046122743889229), (2470, 0.053144432125788496), (2471, 0.0630672392043512), (2472, 0.13378925327286817), (2473, 0.18165577733053795), (2474, 0.2528162580978191), (2475, 0.06679229539782455), (2476, 0.09159779618564355), (2477, 0.11732849734470645), (2478, 0.13980261474417732), (2479, 0.11944927406211252), (2480, 0.17588773541567784), (2481, 0.24479957556271648), (2482, 0.12515860215413147), (2483, 0.07646916121710863), (2484, 0.19927106953185317), (2485, 0.13628418630626868), (2486, 0.17579497578376), (2487, 0.26671166872297963), (2488, 0.14462434772907395), (2489, 0.12903006273982218), (2490, 0.08869148419410185), (2491, 0.12787827349093567), (2492, 0.16330854516998872), (2493, 0.12934858491912546), (2494, 0.21289854374602965), (2495, 0.08290989197511321), (2496, 0.14024362947553695), (2497, 0.09872446604941627), (2498, 0.1353686132702009), (2499, 0.06335742161697178), (2500, 0.0959231248529409), (2501, 0.12284693705575142), (2502, 0.13133960912973433), (2503, 0.16232004810546705), (2504, 0.13783311282117905), (2505, 0.12532140648678997), (2506, 0.06482016120163421), (2507, 0.10614505347376789), (2508, 0.07874222931274165), (2509, 0.19892823045907126), (2510, 0.1777847696872537), (2511, 0.1370291862586891), (2512, 0.18510821568415406), (2513, 0.25869556670356225), (2514, 0.12059169582953636), (2515, 0.02980229222691592), (2516, 0.07285902412489906), (2517, 0.20610384805812704), (2518, 0.11519624194986165), (2519, 0.10913469392585423), (2520, 0.1340468473883354), (2521, 0.10189926705527878), (2522, 0.20494711911832775), (2523, 0.0786081051430342), (2524, 0.18208212641676244), (2525, 0.11919808976104211), (2526, 0.13563156119026656), (2527, 0.1525008920777849), (2528, 0.1464781818890109), (2529, 0.12826135871400113), (2530, 0.23373095766269353), (2531, 0.14892114119395444), (2532, 0.06542493365740881), (2533, 0.06667225512850257), (2534, 0.1842642613510587), (2535, 0.12362633015411387), (2536, 0.033548475862300586), (2537, 0.06702636015177582), (2538, 0.25288374108654144), (2539, 0.14833361404837392), (2540, 0.19742412280466606), (2541, 0.12817649777298556), (2542, 0.11004532902675641), (2543, 0.0852082277713619), (2544, 0.09900867765343392), (2545, 0.1328480555623741), (2546, 0.19230531718014626), (2547, 0.10855148650708932), (2548, 0.09194811787362867), (2549, 0.0938194734853824), (2550, 0.2994529179687106), (2551, 0.07949620661927315), (2552, 0.17540871868148558), (2553, 0.2572766355987437), (2554, 0.15543331246949307), (2555, 0.17650051502922964), (2556, 0.08894465382169614), (2557, 0.04842854235768539), (2558, 0.22133683010074479), (2559, 0.1272131311299226), (2560, 0.2174485751138), (2561, 0.07956641954153254), (2562, 0.15446012409331056), (2563, 0.16348454444629965), (2564, 0.045173822432383604), (2565, 0.1417559232363435), (2566, 0.06591556974053316), (2567, 0.11276964661366601), (2568, 0.20711637226399504), (2569, 0.11430514762409888), (2570, 0.1252240733104013), (2571, 0.11808104591838944), (2572, 0.16864576106350465), (2573, 0.10819086672711391), (2574, 0.11633368528652577), (2575, 0.10767810661209791), (2576, 0.09515011506744342), (2577, 0.0), (2578, 0.06813052619973176), (2579, 0.19570205627903822), (2580, 0.1479154473167785), (2581, 0.15533825276039356), (2582, 0.2612197315286132), (2583, 0.0617882247670873), (2584, 0.19838899409475239), (2585, 0.09934554989686227), (2586, 0.08592977672813544), (2587, 0.19864581393627334), (2588, 0.1623337877887717), (2589, 0.07862482967185508), (2590, 0.09499738780628379), (2591, 0.1522998053059444), (2592, 0.1367254454914657), (2593, 0.10138053637316527), (2594, 0.0874363656274699), (2595, 0.09626468330843674), (2596, 0.04655769049051177), (2597, 0.08372416980392039), (2598, 0.20783882059743686), (2599, 0.06993388391553713), (2600, 0.08111090453329914), (2601, 0.1752198420483179), (2602, 0.13104067947829295), (2603, 0.21767526150416466), (2604, 0.104458266727841), (2605, 0.12456040415359691), (2606, 0.11995581800235551), (2607, 0.1936115373723288), (2608, 0.12712771510787432), (2609, 0.11677270075395188), (2610, 0.13566291668755712), (2611, 0.14941949194471532), (2612, 0.16745302598436482), (2613, 0.0614918460080535), (2614, 0.1715321326182024), (2615, 0.13395893393292), (2616, 0.17913562275242323), (2617, 0.18628516124154204), (2618, 0.1510198242742432), (2619, 0.1006238051751422), (2620, 0.06399284176434897), (2621, 0.21798347895629025), (2622, 0.2091928020489279), (2623, 0.07429343791350324), (2624, 0.11411753810149441), (2625, 0.1926744990144869), (2626, 0.12736662512412777), (2627, 0.09653454819195503), (2628, 0.07100604036704723), (2629, 0.13872368720548586), (2630, 0.13527913141026648), (2631, 0.10109018383515381), (2632, 0.22222983887731912), (2633, 0.2169936850662237), (2634, 0.13869771487757346), (2635, 0.07267598403574471), (2636, 0.11999948723742541), (2637, 0.14706839571402802), (2638, 0.23046854807229222), (2639, 0.1021497014647121), (2640, 0.19954079187330806), (2641, 0.08051716669692502), (2642, 0.20091594580297123), (2643, 0.11686609171862417), (2644, 0.17134622275178693), (2645, 0.23383615322205936), (2646, 0.1915941922133217), (2647, 0.22591021439924794), (2648, 0.07296593311997901), (2649, 0.20320145362551909), (2650, 0.1965337802152779), (2651, 0.06997239473052021), (2652, 0.11594105509435904), (2653, 0.21281728900403582), (2654, 0.19542526462245263), (2655, 0.09971777152983594), (2656, 0.13524085132890906), (2657, 0.089242153556227), (2658, 0.021138596803033687), (2659, 0.05948008511725417), (2660, 0.19440087572785222), (2661, 0.14076684040345233), (2662, 0.12073966026954384), (2663, 0.1394632195730821), (2664, 0.10113638906343403), (2665, 0.18598211230943879), (2666, 0.16102720328292824), (2667, 0.0706207442829832), (2668, 0.24257517498274334), (2669, 0.05450959621113153), (2670, 0.1034146704445964), (2671, 0.14532133307147926), (2672, 0.12299460376200386), (2673, 0.08858545622646656), (2674, 0.08383918377624651), (2675, 0.12928556706061217), (2676, 0.06026218583971807), (2677, 0.10515833252581443), (2678, 0.12478738860542107), (2679, 0.06651854069997916), (2680, 0.20156190820338987), (2681, 0.10211737816750156), (2682, 0.1600731931227948), (2683, 0.07068849550508506), (2684, 0.055618264419715124), (2685, 0.10667027336247625), (2686, 0.08604008862103742), (2687, 0.1991007105154191), (2688, 0.2012536987860191), (2689, 0.2129695535967448), (2690, 0.11451587509995209), (2691, 0.18111879902201425), (2692, 0.9999999999999993), (2693, 0.09605251375378143), (2694, 0.145585810796358), (2695, 0.18016199248677095), (2696, 0.14003759112297487), (2697, 0.146202304255601), (2698, 0.1979788886491993), (2699, 0.11880963175937491), (2700, 0.0039470307940493235), (2701, 0.08834396439491346), (2702, 0.13527809832617183), (2703, 0.051230511349293746), (2704, 0.09896084424965189), (2705, 0.062436526042106824), (2706, 0.26429591947630793), (2707, 0.06351363890122409), (2708, 0.15113663988794096), (2709, 0.0740991238815835), (2710, 0.16593595717272547), (2711, 0.1575992726079304), (2712, 0.22173957288815638), (2713, 0.12203331854424673), (2714, 0.15521154675154983), (2715, 0.14775457224262722), (2716, 0.1556063924847195), (2717, 0.03451956221575333), (2718, 0.17070967539550236), (2719, 0.05881150784897094), (2720, 0.16205024668190657), (2721, 0.09632392088790706), (2722, 0.06220470944695097), (2723, 0.13285980304853262), (2724, 0.16629368264834413), (2725, 0.11775516525928344), (2726, 0.1326726978941116), (2727, 0.14749864236795215), (2728, 0.10341014097950213), (2729, 0.17970659334050243), (2730, 0.1566872549489843), (2731, 0.09226974514722328), (2732, 0.19906467394257935), (2733, 0.07824195988411592), (2734, 0.13214977385836332), (2735, 0.049092710781235255), (2736, 0.1100749116537898), (2737, 0.05725163564607741), (2738, 0.12752981801467997), (2739, 0.14911152671931635), (2740, 0.22013401493854445), (2741, 0.13353811004996055), (2742, 0.18471465173048), (2743, 0.11506363210911162), (2744, 0.1931886424362793), (2745, 0.17825167952086463), (2746, 0.16060159893104733), (2747, 0.12493277878937598), (2748, 0.08042408113134476), (2749, 0.17009691806236227), (2750, 0.055494440331317375), (2751, 0.25479420274618786), (2752, 0.15008177742014164), (2753, 0.1005185798654843), (2754, 0.09886749822527838), (2755, 0.18575493329346232), (2756, 0.14361429028700137), (2757, 0.05290586823087625), (2758, 0.10153354580615988), (2759, 0.13329190060177187), (2760, 0.15681892999025773), (2761, 0.14777794754641524), (2762, 0.2126444677766632), (2763, 0.13770694367630207), (2764, 0.12075256043437448), (2765, 0.1301724546042997), (2766, 0.2149727823349252), (2767, 0.15624274792675324), (2768, 0.13553551291443297), (2769, 0.20454161198737572), (2770, 0.09745989565244834), (2771, 0.1554820203680693), (2772, 0.13889093872498665), (2773, 0.04465263942261536), (2774, 0.19224514559502034), (2775, 0.09015266620141053), (2776, 0.12730151060790962), (2777, 0.24646357972976363), (2778, 0.11811453387266464), (2779, 0.13956317886557104), (2780, 0.1666256281901176), (2781, 0.10199647930692256), (2782, 0.1987357671229355), (2783, 0.052941609497691416), (2784, 0.15047272415536966), (2785, 0.07911465960366296), (2786, 0.08140346362141915), (2787, 0.1078066404775891), (2788, 0.09298364013691057), (2789, 0.17551528297280108), (2790, 0.18825896886696977), (2791, 0.2322718713122362), (2792, 0.11151006486577347), (2793, 0.13714593925044874), (2794, 0.11954194572430955), (2795, 0.19660938661852626), (2796, 0.10845105693191968), (2797, 0.1265174953093941), (2798, 0.21728610023169528), (2799, 0.12274210233367486), (2800, 0.10733539815659096), (2801, 0.12083381347990717), (2802, 0.16764027132827106), (2803, 0.19403643835380585), (2804, 0.1098594112623431), (2805, 0.13791649607985762), (2806, 0.0760981109375549), (2807, 0.22834977891546637), (2808, 0.23476070078564654), (2809, 0.19811007954456625), (2810, 0.13669723863146388), (2811, 0.0794358171649185), (2812, 0.19003405232233492), (2813, 0.1657838493610668), (2814, 0.16441016064003405), (2815, 0.10100784092461326), (2816, 0.16691822795724864), (2817, 0.16126961308033197), (2818, 0.0844264371056743), (2819, 0.10394057286819455), (2820, 0.1626612941948629), (2821, 0.12844119934951642), (2822, 0.1531435074085859), (2823, 0.10857114702105068), (2824, 0.09652154986959013), (2825, 0.13890696500112032), (2826, 0.1289166692967392), (2827, 0.07389677639778222), (2828, 0.07789851073992031), (2829, 0.10135288909073535), (2830, 0.13620790831102522), (2831, 0.1741480340125666), (2832, 0.10397657836416488), (2833, 0.09539747229630528), (2834, 0.16970570171208438), (2835, 0.12192941825861704), (2836, 0.06941642000181561), (2837, 0.08910393052201035), (2838, 0.13851076714823904), (2839, 0.06142752471130437), (2840, 0.12914754845467416), (2841, 0.19387740613126012), (2842, 0.12291715649444723), (2843, 0.1926045892599803), (2844, 0.23734180792283907), (2845, 0.1799174093193307), (2846, 0.06322230999361494), (2847, 0.12418385244326334), (2848, 0.15151692707300213), (2849, 0.09049832980305689), (2850, 0.11228543622654459), (2851, 0.08869223436285378), (2852, 0.10126745512842121), (2853, 0.12527146433185896), (2854, 0.20930965704539964), (2855, 0.08359722049270799), (2856, 0.1002699171305594), (2857, 0.13632781237477032), (2858, 0.08525834127325468), (2859, 0.23623263317216214), (2860, 0.11539410947667102), (2861, 0.022108777250501845), (2862, 0.1533285866579535), (2863, 0.08740942484081939), (2864, 0.11199072055178029), (2865, 0.10100112880942183), (2866, 0.05397283952285436), (2867, 0.2474370344511746), (2868, 0.21185972737795172), (2869, 0.14155879960206527), (2870, 0.12210523666424922), (2871, 0.13711019758791526), (2872, 0.09744812969000768), (2873, 0.17662375414244236), (2874, 0.18749924048101224), (2875, 0.047070337385529834), (2876, 0.22492443803929618), (2877, 0.1388927613742425), (2878, 0.19046936042553506), (2879, 0.09331898012085724), (2880, 0.10071691256741772), (2881, 0.12258116643617877), (2882, 0.11763300754253395), (2883, 0.09169716033750594), (2884, 0.12959074114987398), (2885, 0.08963180102086496), (2886, 0.14202871516891727), (2887, 0.16135183283848445), (2888, 0.14068987202007505), (2889, 0.08333774710331106), (2890, 0.07274955049276602), (2891, 0.06699401663580873), (2892, 0.1799718519149815), (2893, 0.18866569930783697), (2894, 0.12587922748877786), (2895, 0.10087524475877656), (2896, 0.0716567126770358), (2897, 0.17576638652048276), (2898, 0.1514798218377733), (2899, 0.16330737644341597), (2900, 0.060249049414024806), (2901, 0.0875048658081343), (2902, 0.1213044804971271), (2903, 0.2480549457807733), (2904, 0.14994589210421383), (2905, 0.038451563603080524), (2906, 0.12020865097315968), (2907, 0.08649098813026818), (2908, 0.2763165732507634), (2909, 0.07776149755132648), (2910, 0.24027191176382257), (2911, 0.15411488624816802), (2912, 0.10474511654487739), (2913, 0.13699549906877184), (2914, 0.07553531583908173), (2915, 0.1652510640471876), (2916, 0.07695995314150018), (2917, 0.19984472707562712), (2918, 0.16184666296003686), (2919, 0.18431641343098398), (2920, 0.2063021609298148), (2921, 0.09044336645720633), (2922, 0.07023494459162206), (2923, 0.04161449746176761), (2924, 0.13171500768985614), (2925, 0.16563596882916556), (2926, 0.11253230111111831), (2927, 0.11404885421109359), (2928, 0.05028571412462173), (2929, 0.1476454959969529), (2930, 0.07735988392170609), (2931, 0.2543633987757439), (2932, 0.1707863719570426), (2933, 0.18751554485006525), (2934, 0.12797307258080315), (2935, 0.17077434247179216), (2936, 0.12731782164415023), (2937, 0.09912275231926199), (2938, 0.09602911619186386), (2939, 0.12722364532609373), (2940, 0.14273135184998323), (2941, 0.05381694587318758), (2942, 0.15643248261963794), (2943, 0.09344040759102262), (2944, 0.32227847321801306), (2945, 0.11670979724636782), (2946, 0.07139608376329847), (2947, 0.07229801361076135), (2948, 0.061443028233676866), (2949, 0.08911743003223546), (2950, 0.11584229282945338), (2951, 0.0989800700633585), (2952, 0.08929497166149337), (2953, 0.049494244380554706), (2954, 0.12390432010709083), (2955, 0.14947108071758966), (2956, 0.09672836424833649), (2957, 0.08214989712217323), (2958, 0.07810292397983386), (2959, 0.09968284671808843), (2960, 0.09582145208107606), (2961, 0.13499065505516814), (2962, 0.18387691041315543), (2963, 0.1473013650535775), (2964, 0.14285109606240595), (2965, 0.13103296421767333), (2966, 0.09072022944476171), (2967, 0.026342013045541766), (2968, 0.08296277156522483), (2969, 0.23710601730142292), (2970, 0.0663117248717141), (2971, 0.12327154020426984), (2972, 0.13241260091571574), (2973, 0.07902935736575244), (2974, 0.08620621026536546), (2975, 0.20608893679627655), (2976, 0.09729573252802204), (2977, 0.15766337807779734), (2978, 0.1659136966993808), (2979, 0.08327086281590175), (2980, 0.2030265766871103), (2981, 0.26667424699275505), (2982, 0.1243557614685979), (2983, 0.05870403810344058), (2984, 0.08329533954405763), (2985, 0.1550248964843413), (2986, 0.09963356054004409), (2987, 0.050506904109111246), (2988, 0.2028808240752977), (2989, 0.09849140889842298), (2990, 0.08374518846612522), (2991, 0.09245223791180449), (2992, 0.17411856571849418), (2993, 0.027235514740374292), (2994, 0.08041452899513332), (2995, 0.18442162792642172), (2996, 0.22537234581600427), (2997, 0.007806163023205285), (2998, 0.14640187780302508), (2999, 0.13615594572624323), (3000, 0.14839005168882408), (3001, 0.12395641895803794), (3002, 0.06123639751854781), (3003, 0.09687121027943187), (3004, 0.15431668245019448), (3005, 0.09583692316254824), (3006, 0.0501385900776028), (3007, 0.06068409591734102), (3008, 0.1632609557116105), (3009, 0.07105989872053199), (3010, 0.17446127174686304), (3011, 0.13887111791004558), (3012, 0.09275987265776905), (3013, 0.12786744279881065), (3014, 0.1404119533766306), (3015, 0.08495687557994826), (3016, 0.0975290373461988), (3017, 0.12271158125205232), (3018, 0.1773217366962471), (3019, 0.13938896496714312), (3020, 0.07734893406724715), (3021, 0.10069858467839962), (3022, 0.17460756700202917), (3023, 0.20874679442018426), (3024, 0.130361554808858), (3025, 0.03506806543000316), (3026, 0.09487141586135994), (3027, 0.15425089327617156), (3028, 0.14165524493210255), (3029, 0.05534691725596627), (3030, 0.04897849228351609), (3031, 0.07491392574472248), (3032, 0.08960154557963128), (3033, 0.16306179948696264), (3034, 0.07747185154939983), (3035, 0.04341224453011811), (3036, 0.18122629377955204), (3037, 0.06115491603282904), (3038, 0.026408024070808115), (3039, 0.13255485474498807), (3040, 0.06253542259431352), (3041, 0.04807530818907306), (3042, 0.08446704730600013), (3043, 0.20987765944813663), (3044, 0.16095593828846186), (3045, 0.21680191668563695), (3046, 0.16997215699829524), (3047, 0.10114496204610095), (3048, 0.07369982837534403), (3049, 0.04347318601279924), (3050, 0.08042184333454405), (3051, 0.11739092478402362), (3052, 0.05670262407975522), (3053, 0.19735990283322494), (3054, 0.04951427298833266), (3055, 0.05435208040718803), (3056, 0.14827621515757383), (3057, 0.1034195939159772), (3058, 0.06682942349198098), (3059, 0.055475918222877015), (3060, 0.11309744873309609), (3061, 0.10463045951128715), (3062, 0.13230628149730256), (3063, 0.14926231602708442), (3064, 0.0803046450944641), (3065, 0.17050022555988237), (3066, 0.20597693262318162), (3067, 0.1744491888996327), (3068, 0.09269681560117468), (3069, 0.13426256681902776), (3070, 0.16115022481691257), (3071, 0.17836324864800077), (3072, 0.11443692823673114), (3073, 0.13358424123729878), (3074, 0.10158146009876702), (3075, 0.07432177296963284), (3076, 0.12245501764995799), (3077, 0.13191723562578714), (3078, 0.07935251706984929), (3079, 0.08736020887298086), (3080, 0.08880945336328061), (3081, 0.10203121079256608), (3082, 0.11802213412508494), (3083, 0.21604426975088775), (3084, 0.0913630927174116), (3085, 0.1925140073907193), (3086, 0.18726430161903407), (3087, 0.03808453004770685), (3088, 0.007954399278796362), (3089, 0.1250962463935353), (3090, 0.10289380644262523), (3091, 0.22894521710270832), (3092, 0.08863860441487241), (3093, 0.06595393485421132), (3094, 0.1937347933150056), (3095, 0.1968835124306653), (3096, 0.19867772951035972), (3097, 0.13197538988658575), (3098, 0.19254417987191383), (3099, 0.17626281632267815), (3100, 0.125377881637899), (3101, 0.0962757604941961), (3102, 0.18993877322185854), (3103, 0.047547432808568636), (3104, 0.08896570555652532), (3105, 0.08717758626264142), (3106, 0.05401918906477459), (3107, 0.02032575589979642), (3108, 0.23756437503730155), (3109, 0.11130927101191557), (3110, 0.11240567115030443), (3111, 0.24055608204958903), (3112, 0.11445715301438936), (3113, 0.09015985140910432), (3114, 0.16261787738817074), (3115, 0.08703307731975078), (3116, 0.12055695834784812), (3117, 0.1209981896956352), (3118, 0.15159681175243653), (3119, 0.11846947957384614), (3120, 0.14881404090012457), (3121, 0.14515966798304286), (3122, 0.17948901900068956), (3123, 0.12259099380163097), (3124, 0.11630801316561039), (3125, 0.11686596180046327), (3126, 0.06842400719032822), (3127, 0.23642645196857617), (3128, 0.027382178513221403), (3129, 0.2317583551821151), (3130, 0.06960048376422436), (3131, 0.10773883370089939), (3132, 0.0972598332495185), (3133, 0.13597283400520915), (3134, 0.10525576633905741), (3135, 0.09850558714302006), (3136, 0.11013764787075275), (3137, 0.136333996091218), (3138, 0.031091040344084882), (3139, 0.08534599160097163), (3140, 0.15401237746400784), (3141, 0.1931699575365204), (3142, 0.21918095074313346), (3143, 0.11843552481629041), (3144, 0.1924922625409559), (3145, 0.10145645912860336), (3146, 0.10526621079645743), (3147, 0.16881667830659025), (3148, 0.09531888922556397), (3149, 0.1772300070071419), (3150, 0.11513157213118606), (3151, 0.19368044684212404), (3152, 0.19722172097746815), (3153, 0.2002057218938028), (3154, 0.22363625688696842), (3155, 0.10947069238968854), (3156, 0.17384592376555655), (3157, 0.18576415510506109), (3158, 0.08491663060076501), (3159, 0.04553461210387008), (3160, 0.09581052200744777), (3161, 0.12620348150101857), (3162, 0.05081347374783587), (3163, 0.13027525496753672), (3164, 0.09892513354455879), (3165, 0.0940823238765525), (3166, 0.14965169700771896), (3167, 0.11895990919881687), (3168, 0.11968557422972592), (3169, 0.09833841178384653), (3170, 0.09069501317605172), (3171, 0.13617175090217196), (3172, 0.12119564445422235), (3173, 0.12154129448735561), (3174, 0.07293340879937486), (3175, 0.11532917865983847), (3176, 0.006017374669136202), (3177, 0.09685616990717001), (3178, 0.1305471855377682), (3179, 0.11587867460400225), (3180, 0.11831512420355345), (3181, 0.194236725148776), (3182, 0.13888653343892818), (3183, 0.1258428352395844), (3184, 0.17076881744726033), (3185, 0.07435231662637111), (3186, 0.07521364713957751), (3187, 0.1296075453925038), (3188, 0.1439736861052124), (3189, 0.11463504450394886), (3190, 0.09923282363609312), (3191, 0.10481873390668855), (3192, 0.14494433646876306), (3193, 0.10137698683146822), (3194, 0.11142658624173585), (3195, 0.11083829905183747), (3196, 0.09665383494222221), (3197, 0.06567439534344609), (3198, 0.110404138526655), (3199, 0.13552375683479365), (3200, 0.147278939221861), (3201, 0.11453171138201712), (3202, 0.12444070189909738), (3203, 0.12134641978824331), (3204, 0.08404838693146424), (3205, 0.2270492640095993), (3206, 0.1595714029092294), (3207, 0.10654365464892704), (3208, 0.09578511181230306), (3209, 0.15529325000230357), (3210, 0.19450883046145384), (3211, 0.1178595538854352), (3212, 0.11174767643977529), (3213, 0.16265064607469618), (3214, 0.09698462219768375), (3215, 0.18521725605040537), (3216, 0.0594125780381348), (3217, 0.06879378841640396), (3218, 0.20820509519988414), (3219, 0.11343064321509091), (3220, 0.13949213209200115), (3221, 0.12719496469912117), (3222, 0.19053245758707724), (3223, 0.1009159978785372), (3224, 0.10803676514700734), (3225, 0.1562155241721083), (3226, 0.20761697469429233), (3227, 0.14311950182202918), (3228, 0.1755023397014742), (3229, 0.12160704093316145), (3230, 0.06943161873149083), (3231, 0.14553654996360887), (3232, 0.18510988704487058), (3233, 0.1620755956378436), (3234, 0.16709284724480877), (3235, 0.1533943598452732), (3236, 0.07559254672174923), (3237, 0.21730766535970011), (3238, 0.1900122630925775), (3239, 0.10404287683162557), (3240, 0.21598901984442825), (3241, 0.12579200547753852), (3242, 0.09008422387136514), (3243, 0.09784838975611695), (3244, 0.15735198168660963), (3245, 0.12461823412238765), (3246, 0.16654135028823447), (3247, 0.1290723223135859), (3248, 0.13632850574143426), (3249, 0.15258516701907604), (3250, 0.06626109000585183), (3251, 0.05453611330202991), (3252, 0.11929368748516693), (3253, 0.20714086116494954), (3254, 0.1358186104040991), (3255, 0.11246298644420043), (3256, 0.17186154928687822), (3257, 0.11491123170790316), (3258, 0.08906405959790008), (3259, 0.18009577115949563), (3260, 0.18546973308772705), (3261, 0.0004696032653385487), (3262, 0.09940000279156191), (3263, 0.07511187644754415), (3264, 0.18275741338866755), (3265, 0.1802783788092007), (3266, 0.041199124346125715), (3267, 0.15539779777365711), (3268, 0.07865630168431913), (3269, 0.09809585601773402), (3270, 0.16948120596969662), (3271, 0.12260639757736544), (3272, 0.138305335865604), (3273, 0.09820926313633681), (3274, 0.08816479471617374), (3275, 0.20135410348171623), (3276, 0.2372981207338417), (3277, 0.1164609886985672), (3278, 0.09948223109904913), (3279, 0.15733671489245768), (3280, 0.1057271724246933), (3281, 0.08595908319833022), (3282, 0.14638243951916285), (3283, 0.1344162796791164), (3284, 0.23631355447118582), (3285, 0.1901773015512332), (3286, 0.11074740582918025), (3287, 0.07391982097085761), (3288, 0.14373133925721984), (3289, 0.1418173575945912), (3290, 0.07409633832884178), (3291, 0.11096405746654305), (3292, 0.04616248008482718), (3293, 0.1597361756414025), (3294, 0.2444697788111194), (3295, 0.17664126217850715), (3296, 0.06676238972109197), (3297, 0.2193981881981867), (3298, 0.1524666286356684), (3299, 0.20281406942792304), (3300, 0.09466946750552313), (3301, 0.08066510453439801), (3302, 0.11141436001459352), (3303, 0.2149865219180981), (3304, 0.16096848225181482), (3305, 0.046358274550499526), (3306, 0.2045390339032157), (3307, 0.070654582740575), (3308, 0.17214821962440055), (3309, 0.10613613209406202), (3310, 0.11349861917701437), (3311, 0.1432951475101949), (3312, 0.12452333854206576), (3313, 0.12335616967035616), (3314, 0.11835304546282673), (3315, 0.22053027404737796), (3316, 0.16622765583788476), (3317, 0.17314621315860593), (3318, 0.164231218037484), (3319, 0.11742055903328284), (3320, 0.1339471283018981), (3321, 0.10604617866972746), (3322, 0.04005702958651234), (3323, 0.15558139245324334), (3324, 0.02363578415295159), (3325, 0.11677781472778835), (3326, 0.09748675803957103), (3327, 0.1502980488077589), (3328, 0.21754991284195693), (3329, 0.17314881948238223), (3330, 0.1841283289017484), (3331, 0.11488140917978037), (3332, 0.11545647175906182), (3333, 0.08074784796382543), (3334, 0.18241284812329256), (3335, 0.1484075063355759), (3336, 0.18483797578959288), (3337, 0.05860781111261073), (3338, 0.09118569094316077), (3339, 0.07152090113676561), (3340, 0.0365380937937796), (3341, 0.08021705816111017), (3342, 0.18216051427839206), (3343, 0.13157548082483597), (3344, 0.24521889570721747), (3345, 0.17704459999601294), (3346, 0.18802178303882633), (3347, 0.11252722126800944), (3348, 0.09558698643847603), (3349, 0.07933441007745103), (3350, 0.05323695373311405), (3351, 0.17571542253491404), (3352, 0.19857426361260644), (3353, 0.11935736217970858), (3354, 0.0407211003922237), (3355, 0.10695924724850736), (3356, 0.10809317268693282), (3357, 0.13117544409115747), (3358, 0.0683518495022411), (3359, 0.08446959958000073), (3360, 0.247843544601433), (3361, 0.11630237119492202), (3362, 0.28171538289596504), (3363, 0.10394576596608218), (3364, 0.17331204467225886), (3365, 0.1378066790460767), (3366, 0.10719385558458265), (3367, 0.14984145099884963), (3368, 0.1518441948485813), (3369, 0.07057780819550523), (3370, 0.19171700243724404), (3371, 0.08191618258184309), (3372, 0.06772599617457326), (3373, 0.1537725797437084), (3374, 0.21353515272070958), (3375, 0.1649544335610301), (3376, 0.16914735004322975), (3377, 0.2305525691801288), (3378, 0.06532672683604333), (3379, 0.09214555284086713), (3380, 0.12921409131005662), (3381, 0.06889122403741714), (3382, 0.14587228123937263), (3383, 0.0443206653644179), (3384, 0.20643238377618753), (3385, 0.18229377333702074), (3386, 0.21825921287394492), (3387, 0.17130568230834714), (3388, 0.15667642378685845), (3389, 0.23167071922152835), (3390, 0.1499055602112238), (3391, 0.13559205993348314), (3392, 0.12719674253823943), (3393, 0.154131407006278), (3394, 0.10350820786901718), (3395, 0.2822696999151948), (3396, 0.020243700979519847), (3397, 0.13846630683219324), (3398, 0.09977957811274522), (3399, 0.185947451503183), (3400, 0.09215642538427085), (3401, 0.08901124210651715), (3402, 0.10548682328104853), (3403, 0.22297282807358793), (3404, 0.13418723140402072), (3405, 0.12685512747017247), (3406, 0.14468298999469734), (3407, 0.20237163613205536), (3408, 0.21918797904975143), (3409, 0.1698832168054823), (3410, 0.16298146284572032), (3411, 0.11279283976733201), (3412, 0.11386854376423793), (3413, 0.13220453064773094), (3414, 0.1361483322887876), (3415, 0.09238667308401886), (3416, 0.16371609471299162), (3417, 0.11940620842570132), (3418, 0.16744557897721318), (3419, 0.11284495498703294), (3420, 0.25404597772499654), (3421, 0.186928587466133), (3422, 0.0676521652034555), (3423, 0.10353005956628794), (3424, 0.16231042165699033), (3425, 0.10267044663662762), (3426, 0.18868872023012745), (3427, 0.17821876033240278), (3428, 0.12149528852579733), (3429, 0.052801590278111654), (3430, 0.19627863455667063), (3431, 0.023781807777194276), (3432, 0.09287012027951454), (3433, 0.1901634042954986), (3434, 0.0583419246819252), (3435, 0.1759780044725072), (3436, 0.11659963906846485), (3437, 0.18433478504491108), (3438, 0.10882733072598483), (3439, 0.10915020800547241), (3440, 0.1110641037884965), (3441, 0.0774028687748751), (3442, 0.0664174697704074), (3443, 0.11892993573389894), (3444, 0.15189765334417163), (3445, 0.1308069935342329), (3446, 0.13399687307260288), (3447, 0.2406141894615125), (3448, 0.14683235406032252), (3449, 0.18942801669729842), (3450, 0.28042905349686037), (3451, 0.10376025514390193), (3452, 0.11901170729184886), (3453, 0.1681980139646206), (3454, 0.13607702783618725), (3455, 0.04426717204521724), (3456, 0.21261000241140923), (3457, 0.15267117793530952), (3458, 0.21730375828901657), (3459, 0.1262367590383997), (3460, 0.18143602787653004), (3461, 0.15577864969057076), (3462, 0.15149261665644867), (3463, 0.23779016978218942), (3464, 0.1656800998729873), (3465, 0.18219267547704684), (3466, 0.18732932093274235), (3467, 0.1564825607617464), (3468, 0.13041235188120426), (3469, 0.20405957420152568), (3470, 0.13397480119312763), (3471, 0.14372810540475217), (3472, 0.09455759634768399), (3473, 0.0755270552200502), (3474, 0.13642532532773627), (3475, 0.05233482325775569), (3476, 0.02840619535648639), (3477, 0.20520672800027642), (3478, 0.09937072924255266), (3479, 0.13891129812699232), (3480, 0.18533201810007777), (3481, 0.07897544454126734), (3482, 0.07650652775730575), (3483, 0.2382404651275992), (3484, 0.13668709188787498), (3485, 0.08832184042024861), (3486, 0.1514171304034905), (3487, 0.16416587742008507), (3488, 0.12422868174150993), (3489, 0.06125312571865216), (3490, 0.08957472316480065), (3491, 0.12751946292408953), (3492, 0.17998355597899104), (3493, 0.1400764475916202), (3494, 0.044832166790224066), (3495, 0.0858755347901135), (3496, 0.1286735779005054), (3497, 0.09989905722812766), (3498, 0.22440968019508706), (3499, 0.09195689844266912), (3500, 0.11365155730635186), (3501, 0.11493156403271587), (3502, 0.12663703050753927), (3503, 0.142193008505912), (3504, 0.21657607922556057), (3505, 0.052345603830136964), (3506, 0.16714758506039984), (3507, 0.13207659360381127), (3508, 0.20054038900894106), (3509, 0.1401316499882688), (3510, 0.06926046703984906), (3511, 0.20607257330200596), (3512, 0.1477047833131877), (3513, 0.11609831879545604), (3514, 0.12146884851065753), (3515, 0.20367626341292627), (3516, 0.18824001490335174), (3517, 0.12413479767572136), (3518, 0.27670392497440843), (3519, 0.05944849491972593), (3520, 0.12732576567034323), (3521, 0.0749377619032766), (3522, 0.10352126020180073), (3523, 0.04539433678283836), (3524, 0.1983294522903342), (3525, 0.122254371896253), (3526, 0.11487979072401183), (3527, 0.07890217930832918), (3528, 0.14909122858561094), (3529, 0.09609548525200638), (3530, 0.0348713227892601), (3531, 0.16496720199062692), (3532, 0.09214664742845323), (3533, 0.09769739618737318), (3534, 0.16549433593136054), (3535, 0.13207389082558085), (3536, 0.18249113892451538), (3537, 0.09716951756443387), (3538, 0.11114492154957709), (3539, 0.1264938832507063), (3540, 0.09655123490193883), (3541, 0.23709890713648418), (3542, 0.08992414116457119), (3543, 0.04546512440860542), (3544, 0.06830838714596399), (3545, 0.059028129147455616), (3546, 0.1448115910652451), (3547, 0.03933158107063507), (3548, 0.06613796757142414), (3549, 0.08298882872978942), (3550, 0.09299592765433747), (3551, 0.16630197381694592), (3552, 0.20168139439038987), (3553, 0.21770787611365355), (3554, 0.0962009512770207), (3555, 0.10131772226009265), (3556, 0.22443740492327413), (3557, 0.16259230969365215), (3558, 0.19225486700890385), (3559, 0.1873391261639483), (3560, 0.14212319061226564), (3561, 0.043666067578374414), (3562, 0.1282618028453071), (3563, 0.17201666748457675), (3564, 0.13653777480739845), (3565, 0.09456485581671234), (3566, 0.16007053910739122), (3567, 0.06547409385128185), (3568, 0.12715452827062068), (3569, 0.12926694109682677), (3570, 0.07645252610357875), (3571, 0.13022674809283735), (3572, 0.10535098170102065), (3573, 0.024568176264060094), (3574, 0.18166028118125616), (3575, 0.136895008049953), (3576, 0.0718178090684137), (3577, 0.20073339862161546), (3578, 0.13424368209676282), (3579, 0.21536088927399197), (3580, 0.13682576822635595), (3581, 0.04710267982663861), (3582, 0.17559160594499257), (3583, 0.07001925556331971), (3584, 0.13186913872102174), (3585, 0.11788090410959651), (3586, 0.16206564016654476), (3587, 0.09692152082102873), (3588, 0.09558940742626179), (3589, 0.15375962149573139), (3590, 0.06842139881391952), (3591, 0.08648276093787523), (3592, 0.1348950484739172), (3593, 0.09150144599353273), (3594, 0.18367121748881338), (3595, 0.10395543583145926), (3596, 0.15213038345655816), (3597, 0.1534471889646936), (3598, 0.17080503932763477), (3599, 0.1904851588889936), (3600, 0.1149280639873183), (3601, 0.11155185563965188), (3602, 0.12742179803206827), (3603, 0.10602915913671573), (3604, 0.13124398925400665), (3605, 0.1473943213348504), (3606, 0.10321160004586626), (3607, 0.08495156512082805), (3608, 0.020685676568613982), (3609, 0.07200030896509352), (3610, 0.14685107841421452), (3611, 0.12455580300068068), (3612, 0.22475012000047967), (3613, 0.09496482944487868), (3614, 0.14801037957624838), (3615, 0.04863918812542292), (3616, 0.13144695900730277), (3617, 0.04562483300805627), (3618, 0.1479118487818138), (3619, 0.11053523969233718), (3620, 0.08522601315276308), (3621, 0.07348264897277118), (3622, 0.09246162116300188), (3623, 0.16064573494135065), (3624, 0.10851327655295755), (3625, 0.02217542461765665), (3626, 0.17557864780045532), (3627, 0.045185989835371414), (3628, 0.11492932698455266), (3629, 0.06686750144833742), (3630, 0.16751747945596437), (3631, 0.07840558536290593), (3632, 0.14521741198942573), (3633, 0.1447470802599795), (3634, 0.16837801811648684), (3635, 0.14534545016981837), (3636, 0.014983065305069373), (3637, 0.18684645804231828), (3638, 0.14885039050674406), (3639, 0.13668255328317108), (3640, 0.14493259580194343), (3641, 0.14913355593634248), (3642, 0.18376592654214485), (3643, 0.18422508743817032), (3644, 0.108982603517571), (3645, 0.16269142648466645), (3646, 0.1719276687622216), (3647, 0.11319800337901036), (3648, 0.19550762690575452), (3649, 0.055075630670434916), (3650, 0.1355555937171215), (3651, 0.10422707952385886), (3652, 0.16195213261064847), (3653, 0.11836526750770171), (3654, 0.13359344663656905), (3655, 0.2887196483515212), (3656, 0.23231813671905718), (3657, 0.1488832466805582), (3658, 0.143142933746103), (3659, 0.1869502883003535), (3660, 0.14455980566405685), (3661, 0.18469648785501572), (3662, 0.07445650044583564), (3663, 0.0), (3664, 0.06845829210086082), (3665, 0.1583299682534501), (3666, 0.11625081602637202), (3667, 0.194487300374264), (3668, 0.13871301327072244), (3669, 0.09010816986708456), (3670, 0.18257512091652503), (3671, 0.08119862735077302), (3672, 0.044544916094780854), (3673, 0.12273149322139756), (3674, 0.12568544362810166), (3675, 0.14759789673475326), (3676, 0.06501447536254798), (3677, 0.12777857782329338), (3678, 0.14467078275010004), (3679, 0.004724434278929599), (3680, 0.12222647034305442), (3681, 0.14606120142870005), (3682, 0.041957493609503224), (3683, 0.06720397562920641), (3684, 0.18449938569213414), (3685, 0.14301496753464454), (3686, 0.06691138425728986), (3687, 0.024534143643600362), (3688, 0.10602536048672831), (3689, 0.19164478758002698), (3690, 0.17024554146069154), (3691, 0.0720782620806275), (3692, 0.1902069722096246), (3693, 0.07558879031941082), (3694, 0.1940723493358407), (3695, 0.12774927531966582), (3696, 0.15341160907902576), (3697, 0.11790904718802818), (3698, 0.1659912285119593), (3699, 0.1677928653384911), (3700, 0.07494302635365825), (3701, 0.15091000387594544), (3702, 0.022418215090086888), (3703, 0.0731011568556883), (3704, 0.12453431117390054), (3705, 0.1648138363370297), (3706, 0.15158705190954672), (3707, 0.0779719037825242), (3708, 0.133120674638743), (3709, 0.1614922023753874), (3710, 0.11036510543669399), (3711, 0.23793204958164835), (3712, 0.10151458881495194), (3713, 0.14178912501534066), (3714, 0.08635534645474113), (3715, 0.10766117285267193), (3716, 0.12138881431050705), (3717, 0.015315008668197653), (3718, 0.1307818862917228), (3719, 0.00950559488257586), (3720, 0.179664137672855), (3721, 0.0658889722489894), (3722, 0.13199703684359473), (3723, 0.06895800247870522), (3724, 0.08728113926236894), (3725, 0.05548357743655907), (3726, 0.038171399090798495), (3727, 0.08013295936439513), (3728, 0.23192419535707712), (3729, 0.04152078099409771), (3730, 0.14524464288564795), (3731, 0.23444863906579086), (3732, 0.12360415768190952), (3733, 0.1590257474617765), (3734, 0.1268727644017339), (3735, 0.07729574453983118), (3736, 0.16465453222478285), (3737, 0.05150832672132565), (3738, 0.11248001784985572), (3739, 0.16173368399798632), (3740, 0.07557377288192993), (3741, 0.22813533941609243), (3742, 0.16272085261135621), (3743, 0.14939549726486515), (3744, 0.11808092372449112), (3745, 0.15798482651780651), (3746, 0.11111429273283076), (3747, 0.2077133421707041), (3748, 0.16098972308032122), (3749, 0.08512686249326167), (3750, 0.13582018534558765), (3751, 0.2521501302459962), (3752, 0.17421743338282317), (3753, 0.1411850134036484), (3754, 0.15952712712209574), (3755, 0.05942079069004528), (3756, 0.147620035167987), (3757, 0.0932511196596861), (3758, 0.10197866287196218), (3759, 0.14042808755783134), (3760, 0.0033114097665663924), (3761, 0.005875958105537018), (3762, 0.032297116213635145), (3763, 0.13231950391374436), (3764, 0.07108081024774689), (3765, 0.18077056198268265), (3766, 0.12265223245306522), (3767, 0.17065346374364757), (3768, 0.09344382621378294), (3769, 0.08701782362565422), (3770, 0.06336976924623368), (3771, 0.1303166259497234), (3772, 0.13713205004153903), (3773, 0.10482509894064479), (3774, 0.11081145257748326), (3775, 0.10114060961609686), (3776, 0.08011620306988607), (3777, 0.20277800242641725), (3778, 0.21583648083711363), (3779, 0.15066078041600287), (3780, 0.1869777332450765), (3781, 0.11231844157542692), (3782, 0.12323534288840347), (3783, 0.1326406325222214), (3784, 0.16917325144548362), (3785, 0.07814543874267008), (3786, 0.13690095362409574), (3787, 0.11720952572033715), (3788, 0.0861698464908778), (3789, 0.052442218162906784), (3790, 0.13167517928605962), (3791, 0.03044196829971377), (3792, 0.1439183089656887), (3793, 0.10830309982381114), (3794, 0.15551356716676482), (3795, 0.11979105427727732), (3796, 0.054439140659644426), (3797, 0.2048132874083103), (3798, 0.11062398742011427), (3799, 0.07604304436758416), (3800, 0.10134482556794312), (3801, 0.2535000241603502), (3802, 0.15173928737155268), (3803, 0.11977426713430342), (3804, 0.05762160307696071), (3805, 0.07999867150812005), (3806, 0.0393087790118172), (3807, 0.17529952763578005), (3808, 0.10533130827450854), (3809, 0.13346204440339476), (3810, 0.14562816527679942), (3811, 0.12958539402478064), (3812, 0.11887832595529056), (3813, 0.12726306082707436), (3814, 0.08799432941471445), (3815, 0.06926826317677799), (3816, 0.09335666463982013), (3817, 0.0978089628600133), (3818, 0.08303026107483019), (3819, 0.16477930838222926), (3820, 0.035846908970498484), (3821, 0.1498324516694705), (3822, 0.19974460142090603), (3823, 0.14844327381831413), (3824, 0.1044329520897484), (3825, 0.13810193554544914), (3826, 0.19250830699700583), (3827, 0.061612525307723334), (3828, 0.16157031037976757), (3829, 0.20772778149132318), (3830, 0.08048690363008236), (3831, 0.07459653686696924), (3832, 0.08947801937161169), (3833, 0.10065457692406309), (3834, 0.1349788096847381), (3835, 0.2127209020465962), (3836, 0.04613054207061995), (3837, 0.0553266554323393), (3838, 0.03347834600019383), (3839, 0.2393892153034823), (3840, 0.15152334593420227), (3841, 0.12516806838752217), (3842, 0.13986594185410212), (3843, 0.07680287083687203), (3844, 0.09961797741831388), (3845, 0.14869029196459432), (3846, 0.0989228213687521), (3847, 0.06912166470001548), (3848, 0.04456865430676175), (3849, 0.13323445782202145), (3850, 0.17816237958052358), (3851, 0.049753903942666315), (3852, 0.17491897740565204), (3853, 0.17941823061927137), (3854, 0.1721108976770008), (3855, 0.12987565349684077), (3856, 0.12511549388906326), (3857, 0.18787487299482197), (3858, 0.12868382888363208), (3859, 0.06029788386501368), (3860, 0.14498057055944014), (3861, 0.12489099239482016), (3862, 0.1760319747319267), (3863, 0.04472597950783349), (3864, 0.14224786324556848), (3865, 0.1607438778632398), (3866, 0.1915483578917116), (3867, 0.18407194950674233), (3868, 0.2168716363382196), (3869, 0.13234936926156046), (3870, 0.1381674045795783), (3871, 0.15290319950949863), (3872, 0.053567200733616226), (3873, 0.11726742521686276), (3874, 0.028805593212100057), (3875, 0.26786170960662053), (3876, 0.1554200469685271), (3877, 0.1326128704414565), (3878, 0.10100167065479237), (3879, 0.07530034744171603), (3880, 0.14424361340235475), (3881, 0.09760879464012039), (3882, 0.14510878367345503), (3883, 0.11273958735277781), (3884, 0.07418531321519797), (3885, 0.07827706201036476), (3886, 0.16200873176570532), (3887, 0.03380154033269574), (3888, 0.14228600706219782), (3889, 0.12861629636607788), (3890, 0.19658173662346537), (3891, 0.12945730244687367), (3892, 0.10916050679957452), (3893, 0.11246006729642903), (3894, 0.13190119018857513), (3895, 0.152910512857467), (3896, 0.0436003387008152), (3897, 0.11371356998683059), (3898, 0.08400266220636479), (3899, 0.04132593378349308), (3900, 0.10805274008079468), (3901, 0.09938343528521429), (3902, 0.10811386987675278), (3903, 0.23328417779814242), (3904, 0.15374727159674106), (3905, 0.09243706268986683), (3906, 0.12523919996829172), (3907, 0.15635511624945525), (3908, 0.10372999397473032), (3909, 0.1643062481698197), (3910, 0.15044235891707924), (3911, 0.061308660138279396), (3912, 0.07594105270691794), (3913, 0.19623764790134138), (3914, 0.11926004708167627), (3915, 0.11288987108065857), (3916, 0.10490962080993183), (3917, 0.12550933307669052), (3918, 0.0), (3919, 0.22203561462536997), (3920, 0.1126231764184701), (3921, 0.13158664042534204), (3922, 0.08525490316559578), (3923, 0.15480765421274922), (3924, 0.21280237334144056), (3925, 0.11198129523674293), (3926, 0.1399842936903499), (3927, 0.19720899013203072), (3928, 0.10598338970124095), (3929, 0.06718993845334449), (3930, 0.0743058534394455), (3931, 0.050331281552016154), (3932, 0.1625305011598867), (3933, 0.12721289748140752), (3934, 0.1343481827923607), (3935, 0.029021358586085677), (3936, 0.08481390587142416), (3937, 0.1289685441582359), (3938, 0.12252416680427008), (3939, 0.030769618706389407), (3940, 0.11878581719392045), (3941, 0.15958024293055745), (3942, 0.07950422645783073), (3943, 0.12024247236001367), (3944, 0.07954122137634138), (3945, 0.0010193347161037386), (3946, 0.22446257764778696), (3947, 0.21398974657404832), (3948, 0.06402177937575415), (3949, 0.0728765800245396), (3950, 0.11147254154458447), (3951, 0.13789628327273026), (3952, 0.09280035072183526), (3953, 0.10373743397530921), (3954, 0.19110942361493793), (3955, 0.17939391045946068), (3956, 0.1307776497705455), (3957, 0.1746663797756161), (3958, 0.12818592740221332), (3959, 0.20532024955646458), (3960, 0.14642086165458645), (3961, 0.2163309107607744), (3962, 0.07528643885035231), (3963, 0.15926281040924456), (3964, 0.09186527866008234), (3965, 0.1400440122437344), (3966, 0.13994732183618205), (3967, 0.05200986339231496), (3968, 0.1349708037326829), (3969, 0.05632463802706828), (3970, 0.15328411534279904), (3971, 0.04117502973013978), (3972, 0.1149741494722855), (3973, 0.2408326050094112), (3974, 0.11570488253196845), (3975, 0.09855467146169955), (3976, 0.1567920536897196), (3977, 0.13739314765266328), (3978, 0.19570411488510242), (3979, 0.11135585414033422), (3980, 0.1336027537013596), (3981, 0.012106195866352656), (3982, 0.11980577327966939), (3983, 0.2219199449741691), (3984, 0.12866500179178367), (3985, 0.09932131217785373), (3986, 0.08286451765859033), (3987, 0.029731792831906346), (3988, 0.027336811379276266), (3989, 0.049592879530277745), (3990, 0.11477221833683697), (3991, 0.08239258538855401), (3992, 0.15835586786592115), (3993, 0.14883900680302165), (3994, 0.10783707159042993), (3995, 0.09561670915183626), (3996, 0.036750430565993794), (3997, 0.12238152197011558), (3998, 0.1793195841542172), (3999, 0.06671832210961327), (4000, 0.1463005156445729), (4001, 0.19038564422395785), (4002, 0.10400172154247266), (4003, 0.09490475880923782), (4004, 0.21342434099323762), (4005, 0.19955306942966597), (4006, 0.09450132159772393), (4007, 0.18175634449723152), (4008, 0.11658547657348368), (4009, 0.16835617510180836), (4010, 0.09022997923614581), (4011, 0.12974648251290433), (4012, 0.19497610328993978), (4013, 0.12901114040579675), (4014, 0.0749739455573814), (4015, 0.1928549035197636), (4016, 0.18679638137072868), (4017, 0.06806426508425488), (4018, 0.12632688856956753), (4019, 0.0505370806470749), (4020, 0.17280480859564035), (4021, 0.02189624691205994), (4022, 0.12377507736080691), (4023, 0.12637870065636808), (4024, 0.1268222882704204), (4025, 0.19228599252948908), (4026, 0.06304024937357215), (4027, 0.07389700980297227), (4028, 0.06540562756422216), (4029, 0.07282115657933867), (4030, 0.008671891384931936), (4031, 0.1313513502864081), (4032, 0.18161038768442597), (4033, 0.17439357421443152), (4034, 0.10627304548429109), (4035, 0.1906772782619699), (4036, 0.0949727485469332), (4037, 0.09862328580246477), (4038, 0.17086697691014627), (4039, 0.08655286933052246), (4040, 0.049089285446736436), (4041, 0.07881610131097332), (4042, 0.046351185832151025), (4043, 0.04866000234533138), (4044, 0.0752475572952812), (4045, 0.14353966369682591), (4046, 0.13888536240218977), (4047, 0.06651907993571758), (4048, 0.08768398082823166), (4049, 0.07545526162520169), (4050, 0.13686354795276232), (4051, 0.14197006595728295), (4052, 0.16051019092225458), (4053, 0.18277271702212647), (4054, 0.18558088205016218), (4055, 0.15984793946909892), (4056, 0.14542713696077986), (4057, 0.16423502612397115), (4058, 0.068323326029864), (4059, 0.13966919998244523), (4060, 0.13485733522655222), (4061, 0.21136310859032167), (4062, 0.23838356243156286), (4063, 0.10851112333494206), (4064, 0.20144090059161784), (4065, 0.0), (4066, 0.14431008681354213), (4067, 0.06899974860740933), (4068, 0.1952144899379149), (4069, 0.1386971226497297), (4070, 0.1745782481947106), (4071, 0.1238897208627497), (4072, 0.00877330827885386), (4073, 0.0974264530709255), (4074, 0.17056734040052005), (4075, 0.05377010394667884), (4076, 0.12719836324384737), (4077, 0.1618097426134833), (4078, 0.07290824401000996), (4079, 0.08141902381815437), (4080, 0.06597164961716978), (4081, 0.13002087867224735), (4082, 0.1262250194168231), (4083, 0.07471419235538457), (4084, 0.0700806803618566), (4085, 0.13639626038338276), (4086, 0.117739605588499), (4087, 0.13369903551627754), (4088, 0.1926317203380414), (4089, 0.16542376983632515), (4090, 0.08454325416938434), (4091, 0.11785242935851784), (4092, 0.08531117176891997), (4093, 0.12651582047904497), (4094, 0.1115508642744082), (4095, 0.1827945947431251), (4096, 0.13018337982502307), (4097, 0.1201560068091857), (4098, 0.13880808660554017), (4099, 0.18744670612974498), (4100, 0.09202829822341019), (4101, 0.20596898595305016), (4102, 0.06817204154949705), (4103, 0.10934718607437234), (4104, 0.16055483165186576), (4105, 0.11064052879415247), (4106, 0.20056524059649924), (4107, 0.0459162750445436), (4108, 0.09322581797703634), (4109, 0.1452612053068128), (4110, 0.1860354383927124), (4111, 0.09606615987062225), (4112, 0.1288355207384225), (4113, 0.1581984194622047), (4114, 0.13208964046804678), (4115, 0.06373051438123666), (4116, 0.12733715876456536), (4117, 0.13747387094331265), (4118, 0.20418597555646803), (4119, 0.14960236519564932), (4120, 0.05404193536326374), (4121, 0.17778316756815912), (4122, 0.11928796579232885), (4123, 0.12139595372121352), (4124, 0.12593858558315105), (4125, 0.09465799065390373), (4126, 0.012985281937076548), (4127, 0.059757159320942596), (4128, 0.17839868846129237), (4129, 0.024659157531549004), (4130, 0.14368411999681657), (4131, 0.03439786960942205), (4132, 0.09789036666335842), (4133, 0.10708992524570131), (4134, 0.12387387429076012), (4135, 0.15350369391613866), (4136, 0.14313133770932826), (4137, 0.22853987527849964), (4138, 0.12063283622656155), (4139, 0.1063011807870437), (4140, 0.11700059457476483), (4141, 0.26555761939108), (4142, 0.10775860854018247), (4143, 0.16700324291701837), (4144, 0.08780195685756813), (4145, 0.09724285006761255), (4146, 0.09671699464203183), (4147, 0.12338343712516298), (4148, 0.1411837259377109), (4149, 0.1479454940133254), (4150, 0.08019666387304437), (4151, 0.06345898991817658), (4152, 0.24360917223231102), (4153, 0.15875044750751402), (4154, 0.1537907650474633), (4155, 0.16524159620569512), (4156, 0.24435572726073368), (4157, 0.11051990841808944), (4158, 0.18252923137027258), (4159, 0.09621343288037366), (4160, 0.09363497648489146), (4161, 0.05820053301125068), (4162, 0.05547858276030356), (4163, 0.07432111857668194), (4164, 0.14710597516835655), (4165, 0.18432435124752433), (4166, 0.06827679813391378), (4167, 0.04521605903305539), (4168, 0.13657524945488297), (4169, 0.14235416086449384), (4170, 0.018275784114587256), (4171, 0.16519299949038946), (4172, 0.04258782021023636), (4173, 0.1108417036640594), (4174, 0.1592569232635788), (4175, 0.08730605093130894), (4176, 0.18496960417977995), (4177, 0.18902923193336318), (4178, 0.1492824730065701), (4179, 0.02660200734375398), (4180, 0.06622221479714646), (4181, 0.13795335492107244), (4182, 0.17460060843935227), (4183, 0.1358937223872494), (4184, 0.07688924558095431), (4185, 0.06548937966995251), (4186, 0.15634336950389036), (4187, 0.12370475191392483), (4188, 0.14195411866852292), (4189, 0.2615439429838651), (4190, 0.06402189743389568), (4191, 0.11962514435085043), (4192, 0.21841906255471716), (4193, 0.11650682167258102), (4194, 0.15934495150218822), (4195, 0.15287315788055295), (4196, 0.13574049522015358), (4197, 0.1294224766065722), (4198, 0.05676727758937989), (4199, 0.13938519519821618), (4200, 0.146495139362587), (4201, 0.11446416106621599), (4202, 0.12403003656100763), (4203, 0.20479218288889106), (4204, 0.02295576331215885), (4205, 0.21294176644691115), (4206, 0.0800745105357567), (4207, 0.11026875964598117), (4208, 0.04569560863717673), (4209, 0.07478741900890913), (4210, 0.21299868933684601), (4211, 0.09550575755701116), (4212, 0.0447255038464975), (4213, 0.0801928475955233), (4214, 0.048560132604653986), (4215, 0.04213412784720478), (4216, 0.18585735846970708), (4217, 0.1731264927161799), (4218, 0.15588274591247664), (4219, 0.06651549371495509), (4220, 0.08558180474031203), (4221, 0.05342001889753133), (4222, 0.1001059815241135), (4223, 0.09042598513211154), (4224, 0.10296510964778116), (4225, 0.053793263988119545), (4226, 0.17235822758346278), (4227, 0.11382492245177349), (4228, 0.04607101210761892), (4229, 0.013446473923344662), (4230, 0.017957964888864177), (4231, 0.13609832265602495), (4232, 0.1263729388863817), (4233, 0.14531297542886734), (4234, 0.05962715269625826), (4235, 0.09528430141291735), (4236, 0.1346584921309109), (4237, 0.09589873210055477), (4238, 0.08031995025985711), (4239, 0.07173892680089893), (4240, 0.14820158411976717), (4241, 0.09554695822192448), (4242, 0.1771835510778265), (4243, 0.07422421230224156), (4244, 0.12446462273081711), (4245, 0.09651363075186237), (4246, 0.1865526691405529), (4247, 0.12247465833171525), (4248, 0.08401703351514739), (4249, 0.12035023493354423), (4250, 0.03126564083991408), (4251, 0.05323777735697109), (4252, 0.13013201621743975), (4253, 0.048541475168053516), (4254, 0.04186224350700504), (4255, 0.19285055716601673), (4256, 0.07600337494822978), (4257, 0.18472796452265433), (4258, 0.04192044089109902), (4259, 0.10282590247600702), (4260, 0.04955494221080401), (4261, 0.09369918276596002), (4262, 0.13995215073091757), (4263, 0.11111757089806057), (4264, 0.11178544416272018), (4265, 0.1269554363619739), (4266, 0.12858763934306852), (4267, 0.1380314116658831), (4268, 0.21495082088917522), (4269, 0.16834836142666573), (4270, 0.08420495979645927), (4271, 0.06927658309677044), (4272, 0.20087261576217186), (4273, 0.07067906265557201), (4274, 0.15549259325270295), (4275, 0.11337648572492974), (4276, 0.0728241146391531), (4277, 0.11154633438145148), (4278, 0.05366682668408223), (4279, 0.03848916342554987), (4280, 0.0931276212994372), (4281, 0.19998380400991078), (4282, 0.1870234097357979), (4283, 0.23007192381418454), (4284, 0.09268550466574096), (4285, 0.10440661700927927), (4286, 0.168257711148466), (4287, 0.16522418296950145), (4288, 0.2121320876893843), (4289, 0.14797797815428265), (4290, 0.10165617768146767), (4291, 0.05467664104636773), (4292, 0.11169621490457964), (4293, 0.14500152051246407), (4294, 0.1070939806706499), (4295, 0.14476446861986614), (4296, 0.013362847851071842), (4297, 0.07159259593984826), (4298, 0.09250656754341002), (4299, 0.15044400399430072), (4300, 0.11596325728759456), (4301, 0.007277312818087575), (4302, 0.05816016113042177), (4303, 0.15636549655874993), (4304, 0.08497196529556104), (4305, 0.07209701133546717), (4306, 0.041178750705867), (4307, 0.08150168788009587), (4308, 0.04390560375727439), (4309, 0.14199357161599885), (4310, 0.07423592465756558), (4311, 0.06045499594768458), (4312, 0.14951865192690966), (4313, 0.07826633160963208), (4314, 0.18580225793067878), (4315, 0.06328848044418399), (4316, 0.035820196256636086), (4317, 0.02013444081406112), (4318, 0.049072861654354816), (4319, 0.12246107334393179), (4320, 0.09780832101752378), (4321, 0.20524139710235892), (4322, 0.060533863349377534), (4323, 0.09239537275062917), (4324, 0.12783701271907966), (4325, 0.18931647535069276), (4326, 0.010980236651701092), (4327, 0.11125262365275897), (4328, 0.12277141612555116), (4329, 0.1284529764234012), (4330, 0.1266034347214742), (4331, 0.051690205838240494), (4332, 0.10379023828402616), (4333, 0.11655949080922413), (4334, 0.16000452087857164), (4335, 0.13471941446364843), (4336, 0.15635731896611457), (4337, 0.1431982426344909), (4338, 0.15040816025674708), (4339, 0.1187157336660801), (4340, 0.09849934359401281), (4341, 0.08673958518011902), (4342, 0.16362029186576185), (4343, 0.0430788277164935), (4344, 0.20975279564468505), (4345, 0.12171124556443963), (4346, 0.11778921016868682), (4347, 0.10425371679756232), (4348, 0.11964141196056935), (4349, 0.11925194991172129), (4350, 0.1455594681789789), (4351, 0.174386523946099), (4352, 0.060768668294869876), (4353, 0.0793247342258646), (4354, 0.09425210444358283), (4355, 0.07963812640802119), (4356, 0.15438653771975652), (4357, 0.13170753136184274), (4358, 0.06811045844897122), (4359, 0.10480589805808248), (4360, 0.07926692507063192), (4361, 0.0319253963604689), (4362, 0.09211526168001304), (4363, 0.13622159807680675), (4364, 0.12849715152332652), (4365, 0.10561582976850346), (4366, 0.15937464229859716), (4367, 0.10783984275270979), (4368, 0.10036531153575093), (4369, 0.1370997518713646), (4370, 0.06733447299790327), (4371, 0.19294583839678178), (4372, 0.04051236990782589), (4373, 0.1441946907175617), (4374, 0.2268928912627156), (4375, 0.20288389672064033), (4376, 0.14076972190758494), (4377, 0.06741006803175406), (4378, 0.16190423091619743), (4379, 0.22205821819957422), (4380, 0.20386293902684877), (4381, 0.087741568505054), (4382, 0.17759218413373531), (4383, 0.08467381823708456), (4384, 0.08451939306787502), (4385, 0.09984020383485652), (4386, 0.0068324310125661095), (4387, 0.15376967500920768), (4388, 0.1567415387142405), (4389, 0.14373878599587236), (4390, 0.09655066385425815), (4391, 0.05840642534008256), (4392, 0.10475908772838845), (4393, 0.03144184675381384), (4394, 0.11208973741287136), (4395, 0.18463670016269376), (4396, 0.10766133120013766), (4397, 0.037691172951254695), (4398, 0.1982246308742027), (4399, 0.19297370042295248), (4400, 0.0457462619519371), (4401, 0.16264262873573862), (4402, 0.17329095104985717), (4403, 0.21540140212950815), (4404, 0.11585458557217897), (4405, 0.09454951688043031), (4406, 0.12493450595322918), (4407, 0.07133022034559822), (4408, 0.08157886077244601), (4409, 0.07028528651879391), (4410, 0.10351776192890656), (4411, 0.1466926476101072), (4412, 0.09227789657086993), (4413, 0.026416919587184298), (4414, 0.0748470299587277), (4415, 0.05426243052263145), (4416, 0.06173526504403943), (4417, 0.017467691412688627), (4418, 0.08256053300298988), (4419, 0.12796779870263383), (4420, 0.1311216814504583), (4421, 0.10392339150730057), (4422, 0.10768370071587298), (4423, 0.05547481554922291), (4424, 0.01600976065138751), (4425, 0.01055931930669608), (4426, 0.09544517410948573), (4427, 0.10418798932195042), (4428, 0.07822171682279157), (4429, 0.08267883667953935), (4430, 0.11964370693929972), (4431, 0.14806248906021482), (4432, 0.12348365374488082), (4433, 0.08103006269843092), (4434, 0.09397144441422699), (4435, 0.14970319049026812), (4436, 0.22715384476404019), (4437, 0.10868807851474879), (4438, 0.11000393557374648), (4439, 0.08194485089817471), (4440, 0.16920426163800234), (4441, 0.1029439730639287), (4442, 0.16439749232258555), (4443, 0.18922974447926175), (4444, 0.1270810566819144), (4445, 0.11850373554588277), (4446, 0.14560895183769818), (4447, 0.1061092279352739), (4448, 0.1744511425675463), (4449, 0.04156520279180298), (4450, 0.18577495462910568), (4451, 0.07022493568958203), (4452, 0.13316120334289266), (4453, 0.134910686036479), (4454, 0.12665323215037513), (4455, 0.09888815673340369), (4456, 0.1285945912034328), (4457, 0.08942190134045427), (4458, 0.03343778656214687), (4459, 0.16896200065932412), (4460, 0.17479226802591566), (4461, 0.020107827623947326), (4462, 0.12185411689773627), (4463, 0.07802832929301094), (4464, 0.10477092461778811), (4465, 0.1678535885863077), (4466, 0.15806712481249172), (4467, 0.18043078316598182), (4468, 0.1388190679924438), (4469, 0.0950594180739139), (4470, 0.12827677787191455), (4471, 0.11493817451816929), (4472, 0.15313479566446778), (4473, 0.14599798686636373), (4474, 0.15966274744094067), (4475, 0.15845668362152324), (4476, 0.06374816029256025), (4477, 0.16810017897916302), (4478, 0.09398449753746234), (4479, 0.1748677613458981), (4480, 0.09423653159576083), (4481, 0.14479520612488575), (4482, 0.1996909305370464), (4483, 0.09860613033308081), (4484, 0.11052742641698807), (4485, 0.047750981990856346), (4486, 0.2187550593790722), (4487, 0.13359269063591248), (4488, 0.1285574731258068), (4489, 0.1186155532466878), (4490, 0.153287907731713), (4491, 0.04138476177660614), (4492, 0.1590075562338893), (4493, 0.11813803929254481), (4494, 0.11829534169808358), (4495, 0.06885840412326992), (4496, 0.09653600971173958), (4497, 0.07592222799794487), (4498, 0.12451282319061377), (4499, 0.03060458924004859), (4500, 0.03586641897522374), (4501, 0.1587543751072383), (4502, 0.18218381661637373), (4503, 0.19786970713868882), (4504, 0.18296047604233598), (4505, 0.02796054330395118), (4506, 0.06033649281384441), (4507, 0.1407758944368292), (4508, 0.03721157113176616), (4509, 0.07707475180161513), (4510, 0.16555352801702128), (4511, 0.18138089271705288), (4512, 0.11662457844327628), (4513, 0.09141575217390377), (4514, 0.08563754384194328), (4515, 0.12344727712857487), (4516, 0.15038719880981094), (4517, 0.12937763487239828), (4518, 0.0880570683416404), (4519, 0.08438635529504109), (4520, 0.07333349928110897), (4521, 0.10504776064909799), (4522, 0.08829871268849465), (4523, 0.20261963090369794), (4524, 0.15246082067852973), (4525, 0.060550250170488124), (4526, 0.050935623614652155), (4527, 0.05494024211468901), (4528, 0.08503744461389505), (4529, 0.055401940729261544), (4530, 0.0844347146555152), (4531, 0.1891735453670597), (4532, 0.05504436825936522), (4533, 0.208543930398529), (4534, 0.16715743334230082), (4535, 0.15753905202509433), (4536, 0.12618436773033695), (4537, 0.07674497302599531), (4538, 0.034420402634404504), (4539, 0.04233904457784811), (4540, 0.017027923419561403), (4541, 0.12361250812209686), (4542, 0.12063800339575519), (4543, 0.09469977209945943), (4544, 0.04417631623148256), (4545, 0.045230346061272936), (4546, 0.12494921781048049), (4547, 0.05216435337990507), (4548, 0.19075888966799714), (4549, 0.09187079597081543), (4550, 0.10204667829908903), (4551, 0.1981064161946939), (4552, 0.10340459586251904), (4553, 0.13036824746790393), (4554, 0.23090327531839105), (4555, 0.14975724462441867), (4556, 0.08433798473433068), (4557, 0.15971800235855604), (4558, 0.10606987620415186), (4559, 0.061943997381619126), (4560, 0.047683672806122464), (4561, 0.0006668907360857804), (4562, 0.09248260269046427), (4563, 0.13586760239403536), (4564, 0.16713366057385148), (4565, 0.06652525129385392), (4566, 0.12309696211625681), (4567, 0.08574311384902435), (4568, 0.09999420431013499), (4569, 0.10047239695534751), (4570, 0.0918214473623646), (4571, 0.10242120586389131), (4572, 0.03347004358387089), (4573, 0.05522246132065239), (4574, 0.10163381284816325), (4575, 0.12600926378845173), (4576, 0.21358214664799507), (4577, 0.042753829931348276), (4578, 0.0), (4579, 0.04274211859068588), (4580, 0.09254228884838542), (4581, 0.17280394900025853), (4582, 0.1280955404450526), (4583, 0.11771614480354632), (4584, 0.1027538988677193), (4585, 0.060499751311771585), (4586, 0.10316731547997633), (4587, 0.12175192538599498), (4588, 0.1548890174070321), (4589, 0.17753651196087014), (4590, 0.2408624745143044), (4591, 0.1574360687702167), (4592, 0.11266394215272607), (4593, 0.11387826567721568), (4594, 0.18584520472733884), (4595, 0.06619796897967903), (4596, 0.19772213079449139), (4597, 0.0672672707789244), (4598, 0.1251001759942933), (4599, 0.11017869790600349), (4600, 0.15921677728843497), (4601, 0.1296647529296441), (4602, 0.165064005266679), (4603, 0.16734899256894908), (4604, 0.06580431307274065), (4605, 0.1906507979380544), (4606, 0.10384504654166875), (4607, 0.103803823845575), (4608, 0.10930219547912545), (4609, 0.13370788969632919), (4610, 0.1822279197724625), (4611, 0.04332716464488958), (4612, 0.1395069018578312), (4613, 0.14398893881279212), (4614, 0.1998813483632182), (4615, 0.07450951181018331), (4616, 0.048068801018253615), (4617, 0.0765939371994393), (4618, 0.04026721737612989), (4619, 0.1439649505454201), (4620, 0.057213318251878906), (4621, 0.1133979929568882), (4622, 0.04307063786855827), (4623, 0.13144888286681528), (4624, 0.20067549479332092), (4625, 0.0831508873729651), (4626, 0.1147557792724501), (4627, 0.140413840745943), (4628, 0.16483085508800904), (4629, 0.18661526629583167), (4630, 0.06427541147638899), (4631, 0.06334203963275412), (4632, 0.086811849905327), (4633, 0.13007745448751926), (4634, 0.09777552374612178), (4635, 0.05869506733363477), (4636, 0.09875517954405279), (4637, 0.12557983760648048), (4638, 0.12273695418636342), (4639, 0.11968282400626723), (4640, 0.1599900653229448), (4641, 0.05124476786087344), (4642, 0.09498841054681408), (4643, 0.14739723963386514), (4644, 0.01175282880020414), (4645, 0.014577373560350524), (4646, 0.12533712757217494), (4647, 0.13538882530884655), (4648, 0.05634763180144299), (4649, 0.1620312412406399), (4650, 0.13720185964795717), (4651, 0.036534325478286826), (4652, 0.17871855808551293), (4653, 0.09730265949624806), (4654, 0.04086444488066479), (4655, 0.0401343638644493), (4656, 0.13384463951230152), (4657, 0.10412679987392597), (4658, 0.2445852677013475), (4659, 0.11825274013400565), (4660, 0.14411433382160269), (4661, 0.11139325385546832), (4662, 0.11275496968318031), (4663, 0.13070855740422416), (4664, 0.08735582086074963), (4665, 0.04948014149809295), (4666, 0.07046086202336078), (4667, 0.0583138924723752), (4668, 0.09079728173856894), (4669, 0.2093276737206848), (4670, 0.1219343038223493), (4671, 0.022665274305247066), (4672, 0.04938335069373546), (4673, 0.19793411184429918), (4674, 0.16649497087662876), (4675, 0.12424739984419875), (4676, 0.11972698031250555), (4677, 0.12118421754346305), (4678, 0.07574325896636111), (4679, 0.21733963476977064), (4680, 0.0620966724241676), (4681, 0.0), (4682, 0.26131805667609087), (4683, 0.09708007825864406), (4684, 0.2208186834788754), (4685, 0.11158763367575428), (4686, 0.10979410118904526), (4687, 0.14352394604276267), (4688, 0.13089639054002702), (4689, 0.0850346893326081), (4690, 0.0847447095440877), (4691, 0.05755749719955915), (4692, 0.03388231193252175), (4693, 0.006544876909990163), (4694, 0.04504527456401266), (4695, 0.17641008311225487), (4696, 0.0547774152101038), (4697, 0.10193096737926834), (4698, 0.07608183978591167), (4699, 0.15771650413637042), (4700, 0.06864431463659368), (4701, 0.20429890226535868), (4702, 0.04334873514687905), (4703, 0.16235130730862946), (4704, 0.0477904707059865), (4705, 0.06371807158549227), (4706, 0.07875334488652783), (4707, 0.03552513405745536), (4708, 0.1282598477126525), (4709, 0.11584275786259209), (4710, 0.09478394738032198), (4711, 0.022860914648654626), (4712, 0.10985613424084338), (4713, 0.08174209650986586), (4714, 0.04992954113343727), (4715, 0.06592590506857136), (4716, 0.06018932767431991), (4717, 0.08165911513422887), (4718, 0.08295619519860671), (4719, 0.10233574582259601), (4720, 0.049881770642607126), (4721, 0.19458365653051604), (4722, 0.11145192424858728), (4723, 0.10553180235129205), (4724, 0.11667358785057279), (4725, 0.14126539362861), (4726, 0.1426155988576252), (4727, 0.19307598691656686), (4728, 0.07875040840092493), (4729, 0.019703333178204278), (4730, 0.07682037781223754), (4731, 0.16843273039507292), (4732, 0.12331983319243622), (4733, 0.1503579525548457), (4734, 0.07332439763478973), (4735, 0.1123972487314037), (4736, 0.08050410370721067), (4737, 0.04229235520592377), (4738, 0.11857921709894867), (4739, 0.262536513516707), (4740, 0.027892084602939172), (4741, 0.06133367233232435), (4742, 0.07647279981323685), (4743, 0.09872098502629344), (4744, 0.06806489685804834), (4745, 0.051516586556980944), (4746, 0.07887547368322632), (4747, 0.17536848435960128), (4748, 0.14361376686442023), (4749, 0.03211907405013713), (4750, 0.022209932351402124), (4751, 0.05121018085733227), (4752, 0.14244786097754542), (4753, 0.04114410846298114), (4754, 0.11324414884203095), (4755, 0.054832228934548734), (4756, 0.1261717994876763), (4757, 0.11785138799654135), (4758, 0.06417029719633191), (4759, 0.015342996823356199)]\n"
          ]
        }
      ]
    },
    {
      "cell_type": "code",
      "source": [
        "len(recommendation_score)"
      ],
      "metadata": {
        "colab": {
          "base_uri": "https://localhost:8080/",
          "height": 0
        },
        "id": "FORSkb4ceOGP",
        "outputId": "b1f512c9-b189-49e7-b057-f747accafa18"
      },
      "execution_count": 62,
      "outputs": [
        {
          "output_type": "execute_result",
          "data": {
            "text/plain": [
              "4760"
            ]
          },
          "metadata": {},
          "execution_count": 62
        }
      ]
    },
    {
      "cell_type": "markdown",
      "source": [
        "# get all movies sort based on recommendation score wrt favourite movies"
      ],
      "metadata": {
        "id": "uxcPiURHeSz3"
      }
    },
    {
      "cell_type": "code",
      "source": [
        "sorted_similar_movies=sorted(recommendation_score,key=lambda x:x[1],reverse=True)\n",
        "print(sorted_similar_movies)"
      ],
      "metadata": {
        "colab": {
          "base_uri": "https://localhost:8080/",
          "height": 0
        },
        "id": "SjDDuk5Jf9CL",
        "outputId": "042b6771-effb-4f70-fbb6-04f890946ac3"
      },
      "execution_count": 65,
      "outputs": [
        {
          "output_type": "stream",
          "name": "stdout",
          "text": [
            "[(2692, 0.9999999999999993), (1506, 0.3275476149046344), (2944, 0.32227847321801306), (1341, 0.31718785349836764), (108, 0.3078833897566312), (2114, 0.3000638719904567), (2550, 0.2994529179687106), (2318, 0.2971999188119403), (2112, 0.29705685296444445), (269, 0.29586463831194576), (62, 0.2911044328465346), (3655, 0.2887196483515212), (2037, 0.28843488782786886), (1248, 0.2856773583199571), (2294, 0.28515758684676185), (1369, 0.28496746327155986), (1707, 0.2844698275038088), (1994, 0.2838928999131411), (3395, 0.2822696999151948), (1118, 0.28178292088994306), (3362, 0.28171538289596504), (3450, 0.28042905349686037), (788, 0.2801458151126872), (412, 0.27831415659026876), (1871, 0.27792837021596234), (1675, 0.2770026250648894), (3518, 0.27670392497440843), (2908, 0.2763165732507634), (1068, 0.2751329028282182), (161, 0.2744472362996716), (496, 0.2744176925361799), (706, 0.27367266004521545), (1471, 0.2730190612870159), (1412, 0.2729189592142113), (1788, 0.27270597335517577), (566, 0.2718808764607767), (124, 0.2716512756436948), (2191, 0.27105349293245745), (519, 0.2702827187926078), (2443, 0.26979121336116296), (328, 0.2697154528409573), (44, 0.2693718507165974), (3875, 0.26786170960662053), (2055, 0.2674647934184059), (2487, 0.26671166872297963), (2981, 0.26667424699275505), (2000, 0.2657426188008134), (4141, 0.26555761939108), (1134, 0.26492078668625435), (1878, 0.2643924590312423), (2706, 0.26429591947630793), (166, 0.263637995756911), (1383, 0.26284297913129095), (2221, 0.26283800569612215), (4739, 0.262536513516707), (911, 0.26247174779369614), (609, 0.26224421293127076), (330, 0.26204606322894464), (684, 0.2617645697503228), (4189, 0.2615439429838651), (4682, 0.26131805667609087), (2582, 0.2612197315286132), (515, 0.26119146302720103), (1241, 0.26050585916358093), (1985, 0.25900135669913354), (952, 0.2589102774877325), (2513, 0.25869556670356225), (1821, 0.2584222390866593), (407, 0.2581995568589047), (1195, 0.2578232420469102), (465, 0.2573379103388001), (2553, 0.2572766355987437), (193, 0.25723025396310606), (629, 0.25695033364067027), (1021, 0.2567369847749364), (553, 0.2565633889760973), (1216, 0.25583868317800434), (25, 0.2556238673491243), (1682, 0.2553103801127162), (2751, 0.25479420274618786), (1850, 0.2546462992395121), (1845, 0.25443469181814216), (2931, 0.2543633987757439), (3420, 0.25404597772499654), (137, 0.25372308855877856), (3801, 0.2535000241603502), (2301, 0.2529627854157713), (2538, 0.25288374108654144), (2474, 0.2528162580978191), (1935, 0.2522000907711583), (3751, 0.2521501302459962), (692, 0.25204533387836925), (408, 0.2519016587519632), (1948, 0.2516993263811642), (643, 0.25092158789346053), (1977, 0.2503496809448122), (1033, 0.25030143177113096), (1046, 0.25016235974988954), (934, 0.2501013953832346), (1787, 0.2495774796795176), (1254, 0.24952744083657313), (870, 0.24903861404623806), (957, 0.248783393362121), (1314, 0.24877186866534434), (1510, 0.2483989039661813), (2903, 0.2480549457807733), (3360, 0.247843544601433), (1090, 0.24765309915700756), (818, 0.24759557572748253), (1278, 0.24750076522581063), (2867, 0.2474370344511746), (1809, 0.2465881347310958), (2777, 0.24646357972976363), (85, 0.24625117653997664), (1257, 0.24552016373378613), (3344, 0.24521889570721747), (334, 0.24521003947968903), (757, 0.2450803966442949), (2481, 0.24479957556271648), (1678, 0.24465659580302385), (4658, 0.2445852677013475), (3294, 0.2444697788111194), (4156, 0.24435572726073368), (472, 0.24435077919369627), (669, 0.24391586939848903), (867, 0.24380280038308333), (4152, 0.24360917223231102), (2026, 0.24360804309680772), (963, 0.2430890976622142), (719, 0.24303113350618558), (109, 0.24302830817543347), (15, 0.2427138303074334), (2668, 0.24257517498274334), (1173, 0.2424659082020503), (251, 0.24196492010678924), (67, 0.2419186381152597), (1629, 0.2418589980576599), (2027, 0.2418541602359013), (742, 0.24168683505326655), (4590, 0.2408624745143044), (3973, 0.2408326050094112), (3447, 0.2406141894615125), (3111, 0.24055608204958903), (2040, 0.24048562220292796), (2910, 0.24027191176382257), (1919, 0.23986014126925198), (282, 0.2396285232956084), (763, 0.2394568311659052), (343, 0.23942093695626382), (3839, 0.2393892153034823), (1157, 0.23934006878619674), (112, 0.23927495455182357), (530, 0.23888437470247315), (787, 0.23861769886989845), (4062, 0.23838356243156286), (3483, 0.2382404651275992), (3711, 0.23793204958164835), (0, 0.23790792265042082), (2014, 0.2378666452584901), (3463, 0.23779016978218942), (895, 0.23757640119853793), (3108, 0.23756437503730155), (2844, 0.23734180792283907), (3276, 0.2372981207338417), (2969, 0.23710601730142292), (3541, 0.23709890713648418), (1023, 0.23707027800776306), (1132, 0.23685736586642062), (3, 0.23671980574808882), (538, 0.23654475269443315), (1329, 0.23650394946356518), (3127, 0.23642645196857617), (3284, 0.23631355447118582), (613, 0.23630875342609609), (2859, 0.23623263317216214), (618, 0.23565193841329993), (1074, 0.23547425880808487), (2277, 0.2349501336467274), (1527, 0.2347815459505505), (2808, 0.23476070078564654), (904, 0.2347358220336345), (1443, 0.2346843659776446), (3731, 0.23444863906579086), (966, 0.2341056976697748), (2645, 0.23383615322205936), (1515, 0.23383155616995752), (1886, 0.23382262686709113), (2530, 0.23373095766269353), (1292, 0.23355952588943177), (86, 0.23355678866504412), (2070, 0.2335105410838248), (808, 0.23337696244085268), (1714, 0.23331901904655727), (3903, 0.23328417779814242), (2237, 0.23253658286994186), (653, 0.23238596220031804), (794, 0.23235291657691942), (3656, 0.23231813671905718), (2791, 0.2322718713122362), (1798, 0.23222818317461438), (555, 0.2321809609312041), (57, 0.23197538548143498), (3728, 0.23192419535707712), (936, 0.2319125165568209), (3129, 0.2317583551821151), (3389, 0.23167071922152835), (82, 0.23157146211976712), (2250, 0.23132098970591616), (2210, 0.23116750604233888), (418, 0.2310450167856324), (222, 0.23099325532696596), (864, 0.23093262970152525), (4554, 0.23090327531839105), (1141, 0.2307705957326445), (762, 0.23074087447963537), (733, 0.2307247411099662), (1500, 0.23063961460678734), (3377, 0.2305525691801288), (2638, 0.23046854807229222), (1648, 0.2303902052367769), (433, 0.23034498696160094), (1802, 0.23027915394074513), (1114, 0.2302176192789746), (144, 0.23015704423658773), (4283, 0.23007192381418454), (1351, 0.23006349302339107), (1192, 0.2299832272183387), (1942, 0.22982169353263893), (1306, 0.22973601276898625), (1385, 0.22967272390436105), (2133, 0.22949266386527864), (657, 0.22901747511810022), (231, 0.22896464657731436), (3091, 0.22894521710270832), (4137, 0.22853987527849964), (2807, 0.22834977891546637), (2212, 0.22832019876014112), (452, 0.22824697025918203), (3741, 0.22813533941609243), (551, 0.22780299425877398), (547, 0.22773085761249526), (68, 0.22716320368568219), (4436, 0.22715384476404019), (3205, 0.2270492640095993), (4374, 0.2268928912627156), (1764, 0.22676673606843004), (1249, 0.22645940900854425), (342, 0.22640782061283474), (106, 0.22638811507166332), (1997, 0.22631201463379755), (2214, 0.22630769089410108), (1162, 0.226281363757663), (1224, 0.2261589755880967), (210, 0.22614742562783013), (2647, 0.22591021439924794), (1129, 0.2256707274257825), (874, 0.22565977387463496), (2996, 0.22537234581600427), (2102, 0.22535567911043974), (1052, 0.22525687660219904), (2074, 0.22514337809211699), (2876, 0.22492443803929618), (3612, 0.22475012000047967), (988, 0.2245770718241335), (3946, 0.22446257764778696), (3556, 0.22443740492327413), (3498, 0.22440968019508706), (2013, 0.22432493207813586), (697, 0.22432225895169414), (1945, 0.22429465024142994), (1239, 0.2242350733390568), (2239, 0.22413842922723579), (1379, 0.22374193314757265), (3154, 0.22363625688696842), (2082, 0.22325903249596915), (1464, 0.22313067921450566), (3403, 0.22297282807358793), (824, 0.22293040521040178), (266, 0.22289328708749173), (511, 0.22288937974061174), (1701, 0.22284926980110578), (356, 0.22270776148185228), (1654, 0.22254090723433154), (2316, 0.22252684722182847), (126, 0.2224748805536513), (2632, 0.22222983887731912), (1401, 0.22220761957854818), (1774, 0.22212390587758396), (4379, 0.22205821819957422), (3919, 0.22203561462536997), (878, 0.22202942829632002), (691, 0.2220217688546368), (3983, 0.2219199449741691), (628, 0.2218913057984207), (254, 0.22188356354255248), (130, 0.22186333481408058), (1255, 0.22181115337189689), (2712, 0.22173957288815638), (1865, 0.22156501644894008), (2558, 0.22133683010074479), (1403, 0.22114569529281716), (1493, 0.22099108108363336), (4684, 0.2208186834788754), (670, 0.2207044544521516), (2012, 0.22060485837006227), (3315, 0.22053027404737796), (1762, 0.22050842496051742), (1017, 0.22035244422582714), (2740, 0.22013401493854445), (358, 0.2196093944771321), (852, 0.21953816141557164), (2161, 0.21953279163797976), (3297, 0.2193981881981867), (1365, 0.21939591651733137), (1585, 0.21927925689822714), (3408, 0.21918797904975143), (3142, 0.21918095074313346), (1043, 0.21912969234512236), (1650, 0.21903445694478638), (4486, 0.2187550593790722), (1030, 0.21857983438867673), (88, 0.21844826632609046), (4192, 0.21841906255471716), (3386, 0.21825921287394492), (1509, 0.21806822854762198), (2621, 0.21798347895629025), (1009, 0.21792895057070072), (3553, 0.21770787611365355), (2603, 0.21767526150416466), (2198, 0.21757417397337667), (3328, 0.21754991284195693), (1743, 0.21749261464004796), (774, 0.2174855391232417), (1413, 0.21748075444528317), (2560, 0.2174485751138), (2205, 0.2174158657523462), (4679, 0.21733963476977064), (3237, 0.21730766535970011), (3458, 0.21730375828901657), (2798, 0.21728610023169528), (374, 0.21710604279968124), (7, 0.21699825142772947), (2633, 0.2169936850662237), (3868, 0.2168716363382196), (1505, 0.21683541727380118), (3045, 0.21680191668563695), (3504, 0.21657607922556057), (635, 0.21652121316975592), (829, 0.21646437339415392), (561, 0.21645290385774268), (2051, 0.21641991927254134), (3961, 0.2163309107607744), (1572, 0.21625461635023485), (2103, 0.21617454817322848), (3083, 0.21604426975088775), (3240, 0.21598901984442825), (701, 0.21598315424966336), (1243, 0.21593317522607744), (3778, 0.21583648083711363), (648, 0.2156339821986273), (2167, 0.2156247008446553), (287, 0.2155544511993091), (4403, 0.21540140212950815), (1310, 0.2153898827197628), (3579, 0.21536088927399197), (1367, 0.21516011779768043), (437, 0.21500604271072427), (3303, 0.2149865219180981), (2766, 0.2149727823349252), (4268, 0.21495082088917522), (2023, 0.21474319331730335), (122, 0.21457200381726524), (1215, 0.21433144331557916), (174, 0.214243585516773), (853, 0.21404390181743313), (218, 0.21399918373611426), (3947, 0.21398974657404832), (123, 0.2137404769675052), (212, 0.2136369275750379), (4576, 0.21358214664799507), (1398, 0.21357058779589064), (3374, 0.21353515272070958), (4004, 0.21342434099323762), (1934, 0.21334004192226275), (1951, 0.21325545623718387), (1308, 0.21318355799323654), (620, 0.213099137252572), (4210, 0.21299868933684601), (676, 0.21299576971456752), (2689, 0.2129695535967448), (4205, 0.21294176644691115), (2494, 0.21289854374602965), (2653, 0.21281728900403582), (3924, 0.21280237334144056), (470, 0.21279567904963362), (1384, 0.21278053750086703), (3835, 0.2127209020465962), (2762, 0.2126444677766632), (3456, 0.21261000241140923), (1903, 0.21253725530616943), (147, 0.21249573729375132), (307, 0.21219698688718205), (4288, 0.2121320876893843), (1272, 0.21209000561551247), (1069, 0.21206785982766985), (715, 0.2120031045632835), (182, 0.2118705084555241), (2868, 0.21185972737795172), (873, 0.21185818592498515), (1024, 0.21154438201280223), (4061, 0.21136310859032167), (915, 0.2111169113893441), (2211, 0.21093369965409134), (924, 0.21089188107997858), (545, 0.21067241608893908), (1818, 0.2105082914033408), (683, 0.21045618642507335), (162, 0.21040060700003693), (1492, 0.21037614874822552), (2376, 0.2100840722673286), (847, 0.21007997945330534), (1647, 0.21005349513673072), (500, 0.20995717919160198), (35, 0.20995091360722745), (3043, 0.20987765944813663), (1799, 0.2098321671421027), (1494, 0.2098214433424844), (263, 0.2097814274248199), (2276, 0.20976071687253908), (4344, 0.20975279564468505), (622, 0.20957461613717387), (737, 0.2093902618113864), (4669, 0.2093276737206848), (2854, 0.20930965704539964), (2016, 0.20923114893999883), (2622, 0.2091928020489279), (113, 0.2091843082394083), (1925, 0.2091544270526571), (1876, 0.20914865262798538), (2122, 0.2091083226182455), (3023, 0.20874679442018426), (2224, 0.20870229582101593), (4533, 0.208543930398529), (1095, 0.2082373127143419), (3218, 0.20820509519988414), (89, 0.20798968626877493), (1005, 0.20784654199268354), (2598, 0.20783882059743686), (1964, 0.20783865180626443), (1220, 0.20774087683741824), (3829, 0.20772778149132318), (3747, 0.2077133421707041), (3226, 0.20761697469429233), (277, 0.20753056097705685), (2447, 0.20750696146967526), (428, 0.20743996660073316), (1861, 0.20738295784689353), (204, 0.2072137498498178), (110, 0.20721307069510808), (2375, 0.20720076984115154), (1477, 0.20715434467887225), (3253, 0.20714086116494954), (2568, 0.20711637226399504), (981, 0.2070705324944122), (271, 0.2070206200035982), (48, 0.20700650604799264), (1146, 0.20688077250514958), (292, 0.20669462996868368), (1377, 0.20648525338576174), (3384, 0.20643238377618753), (2920, 0.2063021609298148), (2517, 0.20610384805812704), (2975, 0.20608893679627655), (3511, 0.20607257330200596), (2097, 0.20600719216672064), (3066, 0.20597693262318162), (4101, 0.20596898595305016), (45, 0.2058685013939285), (2011, 0.20582460031011654), (1175, 0.20560692942873815), (2143, 0.20555850500683862), (463, 0.20542877005660407), (3959, 0.20532024955646458), (329, 0.2053167324513515), (4321, 0.20524139710235892), (252, 0.20521951677493094), (3477, 0.20520672800027642), (2045, 0.20516186529239394), (201, 0.205030114574824), (1971, 0.2050013913635525), (479, 0.2049666781606307), (2522, 0.20494711911832775), (1671, 0.20490583098481496), (1245, 0.2048675144844082), (3797, 0.2048132874083103), (1261, 0.20480723387343602), (185, 0.20479440770109703), (4203, 0.20479218288889106), (705, 0.20465958874151113), (175, 0.20464920147259702), (1967, 0.20463797268794548), (2469, 0.2046122743889229), (2769, 0.20454161198737572), (3306, 0.2045390339032157), (242, 0.20445367875442164), (1116, 0.2043420843719876), (4701, 0.20429890226535868), (199, 0.20425648236014668), (1501, 0.20423080797326956), (4118, 0.20418597555646803), (1539, 0.20415240758591818), (327, 0.20412494233118672), (3469, 0.20405957420152568), (371, 0.2039829011965355), (4380, 0.20386293902684877), (3515, 0.20367626341292627), (689, 0.2036713847115383), (710, 0.20358707801693937), (32, 0.20354978927937378), (1658, 0.20336742208823294), (727, 0.20329922968479036), (2649, 0.20320145362551909), (1982, 0.20319233554902624), (2096, 0.20319057685209027), (2174, 0.20310176479093836), (2334, 0.2030886929305036), (2980, 0.2030265766871103), (949, 0.20301651776864538), (1111, 0.20297570595716619), (4375, 0.20288389672064033), (2988, 0.2028808240752977), (1002, 0.20282754606400188), (3299, 0.20281406942792304), (3777, 0.20277800242641725), (1465, 0.20272193561852395), (4523, 0.20261963090369794), (1690, 0.2025189342859409), (3407, 0.20237163613205536), (1519, 0.20224710282632127), (2436, 0.20219314240795228), (948, 0.20217888492397873), (510, 0.2020870997494506), (29, 0.2020286655999628), (96, 0.20200833021263143), (3552, 0.20168139439038987), (2680, 0.20156190820338987), (4064, 0.20144090059161784), (3275, 0.20135410348171623), (2688, 0.2012536987860191), (775, 0.20111518447279553), (1442, 0.20107727762834876), (1275, 0.20103037038059396), (2642, 0.20091594580297123), (4272, 0.20087261576217186), (1911, 0.2008295364219878), (464, 0.2008246242143785), (3577, 0.20073339862161546), (4624, 0.20067549479332092), (4106, 0.20056524059649924), (3508, 0.20054038900894106), (181, 0.20047354079099963), (345, 0.2003001889072636), (1179, 0.20025009718381448), (3153, 0.2002057218938028), (208, 0.2001839576016272), (899, 0.20003259951828778), (434, 0.19999139089309464), (4281, 0.19998380400991078), (4614, 0.1998813483632182), (60, 0.1998648672106142), (2917, 0.19984472707562712), (866, 0.19984403953671667), (1202, 0.1998087417751848), (814, 0.19980734073828835), (104, 0.1998024318905551), (3822, 0.19974460142090603), (1750, 0.199743092469901), (4482, 0.1996909305370464), (1696, 0.19967716529264043), (170, 0.1996597024120717), (1895, 0.19961649404073403), (4005, 0.19955306942966597), (2640, 0.19954079187330806), (2145, 0.19951987346780242), (2131, 0.19946434117914716), (2484, 0.19927106953185317), (1544, 0.19916842757235748), (615, 0.199127456817371), (2687, 0.1991007105154191), (138, 0.19907312151928735), (2732, 0.19906467394257935), (1035, 0.19895254935360657), (2509, 0.19892823045907126), (2053, 0.19880913134317454), (2782, 0.1987357671229355), (3096, 0.19867772951035972), (2587, 0.19864581393627334), (830, 0.19857907212487952), (3352, 0.19857426361260644), (1420, 0.19853717727520417), (1950, 0.19852023894270918), (2584, 0.19838899409475239), (1252, 0.19838725137052154), (1475, 0.19836836208499586), (3524, 0.1983294522903342), (968, 0.1983085161651257), (2144, 0.1982543924413906), (1087, 0.1982385682439292), (4398, 0.1982246308742027), (1553, 0.1982238541632483), (368, 0.19819663823693529), (75, 0.19816500056936232), (929, 0.1981432725027441), (2809, 0.19811007954456625), (4551, 0.1981064161946939), (1858, 0.19810077041133928), (403, 0.19808638263911363), (1676, 0.19804283160164143), (2698, 0.1979788886491993), (4673, 0.19793411184429918), (1184, 0.19791569413447652), (4503, 0.19786970713868882), (4596, 0.19772213079449139), (2005, 0.19761613751427756), (1970, 0.19759553552155637), (1018, 0.19749723072511788), (2540, 0.19742412280466606), (2196, 0.19736925693489588), (3053, 0.19735990283322494), (3152, 0.19722172097746815), (3927, 0.19720899013203072), (2321, 0.19707327331352223), (354, 0.1970391509977569), (3095, 0.1968835124306653), (1387, 0.19682584359803593), (179, 0.19682168466925457), (441, 0.19681173367594706), (962, 0.1967952869365489), (2795, 0.19660938661852626), (3890, 0.19658173662346537), (296, 0.19655696398083752), (2650, 0.1965337802152779), (1206, 0.1964270784839276), (317, 0.19641427764697125), (2236, 0.19639471949053922), (935, 0.19639308503137157), (597, 0.19632072401412673), (2065, 0.196314636952608), (3430, 0.19627863455667063), (3913, 0.19623764790134138), (409, 0.19615119064471187), (856, 0.19611840457688529), (79, 0.19605058799034575), (19, 0.1960303887910129), (1044, 0.19591138843962208), (537, 0.19587067407279865), (1579, 0.19572462992915057), (795, 0.19571862051805633), (3978, 0.19570411488510242), (2579, 0.19570205627903822), (3648, 0.19550762690575452), (2265, 0.1954320739813042), (2654, 0.19542526462245263), (1382, 0.1954225088348559), (1719, 0.1952693580845701), (1259, 0.1952586418238733), (918, 0.19524116376655393), (4068, 0.1952144899379149), (52, 0.1951829828223984), (1335, 0.19501299952345827), (1721, 0.19498405238293057), (4012, 0.19497610328993978), (2403, 0.19496059773663446), (2119, 0.19490225345562168), (2121, 0.19469373181054203), (1870, 0.19467210638529717), (1957, 0.19462252247057993), (4721, 0.19458365653051604), (1337, 0.19457517516524359), (346, 0.19457135853366142), (3210, 0.19450883046145384), (660, 0.19449437390012114), (3667, 0.194487300374264), (2660, 0.19440087572785222), (2412, 0.194383010018539), (3181, 0.194236725148776), (119, 0.19411400560999115), (322, 0.19408301449892318), (3694, 0.1940723493358407), (569, 0.19404263950786033), (2803, 0.19403643835380585), (33, 0.1939931573760841), (906, 0.19399166523222455), (2841, 0.19387740613126012), (1841, 0.19386831476793207), (1897, 0.19385484669270914), (1061, 0.1938286671951479), (240, 0.19380156331709916), (1782, 0.19378168628122763), (3094, 0.1937347933150056), (3151, 0.19368044684212404), (1467, 0.19363932536930334), (2607, 0.1936115373723288), (341, 0.19357295408205222), (1779, 0.1933765757581225), (812, 0.1933475919243939), (1503, 0.19321739512108232), (2022, 0.19321729360801132), (2744, 0.1931886424362793), (3141, 0.1931699575365204), (84, 0.19315428277064797), (455, 0.19309952554320675), (916, 0.1930847126135018), (4727, 0.19307598691656686), (4399, 0.19297370042295248), (228, 0.1929615043756358), (250, 0.1929472993902982), (4371, 0.19294583839678178), (768, 0.1929424111440174), (1115, 0.19287682005810236), (4015, 0.1928549035197636), (4255, 0.19285055716601673), (908, 0.19271659384923873), (843, 0.192711490230705), (2625, 0.1926744990144869), (357, 0.1926639029272006), (4088, 0.1926317203380414), (2843, 0.1926045892599803), (309, 0.1925686095506743), (3098, 0.19254417987191383), (562, 0.19251596997024512), (3085, 0.1925140073907193), (3826, 0.19250830699700583), (3144, 0.1924922625409559), (2546, 0.19230531718014626), (4025, 0.19228599252948908), (3558, 0.19225486700890385), (2774, 0.19224514559502034), (430, 0.19220680341174556), (2116, 0.19188994366476236), (3370, 0.19171700243724404), (1988, 0.19166157170751028), (3689, 0.19164478758002698), (2646, 0.1915941922133217), (2110, 0.1915931930547075), (1417, 0.19155792611289227), (3866, 0.1915483578917116), (2052, 0.19146148440441613), (1816, 0.1913912084928299), (2177, 0.1913481803781096), (288, 0.19134705599799046), (2088, 0.19127197110416502), (3954, 0.19110942361493793), (1908, 0.19098575034143472), (638, 0.19098003898493682), (336, 0.19096495770210303), (2058, 0.19095589845185781), (2353, 0.19091213603300164), (1063, 0.19078691021376093), (1186, 0.19077247439005693), (283, 0.1907619563088623), (4548, 0.19075888966799714), (202, 0.1907541586469648), (4035, 0.1906772782619699), (1812, 0.1906617670754939), (4605, 0.1906507979380544), (976, 0.19064798430772084), (1293, 0.19054859672831456), (3222, 0.19053245758707724), (3599, 0.1904851588889936), (2878, 0.19046936042553506), (2427, 0.19045860962273276), (1307, 0.1904061791604756), (155, 0.1903951761039124), (4001, 0.19038564422395785), (1119, 0.19037060164482333), (865, 0.19029773360588023), (3692, 0.1902069722096246), (563, 0.1901791461838202), (3285, 0.1901773015512332), (3433, 0.1901634042954986), (1006, 0.19006319435802824), (2812, 0.19003405232233492), (3238, 0.1900122630925775), (280, 0.1899707554870587), (3102, 0.18993877322185854), (1716, 0.18989688162252807), (438, 0.18988213086779535), (1358, 0.18959485890630123), (582, 0.18953777075711026), (1968, 0.18950245669661644), (3449, 0.18942801669729842), (1077, 0.18939100569801307), (2413, 0.18932680003935212), (332, 0.18931792109669612), (4325, 0.18931647535069276), (4443, 0.18922974447926175), (568, 0.18919494445256202), (4531, 0.1891735453670597), (800, 0.18914371604195274), (1396, 0.18911183619037397), (1194, 0.18907716595596302), (4177, 0.18902923193336318), (63, 0.1887426293499249), (3426, 0.18868872023012745), (191, 0.18867985588139544), (2893, 0.18866569930783697), (540, 0.18863243190446521), (806, 0.1886183561015619), (1992, 0.18858349962251553), (931, 0.18837631357256618), (1071, 0.18829208297437122), (482, 0.1882842247167889), (769, 0.18827598616370542), (2790, 0.18825896886696977), (3516, 0.18824001490335174), (1518, 0.18810599789873533), (1718, 0.18807430118712634), (3346, 0.18802178303882633), (942, 0.18800951447669956), (1418, 0.18797367930085923), (1592, 0.18791995166275333), (43, 0.18790904111750223), (3857, 0.18787487299482197), (1472, 0.18780004294669853), (1843, 0.18778838795884212), (477, 0.18777156111488627), (172, 0.18776386713232684), (1445, 0.18762689672355834), (1797, 0.18762331706913563), (672, 0.18762029005450148), (2933, 0.18751554485006525), (2874, 0.18749924048101224), (1860, 0.1874606980079501), (4099, 0.18744670612974498), (2320, 0.18743419763320357), (3559, 0.1873391261639483), (3466, 0.18732932093274235), (821, 0.18732610578860348), (3086, 0.18726430161903407), (651, 0.18721312379141128), (2309, 0.18717884509466476), (542, 0.1871717751556194), (125, 0.1871576057507397), (1237, 0.18706208437865277), (1864, 0.18705271878384458), (4282, 0.1870234097357979), (2118, 0.18697913131802943), (3780, 0.1869777332450765), (3659, 0.1869502883003535), (1234, 0.18694044546334027), (3421, 0.186928587466133), (3637, 0.18684645804231828), (387, 0.18682151244575657), (4016, 0.18679638137072868), (1456, 0.18678543606519052), (1619, 0.18676664355275158), (600, 0.18675185124146002), (897, 0.18674653135896946), (4629, 0.18661526629583167), (1374, 0.18659901766096718), (4246, 0.1865526691405529), (173, 0.1864634946495261), (116, 0.1864072167099429), (756, 0.186375279716542), (1913, 0.18634218616112855), (1000, 0.18628923976884879), (2617, 0.18628516124154204), (105, 0.18604131866849755), (4110, 0.1860354383927124), (2665, 0.18598211230943879), (947, 0.18596863645854333), (3399, 0.185947451503183), (169, 0.1858779728597768), (4216, 0.18585735846970708), (4594, 0.18584520472733884), (4314, 0.18580225793067878), (4450, 0.18577495462910568), (3157, 0.18576415510506109), (2755, 0.18575493329346232), (1262, 0.18573247944194507), (2422, 0.1857218404489745), (664, 0.18570368415666355), (270, 0.18568274680600305), (4054, 0.18558088205016218), (2406, 0.18554540223527655), (1983, 0.18550446515846677), (3260, 0.18546973308772705), (748, 0.18540227763529699), (637, 0.18538660676971083), (2062, 0.1853709112893588), (3480, 0.18533201810007777), (994, 0.1852748014965782), (1482, 0.18524434005916063), (3215, 0.18521725605040537), (903, 0.18520367994165976), (369, 0.18511780682178275), (3232, 0.18510988704487058), (2512, 0.18510821568415406), (1109, 0.1850532000685075), (1137, 0.18501360932357608), (2154, 0.1849838312618779), (4176, 0.18496960417977995), (1776, 0.1848985104366665), (2175, 0.1848840174037752), (1015, 0.18486458997390415), (3336, 0.18483797578959288), (900, 0.18482936979871145), (833, 0.18479408065666433), (1827, 0.18474325143848386), (4257, 0.18472796452265433), (2742, 0.18471465173048), (149, 0.18470542795180978), (3661, 0.18469648785501572), (4395, 0.18463670016269376), (521, 0.1845499968452982), (3684, 0.18449938569213414), (74, 0.18443514098303324), (2995, 0.18442162792642172), (3437, 0.18433478504491108), (4165, 0.18432435124752433), (261, 0.1843178516425113), (2919, 0.18431641343098398), (2534, 0.1842642613510587), (3643, 0.18422508743817032), (424, 0.1842053208046706), (237, 0.18415737861033735), (1680, 0.18413447479672398), (3330, 0.1841283289017484), (3867, 0.18407194950674233), (1677, 0.18388486939130705), (2962, 0.18387691041315543), (605, 0.18383258522698961), (939, 0.1837849984926232), (1232, 0.18377939363989837), (3642, 0.18376592654214485), (165, 0.18374995935968388), (1279, 0.18369382768651474), (3594, 0.18367121748881338), (1376, 0.18352049773652057), (83, 0.18348402927508528), (2160, 0.1834660740012877), (2441, 0.18346026534559354), (2035, 0.1831658734975946), (2347, 0.1831423127436739), (384, 0.18313731536165986), (1317, 0.18307928335294013), (142, 0.18307922604700633), (524, 0.18305052953687867), (4504, 0.18296047604233598), (213, 0.1829603995546209), (2269, 0.1828795903992051), (752, 0.1828621764819763), (523, 0.18284228350102852), (4095, 0.1827945947431251), (4053, 0.18277271702212647), (3264, 0.18275741338866755), (1936, 0.18261736924844998), (381, 0.18260710045837045), (3670, 0.18257512091652503), (4158, 0.18252923137027258), (3536, 0.18249113892451538), (3334, 0.18241284812329256), (2155, 0.18230408359241154), (3385, 0.18229377333702074), (4610, 0.1822279197724625), (3465, 0.18219267547704684), (4502, 0.18218381661637373), (3342, 0.18216051427839206), (2043, 0.18216002423819072), (2524, 0.18208212641676244), (2430, 0.18181702136560973), (4007, 0.18175634449723152), (3574, 0.18166028118125616), (2473, 0.18165577733053795), (148, 0.1816326416121846), (1645, 0.18163257107329772), (4032, 0.18161038768442597), (2280, 0.1815820268343641), (2374, 0.18157105378255692), (682, 0.18152237112958958), (3460, 0.18143602787653004), (4511, 0.18138089271705288), (879, 0.18133593920221835), (967, 0.18126924356147472), (3036, 0.18122629377955204), (1833, 0.18122376514795027), (1128, 0.18117542063871192), (364, 0.1811483996391413), (979, 0.1811232171070101), (2691, 0.18111879902201425), (1852, 0.18105116413351863), (749, 0.18094305411516182), (1688, 0.18092846489359074), (773, 0.1808933457780108), (458, 0.1807719048613726), (3765, 0.18077056198268265), (353, 0.18060407051738084), (2193, 0.18051547257877287), (1920, 0.18046898615678086), (4467, 0.18043078316598182), (192, 0.18040501577976473), (284, 0.18033959859622561), (1001, 0.1802994140328686), (3265, 0.1802783788092007), (2020, 0.18023336170876553), (1219, 0.18019501194039808), (2695, 0.18016199248677095), (2460, 0.18016112966853642), (875, 0.18014166642592466), (1360, 0.18011782170015397), (1514, 0.18009895335316867), (3259, 0.18009577115949563), (2216, 0.1800681190424074), (1334, 0.18003710075612486), (3492, 0.17998355597899104), (2892, 0.1799718519149815), (2845, 0.1799174093193307), (1041, 0.1798866384277965), (243, 0.17982572914419045), (533, 0.1797655746609004), (2729, 0.17970659334050243), (590, 0.17968208404146765), (3720, 0.179664137672855), (301, 0.17961185776165717), (1345, 0.1795839067896832), (37, 0.17955905604481995), (3122, 0.17948901900068956), (2467, 0.1794386995736234), (3853, 0.17941823061927137), (2008, 0.17941522869637194), (3955, 0.17939391045946068), (896, 0.17937325888221672), (1630, 0.17937093192360767), (2202, 0.1793644568007056), (1973, 0.17935532326110756), (1458, 0.17935113491944882), (3998, 0.1793195841542172), (1191, 0.17928395773399308), (543, 0.17915387972199448), (2616, 0.17913562275242323), (1608, 0.17905400920892223), (1463, 0.17902897025524236), (2285, 0.17899004987850278), (885, 0.1789101051558626), (832, 0.1788091956991369), (483, 0.17880612800957005), (2368, 0.1787321767351588), (4652, 0.17871855808551293), (2418, 0.17868579638778728), (1084, 0.1786380574957906), (1394, 0.17856547586136742), (2290, 0.17848534166939217), (145, 0.17841880011907904), (4128, 0.17839868846129237), (3071, 0.17836324864800077), (87, 0.1783536697330682), (2745, 0.17825167952086463), (3427, 0.17821876033240278), (3850, 0.17816237958052358), (406, 0.17797134198752393), (1666, 0.17789275961950468), (1182, 0.17782987722937704), (1270, 0.1778144412148515), (776, 0.17780477594322383), (2510, 0.1777847696872537), (4121, 0.17778316756815912), (232, 0.17777547030012156), (215, 0.17774864187194958), (1059, 0.17774272300937585), (2279, 0.17765559944182563), (2417, 0.1775963507486667), (2367, 0.17759438478785786), (4382, 0.17759218413373531), (4589, 0.17753651196087014), (1320, 0.17753459421695655), (1655, 0.17744376447687651), (355, 0.1774121934505569), (156, 0.17738539399420475), (687, 0.17738415081296116), (969, 0.17737348340302345), (1419, 0.17735746096750496), (1700, 0.1773419650113625), (3018, 0.1773217366962471), (1405, 0.17726452092685138), (3149, 0.1772300070071419), (4242, 0.1771835510778265), (501, 0.17718025166692986), (1354, 0.17717867704045404), (1495, 0.17712480765968872), (1140, 0.17705763381962616), (3345, 0.17704459999601294), (1094, 0.17702393230627875), (659, 0.17695772338948784), (1664, 0.1769459289858975), (938, 0.17688606039039032), (804, 0.1768811228305263), (1338, 0.17684827533292383), (641, 0.17683668485890683), (842, 0.17666043413992807), (3295, 0.17664126217850715), (2873, 0.17662375414244236), (809, 0.1765139287932638), (2555, 0.17650051502922964), (2234, 0.17646526407014929), (279, 0.17645153096539237), (4695, 0.17641008311225487), (227, 0.17639103834643394), (1373, 0.17633643371386676), (3099, 0.17626281632267815), (209, 0.17617581253748746), (2067, 0.17615261979725613), (1045, 0.1760966916477273), (3862, 0.1760319747319267), (3435, 0.1759780044725072), (236, 0.1759366439301564), (121, 0.17591314326945617), (2480, 0.17588773541567784), (726, 0.17588331362731302), (1107, 0.17583730078260837), (2486, 0.17579497578376), (973, 0.1757790522494015), (2897, 0.17576638652048276), (3351, 0.17571542253491404), (206, 0.17570297017697079), (61, 0.17565868115260053), (3582, 0.17559160594499257), (3626, 0.17557864780045532), (2789, 0.17551528297280108), (780, 0.17551508395011275), (3228, 0.1755023397014742), (2100, 0.17549140113701545), (1595, 0.17546882932849744), (872, 0.17544168504707872), (429, 0.175441049532325), (2254, 0.17543812851471063), (2109, 0.17543740621110393), (1478, 0.1754175574547683), (2552, 0.17540871868148558), (4747, 0.17536848435960128), (447, 0.17535814131649788), (3807, 0.17529952763578005), (2601, 0.1752198420483179), (606, 0.1752087797633498), (1567, 0.17519759476044108), (578, 0.1751800693057097), (1616, 0.17508352898065246), (1026, 0.17507187343389982), (1990, 0.17505932726002138), (732, 0.17499948355330014), (703, 0.17496056126308765), (1436, 0.1749361391532287), (3852, 0.17491897740565204), (4479, 0.1748677613458981), (1793, 0.1748034539554672), (4460, 0.17479226802591566), (189, 0.17472210500268145), (2036, 0.17469487715614138), (3957, 0.1746663797756161), (3022, 0.17460756700202917), (2258, 0.1746055809726122), (4182, 0.17460060843935227), (4070, 0.1745782481947106), (1296, 0.1745641070975631), (1343, 0.17448206140083422), (930, 0.1744765522494287), (1571, 0.17446697286386392), (3010, 0.17446127174686304), (1053, 0.17445723627246973), (4448, 0.1744511425675463), (3067, 0.1744491888996327), (4033, 0.17439357421443152), (4351, 0.174386523946099), (324, 0.17433928474737814), (779, 0.17428094122069224), (3752, 0.17421743338282317), (2287, 0.17421209343696548), (2024, 0.17417988066670584), (2094, 0.1741492378875454), (2831, 0.1741480340125666), (2075, 0.17413162259570333), (2992, 0.17411856571849418), (1915, 0.1740926910610702), (386, 0.1740616332895019), (5, 0.17401381492583787), (1621, 0.17391072384956893), (3156, 0.17384592376555655), (2095, 0.1738338195089351), (1537, 0.17382899345888622), (1361, 0.1737562815681147), (1551, 0.17372092429314753), (1185, 0.17364959839969443), (1019, 0.17352196934466232), (443, 0.17339822374276495), (468, 0.17334057615052473), (1649, 0.17333690809848823), (3364, 0.17331204467225886), (4402, 0.17329095104985717), (78, 0.17319564335761026), (3329, 0.17314881948238223), (3317, 0.17314621315860593), (1229, 0.17314425551386803), (798, 0.17313472578570582), (4217, 0.1731264927161799), (700, 0.17308534141003032), (2061, 0.17308149935051054), (249, 0.1728896895464634), (1806, 0.17288623593040303), (1210, 0.1728313000385111), (4020, 0.17280480859564035), (4581, 0.17280394900025853), (1709, 0.17277525507958302), (614, 0.17275547909092784), (616, 0.17274561358327312), (850, 0.17266859991090447), (1290, 0.17266679110558342), (451, 0.17262177845482013), (2180, 0.1725971486819463), (160, 0.1724641681870056), (534, 0.17241751544492995), (744, 0.17240945504870733), (2087, 0.17238675218613328), (4226, 0.17235822758346278), (2157, 0.17235407134105046), (102, 0.17234651273775625), (481, 0.17233509065829147), (1662, 0.17232765290416394), (198, 0.17232021456848132), (1612, 0.1722826744057452), (1784, 0.17222986922179948), (734, 0.1722135857730199), (3308, 0.17214821962440055), (3854, 0.1721108976770008), (184, 0.17208783178441717), (1552, 0.17203032965625567), (3563, 0.17201666748457675), (1710, 0.17200136168231855), (3646, 0.1719276687622216), (461, 0.17186485391158432), (3256, 0.17186154928687822), (1586, 0.1717208611223206), (2614, 0.1715321326182024), (1873, 0.17150281717704574), (1698, 0.1714553899314028), (731, 0.17142311100582297), (2644, 0.17134622275178693), (168, 0.17132538555479523), (3387, 0.17130568230834714), (2421, 0.17124402864627317), (1695, 0.17108069338893733), (1014, 0.1710512852363415), (790, 0.17096133927934842), (4038, 0.17086697691014627), (91, 0.1708405037430743), (3598, 0.17080503932763477), (2932, 0.1707863719570426), (2935, 0.17077434247179216), (3184, 0.17076881744726033), (1312, 0.1707200301167625), (2461, 0.1707108492457276), (2718, 0.17070967539550236), (3767, 0.17065346374364757), (1421, 0.1706024609459469), (1007, 0.17059634223246473), (2111, 0.17058865249034402), (4074, 0.17056734040052005), (871, 0.17054072707065998), (3065, 0.17050022555988237), (1730, 0.17049081603106583), (46, 0.17033949194193992), (1425, 0.17030223690749455), (881, 0.17029658321368862), (3690, 0.17024554146069154), (51, 0.17022381597571395), (1949, 0.17019157428806092), (1339, 0.17017374146781297), (544, 0.1701329055864844), (2749, 0.17009691806236227), (3046, 0.16997215699829524), (583, 0.1699708070335267), (92, 0.169937772740244), (631, 0.16992554298686402), (3409, 0.1698832168054823), (739, 0.16986694049724196), (2834, 0.16970570171208438), (1881, 0.16970174502468874), (9, 0.16954396779048514), (1226, 0.16951073299459826), (3270, 0.16948120596969662), (527, 0.16945287124660707), (940, 0.16931402289317984), (813, 0.16922954865546666), (4440, 0.16920426163800234), (3784, 0.16917325144548362), (3376, 0.16914735004322975), (56, 0.1691116925333297), (810, 0.1690040994354948), (589, 0.16897969090931436), (4459, 0.16896200065932412), (1138, 0.1689246388309865), (1533, 0.1688870122257468), (1112, 0.16886226577317387), (3147, 0.16881667830659025), (1924, 0.16869746970398916), (2572, 0.16864576106350465), (1461, 0.16856941461250266), (1048, 0.16855019137825683), (1305, 0.16843874409867143), (4731, 0.16843273039507292), (3634, 0.16837801811648684), (4009, 0.16835617510180836), (4269, 0.16834836142666573), (4286, 0.168257711148466), (1302, 0.16823908678866029), (1768, 0.16821606681265236), (3453, 0.1681980139646206), (1838, 0.16819719575474684), (807, 0.16818133939230454), (1486, 0.16815725368848403), (4477, 0.16810017897916302), (1172, 0.16808681445034), (264, 0.16807558052611793), (792, 0.16800431413996555), (197, 0.16792431192841106), (1408, 0.16785515998600864), (4465, 0.1678535885863077), (1763, 0.16782294973234155), (469, 0.16781592021708824), (1665, 0.16781422215692596), (3699, 0.1677928653384911), (410, 0.16777035738177037), (1741, 0.16773839418905231), (2802, 0.16764027132827106), (2291, 0.16761462135390348), (1723, 0.16754592796303183), (1453, 0.1675437978553445), (3630, 0.16751747945596437), (2612, 0.16745302598436482), (3418, 0.16744557897721318), (891, 0.16740863429186753), (4603, 0.16734899256894908), (1304, 0.16733288830950738), (2185, 0.16726345101791834), (2056, 0.16716367834427184), (4534, 0.16715743334230082), (3506, 0.16714758506039984), (4564, 0.16713366057385148), (1064, 0.16710092233532528), (3234, 0.16709284724480877), (2303, 0.16703388845207606), (970, 0.16700506319956587), (4143, 0.16700324291701837), (1847, 0.1669478064724551), (2816, 0.16691822795724864), (640, 0.1668461619569117), (178, 0.16681525418715482), (1160, 0.1668068329867005), (1446, 0.16678052238622906), (1047, 0.16677859599124725), (854, 0.16674192992494227), (1124, 0.16673357724581364), (668, 0.16669318683052678), (2780, 0.1666256281901176), (1344, 0.16655257837745424), (3246, 0.16654135028823447), (729, 0.16651223494913295), (4674, 0.16649497087662876), (491, 0.1664275445224302), (3551, 0.16630197381694592), (2724, 0.16629368264834413), (3316, 0.16622765583788476), (1273, 0.16622693971290292), (2126, 0.16619901346341934), (1740, 0.16617476755025967), (1050, 0.16610250953512767), (796, 0.1660850341519783), (3698, 0.1659912285119593), (2710, 0.16593595717272547), (2978, 0.1659136966993808), (2039, 0.1658919255361747), (448, 0.16585903343838623), (677, 0.16584900121162996), (928, 0.16584846722852298), (1085, 0.165844093365336), (1969, 0.16581795616635311), (1364, 0.16581129959065682), (2813, 0.1657838493610668), (456, 0.16571756861026182), (485, 0.16569202076144124), (3464, 0.1656800998729873), (39, 0.1656561003553952), (2925, 0.16563596882916556), (2156, 0.16562639824311373), (502, 0.16557750703678203), (1214, 0.16555951294226542), (4510, 0.16555352801702128), (435, 0.16552654718602253), (820, 0.16552618700508553), (3534, 0.16549433593136054), (937, 0.16544409041744926), (2169, 0.16544184848229262), (4089, 0.16542376983632515), (816, 0.16540817618588144), (18, 0.16539707480160118), (2178, 0.16536435320424572), (607, 0.1653442581792175), (838, 0.16526407622526854), (2915, 0.1652510640471876), (4155, 0.16524159620569512), (2047, 0.1652252542916781), (4287, 0.16522418296950145), (1739, 0.16521412494668722), (4171, 0.16519299949038946), (1130, 0.16517673151313264), (450, 0.1651517015970274), (845, 0.16511996346547866), (4602, 0.165064005266679), (1386, 0.1650637316445095), (1223, 0.1649836880647822), (3531, 0.16496720199062692), (3375, 0.1649544335610301), (1594, 0.1648351521610115), (4628, 0.16483085508800904), (3705, 0.1648138363370297), (3819, 0.16477930838222926), (3736, 0.16465453222478285), (1893, 0.16461157471406354), (1538, 0.16455557373438912), (2814, 0.16441016064003405), (1131, 0.1644086387614111), (4442, 0.16439749232258555), (1706, 0.16435234887514744), (3909, 0.1643062481698197), (4057, 0.16423502612397115), (3318, 0.164231218037484), (1375, 0.16422869267246348), (3487, 0.16416587742008507), (2409, 0.1641317505425184), (333, 0.16406885760734616), (1796, 0.16402610427061864), (1523, 0.16391312546087092), (3416, 0.16371609471299162), (1352, 0.16363710292366335), (4342, 0.16362029186576185), (753, 0.16359930531361136), (471, 0.16359611448354436), (493, 0.1634970730258448), (6, 0.1634932525818463), (2563, 0.16348454444629965), (655, 0.16346018239245347), (321, 0.16341613695737203), (1961, 0.1634141455338614), (131, 0.1633954438886244), (2492, 0.16330854516998872), (617, 0.1633081896671394), (2899, 0.16330737644341597), (2031, 0.16328978607321146), (3008, 0.1632609557116105), (2235, 0.1632506246761433), (1759, 0.16316627854813257), (1902, 0.16314080237141965), (3033, 0.16306179948696264), (1853, 0.16300583826740417), (3410, 0.16298146284572032), (302, 0.16294368871387588), (2391, 0.1629125411195925), (1744, 0.1628053472768507), (3742, 0.16272085261135621), (3645, 0.16269142648466645), (1348, 0.16268982141709787), (203, 0.1626845750639857), (2820, 0.1626612941948629), (3213, 0.16265064607469618), (4401, 0.16264262873573862), (3114, 0.16261787738817074), (1867, 0.16261283533599236), (3557, 0.16259230969365215), (306, 0.1625570882520075), (758, 0.16253917536149118), (3932, 0.1625305011598867), (1012, 0.16251683307978385), (921, 0.1625054408550815), (370, 0.16250305565054018), (195, 0.16247671487774715), (1747, 0.1624154506875771), (1757, 0.16238759787970786), (4703, 0.16235130730862946), (2335, 0.16235003029006684), (2588, 0.1623337877887717), (2439, 0.16232980000805491), (120, 0.16232447171027214), (2503, 0.16232004810546705), (3424, 0.16231042165699033), (723, 0.16228152090328468), (665, 0.1621306313203203), (522, 0.16207773257446884), (3233, 0.1620755956378436), (3586, 0.16206564016654476), (815, 0.16205383971023538), (2720, 0.16205024668190657), (4649, 0.1620312412406399), (3886, 0.16200873176570532), (986, 0.1619662217000197), (3652, 0.16195213261064847), (4378, 0.16190423091619743), (183, 0.16189387091813373), (2918, 0.16184666296003686), (2068, 0.1618334838717672), (2338, 0.1618308940580848), (1430, 0.1618249462644602), (4077, 0.1618097426134833), (1981, 0.1617730624013948), (923, 0.16174810515005497), (3739, 0.16173368399798632), (696, 0.16158945120951926), (3828, 0.16157031037976757), (216, 0.16155422151165552), (3709, 0.1614922023753874), (1295, 0.16136452279333877), (2887, 0.16135183283848445), (2817, 0.16126961308033197), (1136, 0.1612682102823175), (3070, 0.16115022481691257), (273, 0.16104617190407067), (2666, 0.16102720328292824), (3748, 0.16098972308032122), (3304, 0.16096848225181482), (3044, 0.16095593828846186), (244, 0.16087935472745082), (388, 0.16080669360546934), (725, 0.16077926652598348), (1522, 0.1607637351601596), (3865, 0.1607438778632398), (1106, 0.1606826787709143), (3623, 0.16064573494135065), (2746, 0.16060159893104733), (4104, 0.16055483165186576), (4052, 0.16051019092225458), (2104, 0.16047306237192208), (694, 0.16047223114213874), (1791, 0.16046187139229717), (28, 0.16045129463254257), (2264, 0.16031749983320312), (440, 0.160253203284194), (274, 0.16016361224644315), (846, 0.16015038714354607), (1880, 0.16013862171945273), (1496, 0.16009855744791254), (1217, 0.16009182329607216), (2682, 0.1600731931227948), (3566, 0.16007053910739122), (4334, 0.16000452087857164), (1060, 0.15999038995913809), (4640, 0.1599900653229448), (509, 0.15992629759800442), (1653, 0.1599245445123142), (1692, 0.15985410986850268), (4055, 0.15984793946909892), (1746, 0.1597499445965416), (654, 0.15974084974046898), (3293, 0.1597361756414025), (4557, 0.15971800235855604), (373, 0.1597175603935985), (778, 0.15970352540301425), (4474, 0.15966274744094067), (348, 0.15964201373229034), (1432, 0.15962541846892853), (1393, 0.15959219421429316), (3941, 0.15958024293055745), (3206, 0.1595714029092294), (385, 0.15955513546529662), (1512, 0.15955003212810423), (3754, 0.15952712712209574), (1918, 0.15946729497665785), (1781, 0.15945853153490727), (894, 0.1594480853524834), (1366, 0.15942371063427796), (4366, 0.15937464229859716), (4194, 0.15934495150218822), (1454, 0.1593375868856655), (300, 0.15929681692184347), (3963, 0.15926281040924456), (4174, 0.1592569232635788), (1685, 0.1592557373520231), (1266, 0.1592524198023782), (2468, 0.15923107283746632), (4600, 0.15921677728843497), (310, 0.15915201101933482), (1197, 0.15907294600375516), (3733, 0.1590257474617765), (4492, 0.1590075562338893), (1178, 0.15895336112200154), (377, 0.15891442942054115), (907, 0.15891273579627035), (2149, 0.158872669166068), (1236, 0.15883412880824058), (4501, 0.1587543751072383), (4153, 0.15875044750751402), (508, 0.15873431684207046), (2259, 0.15852126935071764), (4475, 0.15845668362152324), (1756, 0.15837076097219338), (3992, 0.15835586786592115), (3665, 0.1583299682534501), (1099, 0.15828376798834407), (4113, 0.1581984194622047), (2416, 0.15818951615992694), (2117, 0.15818630232990308), (76, 0.15812401649429883), (1738, 0.15807165270129228), (4466, 0.15806712481249172), (3745, 0.15798482651780651), (1230, 0.15791558647410783), (4699, 0.15771650413637042), (2977, 0.15766337807779734), (2711, 0.1575992726079304), (4535, 0.15753905202509433), (1587, 0.1575230997415949), (4591, 0.1574360687702167), (1958, 0.15741273247120552), (2240, 0.15738042951123446), (3244, 0.15735198168660963), (3279, 0.15733671489245768), (2393, 0.1573351165864285), (1996, 0.15731197666055635), (781, 0.15726838052585618), (1931, 0.1572078497598634), (494, 0.15707250189078426), (225, 0.1569842863632281), (584, 0.15698257384572756), (1468, 0.15693458625848275), (2760, 0.15681892999025773), (3976, 0.1567920536897196), (4388, 0.1567415387142405), (1837, 0.1567269412438589), (2730, 0.1566872549489843), (22, 0.15668530137851133), (883, 0.15667642986956104), (3388, 0.15667642378685845), (946, 0.15657625554261909), (3467, 0.1564825607617464), (2942, 0.15643248261963794), (1281, 0.15638040153978083), (4303, 0.15636549655874993), (259, 0.15635836071473794), (4336, 0.15635731896611457), (3907, 0.15635511624945525), (4186, 0.15634336950389036), (152, 0.15633564656681273), (2359, 0.1563101467695013), (1359, 0.1562710008607753), (2767, 0.15624274792675324), (3225, 0.1562155241721083), (372, 0.15619067464795097), (1543, 0.15618980498343824), (276, 0.15601073978069618), (40, 0.15600862592308104), (2226, 0.15597608845553676), (594, 0.15590595882286779), (1817, 0.15588397414469213), (4218, 0.15588274591247664), (2158, 0.1557833226817581), (3461, 0.15577864969057076), (2402, 0.15574057492875332), (2195, 0.1557389044401951), (919, 0.15565799716819564), (2083, 0.155636277833658), (2716, 0.1556063924847195), (3323, 0.15558139245324334), (3794, 0.15551356716676482), (4274, 0.15549259325270295), (2771, 0.1554820203680693), (2554, 0.15543331246949307), (3876, 0.1554200469685271), (3267, 0.15539779777365711), (1584, 0.1553704247108689), (53, 0.15536836031315862), (1725, 0.155345109721923), (2581, 0.15533825276039356), (347, 0.15532765226052497), (3209, 0.15529325000230357), (1851, 0.15528277769213128), (1640, 0.1552431673895986), (2714, 0.15521154675154983), (532, 0.1551703231463542), (1828, 0.1550798856272698), (1411, 0.15505636224361272), (728, 0.15503427463063915), (2985, 0.1550248964843413), (586, 0.15497347494016103), (1524, 0.15497086604166305), (4588, 0.1548890174070321), (828, 0.15488210035772595), (1075, 0.1548728331166545), (1291, 0.15486998622242054), (1597, 0.1548345032510456), (3923, 0.15480765421274922), (1199, 0.15475293391256534), (413, 0.15462941211158424), (1489, 0.15449272138097708), (1713, 0.15448695006826554), (2562, 0.15446012409331056), (1705, 0.15442085998830368), (2101, 0.15441942152280055), (560, 0.15441214057585773), (4356, 0.15438653771975652), (1349, 0.15435504058118393), (675, 0.15433089445681927), (217, 0.15432621419229922), (3004, 0.15431668245019448), (3027, 0.15425089327617156), (844, 0.15421636714686468), (1371, 0.15418980556847273), (1319, 0.1541713651115116), (801, 0.15414487897702778), (688, 0.15413192569808074), (3393, 0.154131407006278), (827, 0.1541289453941635), (2911, 0.15411488624816802), (840, 0.154099661625203), (1885, 0.15409328507911257), (12, 0.15405991181059442), (2093, 0.15403922623891303), (959, 0.15402608047882288), (3140, 0.15401237746400784), (1498, 0.15400665586961293), (180, 0.15399897052835346), (2397, 0.15398245258542728), (546, 0.1538640524670423), (1613, 0.153835075260071), (4154, 0.1537907650474633), (3373, 0.1537725797437084), (4387, 0.15376967500920768), (3589, 0.15375962149573139), (3904, 0.15374727159674106), (2275, 0.1537417331114526), (656, 0.15370667073313274), (1414, 0.1536746242107165), (1459, 0.15366171351678587), (4135, 0.15350369391613866), (3597, 0.1534471889646936), (3696, 0.15341160907902576), (1011, 0.1534027855609605), (3235, 0.1533943598452732), (1937, 0.15338998847532312), (1875, 0.1533633727067196), (2862, 0.1533285866579535), (1096, 0.15329706801944948), (4490, 0.153287907731713), (3970, 0.15328411534279904), (1702, 0.1531861242653206), (2822, 0.1531435074085859), (2049, 0.15314238809323255), (4472, 0.15313479566446778), (1300, 0.1530785204080834), (1188, 0.15302314166142394), (2351, 0.15301585335892415), (2203, 0.15298642745561783), (1986, 0.15292126561672167), (3895, 0.152910512857467), (3871, 0.15290319950949863), (4195, 0.15287315788055295), (1888, 0.15271756224198127), (3457, 0.15267117793530952), (1681, 0.15266609500230477), (1999, 0.1526327285585061), (3249, 0.15258516701907604), (1122, 0.15257652436038258), (436, 0.15252457767747898), (2527, 0.1525008920777849), (1760, 0.15247964380551643), (3298, 0.1524666286356684), (4524, 0.15246082067852973), (421, 0.15245628524556457), (1974, 0.15242867627502782), (2591, 0.1522998053059444), (1020, 0.15226400528592754), (1003, 0.15218043057672567), (2197, 0.15214294767382508), (3596, 0.15213038345655816), (905, 0.15211128038689406), (747, 0.15200384660022587), (1711, 0.15191032597207071), (3444, 0.15189765334417163), (111, 0.15188968441948492), (690, 0.15188853309536698), (835, 0.15186028427570242), (1225, 0.1518600133744254), (3368, 0.1518441948485813), (989, 0.15177740566214676), (802, 0.15177620480094134), (129, 0.15176648614475516), (3802, 0.15173928737155268), (2298, 0.15163391715975655), (3118, 0.15159681175243653), (3706, 0.15158705190954672), (1301, 0.15157192513906728), (221, 0.1515538099381773), (3840, 0.15152334593420227), (2848, 0.15151692707300213), (1513, 0.1515126727618474), (3462, 0.15149261665644867), (2898, 0.1514798218377733), (2339, 0.1514473823166704), (449, 0.15144041031433053), (3486, 0.1514171304034905), (1267, 0.15139456031769055), (1923, 0.1513653013284609), (1568, 0.15132397281537882), (2322, 0.15120069592285995), (2365, 0.15116530754615062), (2708, 0.15113663988794096), (642, 0.15109944445724394), (350, 0.1510729597545474), (360, 0.1510726956698686), (716, 0.15106505204818463), (2442, 0.1510430244948726), (2618, 0.1510198242742432), (3701, 0.15091000387594544), (497, 0.15085823070929316), (3779, 0.15066078041600287), (1737, 0.15058750237505472), (1815, 0.1504788676903307), (2784, 0.15047272415536966), (4299, 0.15044400399430072), (3910, 0.15044235891707924), (4338, 0.15040816025674708), (4516, 0.15038719880981094), (4733, 0.1503579525548457), (1013, 0.15030757805263686), (3327, 0.1502980488077589), (1570, 0.15020222541041728), (325, 0.1500971096160476), (2752, 0.15008177742014164), (11, 0.15004793718616286), (207, 0.15000402903245127), (736, 0.14999567583717846), (577, 0.14997448565399166), (1316, 0.14995302058158005), (2904, 0.14994589210421383), (892, 0.14991909900581613), (3390, 0.1499055602112238), (1251, 0.14989029432192175), (1284, 0.1498528360985724), (3367, 0.14984145099884963), (3821, 0.1498324516694705), (4555, 0.14975724462441867), (1105, 0.14973646405152333), (1368, 0.14970658928193037), (4435, 0.14970319049026812), (154, 0.14969384399756214), (880, 0.14967238164890698), (3166, 0.14965169700771896), (1569, 0.14963174552743513), (1963, 0.14961927757672325), (4119, 0.14960236519564932), (467, 0.14957226254854844), (4312, 0.14951865192690966), (2955, 0.14947108071758966), (214, 0.14942260535317775), (2611, 0.14941949194471532), (3743, 0.14939549726486515), (1256, 0.14938434388023622), (1039, 0.14931476849151418), (4178, 0.1492824730065701), (194, 0.14927926314581963), (3063, 0.14926231602708442), (3641, 0.14913355593634248), (21, 0.1491129578427075), (2739, 0.14911152671931635), (3528, 0.14909122858561094), (1634, 0.1490595477603013), (1431, 0.1490582725269722), (2531, 0.14892114119395444), (260, 0.14891694189401455), (3657, 0.1488832466805582), (1484, 0.14887636822841865), (3638, 0.14885039050674406), (3993, 0.14883900680302165), (3120, 0.14881404090012457), (579, 0.14878025949423096), (666, 0.14874204075768388), (3845, 0.14869029196459432), (1849, 0.14855552974139813), (136, 0.14853115340381928), (1208, 0.1484962976947455), (632, 0.1484653300338021), (1555, 0.1484592697759758), (3823, 0.14844327381831413), (344, 0.148434729963488), (945, 0.14843292568534064), (3335, 0.1484075063355759), (1511, 0.14839411861490226), (3000, 0.14839005168882408), (1079, 0.14835160539115252), (2539, 0.14833361404837392), (257, 0.14831880343356205), (3056, 0.14827621515757383), (1108, 0.1482374494914111), (4240, 0.14820158411976717), (4431, 0.14806248906021482), (3614, 0.14801037957624838), (4289, 0.14797797815428265), (4149, 0.1479454940133254), (127, 0.1479332218717346), (1283, 0.1479168276271679), (2580, 0.1479154473167785), (3618, 0.1479118487818138), (2284, 0.14789424050568872), (442, 0.1478398935260395), (2761, 0.14777794754641524), (2715, 0.14775457224262722), (803, 0.14775130124108016), (3512, 0.1477047833131877), (417, 0.14767570871915067), (1708, 0.14764728373986888), (2929, 0.1476454959969529), (3756, 0.147620035167987), (3675, 0.14759789673475326), (799, 0.147587698572796), (1566, 0.1475104061050878), (2727, 0.14749864236795215), (1318, 0.14744290056823875), (1693, 0.1474343255697606), (4643, 0.14739723963386514), (3605, 0.1473943213348504), (2229, 0.14734190738101113), (1381, 0.14732116589758146), (2963, 0.1473013650535775), (3200, 0.147278939221861), (2209, 0.1472582848057747), (115, 0.14725648924866655), (2399, 0.14725100218559756), (1907, 0.14721566239781542), (1772, 0.14721427598045916), (1998, 0.1471680313325731), (4164, 0.14710597516835655), (619, 0.14708013351123286), (363, 0.147076027530317), (2637, 0.14706839571402802), (246, 0.14698498352853137), (2064, 0.14693786962668323), (2060, 0.14688889531534338), (3610, 0.14685107841421452), (974, 0.14683592656716288), (3448, 0.14683235406032252), (167, 0.1468171771373036), (164, 0.146774048631695), (984, 0.14676989368313692), (671, 0.14675144317268746), (1624, 0.1467087302295661), (4411, 0.1466926476101072), (1526, 0.14662156379471983), (492, 0.14659287714518662), (2, 0.14656893534066204), (72, 0.14654565465301997), (2371, 0.1465015630334675), (4200, 0.146495139362587), (1483, 0.146493640023437), (2528, 0.1464781818890109), (1577, 0.14645508303574492), (3960, 0.14642086165458645), (1067, 0.1464085957584234), (2998, 0.14640187780302508), (3282, 0.14638243951916285), (1488, 0.14631404252494118), (4000, 0.1463005156445729), (1183, 0.14629041392644254), (439, 0.14625242216657697), (2697, 0.146202304255601), (2029, 0.1461573919943863), (1238, 0.1461531876424122), (238, 0.1460691008476026), (3681, 0.14606120142870005), (31, 0.14604740204603495), (834, 0.14602883911782127), (146, 0.14601871551097148), (1749, 0.14601039909191535), (4473, 0.14599798686636373), (738, 0.14598264611359577), (2134, 0.14590165159041046), (3382, 0.14587228123937263), (475, 0.14586678835647554), (1481, 0.14577275458581093), (860, 0.14574553433036108), (445, 0.14571381225008292), (239, 0.1457108952057357), (402, 0.1456282103014948), (3810, 0.14562816527679942), (4446, 0.14560895183769818), (2694, 0.145585810796358), (13, 0.1455747832424252), (460, 0.1455658841882497), (4350, 0.1455594681789789), (3231, 0.14553654996360887), (1824, 0.14551471262389676), (4056, 0.14542713696077986), (785, 0.1454208900805272), (956, 0.1454001893113333), (1840, 0.14536495664740215), (3635, 0.14534545016981837), (1466, 0.145345263101807), (2671, 0.14532133307147926), (4233, 0.14531297542886734), (4109, 0.1452612053068128), (1896, 0.14524766372402254), (3730, 0.14524464288564795), (1221, 0.145230780488179), (3632, 0.14521741198942573), (3121, 0.14515966798304286), (2188, 0.14514385240658187), (1274, 0.14513420613879605), (3882, 0.14510878367345503), (1557, 0.14507552157355652), (4293, 0.14500152051246407), (3860, 0.14498057055944014), (3192, 0.14494433646876306), (3640, 0.14493259580194343), (1715, 0.1449098590770119), (1780, 0.14488625145290915), (135, 0.1448792306081619), (1620, 0.14487008399285964), (65, 0.14485230346422376), (3546, 0.1448115910652451), (1082, 0.14481103429100664), (4481, 0.14479520612488575), (4295, 0.14476446861986614), (3633, 0.1447470802599795), (707, 0.14474029528929838), (3406, 0.14468298999469734), (3678, 0.14467078275010004), (1455, 0.14464627293187987), (2488, 0.14462434772907395), (2147, 0.14461786212757036), (3660, 0.14455980566405685), (1987, 0.14455962152211715), (258, 0.14454892988564208), (971, 0.14449875768846768), (2398, 0.1444552076365418), (890, 0.144444845733178), (588, 0.14443326179430818), (4066, 0.14431008681354213), (913, 0.14430656112756265), (1346, 0.14428583348199558), (1773, 0.14426524075169306), (3880, 0.14424361340235475), (604, 0.14423040059339556), (1736, 0.14421897693933564), (4373, 0.1441946907175617), (2340, 0.14418908212904885), (4660, 0.14411433382160269), (4613, 0.14398893881279212), (3188, 0.1439736861052124), (4619, 0.1439649505454201), (912, 0.14396027611411066), (1325, 0.1439561150573588), (1795, 0.14395202879267413), (3792, 0.1439183089656887), (1392, 0.14386494132521574), (1829, 0.14380224686956827), (4389, 0.14373878599587236), (3288, 0.14373133925721984), (3471, 0.14372810540475217), (4130, 0.14368411999681657), (1402, 0.1436796637331431), (982, 0.14367661450229252), (1150, 0.14367267823533522), (1599, 0.14361704733840128), (2756, 0.14361429028700137), (4748, 0.14361376686442023), (1469, 0.14358317275987212), (2048, 0.1435513974813713), (4045, 0.14353966369682591), (4687, 0.14352394604276267), (1547, 0.14350013274625026), (446, 0.1434968215740718), (177, 0.1434332651664242), (612, 0.1433884530250149), (3311, 0.1432951475101949), (2319, 0.14322317924819777), (24, 0.14321641749379915), (2245, 0.1432140690209229), (319, 0.14321133976440337), (4337, 0.1431982426344909), (3658, 0.143142933746103), (4136, 0.14313133770932826), (3227, 0.14311950182202918), (673, 0.14308212452119712), (1155, 0.14305438473421642), (3685, 0.14301496753464454), (1474, 0.14294259437484644), (1927, 0.14292716110726356), (1080, 0.14291140757279247), (1148, 0.1428599769774035), (2964, 0.14285109606240595), (294, 0.1428331838599133), (751, 0.14281662897365516), (2940, 0.14273135184998323), (2241, 0.14269957184228704), (1819, 0.14268945653870183), (1530, 0.14267764447943515), (1808, 0.1426756178486005), (1027, 0.14263149108260914), (4726, 0.1426155988576252), (1362, 0.14250629963313718), (4752, 0.14244786097754542), (114, 0.14237022598855553), (4169, 0.14235416086449384), (1727, 0.14234372610328663), (3888, 0.14228600706219782), (953, 0.1422529140076771), (3864, 0.14224786324556848), (286, 0.14224692301543904), (349, 0.142202667587515), (3503, 0.142193008505912), (1250, 0.14216008650626838), (1022, 0.14214911523626284), (667, 0.14213230136698787), (3560, 0.14212319061226564), (1627, 0.14211355292916608), (2886, 0.14202871516891727), (4309, 0.14199357161599885), (4051, 0.14197006595728295), (4188, 0.14195411866852292), (1231, 0.14186576887507618), (2206, 0.14185223924447934), (3289, 0.1418173575945912), (2091, 0.1418040359323546), (3713, 0.14178912501534066), (2565, 0.1417559232363435), (3028, 0.14165524493210255), (760, 0.14161098939903677), (2869, 0.14155879960206527), (1125, 0.1413649325117756), (1652, 0.14134259537532123), (698, 0.14128672515577367), (4725, 0.14126539362861), (3753, 0.1411850134036484), (4148, 0.1411837259377109), (2362, 0.14093114735561485), (1406, 0.14081259646184086), (4507, 0.1407758944368292), (340, 0.14077354368924044), (4376, 0.14076972190758494), (2661, 0.14076684040345233), (1247, 0.1407387164455796), (724, 0.1407352607856559), (2888, 0.14068987202007505), (2107, 0.14067725255686706), (699, 0.14066927345205119), (944, 0.14066785000926085), (425, 0.1406463629275088), (2449, 0.14059042505495686), (1906, 0.14049620309368147), (1989, 0.1404663212205188), (3759, 0.14042808755783134), (2018, 0.14041748498193038), (1694, 0.14041682316114387), (4627, 0.140413840745943), (3014, 0.1404119533766306), (1066, 0.1403360265217237), (1440, 0.14032947224046974), (1389, 0.14031038406270388), (2496, 0.14024362947553695), (3509, 0.1401316499882688), (1643, 0.14009982618335168), (1135, 0.1400822795599643), (3493, 0.1400764475916202), (3965, 0.1400440122437344), (2696, 0.14003759112297487), (3926, 0.1399842936903499), (685, 0.1399690259476135), (4262, 0.13995215073091757), (3966, 0.13994732183618205), (419, 0.1399249466675898), (41, 0.1399006184372499), (3842, 0.13986594185410212), (2478, 0.13980261474417732), (4059, 0.13966919998244523), (2136, 0.13963878323038215), (422, 0.13959979476232437), (2779, 0.13956317886557104), (4612, 0.1395069018578312), (541, 0.13950083471089406), (3220, 0.13949213209200115), (2663, 0.1394632195730821), (1606, 0.13945894131115477), (389, 0.13943563951923257), (1803, 0.13942712197525817), (3019, 0.13938896496714312), (4199, 0.13938519519821618), (868, 0.13934794042695464), (862, 0.1393213663758507), (1582, 0.13931081073905005), (1152, 0.13929116122665322), (1327, 0.1392263168245055), (1083, 0.13911494580667338), (1535, 0.1390558172822441), (1356, 0.138981373262788), (3479, 0.13891129812699232), (2825, 0.13890696500112032), (2877, 0.1388927613742425), (2772, 0.13889093872498665), (3182, 0.13888653343892818), (4046, 0.13888536240218977), (3011, 0.13887111791004558), (4468, 0.1388190679924438), (4098, 0.13880808660554017), (652, 0.13879523001153454), (1222, 0.13875697657300184), (255, 0.13875075178027277), (2629, 0.13872368720548586), (3668, 0.13871301327072244), (2634, 0.13869771487757346), (4069, 0.1386971226497297), (97, 0.13868891910996095), (520, 0.13863600233913165), (1423, 0.1385351166618664), (2838, 0.13851076714823904), (3397, 0.13846630683219324), (2329, 0.13842750882737762), (1863, 0.13842251439033196), (1309, 0.13830881162499817), (490, 0.1383061408140358), (3272, 0.138305335865604), (414, 0.1382734046143874), (2327, 0.13827039984206804), (14, 0.1382501936934511), (285, 0.1382446856636515), (3870, 0.1381674045795783), (2428, 0.13815737974479914), (975, 0.13813953089212772), (3825, 0.13810193554544914), (4267, 0.1380314116658831), (2252, 0.13796812927542354), (2330, 0.137966910278786), (4181, 0.13795335492107244), (2805, 0.13791649607985762), (3951, 0.13789628327273026), (1810, 0.13786964817914424), (2504, 0.13783311282117905), (3365, 0.1378066790460767), (1735, 0.1377271226331966), (2763, 0.13770694367630207), (2227, 0.13756181380415503), (2348, 0.13754923561569596), (2242, 0.13753869328066984), (4117, 0.13747387094331265), (1554, 0.1374632194644906), (1049, 0.13745587446997337), (1952, 0.13745396144766364), (1034, 0.13742223734863585), (3977, 0.13739314765266328), (877, 0.13732961955888112), (1926, 0.13726246760387317), (961, 0.13722517475569582), (4650, 0.13720185964795717), (383, 0.1371602458662604), (1253, 0.13715338815091435), (2793, 0.13714593925044874), (3772, 0.13713205004153903), (2871, 0.13711019758791526), (4369, 0.1370997518713646), (1807, 0.13703140131148184), (2511, 0.1370291862586891), (2913, 0.13699549906877184), (1789, 0.13692483328422778), (3786, 0.13690095362409574), (3575, 0.136895008049953), (858, 0.13686667186989152), (4050, 0.13686354795276232), (1657, 0.13684415715764403), (298, 0.13683858758317266), (190, 0.13682989050010605), (3580, 0.13682576822635595), (1101, 0.1367500275891112), (1883, 0.1367448251134839), (2592, 0.1367254454914657), (750, 0.13672320410007976), (2810, 0.13669723863146388), (3484, 0.13668709188787498), (3639, 0.13668255328317108), (457, 0.13668004494131678), (951, 0.13661166348777598), (4168, 0.13657524945488297), (745, 0.13656742609724223), (3564, 0.13653777480739845), (851, 0.13652598291786225), (1646, 0.13651691144511968), (1168, 0.13650442613745503), (1029, 0.13648738528502666), (1722, 0.13644399798027468), (3474, 0.13642532532773627), (695, 0.1363991032508896), (4085, 0.13639626038338276), (1591, 0.13638186582389095), (3137, 0.136333996091218), (3248, 0.13632850574143426), (2857, 0.13632781237477032), (2485, 0.13628418630626868), (303, 0.13624961013697973), (4363, 0.13622159807680675), (2222, 0.13621556731794476), (2830, 0.13620790831102522), (3171, 0.13617175090217196), (2999, 0.13615594572624323), (3414, 0.1361483322887876), (4231, 0.13609832265602495), (3454, 0.13607702783618725), (1433, 0.1360283950617497), (1825, 0.1359889538794552), (34, 0.13598001740693835), (1581, 0.13597445646191236), (3133, 0.13597283400520915), (1910, 0.13593901770640987), (4183, 0.1358937223872494), (4563, 0.13586760239403536), (1754, 0.1358570855781806), (3750, 0.13582018534558765), (3254, 0.1358186104040991), (1546, 0.13577741819906788), (4196, 0.13574049522015358), (352, 0.13572035182256226), (2610, 0.13566291668755712), (2526, 0.13563156119026656), (3391, 0.13559205993348314), (1400, 0.13557354524205104), (3650, 0.1355555937171215), (2768, 0.13553551291443297), (3199, 0.13552375683479365), (1025, 0.135480029133266), (793, 0.13541079245035284), (4647, 0.13538882530884655), (2498, 0.1353686132702009), (2246, 0.13529116560724022), (2630, 0.13527913141026648), (2702, 0.13527809832617183), (623, 0.13526282569916107), (2656, 0.13524085132890906), (1357, 0.13521721542382914), (528, 0.13521489312879195), (196, 0.13511331855142067), (1342, 0.13511254159758393), (2086, 0.13509343285751754), (2078, 0.1350422713856304), (2961, 0.13499065505516814), (722, 0.13498435951337562), (3834, 0.1349788096847381), (3968, 0.1349708037326829), (740, 0.13495392009385887), (4453, 0.134910686036479), (3592, 0.1348950484739172), (4060, 0.13485733522655222), (1476, 0.13477973008861283), (1542, 0.13474236822378619), (849, 0.13474013525692138), (4335, 0.13471941446364843), (4236, 0.1346584921309109), (1614, 0.13455593096577823), (1598, 0.13443549803423283), (2411, 0.13443527210697043), (848, 0.1344238140812802), (3283, 0.1344162796791164), (3934, 0.1343481827923607), (2003, 0.13433139308688535), (1487, 0.1342750093998362), (3069, 0.13426256681902776), (3578, 0.13424368209676282), (3404, 0.13418723140402072), (2520, 0.1340468473883354), (1610, 0.1340208711435243), (3446, 0.13399687307260288), (380, 0.1339938421146815), (291, 0.13398000223746823), (3470, 0.13397480119312763), (2615, 0.13395893393292), (3320, 0.1339471283018981), (4656, 0.13384463951230152), (1521, 0.13381462752296955), (993, 0.13380552723427522), (2472, 0.13378925327286817), (2296, 0.13376044273390786), (2311, 0.1337285804381345), (397, 0.13370881679966984), (4609, 0.13370788969632919), (4087, 0.13369903551627754), (3980, 0.1336027537013596), (3654, 0.13359344663656905), (4487, 0.13359269063591248), (427, 0.13358644854135474), (3073, 0.13358424123729878), (1761, 0.1335649033212177), (2741, 0.13353811004996055), (1076, 0.13348230502926187), (2007, 0.13346709174671928), (3809, 0.13346204440339476), (1321, 0.13343633775287495), (2426, 0.13339114753277073), (621, 0.13338658972622788), (2286, 0.13338588835821363), (1872, 0.13338434600592813), (1991, 0.13335926954367583), (2306, 0.13333567390068451), (2759, 0.13329190060177187), (985, 0.13324614996736678), (1626, 0.13324219654776978), (3849, 0.13323445782202145), (1378, 0.13321015743893477), (4452, 0.13316120334289266), (1332, 0.1331531633879219), (3708, 0.133120674638743), (1561, 0.13302912731106858), (1269, 0.13301975950892422), (1869, 0.13295950294120157), (608, 0.13291729496680693), (2723, 0.13285980304853262), (2545, 0.1328480555623741), (713, 0.13284791375859142), (1517, 0.13280513958495893), (1331, 0.13272856027930088), (2726, 0.1326726978941116), (902, 0.1326526305133555), (3783, 0.1326406325222214), (3877, 0.1326128704414565), (297, 0.1326121472574947), (678, 0.13258697889247845), (3039, 0.13255485474498807), (1438, 0.13247526076111799), (2972, 0.13241260091571574), (1667, 0.13239443008833576), (1263, 0.13238061228609985), (3869, 0.13234936926156046), (3763, 0.13231950391374436), (3062, 0.13230628149730256), (898, 0.13227752942149257), (2113, 0.13222008711642083), (2208, 0.13220909254384075), (3413, 0.13220453064773094), (1674, 0.13217658195485898), (2734, 0.13214977385836332), (4114, 0.13208964046804678), (3507, 0.13207659360381127), (3535, 0.13207389082558085), (1153, 0.1320615948180051), (2444, 0.13200332911654364), (3722, 0.13199703684359473), (3097, 0.13197538988658575), (1311, 0.13195299918977269), (230, 0.13193951100040963), (3077, 0.13191723562578714), (3894, 0.13190119018857513), (1104, 0.13188453782216922), (3584, 0.13186913872102174), (825, 0.13180939087572666), (859, 0.13173115234789498), (2924, 0.13171500768985614), (4357, 0.13170753136184274), (926, 0.1317044421423067), (3790, 0.13167517928605962), (1922, 0.1316552056078399), (3921, 0.13158664042534204), (3343, 0.13157548082483597), (38, 0.13156247169058094), (4623, 0.13144888286681528), (3616, 0.13144695900730277), (4031, 0.1313513502864081), (2502, 0.13133960912973433), (1177, 0.13128572576891645), (3604, 0.13124398925400665), (1207, 0.131237394805205), (647, 0.1312133438095826), (3357, 0.13117544409115747), (2387, 0.13114846151363882), (4420, 0.1311216814504583), (1611, 0.13111490482843535), (1712, 0.13107746548481708), (2150, 0.13107053029731644), (2602, 0.13104067947829295), (2965, 0.13103296421767333), (351, 0.13102804597101425), (2066, 0.130902548900728), (4688, 0.13089639054002702), (1976, 0.13089273338832574), (495, 0.13080963652795438), (3445, 0.1308069935342329), (3718, 0.1307818862917228), (990, 0.13078186527123534), (3956, 0.1307776497705455), (375, 0.1307517072120043), (405, 0.13075001405811165), (4663, 0.13070855740422416), (1536, 0.13063699818852148), (454, 0.13060842394796493), (3178, 0.1305471855377682), (159, 0.13051976702909518), (3468, 0.13041235188120426), (1589, 0.13038935273024507), (4553, 0.13036824746790393), (3024, 0.130361554808858), (3771, 0.1303166259497234), (869, 0.13029116375403665), (3163, 0.13027525496753672), (3571, 0.13022674809283735), (2201, 0.1302045244509169), (4096, 0.13018337982502307), (2765, 0.1301724546042997), (1778, 0.13014373687548636), (71, 0.13013372923788968), (4252, 0.13013201621743975), (73, 0.13013129007042828), (1244, 0.13010349668918395), (4633, 0.13007745448751926), (4081, 0.13002087867224735), (1404, 0.12996274927848128), (836, 0.1299363045585517), (3855, 0.12987565349684077), (2313, 0.12984040298741206), (822, 0.12983799688358746), (2457, 0.12982136473958314), (1004, 0.12975781386428129), (4011, 0.12974648251290433), (1447, 0.12969158773264208), (4601, 0.1296647529296441), (2159, 0.1296533351862977), (1409, 0.12962935730733266), (3187, 0.1296075453925038), (504, 0.12960367213387347), (2884, 0.12959074114987398), (639, 0.12959065783516743), (3811, 0.12958539402478064), (1946, 0.12951360202630638), (1117, 0.12950266381247422), (1154, 0.12948017051219815), (3891, 0.12945730244687367), (4197, 0.1294224766065722), (575, 0.129397430581169), (4517, 0.12937763487239828), (2459, 0.1293640441949684), (2493, 0.12934858491912546), (1089, 0.12933735758676365), (2675, 0.12928556706061217), (980, 0.12927229117304603), (3569, 0.12926694109682677), (1397, 0.12925039185646475), (1687, 0.12924976575948005), (3380, 0.12921409131005662), (572, 0.12919325295410017), (2840, 0.12914754845467416), (1372, 0.12912446310890793), (3247, 0.1290723223135859), (256, 0.12903808313355689), (107, 0.12903398545499772), (2489, 0.12903006273982218), (4013, 0.12901114040579675), (3937, 0.1289685441582359), (118, 0.12896495043633516), (2826, 0.1289166692967392), (2377, 0.12887683931114843), (4112, 0.1288355207384225), (2446, 0.1287883890805633), (150, 0.12877874584275595), (3858, 0.12868382888363208), (3496, 0.1286735779005054), (3984, 0.12866500179178367), (3889, 0.12861629636607788), (4456, 0.1285945912034328), (4266, 0.12858763934306852), (4488, 0.1285574731258068), (4364, 0.12849715152332652), (1857, 0.1284635156859531), (4329, 0.1284529764234012), (2821, 0.12844119934951642), (2230, 0.1283590503387016), (817, 0.12827938693213167), (4470, 0.12827677787191455), (3562, 0.1282618028453071), (2529, 0.12826135871400113), (4708, 0.1282598477126525), (498, 0.1282551742584651), (488, 0.12819468530690784), (3958, 0.12818592740221332), (220, 0.1281823325331738), (2541, 0.12817649777298556), (826, 0.12815028659433386), (4582, 0.1280955404450526), (1480, 0.12806881005089346), (2190, 0.12802058043655337), (2317, 0.1279983920370381), (580, 0.12799152130374397), (2934, 0.12797307258080315), (4419, 0.12796779870263383), (2491, 0.12787827349093567), (3013, 0.12786744279881065), (4324, 0.12783701271907966), (3677, 0.12777857782329338), (3695, 0.12774927531966582), (49, 0.12766751667107262), (1088, 0.12754922211425163), (1955, 0.12754395295959892), (2738, 0.12752981801467997), (3491, 0.12751946292408953), (2448, 0.12750989248139255), (81, 0.12748744292735037), (2073, 0.12743970797787058), (2019, 0.12743141309679312), (3602, 0.12742179803206827), (2626, 0.12736662512412777), (4116, 0.12733715876456536), (3520, 0.12732576567034323), (2936, 0.12731782164415023), (2776, 0.12730151060790962), (2123, 0.12729369545169383), (3813, 0.12726306082707436), (1120, 0.12724575159105342), (2939, 0.12722364532609373), (2199, 0.12721699524722882), (2559, 0.1272131311299226), (3933, 0.12721289748140752), (4076, 0.12719836324384737), (3392, 0.12719674253823943), (3221, 0.12719496469912117), (3568, 0.12715452827062068), (2608, 0.12712771510787432), (4444, 0.1270810566819144), (304, 0.12698971092033542), (565, 0.12696190470971322), (4265, 0.1269554363619739), (247, 0.12691693297780393), (390, 0.12690370646331103), (3734, 0.1268727644017339), (3405, 0.12685512747017247), (69, 0.12684053282529142), (4024, 0.1268222882704204), (1874, 0.12675939753043058), (219, 0.1267029792873654), (2415, 0.12668209941661523), (1822, 0.12666333923184542), (1058, 0.12665938539876745), (4454, 0.12665323215037513), (998, 0.12665289076917013), (1336, 0.12664598774251548), (3502, 0.12663703050753927), (2170, 0.12663042905080532), (4330, 0.1266034347214742), (248, 0.1265847148247272), (2797, 0.1265174953093941), (4093, 0.12651582047904497), (1176, 0.12650479780454985), (3539, 0.1264938832507063), (234, 0.1264742130039748), (789, 0.12643464488614406), (1450, 0.12641760985897152), (4023, 0.12637870065636808), (4232, 0.1263729388863817), (4018, 0.12632688856956753), (3459, 0.1262367590383997), (1388, 0.12623147758378186), (4082, 0.1262250194168231), (3161, 0.12620348150101857), (4536, 0.12618436773033695), (4756, 0.1261717994876763), (395, 0.12614031653956997), (64, 0.126039891965979), (4575, 0.12600926378845173), (4124, 0.12593858558315105), (596, 0.12590054345574564), (2894, 0.12587922748877786), (587, 0.12586601129118744), (1984, 0.12585599331587582), (3183, 0.1258428352395844), (2218, 0.12581332888041832), (1479, 0.1258046790577684), (3241, 0.12579200547753852), (1578, 0.12575428636469357), (1340, 0.12575044294360244), (1575, 0.12570794579388636), (3674, 0.12568544362810166), (591, 0.12566740998455025), (4637, 0.12557983760648048), (2166, 0.12557050076091195), (626, 0.12554709021562208), (741, 0.12552122022565546), (3917, 0.12550933307669052), (211, 0.12549497407729454), (2410, 0.12544928179991974), (876, 0.12539537629935982), (3100, 0.125377881637899), (1280, 0.12535866060294537), (4646, 0.12533712757217494), (2505, 0.12532140648678997), (2853, 0.12527146433185896), (1187, 0.12525914450338896), (550, 0.12524161301121134), (3906, 0.12523919996829172), (2570, 0.1252240733104013), (1617, 0.12520376966090396), (1092, 0.12517700486395797), (3841, 0.12516806838752217), (2482, 0.12515860215413147), (1054, 0.1251343961482112), (3856, 0.12511549388906326), (4598, 0.1251001759942933), (3089, 0.1250962463935353), (200, 0.12507990286350382), (241, 0.12499060237893357), (4546, 0.12494921781048049), (4406, 0.12493450595322918), (2747, 0.12493277878937598), (3861, 0.12489099239482016), (2678, 0.12478738860542107), (3245, 0.12461823412238765), (506, 0.12459409342228872), (1726, 0.12459029003290294), (2456, 0.1245691264105639), (2605, 0.12456040415359691), (3611, 0.12455580300068068), (861, 0.12455020721811362), (735, 0.12454322680313659), (3704, 0.12453431117390054), (3312, 0.12452333854206576), (4498, 0.12451282319061377), (661, 0.1245100085508454), (2076, 0.12450351199358875), (4244, 0.12446462273081711), (3202, 0.12444070189909738), (376, 0.1244088735629508), (2044, 0.12440017034205735), (992, 0.1243908914597757), (2046, 0.12435615317105256), (2982, 0.1243557614685979), (2244, 0.12427251945553633), (4675, 0.12424739984419875), (3488, 0.12422868174150993), (2847, 0.12418385244326334), (70, 0.12414743383962962), (3517, 0.12413479767572136), (2400, 0.1240823166367952), (4202, 0.12403003656100763), (314, 0.124027841332704), (315, 0.12402415954880554), (3001, 0.12395641895803794), (1407, 0.12395639531357483), (223, 0.1239522323957575), (2954, 0.12390432010709083), (4071, 0.1238897208627497), (4134, 0.12387387429076012), (4022, 0.12377507736080691), (601, 0.12374029208678225), (932, 0.12373749618014442), (4187, 0.12370475191392483), (2535, 0.12362633015411387), (401, 0.12362560143929521), (338, 0.12361718815917484), (4541, 0.12361250812209686), (3732, 0.12360415768190952), (1, 0.12357119873620936), (4432, 0.12348365374488082), (1564, 0.12348350213860723), (4515, 0.12344727712857487), (887, 0.12343682761485118), (2434, 0.12339117990299578), (2278, 0.12338634598315978), (4147, 0.12338343712516298), (59, 0.12337405784543116), (3313, 0.12335616967035616), (4732, 0.12331983319243622), (396, 0.12331825092343199), (2971, 0.12327154020426984), (3782, 0.12323534288840347), (1144, 0.12320150036902495), (712, 0.1231513413983922), (4566, 0.12309696211625681), (1755, 0.12303834549694824), (2672, 0.12299460376200386), (1767, 0.12298062753245693), (1697, 0.12297571125678657), (2162, 0.12292649592185588), (2842, 0.12291715649444723), (2501, 0.12284693705575142), (4328, 0.12277141612555116), (132, 0.12275941527007957), (1733, 0.122746602968161), (2799, 0.12274210233367486), (4638, 0.12273695418636342), (1276, 0.12273409443060793), (3673, 0.12273149322139756), (3017, 0.12271158125205232), (2463, 0.12270102839084852), (3766, 0.12265223245306522), (3271, 0.12260639757736544), (3123, 0.12259099380163097), (2881, 0.12258116643617877), (3938, 0.12252416680427008), (1559, 0.12249451866852605), (4247, 0.12247465833171525), (4319, 0.12246107334393179), (3076, 0.12245501764995799), (1823, 0.1224148652082117), (3997, 0.12238152197011558), (90, 0.12230388931670458), (3525, 0.122254371896253), (3680, 0.12222647034305442), (1040, 0.1221474930523994), (2870, 0.12210523666424922), (2713, 0.12203331854424673), (2363, 0.12195495571786999), (4670, 0.1219343038223493), (2835, 0.12192941825861704), (1770, 0.1218625863208502), (4462, 0.12185411689773627), (1428, 0.12184498548110166), (1460, 0.12181187852800025), (128, 0.12179038752959148), (4587, 0.12175192538599498), (1353, 0.12174680581481505), (1113, 0.12171130639947045), (4345, 0.12171124556443963), (3229, 0.12160704093316145), (3173, 0.12154129448735561), (1777, 0.12149749930816271), (3428, 0.12149528852579733), (3514, 0.12146884851065753), (313, 0.12143539174725498), (4123, 0.12139595372121352), (3716, 0.12138881431050705), (320, 0.12135395474557145), (3203, 0.12134641978824331), (1751, 0.1213458076230201), (1435, 0.12130754079790936), (2902, 0.1213044804971271), (2262, 0.12128205822516822), (3172, 0.12119564445422235), (4677, 0.12118421754346305), (709, 0.12111902241781493), (233, 0.12109903786593934), (1565, 0.12105602247047384), (3117, 0.1209981896956352), (857, 0.12087618259642223), (1324, 0.12083625517302077), (2801, 0.12083381347990717), (101, 0.12080531295661895), (2764, 0.12075256043437448), (398, 0.12073972896999101), (2662, 0.12073966026954384), (958, 0.12070650630377906), (4542, 0.12063800339575519), (4138, 0.12063283622656155), (2514, 0.12059169582953636), (714, 0.12059000819212182), (224, 0.12055891329091402), (3116, 0.12055695834784812), (253, 0.12055564391680096), (1065, 0.12055459647150513), (1993, 0.12044143025533605), (1731, 0.12043244130297091), (459, 0.12040745477447698), (2297, 0.12040575448970658), (295, 0.12039323336355286), (4249, 0.12035023493354423), (662, 0.12030045478884877), (3943, 0.12024247236001367), (2906, 0.12020865097315968), (2130, 0.12018806605663236), (1550, 0.1201815925229771), (4097, 0.1201560068091857), (805, 0.1201002968779955), (2636, 0.11999948723742541), (1691, 0.11999594872436456), (1451, 0.11997037987469257), (2606, 0.11995581800235551), (400, 0.1198922120044029), (3982, 0.11980577327966939), (3795, 0.11979105427727732), (3803, 0.11977426713430342), (2176, 0.11977049999765568), (4676, 0.11972698031250555), (3168, 0.11968557422972592), (4639, 0.11968282400626723), (4430, 0.11964370693929972), (4348, 0.11964141196056935), (4191, 0.11962514435085043), (2152, 0.11958058651954129), (2794, 0.11954194572430955), (1265, 0.11950198668075822), (2479, 0.11944927406211252), (3417, 0.11940620842570132), (1165, 0.11939702507277809), (3353, 0.11935736217970858), (339, 0.11935582251250362), (2385, 0.1193502775273383), (23, 0.11929943465551478), (3252, 0.11929368748516693), (4122, 0.11928796579232885), (1330, 0.11926795787564837), (3914, 0.11926004708167627), (702, 0.11925814771958504), (4349, 0.11925194991172129), (2108, 0.11922828115510169), (2525, 0.11919808976104211), (1684, 0.11914578979198939), (394, 0.11910879073384034), (3452, 0.11901170729184886), (2465, 0.11899621904430273), (1642, 0.11897020998507064), (3167, 0.11895990919881687), (3443, 0.11892993573389894), (549, 0.11890538216887549), (3812, 0.11887832595529056), (2010, 0.1188308076562266), (1211, 0.11881586535108876), (2699, 0.11880963175937491), (3940, 0.11878581719392045), (2034, 0.11872485321785783), (4339, 0.1187157336660801), (831, 0.11869908418682096), (644, 0.11868194099462223), (1668, 0.11862720099717726), (4489, 0.1186155532466878), (1604, 0.11859008460696496), (4738, 0.11857921709894867), (4445, 0.11850373554588277), (3119, 0.11846947957384614), (3143, 0.11843552481629041), (1170, 0.11842865546331409), (416, 0.11841710381339932), (2183, 0.1184047500268013), (573, 0.11839360479842785), (367, 0.11839278091213472), (1286, 0.11838463472563751), (3653, 0.11836526750770171), (3314, 0.11835304546282673), (1583, 0.11835014792054868), (743, 0.11832004060133251), (1502, 0.11831703746200216), (3180, 0.11831512420355345), (4494, 0.11829534169808358), (529, 0.11827237650101009), (2440, 0.11826672216563451), (1742, 0.11825986961872602), (4659, 0.11825274013400565), (1123, 0.11824432610546896), (1429, 0.11823202273039338), (571, 0.11818867260382811), (636, 0.1181832373689217), (1939, 0.11813911414594223), (4493, 0.11813803929254481), (2778, 0.11811453387266464), (2132, 0.11810720196809497), (2355, 0.11808345025222008), (2571, 0.11808104591838944), (3744, 0.11808092372449112), (1609, 0.11803387462210489), (3082, 0.11802213412508494), (999, 0.1179332046229724), (1410, 0.11790955744873921), (3697, 0.11790904718802818), (3585, 0.11788090410959651), (3211, 0.1178595538854352), (4091, 0.11785242935851784), (4757, 0.11785138799654135), (4346, 0.11778921016868682), (2725, 0.11775516525928344), (4086, 0.117739605588499), (2381, 0.11772596077613375), (4583, 0.11771614480354632), (1086, 0.1177045168227245), (2882, 0.11763300754253395), (1748, 0.11760029362162108), (2009, 0.11758521918904215), (2432, 0.1174437857468378), (1038, 0.11744117091889704), (3319, 0.11742055903328284), (2366, 0.11740323029650891), (3051, 0.11739092478402362), (1855, 0.11738668143548094), (2477, 0.11732849734470645), (2445, 0.11732473008930637), (2032, 0.11732279811780312), (681, 0.11729674095986087), (3873, 0.11726742521686276), (2268, 0.11723045098455029), (3787, 0.11720952572033715), (1752, 0.11719931856810707), (2182, 0.11719914311709156), (978, 0.11718391295535809), (305, 0.11712060721464666), (2379, 0.11709705382259751), (318, 0.11704499129720937), (4140, 0.11700059457476483), (721, 0.11694622828956931), (2643, 0.11686609171862417), (3125, 0.11686596180046327), (3325, 0.11677781472778835), (2609, 0.11677270075395188), (2295, 0.11675880663269626), (1891, 0.1167578299750869), (2207, 0.1167469962290832), (2945, 0.11670979724636782), (1380, 0.11668781312988794), (4724, 0.11667358785057279), (4512, 0.11662457844327628), (3436, 0.11659963906846485), (281, 0.11658622769682493), (4008, 0.11658547657348368), (2129, 0.11657046306616799), (4333, 0.11655949080922413), (4193, 0.11650682167258102), (1422, 0.11650598910945775), (1549, 0.11649017123327265), (3277, 0.1164609886985672), (548, 0.1164335388208961), (2187, 0.1164293008208764), (1576, 0.11634467900198237), (2574, 0.11633368528652577), (3124, 0.11630801316561039), (3361, 0.11630237119492202), (3666, 0.11625081602637202), (1728, 0.1162125050009692), (3513, 0.11609831879545604), (2326, 0.1160952563312153), (2423, 0.11609045867183641), (755, 0.11603681432341366), (1644, 0.1160139757096482), (4300, 0.11596325728759456), (2652, 0.11594105509435904), (486, 0.11589955496195724), (3179, 0.11587867460400225), (4404, 0.11585458557217897), (176, 0.11584335216143836), (4709, 0.11584275786259209), (1830, 0.11584231025937347), (2950, 0.11584229282945338), (272, 0.11582597947476336), (1901, 0.11572979677930106), (3974, 0.11570488253196845), (674, 0.11565186342219957), (1848, 0.11557065310368127), (3332, 0.11545647175906182), (2860, 0.11539410947667102), (901, 0.1153665887026895), (1326, 0.11534950500507722), (3175, 0.11532917865983847), (153, 0.11530470263619046), (2518, 0.11519624194986165), (8, 0.11516927441480249), (3150, 0.11513157213118606), (1846, 0.11508282908947837), (2743, 0.11506363210911162), (602, 0.1150402420216101), (3972, 0.1149741494722855), (1288, 0.11496431438433406), (4471, 0.11493817451816929), (3501, 0.11493156403271587), (27, 0.11493100202252357), (3628, 0.11492932698455266), (3600, 0.1149280639873183), (599, 0.11491500530163445), (3257, 0.11491123170790316), (3331, 0.11488140917978037), (3526, 0.11487979072401183), (362, 0.11484826040969762), (1651, 0.11481317030325809), (1233, 0.11478893639619914), (3990, 0.11477221833683697), (4626, 0.1147557792724501), (3189, 0.11463504450394886), (299, 0.11457251050049991), (2125, 0.11456706968248992), (2072, 0.11455161895527911), (995, 0.11453308730703424), (3201, 0.11453171138201712), (2690, 0.11451587509995209), (4201, 0.11446416106621599), (3112, 0.11445715301438936), (2069, 0.11445157527727261), (1954, 0.11444523937850322), (3072, 0.11443692823673114), (2389, 0.11439349128134328), (1758, 0.11431412003520065), (2569, 0.11430514762409888), (658, 0.11428135598774368), (2079, 0.11423906859846693), (77, 0.1142222996204959), (2223, 0.11415564739000414), (2271, 0.11411794339289151), (2624, 0.11411753810149441), (2927, 0.11404885421109359), (171, 0.11400689474053849), (1282, 0.11397302744880457), (1163, 0.11391459745796696), (4593, 0.11387826567721568), (3412, 0.11386854376423793), (570, 0.11382889793978516), (4227, 0.11382492245177349), (1660, 0.1137884185688628), (1813, 0.11376923276460088), (3897, 0.11371356998683059), (2085, 0.11366008432923487), (3500, 0.11365155730635186), (2204, 0.1136118075930394), (791, 0.11351058495323035), (2390, 0.11350746400552524), (2124, 0.11350740086213433), (863, 0.11350115292873418), (3310, 0.11349861917701437), (717, 0.113479488913969), (3219, 0.11343064321509091), (991, 0.11342597477656782), (1028, 0.1134166385107187), (633, 0.11341590828456048), (2021, 0.11340054162754308), (4621, 0.1133979929568882), (1689, 0.11337833936422237), (4275, 0.11337648572492974), (4754, 0.11324414884203095), (3647, 0.11319800337901036), (2263, 0.11318289752088687), (3060, 0.11309744873309609), (1171, 0.11306170805248585), (1831, 0.11298990905380821), (1669, 0.11289825369324837), (3915, 0.11288987108065857), (3419, 0.11284495498703294), (3411, 0.11279283976733201), (2567, 0.11276964661366601), (4662, 0.11275496968318031), (3883, 0.11273958735277781), (4592, 0.11266394215272607), (3920, 0.1126231764184701), (2357, 0.1125449899890424), (2926, 0.11253230111111831), (3347, 0.11252722126800944), (1794, 0.11251259544546709), (3738, 0.11248001784985572), (3255, 0.11246298644420043), (3893, 0.11246006729642903), (3110, 0.11240567115030443), (4735, 0.1123972487314037), (1703, 0.11235195419885231), (186, 0.11234862447566114), (3781, 0.11231844157542692), (2850, 0.11228543622654459), (1622, 0.11224240145709977), (404, 0.11212625734670441), (4394, 0.11208973741287136), (1638, 0.11204868309960392), (2270, 0.11200729279837159), (2128, 0.11199347391077463), (2232, 0.11199207726208427), (2864, 0.11199072055178029), (3925, 0.11198129523674293), (512, 0.11189042102946314), (2283, 0.11187426783148181), (1350, 0.11180357928572762), (4264, 0.11178544416272018), (3212, 0.11174767643977529), (1525, 0.11173083516518034), (4292, 0.11169621490457964), (2405, 0.11163807406306188), (1390, 0.11162706250742563), (1277, 0.11161071185852661), (4685, 0.11158763367575428), (3601, 0.11155185563965188), (4094, 0.1115508642744082), (4277, 0.11154633438145148), (2792, 0.11151006486577347), (1965, 0.11149166676537815), (3950, 0.11147254154458447), (4722, 0.11145192424858728), (1055, 0.1114378926616213), (3194, 0.11142658624173585), (55, 0.11141588342806871), (3302, 0.11141436001459352), (4661, 0.11139325385546832), (3979, 0.11135585414033422), (1562, 0.11134224280424206), (3109, 0.11130927101191557), (4327, 0.11125262365275897), (3538, 0.11114492154957709), (4263, 0.11111757089806057), (3746, 0.11111429273283076), (1246, 0.1110920882560261), (3440, 0.1110641037884965), (2352, 0.11103540739734018), (480, 0.11100914661787967), (1637, 0.11099427128255963), (226, 0.11098406597739323), (1959, 0.11098146398901665), (3291, 0.11096405746654305), (1462, 0.11095297286851549), (1532, 0.11090497868212923), (4173, 0.1108417036640594), (3195, 0.11083829905183747), (2344, 0.11083415004352867), (3774, 0.11081145257748326), (3286, 0.11074740582918025), (997, 0.11068139923414162), (4105, 0.11064052879415247), (3798, 0.11062398742011427), (411, 0.11056924554812331), (3619, 0.11053523969233718), (4484, 0.11052742641698807), (4157, 0.11051990841808944), (663, 0.1105052198469876), (1804, 0.11050213050347692), (262, 0.11048034710068554), (3198, 0.110404138526655), (3710, 0.11036510543669399), (708, 0.11035536364103665), (889, 0.11028564203271617), (4207, 0.11026875964598117), (686, 0.11025935152645144), (888, 0.11022276544469457), (1811, 0.1101892298191874), (4599, 0.11017869790600349), (3136, 0.11013764787075275), (379, 0.11008919200407241), (1732, 0.11008027705165267), (2736, 0.1100749116537898), (2542, 0.11004532902675641), (4438, 0.11000393557374648), (2464, 0.1098996128034209), (2804, 0.1098594112623431), (782, 0.10985766864469536), (4712, 0.10985613424084338), (4686, 0.10979410118904526), (2273, 0.10975708150282783), (576, 0.1097547963418156), (1679, 0.10974748025716892), (603, 0.10971668614001005), (2292, 0.10971624799320949), (2004, 0.10971283802687647), (2350, 0.10960183080975072), (3155, 0.10947069238968854), (766, 0.10937594417196966), (4103, 0.10934718607437234), (2302, 0.10933685823008694), (4608, 0.10930219547912545), (910, 0.10928103332469523), (3892, 0.10916050679957452), (3439, 0.10915020800547241), (2519, 0.10913469392585423), (2006, 0.10900698382413895), (3644, 0.108982603517571), (2396, 0.10892209286239116), (1149, 0.1088968381430763), (36, 0.1088345950389684), (3438, 0.10882733072598483), (1212, 0.1088138293802442), (1914, 0.10874383915959102), (627, 0.10871719305895743), (4437, 0.10868807851474879), (323, 0.10868048896488214), (2823, 0.10857114702105068), (1313, 0.1085706387712634), (80, 0.1085592675937286), (2547, 0.10855148650708932), (797, 0.1085145275499301), (3624, 0.10851327655295755), (4063, 0.10851112333494206), (2181, 0.10849017454305085), (2796, 0.10845105693191968), (811, 0.10840061918439949), (517, 0.108378650896513), (1941, 0.1083456218185477), (2266, 0.1083322957409402), (3793, 0.10830309982381114), (1854, 0.1082820069909802), (1427, 0.10826843636833675), (649, 0.10821615632349516), (1073, 0.10819700191101367), (2573, 0.10819086672711391), (1769, 0.10819009895150677), (1790, 0.10815703462297076), (3902, 0.10811386987675278), (3356, 0.10809317268693282), (3900, 0.10805274008079468), (3224, 0.10803676514700734), (1836, 0.10803166246198603), (1485, 0.10798995497983761), (1010, 0.10795524165002042), (188, 0.10794047477439596), (158, 0.10784464990910998), (4367, 0.10783984275270979), (3994, 0.10783707159042993), (426, 0.10781066689771497), (2787, 0.1078066404775891), (2378, 0.10780504276082963), (4142, 0.10775860854018247), (3131, 0.10773883370089939), (4422, 0.10768370071587298), (2575, 0.10767810661209791), (1900, 0.10767223923447686), (4396, 0.10766133120013766), (3715, 0.10766117285267193), (2217, 0.10763701610780163), (759, 0.10756430936908086), (2382, 0.10755356553351227), (610, 0.10740917354038088), (1603, 0.1074022276862688), (514, 0.10735946898624003), (1322, 0.10735269200374419), (2361, 0.10735025960647401), (365, 0.10734081087388188), (1198, 0.1073359095347841), (2800, 0.10733539815659096), (382, 0.10726475035567709), (1437, 0.10724964369962635), (1200, 0.10724710146790509), (2420, 0.1072354048200169), (3366, 0.10719385558458265), (507, 0.1071336013309582), (4294, 0.1070939806706499), (4133, 0.10708992524570131), (1916, 0.10707959785225428), (1724, 0.10704523153428183), (10, 0.1070338228926741), (1159, 0.10700340454889702), (3355, 0.10695924724850736), (431, 0.10694180149018875), (2281, 0.1068713686057888), (187, 0.10683251776603588), (2168, 0.10683038151270537), (2153, 0.10678666547539177), (2346, 0.10675694187220676), (2685, 0.10667027336247625), (1504, 0.10666851958997516), (2251, 0.10662843391523613), (3207, 0.10654365464892704), (1928, 0.10652574476428758), (1783, 0.10652328784294257), (680, 0.10640616078521219), (399, 0.10635520373381717), (4139, 0.1063011807870437), (4034, 0.10627304548429109), (1943, 0.10625465165430444), (2215, 0.10621167380805552), (1303, 0.10620075743188294), (1126, 0.10616267417286182), (2507, 0.10614505347376789), (1866, 0.10614106577695667), (3309, 0.10613613209406202), (4447, 0.1061092279352739), (4558, 0.10606987620415186), (3321, 0.10604617866972746), (3603, 0.10602915913671573), (3688, 0.10602536048672831), (3928, 0.10598338970124095), (93, 0.10595709884004288), (2315, 0.10594390689680942), (1190, 0.10579582306641887), (564, 0.10575242355289094), (1929, 0.10573659100225723), (1070, 0.10573312648899265), (3280, 0.1057271724246933), (4365, 0.10561582976850346), (4723, 0.10553180235129205), (3402, 0.10548682328104853), (1315, 0.10546406434624644), (977, 0.10545329753654024), (598, 0.10543237739197756), (2105, 0.10541924109125096), (1898, 0.10541274792234613), (3572, 0.10535098170102065), (1605, 0.10534552801192816), (3808, 0.10533130827450854), (1832, 0.10532866878851443), (3146, 0.10526621079645743), (3134, 0.10525576633905741), (1905, 0.10522269223522507), (2677, 0.10515833252581443), (4521, 0.10504776064909799), (1704, 0.1049679021594738), (1909, 0.10496360017883376), (1102, 0.1049522957072099), (361, 0.10493970868551042), (3916, 0.10490962080993183), (1656, 0.10489572276899495), (2192, 0.10487691064820291), (1062, 0.10487403390790365), (2337, 0.10485954491275513), (1904, 0.10484641053002625), (2360, 0.10483522914089775), (693, 0.10482677124885925), (3773, 0.10482509894064479), (3191, 0.10481873390668855), (4359, 0.10480589805808248), (1121, 0.10479040189685623), (1151, 0.10478735880101019), (4464, 0.10477092461778811), (4392, 0.10475908772838845), (1663, 0.10474554890598671), (2912, 0.10474511654487739), (1169, 0.10468961323403062), (3061, 0.10463045951128715), (1558, 0.10457916284202955), (415, 0.10453657587023131), (1600, 0.10447865301237642), (2604, 0.104458266727841), (3824, 0.1044329520897484), (1127, 0.10442799274362465), (4285, 0.10440661700927927), (4347, 0.10425371679756232), (3651, 0.10422707952385886), (4427, 0.10418798932195042), (293, 0.10413844078958301), (4657, 0.10412679987392597), (3239, 0.10404287683162557), (4002, 0.10400172154247266), (2057, 0.10399172225666174), (2832, 0.10397657836416488), (3595, 0.10395543583145926), (3363, 0.10394576596608218), (2819, 0.10394057286819455), (1166, 0.10393628096030873), (4421, 0.10392339150730057), (4606, 0.10384504654166875), (4607, 0.103803823845575), (4332, 0.10379023828402616), (2015, 0.10376666720492796), (3451, 0.10376025514390193), (2127, 0.10373984602757103), (3953, 0.10373743397530921), (3908, 0.10372999397473032), (1953, 0.10367356569796529), (2466, 0.10360099364872324), (3423, 0.10353005956628794), (3522, 0.10352126020180073), (4410, 0.10351776192890656), (1103, 0.10350952570400021), (3394, 0.10350820786901718), (3057, 0.1034195939159772), (2670, 0.1034146704445964), (2728, 0.10341014097950213), (4552, 0.10340459586251904), (1639, 0.10329013534915096), (1548, 0.10327156825985272), (2450, 0.10322048550623716), (3606, 0.10321160004586626), (1720, 0.10317744442374974), (4586, 0.10316731547997633), (2255, 0.10310274669367414), (1205, 0.10308510501857718), (4224, 0.10296510964778116), (927, 0.1029609898488113), (4441, 0.1029439730639287), (3090, 0.10289380644262523), (4259, 0.10282590247600702), (1887, 0.10276971271153208), (4584, 0.1027538988677193), (143, 0.10272910045022092), (1258, 0.10269699303049312), (3425, 0.10267044663662762), (1944, 0.10246813696894505), (2274, 0.10246236002733346), (1966, 0.1024287114205946), (4571, 0.10242120586389131), (2356, 0.10240345600063679), (4719, 0.10233574582259601), (95, 0.1022443118802182), (886, 0.10223186166376366), (539, 0.10215402154136682), (2639, 0.1021497014647121), (2681, 0.10211737816750156), (275, 0.10208510018348796), (1416, 0.10207110646945783), (4550, 0.10204667829908903), (3081, 0.10203121079256608), (2781, 0.10199647930692256), (3758, 0.10197866287196218), (1294, 0.10195887352997367), (4697, 0.10193096737926834), (2521, 0.10189926705527878), (1771, 0.10183224978130373), (585, 0.10179294078456892), (359, 0.10176853695161144), (1659, 0.10175478035238146), (1792, 0.10172481105147484), (4290, 0.10165617768146767), (4574, 0.10163381284816325), (3074, 0.10158146009876702), (1601, 0.10153790731397072), (2758, 0.10153354580615988), (1297, 0.10152251531092164), (1164, 0.10151504563827389), (3712, 0.10151458881495194), (1285, 0.10147225191040289), (1091, 0.10146717811700091), (2308, 0.10145803608621079), (3145, 0.10145645912860336), (2394, 0.10139735706291556), (2593, 0.10138053637316527), (3193, 0.10137698683146822), (2829, 0.10135288909073535), (983, 0.10134768793678192), (94, 0.1013460619510665), (3800, 0.10134482556794312), (567, 0.10132305985581862), (1516, 0.10132015296307284), (3555, 0.10131772226009265), (925, 0.10130040429956187), (2852, 0.10126745512842121), (3047, 0.10114496204610095), (3775, 0.10114060961609686), (2664, 0.10113638906343403), (1859, 0.10111146158007774), (2631, 0.10109018383515381), (2260, 0.10100942055987083), (2815, 0.10100784092461326), (326, 0.10100621230572973), (3878, 0.10100167065479237), (2865, 0.10100112880942183), (1932, 0.1009424091836023), (3223, 0.1009159978785372), (2017, 0.10089510182971279), (893, 0.10087789082403659), (2895, 0.10087524475877656), (2880, 0.10071691256741772), (3021, 0.10069858467839962), (1271, 0.10069077178003309), (3833, 0.10065457692406309), (2619, 0.1006238051751422), (1528, 0.10062325577282658), (1534, 0.10053670890404456), (2753, 0.1005185798654843), (1363, 0.1004975238893567), (4569, 0.10047239695534751), (1729, 0.10046700677903365), (1133, 0.10039011677005613), (4368, 0.10036531153575093), (554, 0.10036309731334292), (2099, 0.10028293713866544), (2856, 0.1002699171305594), (1242, 0.10026349235446938), (909, 0.10023221452379014), (2249, 0.10020381390145805), (151, 0.10013487773586384), (4222, 0.1001059815241135), (117, 0.10010191175440371), (4568, 0.09999420431013499), (2098, 0.09998433594876306), (3497, 0.09989905722812766), (1370, 0.09988754694003356), (765, 0.09984804168075902), (4385, 0.09984020383485652), (3398, 0.09977957811274522), (2655, 0.09971777152983594), (2089, 0.0997099607051649), (2959, 0.09968284671808843), (1508, 0.09968190494784514), (2986, 0.09963356054004409), (3844, 0.09961797741831388), (3278, 0.09948223109904913), (1633, 0.09941077503504799), (1814, 0.0994091290469003), (3262, 0.09940000279156191), (3901, 0.09938343528521429), (3478, 0.09937072924255266), (917, 0.09936905157281943), (2585, 0.09934554989686227), (1042, 0.09934499200448163), (3985, 0.09932131217785373), (3190, 0.09923282363609312), (473, 0.09914605276231626), (2937, 0.09912275231926199), (432, 0.09907455405855835), (1529, 0.0990301173521106), (2544, 0.09900867765343392), (2951, 0.0989800700633585), (2704, 0.09896084424965189), (1734, 0.09895291167893981), (2408, 0.0989485957906955), (66, 0.09892950718989706), (3164, 0.09892513354455879), (3846, 0.0989228213687521), (4455, 0.09888815673340369), (2754, 0.09886749822527838), (1520, 0.09879708306219419), (2081, 0.0987802460183951), (2388, 0.09875932248257162), (4636, 0.09875517954405279), (2497, 0.09872446604941627), (4743, 0.09872098502629344), (4037, 0.09862328580246477), (4483, 0.09860613033308081), (1204, 0.09856695765849917), (3975, 0.09855467146169955), (516, 0.09855147509475834), (3135, 0.09850558714302006), (4340, 0.09849934359401281), (290, 0.09849507470880978), (2989, 0.09849140889842298), (823, 0.09845641347616586), (2349, 0.09836938761231949), (3169, 0.09833841178384653), (1470, 0.09831080887103266), (1580, 0.09830393916835582), (3273, 0.09820926313633681), (2139, 0.0981983238826272), (2231, 0.09816788556097536), (489, 0.09815543348421912), (3269, 0.09809585601773402), (50, 0.09795811629112902), (4132, 0.09789036666335842), (3243, 0.09784838975611695), (761, 0.09781650329460799), (3817, 0.0978089628600133), (4320, 0.09780832101752378), (4634, 0.09777552374612178), (1960, 0.09775911981069098), (3533, 0.09769739618737318), (444, 0.09762083755101966), (3881, 0.09760879464012039), (2336, 0.09760419146211452), (2386, 0.09760005546011978), (312, 0.09753822940999146), (3016, 0.0975290373461988), (3326, 0.09748675803957103), (2770, 0.09745989565244834), (2872, 0.09744812969000768), (4073, 0.0974264530709255), (466, 0.09740480370647639), (1717, 0.09738737829470466), (1835, 0.09733340520881506), (1448, 0.09731946966197741), (4653, 0.09730265949624806), (2976, 0.09729573252802204), (2135, 0.09729542010381481), (1590, 0.09726644785020698), (3132, 0.0972598332495185), (4145, 0.09724285006761255), (3537, 0.09716951756443387), (4683, 0.09708007825864406), (1947, 0.09704842509149102), (2404, 0.0970388120614216), (987, 0.09702990218422085), (3214, 0.09698462219768375), (1745, 0.09698392958745511), (884, 0.09696779484601326), (16, 0.09696326510348105), (3587, 0.09692152082102873), (3003, 0.09687121027943187), (3177, 0.09685616990717001), (2219, 0.09685541177273516), (2148, 0.09681850100195068), (1008, 0.09681064562066549), (316, 0.0967845560092876), (2956, 0.09672836424833649), (4146, 0.09671699464203183), (3196, 0.09665383494222221), (1174, 0.09664779821902413), (3540, 0.09655123490193883), (4390, 0.09655066385425815), (4496, 0.09653600971173958), (2627, 0.09653454819195503), (2824, 0.09652154986959013), (4245, 0.09651363075186237), (2721, 0.09632392088790706), (2451, 0.09627928827685427), (3101, 0.0962757604941961), (2595, 0.09626468330843674), (4159, 0.09621343288037366), (3554, 0.0962009512770207), (2033, 0.09619759588855568), (1632, 0.09613517858460414), (3529, 0.09609548525200638), (4111, 0.09606615987062225), (2693, 0.09605251375378143), (2938, 0.09602911619186386), (2500, 0.0959231248529409), (2106, 0.09589881342208637), (4237, 0.09589873210055477), (3005, 0.09583692316254824), (2960, 0.09582145208107606), (3160, 0.09581052200744777), (1631, 0.09578997407799969), (3208, 0.09578511181230306), (772, 0.09574937646459543), (592, 0.09569975730619579), (2438, 0.09566352466401264), (3995, 0.09561670915183626), (3588, 0.09558940742626179), (3348, 0.09558698643847603), (4241, 0.09554695822192448), (4211, 0.09550575755701116), (4426, 0.09544517410948573), (2833, 0.09539747229630528), (1868, 0.09536912843230978), (98, 0.09535107676453422), (3148, 0.09531888922556397), (4235, 0.09528430141291735), (2576, 0.09515011506744342), (4469, 0.0950594180739139), (1912, 0.0950445804627977), (2233, 0.095025917950932), (1933, 0.09499918584240942), (2590, 0.09499738780628379), (4642, 0.09498841054681408), (1683, 0.09497426387258662), (4036, 0.0949727485469332), (3613, 0.09496482944487868), (1078, 0.09495869884965907), (1167, 0.09494674571612174), (4003, 0.09490475880923782), (2429, 0.09489102520927846), (1979, 0.09487194898821673), (3026, 0.09487141586135994), (855, 0.09484805716392196), (4710, 0.09478394738032198), (2431, 0.09472611243682924), (1227, 0.09470136308261437), (4543, 0.09469977209945943), (3300, 0.09466946750552313), (4125, 0.09465799065390373), (54, 0.09458137628779689), (3565, 0.09456485581671234), (3472, 0.09455759634768399), (4405, 0.09454951688043031), (4006, 0.09450132159772393), (1298, 0.0944363748528503), (1995, 0.09441450914173329), (1938, 0.09432570275043003), (2257, 0.09429759781945185), (1786, 0.0942606649028091), (4354, 0.09425210444358283), (4480, 0.09423653159576083), (392, 0.09413848669134883), (2071, 0.0940959551675055), (3165, 0.0940823238765525), (1940, 0.09407614313157987), (972, 0.094064952553683), (4478, 0.09398449753746234), (2028, 0.09398362947096903), (4434, 0.09397144441422699), (2304, 0.09385483035894514), (2549, 0.0938194734853824), (4261, 0.09369918276596002), (1884, 0.09368961283826138), (4160, 0.09363497648489146), (783, 0.09362049236429484), (2414, 0.09359837030523258), (2323, 0.09356564458560838), (1031, 0.09356443513960022), (767, 0.09344974686531936), (3768, 0.09344382621378294), (2943, 0.09344040759102262), (311, 0.09338487704916867), (1889, 0.09338139564538869), (3816, 0.09335666463982013), (2213, 0.0933549489307554), (2879, 0.09331898012085724), (278, 0.09327236824294637), (3757, 0.0932511196596861), (630, 0.09322933128422688), (4108, 0.09322581797703634), (30, 0.09314945802841955), (4280, 0.0931276212994372), (1100, 0.09308718583578797), (3550, 0.09299592765433747), (2788, 0.09298364013691057), (3432, 0.09287012027951454), (1975, 0.09284167091468579), (3952, 0.09280035072183526), (3012, 0.09275987265776905), (3068, 0.09269681560117468), (4284, 0.09268550466574096), (4580, 0.09254228884838542), (4298, 0.09250656754341002), (4562, 0.09248260269046427), (3622, 0.09246162116300188), (2991, 0.09245223791180449), (3905, 0.09243706268986683), (1615, 0.09239751291276514), (4323, 0.09239537275062917), (3415, 0.09238667308401886), (1805, 0.09238576035153677), (965, 0.09238172707930731), (4412, 0.09227789657086993), (2731, 0.09226974514722328), (581, 0.09220100533680307), (235, 0.0921817370188276), (3400, 0.09215642538427085), (3532, 0.09214664742845323), (3379, 0.09214555284086713), (1930, 0.09213022727149538), (4362, 0.09211526168001304), (378, 0.09209377822588861), (1056, 0.09208004082792687), (4100, 0.09202829822341019), (2151, 0.092020653898938), (3499, 0.09195689844266912), (2548, 0.09194811787362867), (4549, 0.09187079597081543), (3964, 0.09186527866008234), (1347, 0.09183828949647296), (4570, 0.0918214473623646), (624, 0.09172670603036398), (2883, 0.09169716033750594), (2476, 0.09159779618564355), (3593, 0.09150144599353273), (4513, 0.09141575217390377), (3084, 0.0913630927174116), (1899, 0.09125202594970952), (3338, 0.09118569094316077), (1037, 0.09112847049084963), (2140, 0.09111729995312151), (730, 0.0910755666855123), (58, 0.09101923680775426), (2342, 0.09092098510818422), (20, 0.09091876600369052), (103, 0.09083478313470511), (4668, 0.09079728173856894), (2966, 0.09072022944476171), (679, 0.09071446778192184), (3170, 0.09069501317605172), (1978, 0.09064337784327121), (634, 0.09062232983614313), (1775, 0.09059638799692382), (2849, 0.09049832980305689), (2921, 0.09044336645720633), (4223, 0.09042598513211154), (1142, 0.0903597806059187), (4010, 0.09022997923614581), (1457, 0.0902218930806828), (922, 0.09021650608346005), (3113, 0.09015985140910432), (2775, 0.09015266620141053), (2077, 0.09014463707714804), (3669, 0.09010816986708456), (3242, 0.09008422387136514), (2331, 0.09002024830518388), (770, 0.08997150091007257), (3542, 0.08992414116457119), (611, 0.08986699178033777), (2383, 0.08984635004565115), (1110, 0.0898290160171395), (17, 0.08976901336520293), (2424, 0.08974522783347537), (1072, 0.08970508508978943), (335, 0.08966320161640008), (2885, 0.08963180102086496), (3032, 0.08960154557963128), (3490, 0.08957472316480065), (3832, 0.08947801937161169), (4457, 0.08942190134045427), (1625, 0.08930191165317389), (1882, 0.08929669081128153), (2952, 0.08929497166149337), (2657, 0.089242153556227), (2949, 0.08911743003223546), (2837, 0.08910393052201035), (3258, 0.08906405959790008), (245, 0.08905770387009851), (3401, 0.08901124210651715), (3104, 0.08896570555652532), (2556, 0.08894465382169614), (2453, 0.0889270496892937), (3080, 0.08880945336328061), (954, 0.08880082472405151), (2851, 0.08869223436285378), (2490, 0.08869148419410185), (2364, 0.0886861649887638), (3092, 0.08863860441487241), (2372, 0.08862266055162243), (2673, 0.08858545622646656), (1057, 0.08849731386340533), (2164, 0.08847953070779607), (2701, 0.08834396439491346), (3485, 0.08832184042024861), (4522, 0.08829871268849465), (1209, 0.08829181778957575), (2080, 0.08824623703735666), (1588, 0.08819216691799392), (1299, 0.08819030437732799), (3274, 0.08816479471617374), (4518, 0.0880570683416404), (3814, 0.08799432941471445), (4144, 0.08780195685756813), (4381, 0.087741568505054), (4048, 0.08768398082823166), (2901, 0.0875048658081343), (1355, 0.08743790371116139), (2594, 0.0874363656274699), (2863, 0.08740942484081939), (3079, 0.08736020887298086), (4664, 0.08735582086074963), (4175, 0.08730605093130894), (1097, 0.08730213521428), (3724, 0.08728113926236894), (1228, 0.08725884498078657), (1602, 0.08723805536495666), (3105, 0.08717758626264142), (1181, 0.08711672838281276), (786, 0.08707543583241169), (3115, 0.08703307731975078), (1921, 0.08702303224569154), (3769, 0.08701782362565422), (4632, 0.086811849905327), (1268, 0.08676102876993397), (4341, 0.08673958518011902), (1892, 0.08667115999290789), (1574, 0.0866164723127317), (711, 0.08656069244750082), (4039, 0.08655286933052246), (1180, 0.08654585990213817), (1156, 0.08650490167810063), (2050, 0.08650084925256873), (2907, 0.08649098813026818), (3591, 0.08648276093787523), (1240, 0.08641943669398415), (2433, 0.086391906741321), (3714, 0.08635534645474113), (777, 0.08629371977510171), (2974, 0.08620621026536546), (3788, 0.0861698464908778), (2686, 0.08604008862103742), (3281, 0.08595908319833022), (2586, 0.08592977672813544), (3495, 0.0858755347901135), (366, 0.0858390056521991), (4567, 0.08574311384902435), (2092, 0.08571386373823459), (4514, 0.08563754384194328), (819, 0.08563537030616845), (4220, 0.08558180474031203), (996, 0.0854619989646542), (1980, 0.08545318999628722), (3139, 0.08534599160097163), (4092, 0.08531117176891997), (474, 0.0852991283514191), (2858, 0.08525834127325468), (3922, 0.08525490316559578), (3620, 0.08522601315276308), (2543, 0.0852082277713619), (3749, 0.08512686249326167), (1264, 0.08507297806874914), (4528, 0.08503744461389505), (4689, 0.0850346893326081), (4304, 0.08497196529556104), (3015, 0.08495687557994826), (3607, 0.08495156512082805), (3158, 0.08491663060076501), (3936, 0.08481390587142416), (4690, 0.0847447095440877), (4383, 0.08467381823708456), (1051, 0.08464343193622997), (1844, 0.08458187152956849), (558, 0.08457431046178637), (4090, 0.08454325416938434), (4384, 0.08451939306787502), (3359, 0.08446959958000073), (3042, 0.08446704730600013), (2179, 0.084465201372219), (4530, 0.0844347146555152), (2818, 0.0844264371056743), (4519, 0.08438635529504109), (4556, 0.08433798473433068), (1623, 0.08423044312596817), (4270, 0.08420495979645927), (1333, 0.0841412308168397), (1540, 0.08412410801771315), (3204, 0.08404838693146424), (535, 0.08403511406711094), (2001, 0.08403159486878983), (4248, 0.08401703351514739), (3898, 0.08400266220636479), (920, 0.08396569665870206), (1956, 0.0838994196472411), (2674, 0.08383918377624651), (308, 0.08380713990645458), (2990, 0.08374518846612522), (2597, 0.08372416980392039), (1877, 0.08362932978574465), (2855, 0.08359722049270799), (1541, 0.08346784160110265), (2889, 0.08333774710331106), (2984, 0.08329533954405763), (2979, 0.08327086281590175), (525, 0.08326319451695131), (1081, 0.08317547392473255), (4625, 0.0831508873729651), (1213, 0.08311908210952189), (205, 0.08304167733516583), (3818, 0.08303026107483019), (47, 0.08299798470206365), (3549, 0.08298882872978942), (2968, 0.08296277156522483), (420, 0.08295875312719067), (4718, 0.08295619519860671), (1766, 0.08295082246494702), (1260, 0.08291112615267943), (2495, 0.08290989197511321), (3986, 0.08286451765859033), (4429, 0.08267883667953935), (4418, 0.08256053300298988), (139, 0.08245446497411527), (3991, 0.08239258538855401), (331, 0.08236972473619424), (1507, 0.08235385928824177), (2025, 0.0823296019060755), (2038, 0.08231959958020846), (531, 0.0822094636074329), (2957, 0.08214989712217323), (289, 0.08210932844880063), (1618, 0.08205009340224587), (4439, 0.08194485089817471), (3371, 0.08191618258184309), (391, 0.08189791214514859), (4713, 0.08174209650986586), (964, 0.08174197728467945), (1452, 0.08173417236899866), (4717, 0.08165911513422887), (4408, 0.08157886077244601), (4307, 0.08150168788009587), (1531, 0.08148233140097691), (4079, 0.08141902381815437), (2786, 0.08140346362141915), (2458, 0.08139939378977147), (1635, 0.08135217311031305), (99, 0.08127195066804338), (3671, 0.08119862735077302), (2600, 0.08111090453329914), (4433, 0.08103006269843092), (2115, 0.08078661947896837), (3333, 0.08074784796382543), (1424, 0.0806732691328708), (1139, 0.08066910806355077), (3301, 0.08066510453439801), (2641, 0.08051716669692502), (4736, 0.08050410370721067), (453, 0.08049352418958425), (3830, 0.08048690363008236), (2748, 0.08042408113134476), (3050, 0.08042184333454405), (2994, 0.08041452899513332), (4238, 0.08031995025985711), (3064, 0.0803046450944641), (2194, 0.08025479903936232), (3341, 0.08021705816111017), (4150, 0.08019666387304437), (4213, 0.0801928475955233), (3727, 0.08013295936439513), (3776, 0.08011620306988607), (2407, 0.08011418803666331), (4206, 0.0800745105357567), (3805, 0.07999867150812005), (950, 0.07999148399956497), (1765, 0.07990967933238215), (1328, 0.07984218889913049), (718, 0.07976873871032811), (1235, 0.07966256504603962), (4355, 0.07963812640802119), (2141, 0.07962343089674173), (2561, 0.07956641954153254), (3944, 0.07954122137634138), (3942, 0.07950422645783073), (2551, 0.07949620661927315), (2811, 0.0794358171649185), (2142, 0.07939123610608735), (3078, 0.07935251706984929), (1628, 0.07934834823014993), (3349, 0.07933441007745103), (4353, 0.0793247342258646), (4360, 0.07926692507063192), (141, 0.07921100014043268), (2785, 0.07911465960366296), (2973, 0.07902935736575244), (1890, 0.07902144632034572), (3481, 0.07897544454126734), (1036, 0.07894308987375834), (1801, 0.0789361486642187), (3527, 0.07890217930832918), (4746, 0.07887547368322632), (4041, 0.07881610131097332), (4706, 0.07875334488652783), (4728, 0.07875040840092493), (2508, 0.07874222931274165), (1196, 0.07870234904707342), (26, 0.07868493894698589), (3268, 0.07865630168431913), (2589, 0.07862482967185508), (2523, 0.0786081051430342), (2163, 0.07857876922148253), (2354, 0.07841808881051467), (3631, 0.07840558536290593), (784, 0.07839321405182545), (646, 0.07828863654749017), (3885, 0.07827706201036476), (4313, 0.07826633160963208), (2733, 0.07824195988411592), (4428, 0.07822171682279157), (42, 0.07817295435745593), (3785, 0.07814543874267008), (2958, 0.07810292397983386), (4463, 0.07802832929301094), (2261, 0.07798888897732696), (3707, 0.0779719037825242), (2828, 0.07789851073992031), (2220, 0.07784947177379056), (557, 0.07778752173168886), (2909, 0.07776149755132648), (3034, 0.07747185154939983), (3441, 0.0774028687748751), (2930, 0.07735988392170609), (3020, 0.07734893406724715), (3735, 0.07729574453983118), (513, 0.07725274671272969), (720, 0.07713230018422433), (2084, 0.07709168035727487), (4509, 0.07707475180161513), (2916, 0.07695995314150018), (1672, 0.07693273004460119), (4184, 0.07688924558095431), (4730, 0.07682037781223754), (3843, 0.07680287083687203), (4537, 0.07674497302599531), (771, 0.07662815911358316), (1395, 0.07662528341514664), (2452, 0.07661824968127744), (1573, 0.07659812495496807), (4617, 0.0765939371994393), (2184, 0.07654510174934911), (2435, 0.0765232415548805), (3482, 0.07650652775730575), (4742, 0.07647279981323685), (2483, 0.07646916121710863), (3570, 0.07645252610357875), (1661, 0.07638424379681083), (4, 0.07620402834691764), (2806, 0.0760981109375549), (4698, 0.07608183978591167), (3799, 0.07604304436758416), (4256, 0.07600337494822978), (3912, 0.07594105270691794), (4497, 0.07592222799794487), (1497, 0.07589687067731651), (4678, 0.07574325896636111), (3236, 0.07559254672174923), (3693, 0.07558879031941082), (3740, 0.07557377288192993), (2914, 0.07553531583908173), (3473, 0.0755270552200502), (505, 0.07550450168060785), (4049, 0.07545526162520169), (1016, 0.07544517241477365), (1560, 0.0753827979594695), (3879, 0.07530034744171603), (3962, 0.07528643885035231), (4044, 0.0752475572952812), (3186, 0.07521364713957751), (3263, 0.07511187644754415), (4014, 0.0749739455573814), (3700, 0.07494302635365825), (3521, 0.0749377619032766), (3031, 0.07491392574472248), (4414, 0.0748470299587277), (4209, 0.07478741900890913), (4083, 0.07471419235538457), (3831, 0.07459653686696924), (4615, 0.07450951181018331), (764, 0.07450695799274827), (3662, 0.07445650044583564), (267, 0.0743821316218441), (3185, 0.07435231662637111), (3075, 0.07432177296963284), (4163, 0.07432111857668194), (3930, 0.0743058534394455), (2623, 0.07429343791350324), (4310, 0.07423592465756558), (1641, 0.07423527297946815), (4243, 0.07422421230224156), (2437, 0.07421564561771136), (3884, 0.07418531321519797), (1563, 0.07412221634659959), (2709, 0.0740991238815835), (3290, 0.07409633832884178), (3287, 0.07391982097085761), (4027, 0.07389700980297227), (2827, 0.07389677639778222), (2272, 0.07387194816410914), (2395, 0.07382894720515218), (1093, 0.07376886360584504), (3048, 0.07369982837534403), (1545, 0.07368165475333797), (1785, 0.07362003656647888), (3621, 0.07348264897277118), (1161, 0.07343002556724819), (2172, 0.07337333454232488), (4520, 0.07333349928110897), (4734, 0.07332439763478973), (100, 0.07312358068418), (3703, 0.0731011568556883), (2648, 0.07296593311997901), (3174, 0.07293340879937486), (4078, 0.07290824401000996), (2256, 0.07290390154296686), (3949, 0.0728765800245396), (2516, 0.07285902412489906), (4276, 0.0728241146391531), (4029, 0.07282115657933867), (2890, 0.07274955049276602), (2635, 0.07267598403574471), (2947, 0.07229801361076135), (2324, 0.07213867804936226), (4305, 0.07209701133546717), (3691, 0.0720782620806275), (3609, 0.07200030896509352), (2090, 0.07184655641282423), (3576, 0.0718178090684137), (2171, 0.07181665836871502), (1399, 0.07177787991878531), (4239, 0.07173892680089893), (2896, 0.0716567126770358), (4297, 0.07159259593984826), (1699, 0.07155212612923127), (3339, 0.07152090113676561), (2946, 0.07139608376329847), (1673, 0.07135704183194215), (4407, 0.07133022034559822), (536, 0.07132910726756324), (1670, 0.07119701830781956), (3764, 0.07108081024774689), (3009, 0.07105989872053199), (2628, 0.07100604036704723), (265, 0.07091417934181306), (841, 0.07076521887402976), (2683, 0.07068849550508506), (4273, 0.07067906265557201), (3307, 0.070654582740575), (2667, 0.0706207442829832), (2332, 0.07059600181139118), (3369, 0.07057780819550523), (4666, 0.07046086202336078), (1686, 0.07039369586853367), (4409, 0.07028528651879391), (2922, 0.07023494459162206), (4451, 0.07022493568958203), (4084, 0.0700806803618566), (3583, 0.07001925556331971), (645, 0.06999713819974951), (2651, 0.06997239473052021), (2599, 0.06993388391553713), (2419, 0.06989294659480572), (1856, 0.06988837097273409), (1323, 0.06988801936261468), (625, 0.06971592779534977), (3130, 0.06960048376422436), (1218, 0.06948911156762722), (3230, 0.06943161873149083), (2836, 0.06941642000181561), (2370, 0.06936129729968366), (4271, 0.06927658309677044), (3815, 0.06926826317677799), (3510, 0.06926046703984906), (3847, 0.06912166470001548), (478, 0.0691211709681214), (163, 0.0691177585215186), (140, 0.0690448417688335), (4067, 0.06899974860740933), (2041, 0.06897531626063494), (3723, 0.06895800247870522), (3381, 0.06889122403741714), (4495, 0.06885840412326992), (3217, 0.06879378841640396), (1491, 0.06876130360240308), (4700, 0.06864431463659368), (1800, 0.06864051293778904), (2253, 0.06857773051499577), (3664, 0.06845829210086082), (3126, 0.06842400719032822), (3590, 0.06842139881391952), (229, 0.06838933311146807), (3358, 0.0683518495022411), (4058, 0.068323326029864), (3544, 0.06830838714596399), (4166, 0.06827679813391378), (4102, 0.06817204154949705), (2578, 0.06813052619973176), (4358, 0.06811045844897122), (4744, 0.06806489685804834), (4017, 0.06806426508425488), (2299, 0.06781648172937899), (3372, 0.06772599617457326), (1556, 0.06771181099606613), (3422, 0.0676521652034555), (4377, 0.06741006803175406), (2120, 0.0673592848977524), (4370, 0.06733447299790327), (4597, 0.0672672707789244), (1636, 0.06726040470549055), (1441, 0.0672134709632859), (3683, 0.06720397562920641), (3929, 0.06718993845334449), (2228, 0.06716223294709112), (2537, 0.06702636015177582), (2891, 0.06699401663580873), (3686, 0.06691138425728986), (3629, 0.06686750144833742), (3058, 0.06682942349198098), (837, 0.066822966031117), (2475, 0.06679229539782455), (3296, 0.06676238972109197), (3999, 0.06671832210961327), (2533, 0.06667225512850257), (4565, 0.06652525129385392), (4047, 0.06651907993571758), (2679, 0.06651854069997916), (4219, 0.06651549371495509), (2054, 0.06648737381197446), (3442, 0.0664174697704074), (2314, 0.0663287132063963), (2970, 0.0663117248717141), (1596, 0.06630720809888584), (3250, 0.06626109000585183), (1203, 0.06622878606438451), (4180, 0.06622221479714646), (4595, 0.06619796897967903), (423, 0.06617666145994595), (3548, 0.06613796757142414), (4080, 0.06597164961716978), (3093, 0.06595393485421132), (4715, 0.06592590506857136), (2566, 0.06591556974053316), (3721, 0.0658889722489894), (746, 0.0658387406578122), (2384, 0.0658314264857776), (4604, 0.06580431307274065), (595, 0.06573053363627221), (3197, 0.06567439534344609), (1189, 0.06562197748537997), (4185, 0.06548937966995251), (3567, 0.06547409385128185), (2532, 0.06542493365740881), (4028, 0.06540562756422216), (3378, 0.06532672683604333), (484, 0.06529635963954454), (3676, 0.06501447536254798), (704, 0.06483601653339839), (2506, 0.06482016120163421), (1842, 0.06460567372107445), (2225, 0.06449727209077044), (4630, 0.06427541147638899), (4758, 0.06417029719633191), (4190, 0.06402189743389568), (3948, 0.06402177937575415), (1839, 0.06400364100642934), (2620, 0.06399284176434897), (2059, 0.06384409269403307), (4476, 0.06374816029256025), (1490, 0.06374729658488798), (4115, 0.06373051438123666), (4705, 0.06371807158549227), (1894, 0.06368686958402185), (1287, 0.06357415905909557), (1201, 0.06357345151889714), (2707, 0.06351363890122409), (4151, 0.06345898991817658), (1143, 0.06340067700443842), (1820, 0.06339901997384562), (3770, 0.06336976924623368), (2499, 0.06335742161697178), (503, 0.06334693698034363), (4631, 0.06334203963275412), (4315, 0.06328848044418399), (2846, 0.06322230999361494), (2471, 0.0630672392043512), (4026, 0.06304024937357215), (1962, 0.06275357061195085), (3040, 0.06253542259431352), (2705, 0.062436526042106824), (2722, 0.06220470944695097), (4680, 0.0620966724241676), (4559, 0.061943997381619126), (2380, 0.06184568656872384), (2583, 0.0617882247670873), (4416, 0.06173526504403943), (3827, 0.061612525307723334), (593, 0.06156702337646771), (2613, 0.0614918460080535), (2948, 0.061443028233676866), (2839, 0.06142752471130437), (4741, 0.06133367233232435), (518, 0.06132954319727534), (556, 0.06131946124777943), (3911, 0.061308660138279396), (3489, 0.06125312571865216), (3002, 0.06123639751854781), (3037, 0.06115491603282904), (1415, 0.06082420855586305), (1426, 0.06080441665227766), (4352, 0.060768668294869876), (3007, 0.06068409591734102), (1193, 0.06068183826427252), (4525, 0.060550250170488124), (4322, 0.060533863349377534), (4585, 0.060499751311771585), (4311, 0.06045499594768458), (2455, 0.06041118549650381), (4506, 0.06033649281384441), (3859, 0.06029788386501368), (2676, 0.06026218583971807), (2900, 0.060249049414024806), (4716, 0.06018932767431991), (1607, 0.059896785556669364), (2369, 0.059879319285889146), (754, 0.05986354571192), (2293, 0.05975733678556867), (4127, 0.059757159320942596), (4234, 0.05962715269625826), (526, 0.059593462976447735), (914, 0.05954659150735113), (2659, 0.05948008511725417), (3519, 0.05944849491972593), (3755, 0.05942079069004528), (3216, 0.0594125780381348), (2063, 0.05932655345885375), (1145, 0.05913536963776647), (3545, 0.059028129147455616), (476, 0.05894108163786733), (2719, 0.05881150784897094), (2983, 0.05870403810344058), (499, 0.05869603588437752), (4635, 0.05869506733363477), (3337, 0.05860781111261073), (4391, 0.05840642534008256), (3434, 0.0583419246819252), (4667, 0.0583138924723752), (4161, 0.05820053301125068), (4302, 0.05816016113042177), (955, 0.05768494691335244), (3804, 0.05762160307696071), (2165, 0.057576083405047496), (4691, 0.05755749719955915), (1753, 0.057433019739547835), (1593, 0.05733484393003556), (2030, 0.05727368124484761), (2737, 0.05725163564607741), (4620, 0.057213318251878906), (1439, 0.05696778782608255), (1473, 0.05690535837861159), (1098, 0.05684181546144762), (4198, 0.05676727758937989), (3052, 0.05670262407975522), (2289, 0.05668123655482935), (4648, 0.05634763180144299), (3969, 0.05632463802706828), (2243, 0.05612667459408861), (2300, 0.05585340169715342), (2042, 0.0556752041966174), (2684, 0.055618264419715124), (2138, 0.05559064992576243), (2750, 0.055494440331317375), (3725, 0.05548357743655907), (4162, 0.05547858276030356), (3059, 0.055475918222877015), (4423, 0.05547481554922291), (4529, 0.055401940729261544), (3029, 0.05534691725596627), (3837, 0.0553266554323393), (4573, 0.05522246132065239), (3649, 0.055075630670434916), (2328, 0.05504616946935373), (4532, 0.05504436825936522), (4527, 0.05494024211468901), (2247, 0.054841748549645235), (4755, 0.054832228934548734), (4696, 0.0547774152101038), (4291, 0.05467664104636773), (3251, 0.05453611330202991), (2669, 0.05450959621113153), (3796, 0.054439140659644426), (943, 0.05443105481457254), (3055, 0.05435208040718803), (4415, 0.05426243052263145), (4120, 0.05404193536326374), (3106, 0.05401918906477459), (2866, 0.05397283952285436), (2941, 0.05381694587318758), (4225, 0.053793263988119545), (4075, 0.05377010394667884), (4278, 0.05366682668408223), (3872, 0.053567200733616226), (4221, 0.05342001889753133), (4251, 0.05323777735697109), (3350, 0.05323695373311405), (2470, 0.053144432125788496), (2783, 0.052941609497691416), (157, 0.05293036902667445), (2757, 0.05290586823087625), (3429, 0.052801590278111654), (3789, 0.052442218162906784), (3505, 0.052345603830136964), (3475, 0.05233482325775569), (839, 0.05220696599273485), (4547, 0.05216435337990507), (1879, 0.05211028282697115), (3967, 0.05200986339231496), (337, 0.051998878652904326), (2305, 0.05172378241425251), (4331, 0.051690205838240494), (1391, 0.051568528792555045), (4745, 0.051516586556980944), (3737, 0.05150832672132565), (1289, 0.05126496522350743), (4641, 0.05124476786087344), (2703, 0.051230511349293746), (4751, 0.05121018085733227), (2343, 0.051069950494533244), (4526, 0.050935623614652155), (2173, 0.050819633271332966), (3162, 0.05081347374783587), (462, 0.050674237991934136), (4019, 0.0505370806470749), (2987, 0.050506904109111246), (3931, 0.050331281552016154), (2928, 0.05028571412462173), (3006, 0.0501385900776028), (4714, 0.04992954113343727), (4720, 0.049881770642607126), (1147, 0.04987172905443929), (3851, 0.049753903942666315), (2345, 0.049641915648435196), (3989, 0.049592879530277745), (4260, 0.04955494221080401), (3054, 0.04951427298833266), (2953, 0.049494244380554706), (4665, 0.04948014149809295), (4672, 0.04938335069373546), (2186, 0.04936404835902095), (2248, 0.04924893354044654), (2137, 0.04923361824999654), (2735, 0.049092710781235255), (4040, 0.049089285446736436), (4318, 0.049072861654354816), (3030, 0.04897849228351609), (1032, 0.04894448572017513), (134, 0.0488905337824576), (4043, 0.04866000234533138), (3615, 0.04863918812542292), (4214, 0.048560132604653986), (4253, 0.048541475168053516), (2557, 0.04842854235768539), (1444, 0.04837249078905478), (3041, 0.04807530818907306), (4616, 0.048068801018253615), (4704, 0.0477904707059865), (4485, 0.047750981990856346), (2267, 0.047701992584553966), (4560, 0.047683672806122464), (3103, 0.047547432808568636), (2462, 0.04748802882732126), (2146, 0.04731757510719584), (3581, 0.04710267982663861), (2875, 0.047070337385529834), (960, 0.046905642241320614), (2596, 0.04655769049051177), (3305, 0.046358274550499526), (4042, 0.046351185832151025), (3292, 0.04616248008482718), (3836, 0.04613054207061995), (4228, 0.04607101210761892), (4107, 0.0459162750445436), (4400, 0.0457462619519371), (4208, 0.04569560863717673), (3617, 0.04562483300805627), (3159, 0.04553461210387008), (3543, 0.04546512440860542), (2002, 0.04541533761048885), (3523, 0.04539433678283836), (559, 0.045384317516250536), (4545, 0.045230346061272936), (4167, 0.04521605903305539), (3627, 0.045185989835371414), (2564, 0.045173822432383604), (4694, 0.04504527456401266), (3494, 0.044832166790224066), (3863, 0.04472597950783349), (4212, 0.0447255038464975), (2773, 0.04465263942261536), (3848, 0.04456865430676175), (3672, 0.044544916094780854), (393, 0.04443916798325978), (3383, 0.0443206653644179), (1862, 0.04429383179948945), (3455, 0.04426717204521724), (4544, 0.04417631623148256), (2333, 0.04411515942825795), (4308, 0.04390560375727439), (3561, 0.043666067578374414), (3896, 0.0436003387008152), (2189, 0.043557660190833715), (3049, 0.04347318601279924), (3035, 0.04341224453011811), (4702, 0.04334873514687905), (4611, 0.04332716464488958), (4343, 0.0430788277164935), (4622, 0.04307063786855827), (4577, 0.042753829931348276), (4579, 0.04274211859068588), (4172, 0.04258782021023636), (1499, 0.04240868060960005), (4539, 0.04233904457784811), (4737, 0.04229235520592377), (4215, 0.04213412784720478), (2325, 0.042074875878891756), (3682, 0.041957493609503224), (4258, 0.04192044089109902), (4254, 0.04186224350700504), (2923, 0.04161449746176761), (4449, 0.04156520279180298), (487, 0.041555936116022464), (3729, 0.04152078099409771), (4491, 0.04138476177660614), (3899, 0.04132593378349308), (3266, 0.041199124346125715), (4306, 0.041178750705867), (3971, 0.04117502973013978), (4753, 0.04114410846298114), (4654, 0.04086444488066479), (268, 0.04077154945954718), (3354, 0.0407211003922237), (4372, 0.04051236990782589), (4618, 0.04026721737612989), (2401, 0.0402139675200613), (4655, 0.0401343638644493), (933, 0.04013052472445392), (3322, 0.04005702958651234), (2200, 0.03997753925163733), (2392, 0.03948733736024496), (941, 0.039419343786404215), (3547, 0.03933158107063507), (3806, 0.0393087790118172), (1158, 0.03922024696011817), (1449, 0.03867865073858677), (882, 0.038546113484177726), (4279, 0.03848916342554987), (2905, 0.038451563603080524), (3726, 0.038171399090798495), (3087, 0.03808453004770685), (574, 0.037771470270047756), (4397, 0.037691172951254695), (4508, 0.03721157113176616), (2454, 0.036982503720663584), (3996, 0.036750430565993794), (3340, 0.0365380937937796), (4651, 0.036534325478286826), (133, 0.03601142647689659), (4500, 0.03586641897522374), (3820, 0.035846908970498484), (4316, 0.035820196256636086), (4707, 0.03552513405745536), (3025, 0.03506806543000316), (3530, 0.0348713227892601), (2717, 0.03451956221575333), (4538, 0.034420402634404504), (4131, 0.03439786960942205), (2310, 0.03435606260321436), (4692, 0.03388231193252175), (3887, 0.03380154033269574), (552, 0.03358810256761624), (2536, 0.033548475862300586), (650, 0.03353419531509408), (3838, 0.03347834600019383), (4572, 0.03347004358387089), (4458, 0.03343778656214687), (3762, 0.032297116213635145), (4749, 0.03211907405013713), (4361, 0.0319253963604689), (2341, 0.031755280002162725), (4393, 0.03144184675381384), (4250, 0.03126564083991408), (3138, 0.031091040344084882), (3939, 0.030769618706389407), (4499, 0.03060458924004859), (3791, 0.03044196829971377), (2515, 0.02980229222691592), (3987, 0.029731792831906346), (2312, 0.029256868661246875), (3935, 0.029021358586085677), (3874, 0.028805593212100057), (3476, 0.02840619535648639), (4505, 0.02796054330395118), (4740, 0.027892084602939172), (3128, 0.027382178513221403), (3988, 0.027336811379276266), (2993, 0.027235514740374292), (4179, 0.02660200734375398), (4413, 0.026416919587184298), (3038, 0.026408024070808115), (2967, 0.026342013045541766), (4129, 0.024659157531549004), (3573, 0.024568176264060094), (3687, 0.024534143643600362), (2307, 0.02428839881024802), (1917, 0.023981138335837742), (2282, 0.023978215169285916), (3431, 0.023781807777194276), (3324, 0.02363578415295159), (4204, 0.02295576331215885), (1434, 0.022894295564289346), (4711, 0.022860914648654626), (4671, 0.022665274305247066), (3702, 0.022418215090086888), (4750, 0.022209932351402124), (3625, 0.02217542461765665), (2861, 0.022108777250501845), (4021, 0.02189624691205994), (2373, 0.02143460515243395), (2658, 0.021138596803033687), (1826, 0.02102979290179891), (3608, 0.020685676568613982), (3107, 0.02032575589979642), (3396, 0.020243700979519847), (4317, 0.02013444081406112), (4461, 0.020107827623947326), (4729, 0.019703333178204278), (4170, 0.018275784114587256), (4230, 0.017957964888864177), (4417, 0.017467691412688627), (1834, 0.017181107411875358), (4540, 0.017027923419561403), (4424, 0.01600976065138751), (4759, 0.015342996823356199), (3717, 0.015315008668197653), (2425, 0.015184919010557884), (3636, 0.014983065305069373), (4645, 0.014577373560350524), (2358, 0.014404191765796255), (4229, 0.013446473923344662), (4296, 0.013362847851071842), (4126, 0.012985281937076548), (1972, 0.0126540708812306), (2288, 0.012391872371982285), (3981, 0.012106195866352656), (4644, 0.01175282880020414), (4326, 0.010980236651701092), (4425, 0.01055931930669608), (3719, 0.00950559488257586), (4072, 0.00877330827885386), (4030, 0.008671891384931936), (3088, 0.007954399278796362), (2997, 0.007806163023205285), (4301, 0.007277312818087575), (4386, 0.0068324310125661095), (2238, 0.006583353913520553), (4693, 0.006544876909990163), (3176, 0.006017374669136202), (3761, 0.005875958105537018), (3679, 0.004724434278929599), (2700, 0.0039470307940493235), (3760, 0.0033114097665663924), (3945, 0.0010193347161037386), (4561, 0.0006668907360857804), (3261, 0.0004696032653385487), (2577, 0.0), (3663, 0.0), (3918, 0.0), (4065, 0.0), (4578, 0.0), (4681, 0.0)]\n"
          ]
        }
      ]
    },
    {
      "cell_type": "code",
      "source": [
        "from operator import index\n",
        "from re import I\n",
        "print('Top 30 movies suggested for you:\\n')\n",
        "i=1\n",
        "\n",
        "for movie in sorted_similar_movies:\n",
        "  index = movie[0]\n",
        "  title_from_index=df[df.index==index]['Movie_Title'].values[0]\n",
        "  if(i<31):\n",
        "    print(i,'.',title_from_index)\n",
        "    i+=1"
      ],
      "metadata": {
        "colab": {
          "base_uri": "https://localhost:8080/",
          "height": 0
        },
        "id": "HI-MxY2ggCav",
        "outputId": "50392dee-d689-4005-9207-d7513fd27ce5"
      },
      "execution_count": 74,
      "outputs": [
        {
          "output_type": "stream",
          "name": "stdout",
          "text": [
            "Top 30 movies suggested for you:\n",
            "\n",
            "1 . Niagara\n",
            "2 . Legal Eagles\n",
            "3 . Inception\n",
            "4 . Superman III\n",
            "5 . Stand by Me\n",
            "6 . Highlander: Endgame\n",
            "7 . The Land Girls\n",
            "8 . Man on Wire\n",
            "9 . Edge of Darkness\n",
            "10 . The Last Samurai\n",
            "11 . Brokeback Mountain\n",
            "12 . The Great Gatsby\n",
            "13 . Sexy Beast\n",
            "14 . Bound\n",
            "15 . The Great Raid\n",
            "16 . Double Impact\n",
            "17 . The Scarlet Letter\n",
            "18 . The Kentucky Fried Movie\n",
            "19 . Rio\n",
            "20 . Master and Commander: The Far Side of the World\n",
            "21 . Hesher\n",
            "22 . The Dark Knight Rises\n",
            "23 . Mr. Smith Goes to Washington\n",
            "24 . Do the Right Thing\n",
            "25 . Riding in Cars with Boys\n",
            "26 . Nowhere to Run\n",
            "27 . Cedar Rapids\n",
            "28 . Point Blank\n",
            "29 . 8MM\n",
            "30 . The Devil Wears Prada\n"
          ]
        }
      ]
    },
    {
      "cell_type": "markdown",
      "source": [
        "# Top 10 movie recommendation systems"
      ],
      "metadata": {
        "id": "x66LoJhehR3x"
      }
    },
    {
      "cell_type": "code",
      "source": [
        "movie_name=input('Enter your favourite movie name:')\n",
        "list_of_all = df['Movie_Title'].tolist()\n",
        "find_close_match=difflib.get_close_matches(movie_name,list_of_all)\n",
        "close_match=find_close_match[0]\n",
        "index_of_movie=df[df.Movie_Title==close_match]['Movie_ID'].values[0]\n",
        "recommendation_score = list(enumerate(similarity_score[index_of_movie]))\n",
        "sorted_similar_movies=sorted(recommendation_score,key=lambda x:x[1],reverse=True)\n",
        "print('Top 10 movies suggested for you:\\n')\n",
        "i=1\n",
        "for movie in sorted_similar_movies:\n",
        "  index=movie[0]\n",
        "  title_from_index=df[df.Movie_ID==index]['Movie_Title'].values\n",
        "  if(i<11):\n",
        "    print(i,'.',title_from_index)\n",
        "    i+=1"
      ],
      "metadata": {
        "colab": {
          "base_uri": "https://localhost:8080/",
          "height": 0
        },
        "id": "BAuSd7cehd5_",
        "outputId": "9ed15808-6c34-438b-d647-91d38661db6f"
      },
      "execution_count": 77,
      "outputs": [
        {
          "output_type": "stream",
          "name": "stdout",
          "text": [
            "Enter your favourite movie name:avtaar\n",
            "Top 10 movies suggested for you:\n",
            "\n",
            "1 . ['Avatar']\n",
            "2 . ['Robots']\n",
            "3 . ['The Greatest Show on Earth']\n",
            "4 . ['A Prairie Home Companion']\n",
            "5 . ['Syriana']\n",
            "6 . ['The Legend of Drunken Master']\n",
            "7 . ['The Crocodile Hunter: Collision Course']\n",
            "8 . ['The Great Debaters']\n",
            "9 . ['Four Christmases']\n",
            "10 . ['The Passion of the Christ']\n"
          ]
        }
      ]
    }
  ]
}